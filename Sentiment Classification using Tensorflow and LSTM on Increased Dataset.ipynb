{
 "cells": [
  {
   "cell_type": "code",
   "execution_count": 47,
   "metadata": {},
   "outputs": [],
   "source": [
    "import numpy as np\n",
    "import pandas as pd\n",
    "import matplotlib.pyplot as plt\n",
    "import seaborn as sns\n",
    "\n",
    "from nltk.corpus import stopwords\n",
    "\n",
    "from keras.models import Sequential\n",
    "from keras.layers import Embedding, Dense, LSTM, Dropout\n",
    "from keras.layers.wrappers import Bidirectional\n",
    "from keras.preprocessing.text import Tokenizer\n",
    "from keras.preprocessing.sequence import pad_sequences\n",
    "\n",
    "from gensim.models.keyedvectors import KeyedVectors\n",
    "\n",
    "from sklearn.metrics import classification_report, confusion_matrix, f1_score\n",
    "\n",
    "import tensorflow as tf\n",
    "import math\n",
    "import warnings"
   ]
  },
  {
   "cell_type": "code",
   "execution_count": 2,
   "metadata": {},
   "outputs": [],
   "source": [
    "train_df_master = pd.read_csv('Combined_Train_data_cleaned.csv')\n",
    "test_df_master = pd.read_csv('Test_data_cleaned.csv')"
   ]
  },
  {
   "cell_type": "code",
   "execution_count": 3,
   "metadata": {},
   "outputs": [
    {
     "name": "stdout",
     "output_type": "stream",
     "text": [
      "Training data has 14215 rows and 2 columns\n",
      "Testing data has 1387 rows and 1 columns\n"
     ]
    }
   ],
   "source": [
    "train_df = train_df_master.copy()\n",
    "print('Training data has {} rows and {} columns'.format(train_df.shape[0], train_df.shape[1]))\n",
    "\n",
    "test_df = test_df_master.copy()\n",
    "print('Testing data has {} rows and {} columns'.format(test_df.shape[0], test_df.shape[1]))"
   ]
  },
  {
   "cell_type": "code",
   "execution_count": 4,
   "metadata": {},
   "outputs": [],
   "source": [
    "# define the training and testing lengths to keep a track on encoded data\n",
    "train_length = len(train_df)\n",
    "test_length = len(test_df)"
   ]
  },
  {
   "cell_type": "markdown",
   "metadata": {},
   "source": [
    "### Functions for building the data for LSTM model"
   ]
  },
  {
   "cell_type": "code",
   "execution_count": 5,
   "metadata": {},
   "outputs": [],
   "source": [
    "\"\"\" Although the data in this file is already cleaned, we still perform a double check \"\"\"\n",
    "\n",
    "def tokenize(text):\n",
    "    stop_words = stopwords.words('english')    \n",
    "    \n",
    "    tokenized_text = []\n",
    "    \n",
    "    for txt in text:\n",
    "        words = txt.split(' ')\n",
    "        tokenized_string = ''\n",
    "\n",
    "        for word in words:\n",
    "            # check for name handles and unwanted text\n",
    "            if word[0] != '@' and word not in stop_words:\n",
    "                # if the word is a hastag, remove #\n",
    "                if word[0] == '#':\n",
    "                    word = word[1:]\n",
    "\n",
    "                tokenized_string += word + ' '\n",
    "\n",
    "        tokenized_text.append(tokenized_string)\n",
    "    \n",
    "    return tokenized_text"
   ]
  },
  {
   "cell_type": "code",
   "execution_count": 6,
   "metadata": {},
   "outputs": [],
   "source": [
    "\"\"\" encode text -> translate text to a sequence of numbers \"\"\"\n",
    "\n",
    "def encode_text(text):\n",
    "    tokenizer = Tokenizer(filters='!\"#$%&()*+,-./:;<=>?@[\\\\]^_`{|}~\\t\\n', split=\" \", lower=True)\n",
    "    tokenizer.fit_on_texts(text)\n",
    "    \n",
    "    return tokenizer, tokenizer.texts_to_sequences(text)"
   ]
  },
  {
   "cell_type": "code",
   "execution_count": 7,
   "metadata": {},
   "outputs": [],
   "source": [
    "\"\"\" Apply padding to dataset and convert labels (-1, 0, 1) to bitmaps \"\"\"\n",
    "\n",
    "def format_data(encoded_text, max_length, sent_labels):\n",
    "    x = pad_sequences(encoded_text, maxlen= max_length, padding='post')\n",
    "    y = []\n",
    "    \n",
    "    for label in sent_labels:\n",
    "        bit_vec = np.zeros(3)\n",
    "        bit_vec[label+1] = 1\n",
    "        y.append(bit_vec)\n",
    "        \n",
    "    y = np.asarray(y)\n",
    "    return x, y"
   ]
  },
  {
   "cell_type": "code",
   "execution_count": 8,
   "metadata": {},
   "outputs": [],
   "source": [
    "\"\"\" create weight matrix from pre trained embeddings \"\"\"\n",
    "\n",
    "def create_weight_matrix(vocab, raw_embeddings):\n",
    "    vocab_size = len(vocab) + 1\n",
    "    weight_matrix = np.zeros((vocab_size, 300))\n",
    "    \n",
    "    for word, idx in vocab.items():\n",
    "        if word in raw_embeddings:\n",
    "            weight_matrix[idx] = raw_embeddings[word]\n",
    "    \n",
    "    return weight_matrix"
   ]
  },
  {
   "cell_type": "code",
   "execution_count": 9,
   "metadata": {},
   "outputs": [
    {
     "data": {
      "text/plain": [
       "' Define f1 score to be passed as metric for model evaluation '"
      ]
     },
     "execution_count": 9,
     "metadata": {},
     "output_type": "execute_result"
    }
   ],
   "source": [
    "\"\"\" Define f1 score to be passed as metric for model evaluation \"\"\"\n",
    "\n"
   ]
  },
  {
   "cell_type": "markdown",
   "metadata": {},
   "source": [
    "### Defining the model"
   ]
  },
  {
   "cell_type": "code",
   "execution_count": 36,
   "metadata": {},
   "outputs": [],
   "source": [
    "\"\"\" final model \"\"\"\n",
    "def final_model(weight_matrix, vocab_size, max_length):\n",
    "    embedding_layer = Embedding(vocab_size, 300, weights=[weight_matrix], input_length=max_length, trainable=True, \n",
    "                                mask_zero=True)\n",
    "    model = Sequential()\n",
    "    model.add(embedding_layer)\n",
    "    \n",
    "    model.add(Bidirectional(LSTM(300, dropout = 0.2, return_sequences=True)))\n",
    "    model.add(Dense(256))\n",
    "    model.add(Bidirectional(LSTM(300, dropout = 0.2)))\n",
    "    model.add(Dense(256))\n",
    "    model.add(Dropout(0.3))\n",
    "    \n",
    "    model.add(Dense(3, activation='softmax'))\n",
    "    \n",
    "    model.compile(loss='categorical_crossentropy', optimizer='adam', metrics=['accuracy'])\n",
    "    \n",
    "    return model"
   ]
  },
  {
   "cell_type": "markdown",
   "metadata": {},
   "source": [
    "### Preparing Data"
   ]
  },
  {
   "cell_type": "code",
   "execution_count": 12,
   "metadata": {},
   "outputs": [
    {
     "data": {
      "text/plain": [
       "(14, 15602)"
      ]
     },
     "execution_count": 12,
     "metadata": {},
     "output_type": "execute_result"
    }
   ],
   "source": [
    "\"\"\" Tokenize all the training and testing text \"\"\"\n",
    "\n",
    "tokenized_text = tokenize(train_df['text'])\n",
    "tokenized_text += tokenize(test_df['text'])\n",
    "\n",
    "max_length = math.ceil(sum([len(s.split(\" \")) for s in tokenized_text])/len(tokenized_text))\n",
    "\n",
    "tokenizer, encoded_text = encode_text(tokenized_text)\n",
    "\n",
    "max_length, len(tokenized_text)"
   ]
  },
  {
   "cell_type": "code",
   "execution_count": 13,
   "metadata": {},
   "outputs": [
    {
     "name": "stdout",
     "output_type": "stream",
     "text": [
      "For train data:  14215 14215\n",
      "For test data:  1387\n"
     ]
    }
   ],
   "source": [
    "\"\"\" Apply padding and format data \"\"\"\n",
    "\n",
    "x, y = format_data(encoded_text[:train_length], max_length, train_df['sentiment_class'])\n",
    "print('For train data: ', len(x), len(y))\n",
    "\n",
    "x_test = pad_sequences(encoded_text[train_length:], maxlen= max_length, padding='post')\n",
    "print('For test data: ', len(x_test))"
   ]
  },
  {
   "cell_type": "code",
   "execution_count": 14,
   "metadata": {
    "scrolled": true
   },
   "outputs": [
    {
     "data": {
      "text/plain": [
       "({'day': 1,\n",
       "  'happy': 2,\n",
       "  'mothers': 3,\n",
       "  'united': 4,\n",
       "  'flight': 5,\n",
       "  'mothersday': 6,\n",
       "  'mother': 7,\n",
       "  'usairways': 8,\n",
       "  'americanair': 9,\n",
       "  'southwestair': 10,\n",
       "  'jetblue': 11,\n",
       "  'love': 12,\n",
       "  'mum': 13,\n",
       "  'get': 14,\n",
       "  'today': 15,\n",
       "  'mums': 16,\n",
       "  'thanks': 17,\n",
       "  'co': 18,\n",
       "  'http': 19,\n",
       "  'thank': 20,\n",
       "  'time': 21,\n",
       "  'cancelled': 22,\n",
       "  'would': 23,\n",
       "  'one': 24,\n",
       "  'service': 25,\n",
       "  'help': 26,\n",
       "  'still': 27,\n",
       "  'like': 28,\n",
       "  'know': 29,\n",
       "  'customer': 30,\n",
       "  'amazing': 31,\n",
       "  'cannot': 32,\n",
       "  'hope': 33,\n",
       "  'please': 34,\n",
       "  'hours': 35,\n",
       "  'call': 36,\n",
       "  'hold': 37,\n",
       "  'back': 38,\n",
       "  'best': 39,\n",
       "  'need': 40,\n",
       "  'much': 41,\n",
       "  'flights': 42,\n",
       "  'plane': 43,\n",
       "  'see': 44,\n",
       "  'great': 45,\n",
       "  'got': 46,\n",
       "  'home': 47,\n",
       "  'happymothersday': 48,\n",
       "  'world': 49,\n",
       "  'could': 50,\n",
       "  'gate': 51,\n",
       "  'delayed': 52,\n",
       "  'bag': 53,\n",
       "  'hour': 54,\n",
       "  'wonderful': 55,\n",
       "  'make': 56,\n",
       "  'virginamerica': 57,\n",
       "  'flightled': 58,\n",
       "  'good': 59,\n",
       "  'family': 60,\n",
       "  'late': 61,\n",
       "  'even': 62,\n",
       "  'always': 63,\n",
       "  'never': 64,\n",
       "  'everyone': 65,\n",
       "  'stay': 66,\n",
       "  'every': 67,\n",
       "  'phone': 68,\n",
       "  'people': 69,\n",
       "  'safe': 70,\n",
       "  'take': 71,\n",
       "  'going': 72,\n",
       "  'way': 73,\n",
       "  'go': 74,\n",
       "  'beautiful': 75,\n",
       "  'ever': 76,\n",
       "  'really': 77,\n",
       "  'wish': 78,\n",
       "  'airline': 79,\n",
       "  'first': 80,\n",
       "  'guys': 81,\n",
       "  'times': 82,\n",
       "  'last': 83,\n",
       "  'fly': 84,\n",
       "  'let': 85,\n",
       "  'mom': 86,\n",
       "  'waiting': 87,\n",
       "  'want': 88,\n",
       "  'keep': 89,\n",
       "  'made': 90,\n",
       "  'wait': 91,\n",
       "  'trying': 92,\n",
       "  'lost': 93,\n",
       "  'year': 94,\n",
       "  'lovely': 95,\n",
       "  'airport': 96,\n",
       "  'new': 97,\n",
       "  'special': 98,\n",
       "  'check': 99,\n",
       "  'well': 100,\n",
       "  'women': 101,\n",
       "  'change': 102,\n",
       "  'next': 103,\n",
       "  'may': 104,\n",
       "  'tomorrow': 105,\n",
       "  'another': 106,\n",
       "  'days': 107,\n",
       "  'two': 108,\n",
       "  'work': 109,\n",
       "  'flying': 110,\n",
       "  'delay': 111,\n",
       "  'uk': 112,\n",
       "  'dm': 113,\n",
       "  'life': 114,\n",
       "  'care': 115,\n",
       "  'say': 116,\n",
       "  'give': 117,\n",
       "  'hrs': 118,\n",
       "  'motheringsunday': 119,\n",
       "  'weather': 120,\n",
       "  'also': 121,\n",
       "  'due': 122,\n",
       "  'minutes': 123,\n",
       "  'getting': 124,\n",
       "  'children': 125,\n",
       "  'miss': 126,\n",
       "  'everything': 127,\n",
       "  'without': 128,\n",
       "  'right': 129,\n",
       "  'celebrate': 130,\n",
       "  'someone': 131,\n",
       "  'told': 132,\n",
       "  'aa': 133,\n",
       "  'able': 134,\n",
       "  'agent': 135,\n",
       "  'better': 136,\n",
       "  'sure': 137,\n",
       "  'ticket': 138,\n",
       "  'yes': 139,\n",
       "  'bags': 140,\n",
       "  'worst': 141,\n",
       "  'many': 142,\n",
       "  'sunday': 143,\n",
       "  'mummy': 144,\n",
       "  'seat': 145,\n",
       "  'long': 146,\n",
       "  'working': 147,\n",
       "  'little': 148,\n",
       "  'said': 149,\n",
       "  'kids': 150,\n",
       "  'luggage': 151,\n",
       "  'appreciate': 152,\n",
       "  'travel': 153,\n",
       "  'wishing': 154,\n",
       "  'number': 155,\n",
       "  'staff': 156,\n",
       "  'morning': 157,\n",
       "  'flighted': 158,\n",
       "  'put': 159,\n",
       "  'baggage': 160,\n",
       "  'email': 161,\n",
       "  'woman': 162,\n",
       "  'online': 163,\n",
       "  'trip': 164,\n",
       "  'together': 165,\n",
       "  'bad': 166,\n",
       "  'think': 167,\n",
       "  'min': 168,\n",
       "  'crew': 169,\n",
       "  'sent': 170,\n",
       "  'tell': 171,\n",
       "  'covid': 172,\n",
       "  'done': 173,\n",
       "  'status': 174,\n",
       "  'team': 175,\n",
       "  'jfk': 176,\n",
       "  'experience': 177,\n",
       "  'person': 178,\n",
       "  'book': 179,\n",
       "  'looking': 180,\n",
       "  'since': 181,\n",
       "  'find': 182,\n",
       "  'response': 183,\n",
       "  'problems': 184,\n",
       "  'customers': 185,\n",
       "  'look': 186,\n",
       "  'already': 187,\n",
       "  'tonight': 188,\n",
       "  'week': 189,\n",
       "  'hard': 190,\n",
       "  'left': 191,\n",
       "  'ua': 192,\n",
       "  'st': 193,\n",
       "  'anything': 194,\n",
       "  'ones': 195,\n",
       "  'nothing': 196,\n",
       "  'big': 197,\n",
       "  'around': 198,\n",
       "  'line': 199,\n",
       "  'booked': 200,\n",
       "  'sitting': 201,\n",
       "  'nice': 202,\n",
       "  'seats': 203,\n",
       "  'loved': 204,\n",
       "  'anyone': 205,\n",
       "  'use': 206,\n",
       "  'pm': 207,\n",
       "  'yet': 208,\n",
       "  'years': 209,\n",
       "  'card': 210,\n",
       "  'come': 211,\n",
       "  'ago': 212,\n",
       "  'especially': 213,\n",
       "  'away': 214,\n",
       "  'making': 215,\n",
       "  'night': 216,\n",
       "  'god': 217,\n",
       "  'miles': 218,\n",
       "  'called': 219,\n",
       "  'missing': 220,\n",
       "  'reservation': 221,\n",
       "  'boarding': 222,\n",
       "  'stuck': 223,\n",
       "  'flowers': 224,\n",
       "  'passengers': 225,\n",
       "  'old': 226,\n",
       "  'though': 227,\n",
       "  'sorry': 228,\n",
       "  'says': 229,\n",
       "  'soon': 230,\n",
       "  'website': 231,\n",
       "  'awesome': 232,\n",
       "  'agents': 233,\n",
       "  'enjoy': 234,\n",
       "  'via': 235,\n",
       "  'xx': 236,\n",
       "  'missed': 237,\n",
       "  'mama': 238,\n",
       "  'wife': 239,\n",
       "  'flightr': 240,\n",
       "  'free': 241,\n",
       "  'job': 242,\n",
       "  'info': 243,\n",
       "  'tried': 244,\n",
       "  'show': 245,\n",
       "  'dfw': 246,\n",
       "  'different': 247,\n",
       "  'friend': 248,\n",
       "  'strong': 249,\n",
       "  'mins': 250,\n",
       "  'lots': 251,\n",
       "  'flt': 252,\n",
       "  'moms': 253,\n",
       "  'business': 254,\n",
       "  'pay': 255,\n",
       "  'delays': 256,\n",
       "  'full': 257,\n",
       "  'issue': 258,\n",
       "  'support': 259,\n",
       "  'air': 260,\n",
       "  'connection': 261,\n",
       "  'ok': 262,\n",
       "  'airlines': 263,\n",
       "  'yesterday': 264,\n",
       "  'finally': 265,\n",
       "  'social': 266,\n",
       "  'thing': 267,\n",
       "  'hotel': 268,\n",
       "  'something': 269,\n",
       "  'things': 270,\n",
       "  'fleek': 271,\n",
       "  'booking': 272,\n",
       "  'fleet': 273,\n",
       "  'sending': 274,\n",
       "  'system': 275,\n",
       "  'th': 276,\n",
       "  'rude': 277,\n",
       "  'rebooked': 278,\n",
       "  'follow': 279,\n",
       "  'refund': 280,\n",
       "  'lax': 281,\n",
       "  'daughter': 282,\n",
       "  'enough': 283,\n",
       "  'class': 284,\n",
       "  'send': 285,\n",
       "  'rebook': 286,\n",
       "  'oh': 287,\n",
       "  'hr': 288,\n",
       "  'friends': 289,\n",
       "  'bit': 290,\n",
       "  'try': 291,\n",
       "  'taking': 292,\n",
       "  'might': 293,\n",
       "  'xxx': 294,\n",
       "  'stop': 295,\n",
       "  'extra': 296,\n",
       "  'ur': 297,\n",
       "  'sfo': 298,\n",
       "  'checked': 299,\n",
       "  'leave': 300,\n",
       "  'open': 301,\n",
       "  'birthday': 302,\n",
       "  'instead': 303,\n",
       "  'hi': 304,\n",
       "  'talk': 305,\n",
       "  'tickets': 306,\n",
       "  'voucher': 307,\n",
       "  'wifi': 308,\n",
       "  'weeks': 309,\n",
       "  'super': 310,\n",
       "  'families': 311,\n",
       "  'took': 312,\n",
       "  'spend': 313,\n",
       "  'name': 314,\n",
       "  'mam': 315,\n",
       "  'ord': 316,\n",
       "  'longer': 317,\n",
       "  'credit': 318,\n",
       "  'past': 319,\n",
       "  'answer': 320,\n",
       "  'earlier': 321,\n",
       "  'thought': 322,\n",
       "  'problem': 323,\n",
       "  'understand': 324,\n",
       "  'feel': 325,\n",
       "  'mean': 326,\n",
       "  'dca': 327,\n",
       "  'board': 328,\n",
       "  'needs': 329,\n",
       "  'place': 330,\n",
       "  'son': 331,\n",
       "  'lucky': 332,\n",
       "  'celebrating': 333,\n",
       "  'found': 334,\n",
       "  'heart': 335,\n",
       "  'far': 336,\n",
       "  'motherhood': 337,\n",
       "  'food': 338,\n",
       "  'issues': 339,\n",
       "  'terrible': 340,\n",
       "  'reason': 341,\n",
       "  'saying': 342,\n",
       "  'isolation': 343,\n",
       "  'app': 344,\n",
       "  'least': 345,\n",
       "  'gave': 346,\n",
       "  'lives': 347,\n",
       "  'delta': 348,\n",
       "  'actually': 349,\n",
       "  'thx': 350,\n",
       "  'almost': 351,\n",
       "  'rt': 352,\n",
       "  'money': 353,\n",
       "  'speak': 354,\n",
       "  'available': 355,\n",
       "  'stayathome': 356,\n",
       "  'child': 357,\n",
       "  'southwest': 358,\n",
       "  'share': 359,\n",
       "  'remember': 360,\n",
       "  'others': 361,\n",
       "  'baby': 362,\n",
       "  'else': 363,\n",
       "  'pass': 364,\n",
       "  'fail': 365,\n",
       "  'start': 366,\n",
       "  'early': 367,\n",
       "  'update': 368,\n",
       "  'phl': 369,\n",
       "  'upgrade': 370,\n",
       "  'mothering': 371,\n",
       "  'message': 372,\n",
       "  'received': 373,\n",
       "  'went': 374,\n",
       "  'im': 375,\n",
       "  'helpful': 376,\n",
       "  'step': 377,\n",
       "  'ewr': 378,\n",
       "  'rep': 379,\n",
       "  'makes': 380,\n",
       "  'difficult': 381,\n",
       "  'self': 382,\n",
       "  'staysafe': 383,\n",
       "  'disappointed': 384,\n",
       "  'lot': 385,\n",
       "  'rock': 386,\n",
       "  'loving': 387,\n",
       "  'forever': 388,\n",
       "  'thinking': 389,\n",
       "  'coronavirus': 390,\n",
       "  'ridiculous': 391,\n",
       "  'asked': 392,\n",
       "  'keeping': 393,\n",
       "  'dad': 394,\n",
       "  'bless': 395,\n",
       "  'grateful': 396,\n",
       "  'airways': 397,\n",
       "  'possible': 398,\n",
       "  'maybe': 399,\n",
       "  'hung': 400,\n",
       "  'tweet': 401,\n",
       "  'sit': 402,\n",
       "  'planes': 403,\n",
       "  'kind': 404,\n",
       "  'video': 405,\n",
       "  'clt': 406,\n",
       "  'visit': 407,\n",
       "  'poor': 408,\n",
       "  'mine': 409,\n",
       "  'supposed': 410,\n",
       "  'contact': 411,\n",
       "  'link': 412,\n",
       "  'coming': 413,\n",
       "  'live': 414,\n",
       "  'add': 415,\n",
       "  'real': 416,\n",
       "  'treat': 417,\n",
       "  'single': 418,\n",
       "  'claim': 419,\n",
       "  'chicago': 420,\n",
       "  'horrible': 421,\n",
       "  'paid': 422,\n",
       "  'hug': 423,\n",
       "  'blessed': 424,\n",
       "  'unacceptable': 425,\n",
       "  'fix': 426,\n",
       "  'end': 427,\n",
       "  'seriously': 428,\n",
       "  'connecting': 429,\n",
       "  'three': 430,\n",
       "  'proud': 431,\n",
       "  'fun': 432,\n",
       "  'site': 433,\n",
       "  'point': 434,\n",
       "  'incredible': 435,\n",
       "  'beyond': 436,\n",
       "  'dallas': 437,\n",
       "  'bos': 438,\n",
       "  'calling': 439,\n",
       "  'stranded': 440,\n",
       "  'sad': 441,\n",
       "  'chance': 442,\n",
       "  'direct': 443,\n",
       "  'forward': 444,\n",
       "  'ground': 445,\n",
       "  'used': 446,\n",
       "  'cant': 447,\n",
       "  'hugs': 448,\n",
       "  'attendant': 449,\n",
       "  'san': 450,\n",
       "  'pilot': 451,\n",
       "  'given': 452,\n",
       "  'departure': 453,\n",
       "  'using': 454,\n",
       "  'appreciated': 455,\n",
       "  'lady': 456,\n",
       "  'truly': 457,\n",
       "  'tt': 458,\n",
       "  'socialdistancing': 459,\n",
       "  'afternoon': 460,\n",
       "  'nd': 461,\n",
       "  'snow': 462,\n",
       "  'post': 463,\n",
       "  'important': 464,\n",
       "  'hey': 465,\n",
       "  'whole': 466,\n",
       "  'american': 467,\n",
       "  'part': 468,\n",
       "  'fantastic': 469,\n",
       "  'boston': 470,\n",
       "  'denver': 471,\n",
       "  'half': 472,\n",
       "  'spent': 473,\n",
       "  'watch': 474,\n",
       "  'months': 475,\n",
       "  'ift': 476,\n",
       "  'company': 477,\n",
       "  'looks': 478,\n",
       "  'taken': 479,\n",
       "  'seems': 480,\n",
       "  'believe': 481,\n",
       "  'vegas': 482,\n",
       "  'car': 483,\n",
       "  'fabulous': 484,\n",
       "  'wrong': 485,\n",
       "  'return': 486,\n",
       "  'bring': 487,\n",
       "  'tough': 488,\n",
       "  'ask': 489,\n",
       "  'lol': 490,\n",
       "  'human': 491,\n",
       "  'employees': 492,\n",
       "  'despite': 493,\n",
       "  'distancing': 494,\n",
       "  'destinationdragons': 495,\n",
       "  'minute': 496,\n",
       "  'nyc': 497,\n",
       "  'tarmac': 498,\n",
       "  'leaving': 499,\n",
       "  'words': 500,\n",
       "  'smile': 501,\n",
       "  'less': 502,\n",
       "  'hear': 503,\n",
       "  'twice': 504,\n",
       "  'wanted': 505,\n",
       "  'account': 506,\n",
       "  'second': 507,\n",
       "  'grandmothers': 508,\n",
       "  'changed': 509,\n",
       "  'dont': 510,\n",
       "  'means': 511,\n",
       "  'moment': 512,\n",
       "  'parents': 513,\n",
       "  'landed': 514,\n",
       "  'telling': 515,\n",
       "  'policy': 516,\n",
       "  'iad': 517,\n",
       "  'guess': 518,\n",
       "  'deserve': 519,\n",
       "  'glad': 520,\n",
       "  'hopefully': 521,\n",
       "  'pls': 522,\n",
       "  'phx': 523,\n",
       "  'calls': 524,\n",
       "  'sister': 525,\n",
       "  'photo': 526,\n",
       "  'group': 527,\n",
       "  'must': 528,\n",
       "  'garden': 529,\n",
       "  'nhs': 530,\n",
       "  'media': 531,\n",
       "  'tv': 532,\n",
       "  'desk': 533,\n",
       "  'charge': 534,\n",
       "  'sat': 535,\n",
       "  'man': 536,\n",
       "  'fee': 537,\n",
       "  'strange': 538,\n",
       "  'plus': 539,\n",
       "  'frustrated': 540,\n",
       "  'future': 541,\n",
       "  'march': 542,\n",
       "  'caring': 543,\n",
       "  'house': 544,\n",
       "  'ladies': 545,\n",
       "  'club': 546,\n",
       "  'charlotte': 547,\n",
       "  'cool': 548,\n",
       "  'helping': 549,\n",
       "  'confirmation': 550,\n",
       "  'bc': 551,\n",
       "  'monday': 552,\n",
       "  'huge': 553,\n",
       "  'broken': 554,\n",
       "  'giving': 555,\n",
       "  'waited': 556,\n",
       "  'reply': 557,\n",
       "  'destination': 558,\n",
       "  'option': 559,\n",
       "  'question': 560,\n",
       "  'situation': 561,\n",
       "  'easy': 562,\n",
       "  'law': 563,\n",
       "  'queen': 564,\n",
       "  'continue': 565,\n",
       "  'matter': 566,\n",
       "  'busy': 567,\n",
       "  'sweet': 568,\n",
       "  'read': 569,\n",
       "  'course': 570,\n",
       "  'la': 571,\n",
       "  'babies': 572,\n",
       "  'mothersdayshoutout': 573,\n",
       "  'worse': 574,\n",
       "  'awful': 575,\n",
       "  'crazy': 576,\n",
       "  'idea': 577,\n",
       "  'absolute': 578,\n",
       "  'shout': 579,\n",
       "  'seeing': 580,\n",
       "  'spending': 581,\n",
       "  'arrived': 582,\n",
       "  'cost': 583,\n",
       "  'figures': 584,\n",
       "  'international': 585,\n",
       "  'offer': 586,\n",
       "  'song': 587,\n",
       "  'everywhere': 588,\n",
       "  'window': 589,\n",
       "  'london': 590,\n",
       "  'run': 591,\n",
       "  'pretty': 592,\n",
       "  'members': 593,\n",
       "  'traveling': 594,\n",
       "  'carry': 595,\n",
       "  'sucks': 596,\n",
       "  'arrive': 597,\n",
       "  'happened': 598,\n",
       "  'reservations': 599,\n",
       "  'shit': 600,\n",
       "  'heaven': 601,\n",
       "  'runway': 602,\n",
       "  'houston': 603,\n",
       "  'month': 604,\n",
       "  'fll': 605,\n",
       "  'word': 606,\n",
       "  'needed': 607,\n",
       "  'grandma': 608,\n",
       "  'distance': 609,\n",
       "  'sunshine': 610,\n",
       "  'role': 611,\n",
       "  'perfect': 612,\n",
       "  'swa': 613,\n",
       "  'room': 614,\n",
       "  'vacation': 615,\n",
       "  'seen': 616,\n",
       "  'newark': 617,\n",
       "  'row': 618,\n",
       "  'landing': 619,\n",
       "  'dc': 620,\n",
       "  'round': 621,\n",
       "  'top': 622,\n",
       "  'weekend': 623,\n",
       "  'heard': 624,\n",
       "  'drive': 625,\n",
       "  'entire': 626,\n",
       "  'husband': 627,\n",
       "  'dear': 628,\n",
       "  'health': 629,\n",
       "  'dog': 630,\n",
       "  'gorgeous': 631,\n",
       "  'came': 632,\n",
       "  'blue': 633,\n",
       "  'walk': 634,\n",
       "  'gone': 635,\n",
       "  'story': 636,\n",
       "  'gonna': 637,\n",
       "  'precious': 638,\n",
       "  'news': 639,\n",
       "  'thoughts': 640,\n",
       "  'favourite': 641,\n",
       "  'mummies': 642,\n",
       "  'healthy': 643,\n",
       "  'evening': 644,\n",
       "  'frustrating': 645,\n",
       "  'hoping': 646,\n",
       "  'terminal': 647,\n",
       "  'currently': 648,\n",
       "  'process': 649,\n",
       "  'rather': 650,\n",
       "  'options': 651,\n",
       "  'loads': 652,\n",
       "  'holding': 653,\n",
       "  'absolutely': 654,\n",
       "  'mammy': 655,\n",
       "  'everyday': 656,\n",
       "  'city': 657,\n",
       "  'bwi': 658,\n",
       "  'reach': 659,\n",
       "  'joke': 660,\n",
       "  'mechanical': 661,\n",
       "  'true': 662,\n",
       "  'assistance': 663,\n",
       "  'request': 664,\n",
       "  'list': 665,\n",
       "  'current': 666,\n",
       "  'thru': 667,\n",
       "  'face': 668,\n",
       "  'delivered': 669,\n",
       "  'probably': 670,\n",
       "  'present': 671,\n",
       "  'staying': 672,\n",
       "  'scheduled': 673,\n",
       "  'side': 674,\n",
       "  'counting': 675,\n",
       "  'attendants': 676,\n",
       "  'pick': 677,\n",
       "  'high': 678,\n",
       "  'safety': 679,\n",
       "  'seem': 680,\n",
       "  'case': 681,\n",
       "  'close': 682,\n",
       "  'philly': 683,\n",
       "  'unable': 684,\n",
       "  'ya': 685,\n",
       "  'picture': 686,\n",
       "  'young': 687,\n",
       "  'play': 688,\n",
       "  'country': 689,\n",
       "  'rest': 690,\n",
       "  'date': 691,\n",
       "  'cust': 692,\n",
       "  'lga': 693,\n",
       "  'wow': 694,\n",
       "  'helped': 695,\n",
       "  'points': 696,\n",
       "  'ready': 697,\n",
       "  'cause': 698,\n",
       "  'error': 699,\n",
       "  'quick': 700,\n",
       "  'four': 701,\n",
       "  'front': 702,\n",
       "  'fees': 703,\n",
       "  'mind': 704,\n",
       "  'door': 705,\n",
       "  'whatever': 706,\n",
       "  'forget': 707,\n",
       "  'okay': 708,\n",
       "  'fine': 709,\n",
       "  'running': 710,\n",
       "  'tag': 711,\n",
       "  'virtual': 712,\n",
       "  'isolating': 713,\n",
       "  'flew': 714,\n",
       "  'miami': 715,\n",
       "  'buy': 716,\n",
       "  'passenger': 717,\n",
       "  'iah': 718,\n",
       "  'checking': 719,\n",
       "  'non': 720,\n",
       "  'member': 721,\n",
       "  'cheers': 722,\n",
       "  'however': 723,\n",
       "  'ceo': 724,\n",
       "  'apparently': 725,\n",
       "  'facebook': 726,\n",
       "  'thankyou': 727,\n",
       "  'yeah': 728,\n",
       "  'changes': 729,\n",
       "  'reflight': 730,\n",
       "  'lack': 731,\n",
       "  'keeps': 732,\n",
       "  'passed': 733,\n",
       "  'yr': 734,\n",
       "  'suck': 735,\n",
       "  'paying': 736,\n",
       "  'whether': 737,\n",
       "  'music': 738,\n",
       "  'memories': 739,\n",
       "  'facetime': 740,\n",
       "  'pilots': 741,\n",
       "  'happen': 742,\n",
       "  'computer': 743,\n",
       "  'switch': 744,\n",
       "  'gets': 745,\n",
       "  'maintenance': 746,\n",
       "  'small': 747,\n",
       "  'standby': 748,\n",
       "  'form': 749,\n",
       "  'guy': 750,\n",
       "  'fuck': 751,\n",
       "  'correct': 752,\n",
       "  'asking': 753,\n",
       "  'jet': 754,\n",
       "  'learn': 755,\n",
       "  'started': 756,\n",
       "  'las': 757,\n",
       "  'nan': 758,\n",
       "  'provide': 759,\n",
       "  'plans': 760,\n",
       "  'lose': 761,\n",
       "  'extremely': 762,\n",
       "  'complaint': 763,\n",
       "  'hate': 764,\n",
       "  'funny': 765,\n",
       "  'definitely': 766,\n",
       "  'usair': 767,\n",
       "  'respond': 768,\n",
       "  'girl': 769,\n",
       "  'completely': 770,\n",
       "  'sw': 771,\n",
       "  'services': 772,\n",
       "  'positive': 773,\n",
       "  'celebration': 774,\n",
       "  'sun': 775,\n",
       "  'wishes': 776,\n",
       "  'details': 777,\n",
       "  'spoke': 778,\n",
       "  'award': 779,\n",
       "  'either': 780,\n",
       "  'showing': 781,\n",
       "  'saw': 782,\n",
       "  'information': 783,\n",
       "  'figure': 784,\n",
       "  'goes': 785,\n",
       "  'middle': 786,\n",
       "  'set': 787,\n",
       "  'although': 788,\n",
       "  'across': 789,\n",
       "  'mammies': 790,\n",
       "  'tsa': 791,\n",
       "  'original': 792,\n",
       "  'id': 793,\n",
       "  'boarded': 794,\n",
       "  'rd': 795,\n",
       "  'loyal': 796,\n",
       "  'watching': 797,\n",
       "  'unitedairlines': 798,\n",
       "  'ny': 799,\n",
       "  'luv': 800,\n",
       "  'light': 801,\n",
       "  'storm': 802,\n",
       "  'expect': 803,\n",
       "  'meal': 804,\n",
       "  'nigeria': 805,\n",
       "  'birth': 806,\n",
       "  'inspiration': 807,\n",
       "  'challenging': 808,\n",
       "  'appreciation': 809,\n",
       "  'sisters': 810,\n",
       "  'motherslove': 811,\n",
       "  'mamas': 812,\n",
       "  'stayhomesavelives': 813,\n",
       "  'sacrifices': 814,\n",
       "  'haha': 815,\n",
       "  'leg': 816,\n",
       "  'den': 817,\n",
       "  'companion': 818,\n",
       "  'unfortunately': 819,\n",
       "  'wtf': 820,\n",
       "  'ways': 821,\n",
       "  'chat': 822,\n",
       "  'atl': 823,\n",
       "  'empty': 824,\n",
       "  'boys': 825,\n",
       "  'spring': 826,\n",
       "  'daughters': 827,\n",
       "  'ireland': 828,\n",
       "  'ly': 829,\n",
       "  'nanny': 830,\n",
       "  'stayhome': 831,\n",
       "  'mco': 832,\n",
       "  'updates': 833,\n",
       "  'moved': 834,\n",
       "  'supervisor': 835,\n",
       "  'upset': 836,\n",
       "  'literally': 837,\n",
       "  'anyway': 838,\n",
       "  'asap': 839,\n",
       "  'feeling': 840,\n",
       "  'treated': 841,\n",
       "  'short': 842,\n",
       "  'price': 843,\n",
       "  'whose': 844,\n",
       "  'fl': 845,\n",
       "  'apart': 846,\n",
       "  'bought': 847,\n",
       "  'tea': 848,\n",
       "  'explain': 849,\n",
       "  'order': 850,\n",
       "  'earth': 851,\n",
       "  'photos': 852,\n",
       "  'girls': 853,\n",
       "  'fact': 854,\n",
       "  'imaginedragons': 855,\n",
       "  'flighting': 856,\n",
       "  'counter': 857,\n",
       "  'offered': 858,\n",
       "  'text': 859,\n",
       "  'shows': 860,\n",
       "  'sleep': 861,\n",
       "  'forgot': 862,\n",
       "  'cold': 863,\n",
       "  'address': 864,\n",
       "  'purchase': 865,\n",
       "  'respect': 866,\n",
       "  'worth': 867,\n",
       "  'communication': 868,\n",
       "  'austin': 869,\n",
       "  'works': 870,\n",
       "  'inside': 871,\n",
       "  'sense': 872,\n",
       "  'living': 873,\n",
       "  'boy': 874,\n",
       "  'hands': 875,\n",
       "  'angel': 876,\n",
       "  'aunties': 877,\n",
       "  'kingdom': 878,\n",
       "  'thismorning': 879,\n",
       "  'virus': 880,\n",
       "  'utm': 881,\n",
       "  'deal': 882,\n",
       "  'several': 883,\n",
       "  'totally': 884,\n",
       "  'luck': 885,\n",
       "  'fault': 886,\n",
       "  'zero': 887,\n",
       "  'nashville': 888,\n",
       "  'platinum': 889,\n",
       "  'hello': 890,\n",
       "  'thankful': 891,\n",
       "  'feb': 892,\n",
       "  'priority': 893,\n",
       "  'gives': 894,\n",
       "  'warm': 895,\n",
       "  'orlando': 896,\n",
       "  'clothes': 897,\n",
       "  'space': 898,\n",
       "  'drop': 899,\n",
       "  'reschedule': 900,\n",
       "  'de': 901,\n",
       "  'gold': 902,\n",
       "  'planned': 903,\n",
       "  'community': 904,\n",
       "  'momma': 905,\n",
       "  'moon': 906,\n",
       "  'greatest': 907,\n",
       "  'xxxx': 908,\n",
       "  'youtu': 909,\n",
       "  'foster': 910,\n",
       "  'knew': 911,\n",
       "  'fixed': 912,\n",
       "  'apology': 913,\n",
       "  'bed': 914,\n",
       "  'allow': 915,\n",
       "  'tuesday': 916,\n",
       "  'handle': 917,\n",
       "  'outside': 918,\n",
       "  'behind': 919,\n",
       "  'mia': 920,\n",
       "  'multiple': 921,\n",
       "  'disconnected': 922,\n",
       "  'page': 923,\n",
       "  'water': 924,\n",
       "  'friday': 925,\n",
       "  'flightlations': 926,\n",
       "  'alone': 927,\n",
       "  'kept': 928,\n",
       "  'circumstances': 929,\n",
       "  'breakfast': 930,\n",
       "  'knows': 931,\n",
       "  'raise': 932,\n",
       "  'mrs': 933,\n",
       "  'coffee': 934,\n",
       "  'code': 935,\n",
       "  'answers': 936,\n",
       "  'access': 937,\n",
       "  'imagine': 938,\n",
       "  'yall': 939,\n",
       "  'ice': 940,\n",
       "  'comes': 941,\n",
       "  'losing': 942,\n",
       "  'none': 943,\n",
       "  'folks': 944,\n",
       "  'head': 945,\n",
       "  'answering': 946,\n",
       "  'mess': 947,\n",
       "  'flown': 948,\n",
       "  'connections': 949,\n",
       "  'phones': 950,\n",
       "  'mad': 951,\n",
       "  'sharing': 952,\n",
       "  'dinner': 953,\n",
       "  'record': 954,\n",
       "  'checkin': 955,\n",
       "  'cc': 956,\n",
       "  'takes': 957,\n",
       "  'game': 958,\n",
       "  'playing': 959,\n",
       "  'weird': 960,\n",
       "  'cake': 961,\n",
       "  'joy': 962,\n",
       "  'mumma': 963,\n",
       "  'load': 964,\n",
       "  'excited': 965,\n",
       "  'delivery': 966,\n",
       "  'win': 967,\n",
       "  'happening': 968,\n",
       "  'flightlation': 969,\n",
       "  'near': 970,\n",
       "  'compensation': 971,\n",
       "  'stuff': 972,\n",
       "  'happens': 973,\n",
       "  'become': 974,\n",
       "  'virgin': 975,\n",
       "  'filled': 976,\n",
       "  'power': 977,\n",
       "  'risk': 978,\n",
       "  'normal': 979,\n",
       "  'enjoying': 980,\n",
       "  'brought': 981,\n",
       "  'royal': 982,\n",
       "  'putting': 983,\n",
       "  'cards': 984,\n",
       "  'wished': 985,\n",
       "  'ppl': 986,\n",
       "  'couple': 987,\n",
       "  'school': 988,\n",
       "  'catch': 989,\n",
       "  'held': 990,\n",
       "  'schedule': 991,\n",
       "  'overnight': 992,\n",
       "  'atlanta': 993,\n",
       "  'party': 994,\n",
       "  'lines': 995,\n",
       "  'changing': 996,\n",
       "  'massive': 997,\n",
       "  'reps': 998,\n",
       "  'red': 999,\n",
       "  'favorite': 1000,\n",
       "  ...},\n",
       " 27727)"
      ]
     },
     "execution_count": 14,
     "metadata": {},
     "output_type": "execute_result"
    }
   ],
   "source": [
    "\"\"\" Clearing vocabulary \"\"\"\n",
    "\n",
    "vocab = tokenizer.word_index\n",
    "vocab, len(vocab)"
   ]
  },
  {
   "cell_type": "code",
   "execution_count": 15,
   "metadata": {},
   "outputs": [
    {
     "name": "stderr",
     "output_type": "stream",
     "text": [
      "C:\\Users\\hp\\Anaconda3\\lib\\site-packages\\smart_open\\smart_open_lib.py:253: UserWarning: This function is deprecated, use smart_open.open instead. See the migration notes for details: https://github.com/RaRe-Technologies/smart_open/blob/master/README.rst#migrating-to-the-new-open-function\n",
      "  'See the migration notes for details: %s' % _MIGRATION_NOTES_URL\n"
     ]
    },
    {
     "data": {
      "text/plain": [
       "<gensim.models.keyedvectors.Word2VecKeyedVectors at 0x24ab6f5f240>"
      ]
     },
     "execution_count": 15,
     "metadata": {},
     "output_type": "execute_result"
    }
   ],
   "source": [
    "# \"\"\" Load w2v raw embeddings \"\"\"\n",
    "\n",
    "# raw_embeddings = KeyedVectors.load_word2vec_format('model_swm_300-6-10-low.w2v', binary=False)\n",
    "# raw_embeddings"
   ]
  },
  {
   "cell_type": "code",
   "execution_count": 16,
   "metadata": {},
   "outputs": [
    {
     "data": {
      "text/plain": [
       "27728"
      ]
     },
     "execution_count": 16,
     "metadata": {},
     "output_type": "execute_result"
    }
   ],
   "source": [
    "\"\"\" Create the weight matrix \"\"\"\n",
    "\n",
    "weight_matrix = create_weight_matrix(vocab, raw_embeddings)\n",
    "len(weight_matrix)"
   ]
  },
  {
   "cell_type": "code",
   "execution_count": null,
   "metadata": {},
   "outputs": [],
   "source": [
    "# # load the GloVe vectors in a dictionary:\n",
    "\n",
    "# embeddings_index = {}\n",
    "# f = open('/kaggle/input/glove840b300dtxt/glove.840B.300d.txt','r',encoding='utf-8')\n",
    "# for line in tqdm(f):\n",
    "#     values = line.split(' ')\n",
    "#     word = values[0]\n",
    "#     coefs = np.asarray([float(val) for val in values[1:]])\n",
    "#     embeddings_index[word] = coefs\n",
    "# f.close()\n",
    "\n",
    "# print('Found %s word vectors.' % len(embeddings_index))"
   ]
  },
  {
   "cell_type": "markdown",
   "metadata": {},
   "source": [
    "### Start training the model"
   ]
  },
  {
   "cell_type": "code",
   "execution_count": 37,
   "metadata": {},
   "outputs": [
    {
     "name": "stdout",
     "output_type": "stream",
     "text": [
      "Train on 12793 samples, validate on 1422 samples\n",
      "Epoch 1/20\n"
     ]
    },
    {
     "name": "stdout",
     "output_type": "stream",
     "text": [
      " 6496/12793 [==============>...............] - ETA: 45:54 - loss: 1.0893 - acc: 0.34 - ETA: 24:52 - loss: 1.1462 - acc: 0.37 - ETA: 17:52 - loss: 1.0903 - acc: 0.42 - ETA: 14:20 - loss: 1.0800 - acc: 0.42 - ETA: 12:46 - loss: 1.0443 - acc: 0.45 - ETA: 11:32 - loss: 1.0132 - acc: 0.48 - ETA: 10:25 - loss: 1.0197 - acc: 0.50 - ETA: 9:38 - loss: 0.9795 - acc: 0.5312 - ETA: 9:17 - loss: 0.9599 - acc: 0.552 - ETA: 8:52 - loss: 0.9544 - acc: 0.562 - ETA: 8:24 - loss: 0.9300 - acc: 0.573 - ETA: 8:02 - loss: 0.9121 - acc: 0.591 - ETA: 7:55 - loss: 0.9198 - acc: 0.596 - ETA: 7:43 - loss: 0.9153 - acc: 0.600 - ETA: 7:28 - loss: 0.9275 - acc: 0.602 - ETA: 7:14 - loss: 0.9199 - acc: 0.607 - ETA: 7:01 - loss: 0.9006 - acc: 0.617 - ETA: 6:50 - loss: 0.9112 - acc: 0.614 - ETA: 6:49 - loss: 0.9079 - acc: 0.620 - ETA: 6:43 - loss: 0.9070 - acc: 0.614 - ETA: 6:33 - loss: 0.9081 - acc: 0.614 - ETA: 6:25 - loss: 0.9051 - acc: 0.616 - ETA: 6:25 - loss: 0.8908 - acc: 0.625 - ETA: 6:21 - loss: 0.8841 - acc: 0.626 - ETA: 6:14 - loss: 0.8762 - acc: 0.628 - ETA: 6:09 - loss: 0.8687 - acc: 0.633 - ETA: 6:08 - loss: 0.8676 - acc: 0.635 - ETA: 6:03 - loss: 0.8664 - acc: 0.635 - ETA: 5:58 - loss: 0.8673 - acc: 0.633 - ETA: 5:53 - loss: 0.8630 - acc: 0.633 - ETA: 5:48 - loss: 0.8564 - acc: 0.637 - ETA: 5:43 - loss: 0.8570 - acc: 0.637 - ETA: 5:43 - loss: 0.8522 - acc: 0.639 - ETA: 5:41 - loss: 0.8505 - acc: 0.640 - ETA: 5:37 - loss: 0.8467 - acc: 0.643 - ETA: 5:32 - loss: 0.8532 - acc: 0.644 - ETA: 5:33 - loss: 0.8483 - acc: 0.645 - ETA: 5:31 - loss: 0.8441 - acc: 0.648 - ETA: 5:28 - loss: 0.8449 - acc: 0.647 - ETA: 5:24 - loss: 0.8371 - acc: 0.649 - ETA: 5:25 - loss: 0.8304 - acc: 0.650 - ETA: 5:23 - loss: 0.8288 - acc: 0.651 - ETA: 5:19 - loss: 0.8258 - acc: 0.652 - ETA: 5:16 - loss: 0.8225 - acc: 0.653 - ETA: 5:17 - loss: 0.8201 - acc: 0.653 - ETA: 5:16 - loss: 0.8199 - acc: 0.653 - ETA: 5:13 - loss: 0.8156 - acc: 0.655 - ETA: 5:11 - loss: 0.8076 - acc: 0.659 - ETA: 5:11 - loss: 0.8064 - acc: 0.658 - ETA: 5:08 - loss: 0.8084 - acc: 0.658 - ETA: 5:05 - loss: 0.8081 - acc: 0.657 - ETA: 5:03 - loss: 0.8075 - acc: 0.657 - ETA: 5:00 - loss: 0.8075 - acc: 0.657 - ETA: 4:58 - loss: 0.8041 - acc: 0.658 - ETA: 4:58 - loss: 0.8029 - acc: 0.658 - ETA: 4:57 - loss: 0.8051 - acc: 0.656 - ETA: 4:55 - loss: 0.8051 - acc: 0.659 - ETA: 4:53 - loss: 0.8036 - acc: 0.658 - ETA: 4:53 - loss: 0.8003 - acc: 0.659 - ETA: 4:51 - loss: 0.7978 - acc: 0.659 - ETA: 4:49 - loss: 0.8008 - acc: 0.658 - ETA: 4:47 - loss: 0.8009 - acc: 0.657 - ETA: 4:47 - loss: 0.8012 - acc: 0.656 - ETA: 4:46 - loss: 0.8003 - acc: 0.657 - ETA: 4:43 - loss: 0.8009 - acc: 0.656 - ETA: 4:41 - loss: 0.8011 - acc: 0.655 - ETA: 4:42 - loss: 0.7982 - acc: 0.657 - ETA: 4:41 - loss: 0.7954 - acc: 0.658 - ETA: 4:39 - loss: 0.7932 - acc: 0.659 - ETA: 4:38 - loss: 0.7930 - acc: 0.659 - ETA: 4:38 - loss: 0.7936 - acc: 0.658 - ETA: 4:36 - loss: 0.7948 - acc: 0.658 - ETA: 4:34 - loss: 0.7924 - acc: 0.658 - ETA: 4:33 - loss: 0.7928 - acc: 0.658 - ETA: 4:33 - loss: 0.7916 - acc: 0.660 - ETA: 4:32 - loss: 0.7891 - acc: 0.662 - ETA: 4:30 - loss: 0.7881 - acc: 0.661 - ETA: 4:29 - loss: 0.7843 - acc: 0.663 - ETA: 4:29 - loss: 0.7815 - acc: 0.665 - ETA: 4:27 - loss: 0.7820 - acc: 0.664 - ETA: 4:25 - loss: 0.7793 - acc: 0.665 - ETA: 4:23 - loss: 0.7783 - acc: 0.665 - ETA: 4:22 - loss: 0.7768 - acc: 0.665 - ETA: 4:20 - loss: 0.7759 - acc: 0.666 - ETA: 4:20 - loss: 0.7746 - acc: 0.666 - ETA: 4:19 - loss: 0.7724 - acc: 0.667 - ETA: 4:17 - loss: 0.7756 - acc: 0.666 - ETA: 4:15 - loss: 0.7734 - acc: 0.667 - ETA: 4:15 - loss: 0.7740 - acc: 0.667 - ETA: 4:15 - loss: 0.7737 - acc: 0.667 - ETA: 4:13 - loss: 0.7752 - acc: 0.665 - ETA: 4:12 - loss: 0.7728 - acc: 0.667 - ETA: 4:11 - loss: 0.7721 - acc: 0.668 - ETA: 4:11 - loss: 0.7734 - acc: 0.667 - ETA: 4:09 - loss: 0.7744 - acc: 0.667 - ETA: 4:07 - loss: 0.7727 - acc: 0.668 - ETA: 4:07 - loss: 0.7715 - acc: 0.669 - ETA: 4:07 - loss: 0.7704 - acc: 0.670 - ETA: 4:05 - loss: 0.7704 - acc: 0.670 - ETA: 4:03 - loss: 0.7704 - acc: 0.669 - ETA: 4:03 - loss: 0.7695 - acc: 0.669 - ETA: 4:02 - loss: 0.7679 - acc: 0.670 - ETA: 4:01 - loss: 0.7674 - acc: 0.670 - ETA: 3:59 - loss: 0.7690 - acc: 0.670 - ETA: 3:59 - loss: 0.7692 - acc: 0.669 - ETA: 3:58 - loss: 0.7705 - acc: 0.668 - ETA: 3:57 - loss: 0.7702 - acc: 0.669 - ETA: 3:56 - loss: 0.7709 - acc: 0.668 - ETA: 3:55 - loss: 0.7712 - acc: 0.668 - ETA: 3:55 - loss: 0.7709 - acc: 0.669 - ETA: 3:53 - loss: 0.7714 - acc: 0.668 - ETA: 3:52 - loss: 0.7710 - acc: 0.668 - ETA: 3:52 - loss: 0.7706 - acc: 0.667 - ETA: 3:51 - loss: 0.7703 - acc: 0.668 - ETA: 3:50 - loss: 0.7694 - acc: 0.668 - ETA: 3:48 - loss: 0.7724 - acc: 0.667 - ETA: 3:48 - loss: 0.7701 - acc: 0.668 - ETA: 3:47 - loss: 0.7686 - acc: 0.669 - ETA: 3:46 - loss: 0.7669 - acc: 0.671 - ETA: 3:45 - loss: 0.7704 - acc: 0.669 - ETA: 3:44 - loss: 0.7697 - acc: 0.670 - ETA: 3:44 - loss: 0.7688 - acc: 0.670 - ETA: 3:42 - loss: 0.7676 - acc: 0.671 - ETA: 3:41 - loss: 0.7668 - acc: 0.671 - ETA: 3:40 - loss: 0.7670 - acc: 0.671 - ETA: 3:40 - loss: 0.7661 - acc: 0.672 - ETA: 3:39 - loss: 0.7639 - acc: 0.672 - ETA: 3:39 - loss: 0.7641 - acc: 0.673 - ETA: 3:38 - loss: 0.7627 - acc: 0.673 - ETA: 3:37 - loss: 0.7623 - acc: 0.673 - ETA: 3:36 - loss: 0.7605 - acc: 0.675 - ETA: 3:36 - loss: 0.7604 - acc: 0.675 - ETA: 3:35 - loss: 0.7606 - acc: 0.675 - ETA: 3:34 - loss: 0.7601 - acc: 0.675 - ETA: 3:34 - loss: 0.7591 - acc: 0.675 - ETA: 3:33 - loss: 0.7571 - acc: 0.676 - ETA: 3:32 - loss: 0.7562 - acc: 0.676 - ETA: 3:31 - loss: 0.7556 - acc: 0.677 - ETA: 3:30 - loss: 0.7556 - acc: 0.677 - ETA: 3:30 - loss: 0.7523 - acc: 0.679 - ETA: 3:29 - loss: 0.7515 - acc: 0.679 - ETA: 3:27 - loss: 0.7522 - acc: 0.679 - ETA: 3:27 - loss: 0.7511 - acc: 0.679 - ETA: 3:27 - loss: 0.7503 - acc: 0.679 - ETA: 3:25 - loss: 0.7499 - acc: 0.679 - ETA: 3:24 - loss: 0.7499 - acc: 0.679 - ETA: 3:24 - loss: 0.7496 - acc: 0.679 - ETA: 3:23 - loss: 0.7502 - acc: 0.678 - ETA: 3:22 - loss: 0.7510 - acc: 0.679 - ETA: 3:21 - loss: 0.7508 - acc: 0.679 - ETA: 3:20 - loss: 0.7494 - acc: 0.680 - ETA: 3:20 - loss: 0.7481 - acc: 0.680 - ETA: 3:18 - loss: 0.7474 - acc: 0.680 - ETA: 3:17 - loss: 0.7458 - acc: 0.681 - ETA: 3:17 - loss: 0.7451 - acc: 0.681 - ETA: 3:16 - loss: 0.7444 - acc: 0.682 - ETA: 3:15 - loss: 0.7427 - acc: 0.682 - ETA: 3:14 - loss: 0.7469 - acc: 0.681 - ETA: 3:14 - loss: 0.7456 - acc: 0.682 - ETA: 3:13 - loss: 0.7450 - acc: 0.682 - ETA: 3:12 - loss: 0.7444 - acc: 0.682 - ETA: 3:11 - loss: 0.7433 - acc: 0.682 - ETA: 3:10 - loss: 0.7444 - acc: 0.682 - ETA: 3:09 - loss: 0.7441 - acc: 0.682 - ETA: 3:08 - loss: 0.7449 - acc: 0.681 - ETA: 3:07 - loss: 0.7451 - acc: 0.681 - ETA: 3:07 - loss: 0.7442 - acc: 0.681 - ETA: 3:06 - loss: 0.7442 - acc: 0.681 - ETA: 3:05 - loss: 0.7450 - acc: 0.681 - ETA: 3:04 - loss: 0.7465 - acc: 0.680 - ETA: 3:03 - loss: 0.7453 - acc: 0.681 - ETA: 3:02 - loss: 0.7460 - acc: 0.681 - ETA: 3:01 - loss: 0.7474 - acc: 0.680 - ETA: 3:00 - loss: 0.7462 - acc: 0.681 - ETA: 3:00 - loss: 0.7447 - acc: 0.682 - ETA: 2:59 - loss: 0.7429 - acc: 0.682 - ETA: 2:58 - loss: 0.7417 - acc: 0.683 - ETA: 2:57 - loss: 0.7396 - acc: 0.684 - ETA: 2:56 - loss: 0.7392 - acc: 0.685 - ETA: 2:55 - loss: 0.7390 - acc: 0.685 - ETA: 2:54 - loss: 0.7392 - acc: 0.685 - ETA: 2:54 - loss: 0.7397 - acc: 0.685 - ETA: 2:53 - loss: 0.7393 - acc: 0.685 - ETA: 2:52 - loss: 0.7395 - acc: 0.685 - ETA: 2:51 - loss: 0.7403 - acc: 0.684 - ETA: 2:51 - loss: 0.7401 - acc: 0.684 - ETA: 2:50 - loss: 0.7404 - acc: 0.684 - ETA: 2:49 - loss: 0.7407 - acc: 0.683 - ETA: 2:48 - loss: 0.7399 - acc: 0.684 - ETA: 2:47 - loss: 0.7388 - acc: 0.685 - ETA: 2:47 - loss: 0.7387 - acc: 0.685 - ETA: 2:46 - loss: 0.7383 - acc: 0.685 - ETA: 2:45 - loss: 0.7381 - acc: 0.685 - ETA: 2:44 - loss: 0.7374 - acc: 0.685 - ETA: 2:43 - loss: 0.7381 - acc: 0.685 - ETA: 2:42 - loss: 0.7383 - acc: 0.685 - ETA: 2:41 - loss: 0.7379 - acc: 0.685 - ETA: 2:41 - loss: 0.7370 - acc: 0.686 - ETA: 2:40 - loss: 0.7361 - acc: 0.686 - ETA: 2:39 - loss: 0.7344 - acc: 0.687 - ETA: 2:38 - loss: 0.7339 - acc: 0.687 - ETA: 2:37 - loss: 0.7333 - acc: 0.688 - ETA: 2:37 - loss: 0.7327 - acc: 0.6883\b\b\b\b\b\b\b\b\b\b\b\b\b\b\b\b\b\b\b\b\b\b\b\b\b\b\b\b\b\b\b\b\b\b\b\b\b\b\b\b\b\b\b\b\b\b\b\b\b\b\b\b\b\b\b\b\b\b\b\b\b\b\b\b\b\b\b\b\b\b\b\b\b\b\b\b\b\b\b\b\b\b\b\b\b"
     ]
    },
    {
     "name": "stdout",
     "output_type": "stream",
     "text": [
      "12793/12793 [==============================] - ETA: 2:36 - loss: 0.7319 - acc: 0.688 - ETA: 2:35 - loss: 0.7311 - acc: 0.688 - ETA: 2:34 - loss: 0.7318 - acc: 0.688 - ETA: 2:33 - loss: 0.7318 - acc: 0.688 - ETA: 2:32 - loss: 0.7320 - acc: 0.689 - ETA: 2:31 - loss: 0.7314 - acc: 0.689 - ETA: 2:31 - loss: 0.7307 - acc: 0.689 - ETA: 2:30 - loss: 0.7313 - acc: 0.689 - ETA: 2:29 - loss: 0.7314 - acc: 0.689 - ETA: 2:28 - loss: 0.7311 - acc: 0.689 - ETA: 2:27 - loss: 0.7303 - acc: 0.690 - ETA: 2:27 - loss: 0.7296 - acc: 0.690 - ETA: 2:26 - loss: 0.7305 - acc: 0.690 - ETA: 2:25 - loss: 0.7304 - acc: 0.690 - ETA: 2:24 - loss: 0.7309 - acc: 0.690 - ETA: 2:23 - loss: 0.7300 - acc: 0.690 - ETA: 2:22 - loss: 0.7296 - acc: 0.690 - ETA: 2:21 - loss: 0.7298 - acc: 0.690 - ETA: 2:21 - loss: 0.7288 - acc: 0.690 - ETA: 2:20 - loss: 0.7281 - acc: 0.691 - ETA: 2:19 - loss: 0.7277 - acc: 0.691 - ETA: 2:18 - loss: 0.7272 - acc: 0.691 - ETA: 2:18 - loss: 0.7269 - acc: 0.691 - ETA: 2:17 - loss: 0.7264 - acc: 0.691 - ETA: 2:16 - loss: 0.7266 - acc: 0.691 - ETA: 2:15 - loss: 0.7263 - acc: 0.691 - ETA: 2:14 - loss: 0.7259 - acc: 0.691 - ETA: 2:13 - loss: 0.7247 - acc: 0.692 - ETA: 2:12 - loss: 0.7245 - acc: 0.692 - ETA: 2:12 - loss: 0.7240 - acc: 0.692 - ETA: 2:11 - loss: 0.7238 - acc: 0.693 - ETA: 2:10 - loss: 0.7236 - acc: 0.693 - ETA: 2:09 - loss: 0.7235 - acc: 0.693 - ETA: 2:09 - loss: 0.7221 - acc: 0.694 - ETA: 2:08 - loss: 0.7226 - acc: 0.693 - ETA: 2:07 - loss: 0.7228 - acc: 0.693 - ETA: 2:06 - loss: 0.7223 - acc: 0.694 - ETA: 2:06 - loss: 0.7223 - acc: 0.694 - ETA: 2:05 - loss: 0.7214 - acc: 0.694 - ETA: 2:04 - loss: 0.7220 - acc: 0.694 - ETA: 2:03 - loss: 0.7214 - acc: 0.694 - ETA: 2:03 - loss: 0.7213 - acc: 0.693 - ETA: 2:02 - loss: 0.7211 - acc: 0.693 - ETA: 2:01 - loss: 0.7203 - acc: 0.694 - ETA: 2:00 - loss: 0.7206 - acc: 0.694 - ETA: 1:59 - loss: 0.7206 - acc: 0.694 - ETA: 1:59 - loss: 0.7199 - acc: 0.694 - ETA: 1:58 - loss: 0.7197 - acc: 0.694 - ETA: 1:57 - loss: 0.7190 - acc: 0.694 - ETA: 1:56 - loss: 0.7188 - acc: 0.694 - ETA: 1:55 - loss: 0.7192 - acc: 0.694 - ETA: 1:54 - loss: 0.7184 - acc: 0.694 - ETA: 1:54 - loss: 0.7181 - acc: 0.694 - ETA: 1:53 - loss: 0.7185 - acc: 0.694 - ETA: 1:52 - loss: 0.7176 - acc: 0.695 - ETA: 1:51 - loss: 0.7168 - acc: 0.695 - ETA: 1:51 - loss: 0.7169 - acc: 0.695 - ETA: 1:50 - loss: 0.7161 - acc: 0.696 - ETA: 1:49 - loss: 0.7162 - acc: 0.695 - ETA: 1:48 - loss: 0.7155 - acc: 0.696 - ETA: 1:47 - loss: 0.7158 - acc: 0.696 - ETA: 1:47 - loss: 0.7152 - acc: 0.696 - ETA: 1:46 - loss: 0.7144 - acc: 0.696 - ETA: 1:45 - loss: 0.7135 - acc: 0.696 - ETA: 1:44 - loss: 0.7144 - acc: 0.696 - ETA: 1:43 - loss: 0.7140 - acc: 0.696 - ETA: 1:43 - loss: 0.7141 - acc: 0.697 - ETA: 1:42 - loss: 0.7154 - acc: 0.696 - ETA: 1:41 - loss: 0.7143 - acc: 0.697 - ETA: 1:40 - loss: 0.7136 - acc: 0.697 - ETA: 1:39 - loss: 0.7139 - acc: 0.697 - ETA: 1:39 - loss: 0.7134 - acc: 0.697 - ETA: 1:38 - loss: 0.7131 - acc: 0.697 - ETA: 1:37 - loss: 0.7127 - acc: 0.698 - ETA: 1:36 - loss: 0.7124 - acc: 0.698 - ETA: 1:35 - loss: 0.7117 - acc: 0.698 - ETA: 1:35 - loss: 0.7114 - acc: 0.698 - ETA: 1:34 - loss: 0.7112 - acc: 0.698 - ETA: 1:33 - loss: 0.7104 - acc: 0.699 - ETA: 1:32 - loss: 0.7094 - acc: 0.699 - ETA: 1:32 - loss: 0.7102 - acc: 0.699 - ETA: 1:31 - loss: 0.7095 - acc: 0.699 - ETA: 1:30 - loss: 0.7089 - acc: 0.699 - ETA: 1:29 - loss: 0.7086 - acc: 0.699 - ETA: 1:28 - loss: 0.7090 - acc: 0.700 - ETA: 1:27 - loss: 0.7088 - acc: 0.699 - ETA: 1:27 - loss: 0.7087 - acc: 0.699 - ETA: 1:26 - loss: 0.7085 - acc: 0.699 - ETA: 1:25 - loss: 0.7082 - acc: 0.699 - ETA: 1:24 - loss: 0.7079 - acc: 0.700 - ETA: 1:23 - loss: 0.7072 - acc: 0.700 - ETA: 1:23 - loss: 0.7069 - acc: 0.700 - ETA: 1:22 - loss: 0.7064 - acc: 0.700 - ETA: 1:21 - loss: 0.7068 - acc: 0.700 - ETA: 1:20 - loss: 0.7070 - acc: 0.699 - ETA: 1:20 - loss: 0.7057 - acc: 0.700 - ETA: 1:19 - loss: 0.7053 - acc: 0.700 - ETA: 1:18 - loss: 0.7049 - acc: 0.700 - ETA: 1:17 - loss: 0.7046 - acc: 0.701 - ETA: 1:16 - loss: 0.7046 - acc: 0.701 - ETA: 1:16 - loss: 0.7042 - acc: 0.701 - ETA: 1:15 - loss: 0.7041 - acc: 0.701 - ETA: 1:14 - loss: 0.7043 - acc: 0.701 - ETA: 1:13 - loss: 0.7049 - acc: 0.700 - ETA: 1:12 - loss: 0.7047 - acc: 0.701 - ETA: 1:12 - loss: 0.7045 - acc: 0.701 - ETA: 1:11 - loss: 0.7039 - acc: 0.701 - ETA: 1:10 - loss: 0.7037 - acc: 0.701 - ETA: 1:09 - loss: 0.7033 - acc: 0.701 - ETA: 1:08 - loss: 0.7038 - acc: 0.701 - ETA: 1:08 - loss: 0.7039 - acc: 0.701 - ETA: 1:07 - loss: 0.7038 - acc: 0.701 - ETA: 1:06 - loss: 0.7034 - acc: 0.701 - ETA: 1:05 - loss: 0.7029 - acc: 0.701 - ETA: 1:04 - loss: 0.7021 - acc: 0.702 - ETA: 1:04 - loss: 0.7016 - acc: 0.702 - ETA: 1:03 - loss: 0.7017 - acc: 0.702 - ETA: 1:02 - loss: 0.7017 - acc: 0.702 - ETA: 1:01 - loss: 0.7017 - acc: 0.702 - ETA: 1:00 - loss: 0.7009 - acc: 0.702 - ETA: 1:00 - loss: 0.7007 - acc: 0.702 - ETA: 59s - loss: 0.7004 - acc: 0.702 - ETA: 58s - loss: 0.6996 - acc: 0.70 - ETA: 57s - loss: 0.6989 - acc: 0.70 - ETA: 56s - loss: 0.6980 - acc: 0.70 - ETA: 56s - loss: 0.6972 - acc: 0.70 - ETA: 55s - loss: 0.6966 - acc: 0.70 - ETA: 54s - loss: 0.6960 - acc: 0.70 - ETA: 53s - loss: 0.6962 - acc: 0.70 - ETA: 53s - loss: 0.6958 - acc: 0.70 - ETA: 52s - loss: 0.6955 - acc: 0.70 - ETA: 51s - loss: 0.6956 - acc: 0.70 - ETA: 50s - loss: 0.6967 - acc: 0.70 - ETA: 49s - loss: 0.6966 - acc: 0.70 - ETA: 49s - loss: 0.6959 - acc: 0.70 - ETA: 48s - loss: 0.6966 - acc: 0.70 - ETA: 47s - loss: 0.6961 - acc: 0.70 - ETA: 46s - loss: 0.6960 - acc: 0.70 - ETA: 45s - loss: 0.6964 - acc: 0.70 - ETA: 45s - loss: 0.6961 - acc: 0.70 - ETA: 44s - loss: 0.6959 - acc: 0.70 - ETA: 43s - loss: 0.6956 - acc: 0.70 - ETA: 42s - loss: 0.6957 - acc: 0.70 - ETA: 41s - loss: 0.6960 - acc: 0.70 - ETA: 41s - loss: 0.6956 - acc: 0.70 - ETA: 40s - loss: 0.6958 - acc: 0.70 - ETA: 39s - loss: 0.6965 - acc: 0.70 - ETA: 38s - loss: 0.6961 - acc: 0.70 - ETA: 37s - loss: 0.6957 - acc: 0.70 - ETA: 37s - loss: 0.6955 - acc: 0.70 - ETA: 36s - loss: 0.6954 - acc: 0.70 - ETA: 35s - loss: 0.6951 - acc: 0.70 - ETA: 34s - loss: 0.6949 - acc: 0.70 - ETA: 33s - loss: 0.6945 - acc: 0.70 - ETA: 33s - loss: 0.6944 - acc: 0.70 - ETA: 32s - loss: 0.6941 - acc: 0.70 - ETA: 31s - loss: 0.6942 - acc: 0.70 - ETA: 30s - loss: 0.6942 - acc: 0.70 - ETA: 29s - loss: 0.6945 - acc: 0.70 - ETA: 29s - loss: 0.6939 - acc: 0.70 - ETA: 28s - loss: 0.6950 - acc: 0.70 - ETA: 27s - loss: 0.6947 - acc: 0.70 - ETA: 26s - loss: 0.6951 - acc: 0.70 - ETA: 26s - loss: 0.6948 - acc: 0.70 - ETA: 25s - loss: 0.6945 - acc: 0.70 - ETA: 24s - loss: 0.6950 - acc: 0.70 - ETA: 23s - loss: 0.6952 - acc: 0.70 - ETA: 22s - loss: 0.6950 - acc: 0.70 - ETA: 22s - loss: 0.6944 - acc: 0.70 - ETA: 21s - loss: 0.6948 - acc: 0.70 - ETA: 20s - loss: 0.6944 - acc: 0.70 - ETA: 19s - loss: 0.6949 - acc: 0.70 - ETA: 18s - loss: 0.6948 - acc: 0.70 - ETA: 18s - loss: 0.6942 - acc: 0.70 - ETA: 17s - loss: 0.6945 - acc: 0.70 - ETA: 16s - loss: 0.6945 - acc: 0.70 - ETA: 15s - loss: 0.6939 - acc: 0.70 - ETA: 14s - loss: 0.6937 - acc: 0.70 - ETA: 14s - loss: 0.6937 - acc: 0.70 - ETA: 13s - loss: 0.6939 - acc: 0.70 - ETA: 12s - loss: 0.6938 - acc: 0.70 - ETA: 11s - loss: 0.6933 - acc: 0.70 - ETA: 10s - loss: 0.6928 - acc: 0.70 - ETA: 10s - loss: 0.6929 - acc: 0.70 - ETA: 9s - loss: 0.6928 - acc: 0.7061 - ETA: 8s - loss: 0.6925 - acc: 0.706 - ETA: 7s - loss: 0.6923 - acc: 0.706 - ETA: 6s - loss: 0.6921 - acc: 0.706 - ETA: 6s - loss: 0.6914 - acc: 0.706 - ETA: 5s - loss: 0.6918 - acc: 0.706 - ETA: 4s - loss: 0.6916 - acc: 0.706 - ETA: 3s - loss: 0.6916 - acc: 0.706 - ETA: 3s - loss: 0.6912 - acc: 0.706 - ETA: 2s - loss: 0.6910 - acc: 0.706 - ETA: 1s - loss: 0.6911 - acc: 0.706 - ETA: 0s - loss: 0.6908 - acc: 0.706 - 323s 25ms/step - loss: 0.6907 - acc: 0.7065 - val_loss: 1.0721 - val_acc: 0.5098\n",
      "Epoch 2/20\n"
     ]
    },
    {
     "name": "stdout",
     "output_type": "stream",
     "text": [
      " 6528/12793 [==============>...............] - ETA: 6:17 - loss: 0.5250 - acc: 0.750 - ETA: 5:11 - loss: 0.5122 - acc: 0.750 - ETA: 4:50 - loss: 0.5065 - acc: 0.781 - ETA: 5:17 - loss: 0.4886 - acc: 0.789 - ETA: 5:18 - loss: 0.5054 - acc: 0.775 - ETA: 5:06 - loss: 0.4844 - acc: 0.791 - ETA: 5:06 - loss: 0.4635 - acc: 0.803 - ETA: 5:18 - loss: 0.4528 - acc: 0.804 - ETA: 5:10 - loss: 0.4845 - acc: 0.784 - ETA: 5:01 - loss: 0.4967 - acc: 0.784 - ETA: 4:59 - loss: 0.5012 - acc: 0.781 - ETA: 5:08 - loss: 0.4884 - acc: 0.791 - ETA: 5:04 - loss: 0.4767 - acc: 0.798 - ETA: 4:59 - loss: 0.4781 - acc: 0.792 - ETA: 4:58 - loss: 0.4676 - acc: 0.800 - ETA: 5:04 - loss: 0.4700 - acc: 0.794 - ETA: 5:00 - loss: 0.4765 - acc: 0.797 - ETA: 4:55 - loss: 0.4697 - acc: 0.800 - ETA: 4:55 - loss: 0.4641 - acc: 0.801 - ETA: 4:58 - loss: 0.4760 - acc: 0.795 - ETA: 4:57 - loss: 0.4777 - acc: 0.794 - ETA: 4:53 - loss: 0.4696 - acc: 0.796 - ETA: 4:56 - loss: 0.4656 - acc: 0.800 - ETA: 4:58 - loss: 0.4713 - acc: 0.799 - ETA: 4:54 - loss: 0.4703 - acc: 0.798 - ETA: 4:51 - loss: 0.5032 - acc: 0.790 - ETA: 4:54 - loss: 0.5171 - acc: 0.788 - ETA: 4:54 - loss: 0.5086 - acc: 0.793 - ETA: 4:52 - loss: 0.5052 - acc: 0.793 - ETA: 4:49 - loss: 0.5050 - acc: 0.793 - ETA: 4:51 - loss: 0.5069 - acc: 0.791 - ETA: 4:51 - loss: 0.5096 - acc: 0.790 - ETA: 4:48 - loss: 0.5082 - acc: 0.790 - ETA: 4:47 - loss: 0.5078 - acc: 0.793 - ETA: 4:49 - loss: 0.5129 - acc: 0.792 - ETA: 4:47 - loss: 0.5125 - acc: 0.791 - ETA: 4:44 - loss: 0.5142 - acc: 0.791 - ETA: 4:43 - loss: 0.5130 - acc: 0.791 - ETA: 4:45 - loss: 0.5135 - acc: 0.790 - ETA: 4:43 - loss: 0.5145 - acc: 0.790 - ETA: 4:41 - loss: 0.5193 - acc: 0.788 - ETA: 4:40 - loss: 0.5159 - acc: 0.791 - ETA: 4:42 - loss: 0.5124 - acc: 0.792 - ETA: 4:40 - loss: 0.5119 - acc: 0.792 - ETA: 4:38 - loss: 0.5111 - acc: 0.791 - ETA: 4:39 - loss: 0.5130 - acc: 0.792 - ETA: 4:39 - loss: 0.5115 - acc: 0.791 - ETA: 4:37 - loss: 0.5110 - acc: 0.792 - ETA: 4:35 - loss: 0.5125 - acc: 0.792 - ETA: 4:36 - loss: 0.5165 - acc: 0.791 - ETA: 4:36 - loss: 0.5161 - acc: 0.791 - ETA: 4:34 - loss: 0.5181 - acc: 0.789 - ETA: 4:33 - loss: 0.5202 - acc: 0.788 - ETA: 4:34 - loss: 0.5259 - acc: 0.785 - ETA: 4:33 - loss: 0.5260 - acc: 0.785 - ETA: 4:31 - loss: 0.5227 - acc: 0.787 - ETA: 4:31 - loss: 0.5255 - acc: 0.787 - ETA: 4:32 - loss: 0.5243 - acc: 0.788 - ETA: 4:30 - loss: 0.5233 - acc: 0.789 - ETA: 4:28 - loss: 0.5201 - acc: 0.789 - ETA: 4:28 - loss: 0.5200 - acc: 0.788 - ETA: 4:28 - loss: 0.5189 - acc: 0.790 - ETA: 4:27 - loss: 0.5156 - acc: 0.792 - ETA: 4:25 - loss: 0.5171 - acc: 0.792 - ETA: 4:26 - loss: 0.5176 - acc: 0.792 - ETA: 4:25 - loss: 0.5190 - acc: 0.792 - ETA: 4:23 - loss: 0.5225 - acc: 0.789 - ETA: 4:22 - loss: 0.5200 - acc: 0.791 - ETA: 4:22 - loss: 0.5225 - acc: 0.788 - ETA: 4:21 - loss: 0.5215 - acc: 0.789 - ETA: 4:20 - loss: 0.5238 - acc: 0.788 - ETA: 4:19 - loss: 0.5259 - acc: 0.787 - ETA: 4:19 - loss: 0.5269 - acc: 0.787 - ETA: 4:18 - loss: 0.5273 - acc: 0.786 - ETA: 4:17 - loss: 0.5257 - acc: 0.786 - ETA: 4:15 - loss: 0.5259 - acc: 0.785 - ETA: 4:16 - loss: 0.5261 - acc: 0.784 - ETA: 4:15 - loss: 0.5263 - acc: 0.785 - ETA: 4:13 - loss: 0.5257 - acc: 0.785 - ETA: 4:13 - loss: 0.5301 - acc: 0.785 - ETA: 4:13 - loss: 0.5297 - acc: 0.785 - ETA: 4:11 - loss: 0.5327 - acc: 0.784 - ETA: 4:10 - loss: 0.5352 - acc: 0.783 - ETA: 4:10 - loss: 0.5350 - acc: 0.783 - ETA: 4:10 - loss: 0.5368 - acc: 0.782 - ETA: 4:08 - loss: 0.5384 - acc: 0.780 - ETA: 4:07 - loss: 0.5383 - acc: 0.780 - ETA: 4:07 - loss: 0.5404 - acc: 0.779 - ETA: 4:06 - loss: 0.5428 - acc: 0.778 - ETA: 4:05 - loss: 0.5447 - acc: 0.777 - ETA: 4:04 - loss: 0.5442 - acc: 0.777 - ETA: 4:04 - loss: 0.5433 - acc: 0.777 - ETA: 4:03 - loss: 0.5437 - acc: 0.776 - ETA: 4:02 - loss: 0.5441 - acc: 0.776 - ETA: 4:00 - loss: 0.5450 - acc: 0.775 - ETA: 4:00 - loss: 0.5441 - acc: 0.775 - ETA: 4:00 - loss: 0.5446 - acc: 0.775 - ETA: 3:58 - loss: 0.5429 - acc: 0.776 - ETA: 3:57 - loss: 0.5413 - acc: 0.777 - ETA: 3:57 - loss: 0.5408 - acc: 0.777 - ETA: 3:56 - loss: 0.5409 - acc: 0.777 - ETA: 3:55 - loss: 0.5382 - acc: 0.778 - ETA: 3:54 - loss: 0.5362 - acc: 0.779 - ETA: 3:54 - loss: 0.5348 - acc: 0.780 - ETA: 3:53 - loss: 0.5344 - acc: 0.780 - ETA: 3:52 - loss: 0.5320 - acc: 0.781 - ETA: 3:51 - loss: 0.5327 - acc: 0.781 - ETA: 3:51 - loss: 0.5327 - acc: 0.781 - ETA: 3:50 - loss: 0.5324 - acc: 0.781 - ETA: 3:48 - loss: 0.5329 - acc: 0.782 - ETA: 3:48 - loss: 0.5327 - acc: 0.782 - ETA: 3:48 - loss: 0.5331 - acc: 0.782 - ETA: 3:46 - loss: 0.5312 - acc: 0.783 - ETA: 3:45 - loss: 0.5315 - acc: 0.783 - ETA: 3:45 - loss: 0.5328 - acc: 0.781 - ETA: 3:45 - loss: 0.5348 - acc: 0.780 - ETA: 3:43 - loss: 0.5340 - acc: 0.780 - ETA: 3:42 - loss: 0.5337 - acc: 0.780 - ETA: 3:42 - loss: 0.5347 - acc: 0.779 - ETA: 3:41 - loss: 0.5355 - acc: 0.779 - ETA: 3:40 - loss: 0.5358 - acc: 0.780 - ETA: 3:40 - loss: 0.5374 - acc: 0.779 - ETA: 3:39 - loss: 0.5383 - acc: 0.779 - ETA: 3:38 - loss: 0.5372 - acc: 0.779 - ETA: 3:37 - loss: 0.5375 - acc: 0.780 - ETA: 3:36 - loss: 0.5371 - acc: 0.780 - ETA: 3:36 - loss: 0.5375 - acc: 0.779 - ETA: 3:35 - loss: 0.5379 - acc: 0.779 - ETA: 3:34 - loss: 0.5378 - acc: 0.779 - ETA: 3:34 - loss: 0.5379 - acc: 0.778 - ETA: 3:33 - loss: 0.5383 - acc: 0.778 - ETA: 3:32 - loss: 0.5398 - acc: 0.778 - ETA: 3:31 - loss: 0.5396 - acc: 0.778 - ETA: 3:30 - loss: 0.5390 - acc: 0.778 - ETA: 3:30 - loss: 0.5395 - acc: 0.778 - ETA: 3:29 - loss: 0.5415 - acc: 0.777 - ETA: 3:28 - loss: 0.5422 - acc: 0.777 - ETA: 3:27 - loss: 0.5427 - acc: 0.776 - ETA: 3:26 - loss: 0.5426 - acc: 0.776 - ETA: 3:25 - loss: 0.5434 - acc: 0.776 - ETA: 3:25 - loss: 0.5438 - acc: 0.776 - ETA: 3:25 - loss: 0.5432 - acc: 0.776 - ETA: 3:23 - loss: 0.5435 - acc: 0.776 - ETA: 3:22 - loss: 0.5438 - acc: 0.776 - ETA: 3:22 - loss: 0.5427 - acc: 0.777 - ETA: 3:21 - loss: 0.5424 - acc: 0.777 - ETA: 3:20 - loss: 0.5421 - acc: 0.777 - ETA: 3:19 - loss: 0.5419 - acc: 0.777 - ETA: 3:19 - loss: 0.5452 - acc: 0.776 - ETA: 3:18 - loss: 0.5446 - acc: 0.776 - ETA: 3:17 - loss: 0.5446 - acc: 0.776 - ETA: 3:16 - loss: 0.5445 - acc: 0.776 - ETA: 3:16 - loss: 0.5451 - acc: 0.776 - ETA: 3:15 - loss: 0.5451 - acc: 0.776 - ETA: 3:14 - loss: 0.5464 - acc: 0.775 - ETA: 3:13 - loss: 0.5473 - acc: 0.775 - ETA: 3:12 - loss: 0.5485 - acc: 0.774 - ETA: 3:12 - loss: 0.5495 - acc: 0.774 - ETA: 3:11 - loss: 0.5495 - acc: 0.774 - ETA: 3:10 - loss: 0.5497 - acc: 0.774 - ETA: 3:09 - loss: 0.5499 - acc: 0.774 - ETA: 3:08 - loss: 0.5503 - acc: 0.774 - ETA: 3:07 - loss: 0.5502 - acc: 0.774 - ETA: 3:06 - loss: 0.5496 - acc: 0.774 - ETA: 3:06 - loss: 0.5486 - acc: 0.774 - ETA: 3:05 - loss: 0.5486 - acc: 0.774 - ETA: 3:04 - loss: 0.5485 - acc: 0.774 - ETA: 3:03 - loss: 0.5485 - acc: 0.773 - ETA: 3:03 - loss: 0.5488 - acc: 0.773 - ETA: 3:02 - loss: 0.5503 - acc: 0.772 - ETA: 3:01 - loss: 0.5499 - acc: 0.772 - ETA: 3:00 - loss: 0.5504 - acc: 0.772 - ETA: 3:00 - loss: 0.5501 - acc: 0.772 - ETA: 2:59 - loss: 0.5494 - acc: 0.772 - ETA: 2:58 - loss: 0.5486 - acc: 0.773 - ETA: 2:57 - loss: 0.5481 - acc: 0.773 - ETA: 2:56 - loss: 0.5475 - acc: 0.774 - ETA: 2:55 - loss: 0.5477 - acc: 0.773 - ETA: 2:55 - loss: 0.5485 - acc: 0.772 - ETA: 2:54 - loss: 0.5490 - acc: 0.772 - ETA: 2:53 - loss: 0.5485 - acc: 0.773 - ETA: 2:52 - loss: 0.5478 - acc: 0.773 - ETA: 2:51 - loss: 0.5477 - acc: 0.773 - ETA: 2:51 - loss: 0.5465 - acc: 0.774 - ETA: 2:50 - loss: 0.5456 - acc: 0.775 - ETA: 2:49 - loss: 0.5444 - acc: 0.775 - ETA: 2:48 - loss: 0.5439 - acc: 0.775 - ETA: 2:48 - loss: 0.5432 - acc: 0.776 - ETA: 2:47 - loss: 0.5425 - acc: 0.776 - ETA: 2:46 - loss: 0.5434 - acc: 0.776 - ETA: 2:45 - loss: 0.5442 - acc: 0.777 - ETA: 2:45 - loss: 0.5431 - acc: 0.777 - ETA: 2:44 - loss: 0.5424 - acc: 0.777 - ETA: 2:43 - loss: 0.5417 - acc: 0.777 - ETA: 2:42 - loss: 0.5403 - acc: 0.778 - ETA: 2:42 - loss: 0.5403 - acc: 0.778 - ETA: 2:41 - loss: 0.5400 - acc: 0.778 - ETA: 2:40 - loss: 0.5409 - acc: 0.778 - ETA: 2:39 - loss: 0.5403 - acc: 0.778 - ETA: 2:38 - loss: 0.5406 - acc: 0.777 - ETA: 2:37 - loss: 0.5398 - acc: 0.778 - ETA: 2:36 - loss: 0.5396 - acc: 0.777 - ETA: 2:36 - loss: 0.5386 - acc: 0.778 - ETA: 2:35 - loss: 0.5385 - acc: 0.7780"
     ]
    },
    {
     "name": "stdout",
     "output_type": "stream",
     "text": [
      "12793/12793 [==============================] - ETA: 2:34 - loss: 0.5379 - acc: 0.778 - ETA: 2:33 - loss: 0.5374 - acc: 0.778 - ETA: 2:33 - loss: 0.5380 - acc: 0.778 - ETA: 2:32 - loss: 0.5397 - acc: 0.778 - ETA: 2:31 - loss: 0.5397 - acc: 0.778 - ETA: 2:30 - loss: 0.5401 - acc: 0.778 - ETA: 2:30 - loss: 0.5393 - acc: 0.778 - ETA: 2:29 - loss: 0.5390 - acc: 0.778 - ETA: 2:28 - loss: 0.5388 - acc: 0.778 - ETA: 2:27 - loss: 0.5385 - acc: 0.778 - ETA: 2:26 - loss: 0.5379 - acc: 0.779 - ETA: 2:25 - loss: 0.5376 - acc: 0.779 - ETA: 2:25 - loss: 0.5370 - acc: 0.779 - ETA: 2:24 - loss: 0.5362 - acc: 0.780 - ETA: 2:23 - loss: 0.5365 - acc: 0.780 - ETA: 2:22 - loss: 0.5358 - acc: 0.780 - ETA: 2:21 - loss: 0.5371 - acc: 0.779 - ETA: 2:21 - loss: 0.5369 - acc: 0.779 - ETA: 2:20 - loss: 0.5375 - acc: 0.779 - ETA: 2:19 - loss: 0.5381 - acc: 0.779 - ETA: 2:18 - loss: 0.5388 - acc: 0.778 - ETA: 2:18 - loss: 0.5389 - acc: 0.778 - ETA: 2:17 - loss: 0.5388 - acc: 0.778 - ETA: 2:16 - loss: 0.5378 - acc: 0.778 - ETA: 2:15 - loss: 0.5383 - acc: 0.778 - ETA: 2:15 - loss: 0.5384 - acc: 0.778 - ETA: 2:14 - loss: 0.5393 - acc: 0.778 - ETA: 2:13 - loss: 0.5389 - acc: 0.778 - ETA: 2:12 - loss: 0.5394 - acc: 0.777 - ETA: 2:11 - loss: 0.5389 - acc: 0.778 - ETA: 2:10 - loss: 0.5397 - acc: 0.777 - ETA: 2:10 - loss: 0.5400 - acc: 0.777 - ETA: 2:09 - loss: 0.5400 - acc: 0.777 - ETA: 2:08 - loss: 0.5406 - acc: 0.777 - ETA: 2:07 - loss: 0.5409 - acc: 0.777 - ETA: 2:06 - loss: 0.5406 - acc: 0.777 - ETA: 2:06 - loss: 0.5409 - acc: 0.777 - ETA: 2:05 - loss: 0.5397 - acc: 0.778 - ETA: 2:04 - loss: 0.5396 - acc: 0.778 - ETA: 2:03 - loss: 0.5390 - acc: 0.778 - ETA: 2:03 - loss: 0.5386 - acc: 0.778 - ETA: 2:02 - loss: 0.5395 - acc: 0.777 - ETA: 2:01 - loss: 0.5387 - acc: 0.778 - ETA: 2:00 - loss: 0.5388 - acc: 0.777 - ETA: 1:59 - loss: 0.5378 - acc: 0.778 - ETA: 1:58 - loss: 0.5375 - acc: 0.778 - ETA: 1:58 - loss: 0.5375 - acc: 0.778 - ETA: 1:57 - loss: 0.5368 - acc: 0.778 - ETA: 1:56 - loss: 0.5364 - acc: 0.778 - ETA: 1:55 - loss: 0.5360 - acc: 0.779 - ETA: 1:54 - loss: 0.5361 - acc: 0.778 - ETA: 1:54 - loss: 0.5368 - acc: 0.778 - ETA: 1:53 - loss: 0.5369 - acc: 0.778 - ETA: 1:52 - loss: 0.5364 - acc: 0.778 - ETA: 1:51 - loss: 0.5363 - acc: 0.778 - ETA: 1:51 - loss: 0.5366 - acc: 0.778 - ETA: 1:50 - loss: 0.5371 - acc: 0.778 - ETA: 1:49 - loss: 0.5372 - acc: 0.778 - ETA: 1:48 - loss: 0.5369 - acc: 0.778 - ETA: 1:47 - loss: 0.5383 - acc: 0.777 - ETA: 1:47 - loss: 0.5387 - acc: 0.777 - ETA: 1:46 - loss: 0.5392 - acc: 0.777 - ETA: 1:45 - loss: 0.5393 - acc: 0.777 - ETA: 1:44 - loss: 0.5392 - acc: 0.777 - ETA: 1:43 - loss: 0.5396 - acc: 0.777 - ETA: 1:42 - loss: 0.5403 - acc: 0.776 - ETA: 1:42 - loss: 0.5406 - acc: 0.776 - ETA: 1:41 - loss: 0.5408 - acc: 0.776 - ETA: 1:40 - loss: 0.5406 - acc: 0.776 - ETA: 1:39 - loss: 0.5407 - acc: 0.776 - ETA: 1:39 - loss: 0.5407 - acc: 0.776 - ETA: 1:38 - loss: 0.5406 - acc: 0.776 - ETA: 1:37 - loss: 0.5403 - acc: 0.776 - ETA: 1:36 - loss: 0.5398 - acc: 0.776 - ETA: 1:35 - loss: 0.5395 - acc: 0.776 - ETA: 1:35 - loss: 0.5393 - acc: 0.776 - ETA: 1:34 - loss: 0.5397 - acc: 0.776 - ETA: 1:33 - loss: 0.5394 - acc: 0.776 - ETA: 1:32 - loss: 0.5389 - acc: 0.776 - ETA: 1:31 - loss: 0.5393 - acc: 0.776 - ETA: 1:31 - loss: 0.5391 - acc: 0.776 - ETA: 1:30 - loss: 0.5394 - acc: 0.776 - ETA: 1:29 - loss: 0.5398 - acc: 0.776 - ETA: 1:28 - loss: 0.5406 - acc: 0.776 - ETA: 1:27 - loss: 0.5423 - acc: 0.775 - ETA: 1:27 - loss: 0.5427 - acc: 0.775 - ETA: 1:26 - loss: 0.5423 - acc: 0.776 - ETA: 1:25 - loss: 0.5415 - acc: 0.776 - ETA: 1:24 - loss: 0.5408 - acc: 0.776 - ETA: 1:24 - loss: 0.5404 - acc: 0.776 - ETA: 1:23 - loss: 0.5402 - acc: 0.777 - ETA: 1:22 - loss: 0.5401 - acc: 0.777 - ETA: 1:21 - loss: 0.5399 - acc: 0.777 - ETA: 1:20 - loss: 0.5391 - acc: 0.777 - ETA: 1:20 - loss: 0.5390 - acc: 0.777 - ETA: 1:19 - loss: 0.5396 - acc: 0.777 - ETA: 1:18 - loss: 0.5391 - acc: 0.777 - ETA: 1:17 - loss: 0.5390 - acc: 0.777 - ETA: 1:16 - loss: 0.5394 - acc: 0.777 - ETA: 1:16 - loss: 0.5388 - acc: 0.777 - ETA: 1:15 - loss: 0.5387 - acc: 0.777 - ETA: 1:14 - loss: 0.5383 - acc: 0.777 - ETA: 1:13 - loss: 0.5380 - acc: 0.778 - ETA: 1:12 - loss: 0.5386 - acc: 0.777 - ETA: 1:12 - loss: 0.5384 - acc: 0.778 - ETA: 1:11 - loss: 0.5391 - acc: 0.777 - ETA: 1:10 - loss: 0.5392 - acc: 0.778 - ETA: 1:09 - loss: 0.5395 - acc: 0.777 - ETA: 1:09 - loss: 0.5397 - acc: 0.777 - ETA: 1:08 - loss: 0.5403 - acc: 0.777 - ETA: 1:07 - loss: 0.5403 - acc: 0.777 - ETA: 1:06 - loss: 0.5403 - acc: 0.777 - ETA: 1:05 - loss: 0.5404 - acc: 0.777 - ETA: 1:05 - loss: 0.5398 - acc: 0.778 - ETA: 1:04 - loss: 0.5401 - acc: 0.777 - ETA: 1:03 - loss: 0.5400 - acc: 0.777 - ETA: 1:02 - loss: 0.5395 - acc: 0.778 - ETA: 1:01 - loss: 0.5398 - acc: 0.777 - ETA: 1:00 - loss: 0.5401 - acc: 0.777 - ETA: 1:00 - loss: 0.5396 - acc: 0.778 - ETA: 59s - loss: 0.5392 - acc: 0.778 - ETA: 58s - loss: 0.5397 - acc: 0.77 - ETA: 57s - loss: 0.5389 - acc: 0.77 - ETA: 57s - loss: 0.5394 - acc: 0.77 - ETA: 56s - loss: 0.5396 - acc: 0.77 - ETA: 55s - loss: 0.5392 - acc: 0.77 - ETA: 54s - loss: 0.5394 - acc: 0.77 - ETA: 53s - loss: 0.5387 - acc: 0.77 - ETA: 53s - loss: 0.5385 - acc: 0.77 - ETA: 52s - loss: 0.5381 - acc: 0.77 - ETA: 51s - loss: 0.5380 - acc: 0.77 - ETA: 50s - loss: 0.5381 - acc: 0.77 - ETA: 49s - loss: 0.5383 - acc: 0.77 - ETA: 49s - loss: 0.5380 - acc: 0.77 - ETA: 48s - loss: 0.5377 - acc: 0.77 - ETA: 47s - loss: 0.5379 - acc: 0.77 - ETA: 46s - loss: 0.5379 - acc: 0.77 - ETA: 45s - loss: 0.5382 - acc: 0.77 - ETA: 45s - loss: 0.5379 - acc: 0.77 - ETA: 44s - loss: 0.5384 - acc: 0.77 - ETA: 43s - loss: 0.5380 - acc: 0.77 - ETA: 42s - loss: 0.5377 - acc: 0.77 - ETA: 42s - loss: 0.5379 - acc: 0.77 - ETA: 41s - loss: 0.5384 - acc: 0.77 - ETA: 40s - loss: 0.5391 - acc: 0.77 - ETA: 39s - loss: 0.5387 - acc: 0.77 - ETA: 39s - loss: 0.5385 - acc: 0.77 - ETA: 38s - loss: 0.5382 - acc: 0.77 - ETA: 37s - loss: 0.5384 - acc: 0.77 - ETA: 36s - loss: 0.5382 - acc: 0.77 - ETA: 35s - loss: 0.5385 - acc: 0.77 - ETA: 35s - loss: 0.5389 - acc: 0.77 - ETA: 34s - loss: 0.5386 - acc: 0.77 - ETA: 33s - loss: 0.5389 - acc: 0.77 - ETA: 32s - loss: 0.5390 - acc: 0.77 - ETA: 31s - loss: 0.5391 - acc: 0.77 - ETA: 31s - loss: 0.5392 - acc: 0.77 - ETA: 30s - loss: 0.5395 - acc: 0.77 - ETA: 29s - loss: 0.5394 - acc: 0.77 - ETA: 28s - loss: 0.5393 - acc: 0.77 - ETA: 27s - loss: 0.5399 - acc: 0.77 - ETA: 27s - loss: 0.5400 - acc: 0.77 - ETA: 26s - loss: 0.5400 - acc: 0.77 - ETA: 25s - loss: 0.5396 - acc: 0.77 - ETA: 24s - loss: 0.5394 - acc: 0.77 - ETA: 23s - loss: 0.5392 - acc: 0.77 - ETA: 23s - loss: 0.5390 - acc: 0.77 - ETA: 22s - loss: 0.5392 - acc: 0.77 - ETA: 21s - loss: 0.5392 - acc: 0.77 - ETA: 20s - loss: 0.5396 - acc: 0.77 - ETA: 19s - loss: 0.5391 - acc: 0.77 - ETA: 19s - loss: 0.5382 - acc: 0.77 - ETA: 18s - loss: 0.5384 - acc: 0.77 - ETA: 17s - loss: 0.5383 - acc: 0.77 - ETA: 16s - loss: 0.5382 - acc: 0.77 - ETA: 15s - loss: 0.5378 - acc: 0.77 - ETA: 15s - loss: 0.5377 - acc: 0.77 - ETA: 14s - loss: 0.5378 - acc: 0.77 - ETA: 13s - loss: 0.5375 - acc: 0.77 - ETA: 12s - loss: 0.5371 - acc: 0.77 - ETA: 11s - loss: 0.5367 - acc: 0.77 - ETA: 11s - loss: 0.5365 - acc: 0.77 - ETA: 10s - loss: 0.5366 - acc: 0.77 - ETA: 9s - loss: 0.5365 - acc: 0.7797 - ETA: 8s - loss: 0.5361 - acc: 0.779 - ETA: 7s - loss: 0.5369 - acc: 0.779 - ETA: 7s - loss: 0.5369 - acc: 0.779 - ETA: 6s - loss: 0.5371 - acc: 0.779 - ETA: 5s - loss: 0.5375 - acc: 0.779 - ETA: 4s - loss: 0.5375 - acc: 0.779 - ETA: 3s - loss: 0.5377 - acc: 0.779 - ETA: 3s - loss: 0.5377 - acc: 0.779 - ETA: 2s - loss: 0.5373 - acc: 0.779 - ETA: 1s - loss: 0.5369 - acc: 0.779 - ETA: 0s - loss: 0.5369 - acc: 0.779 - 327s 26ms/step - loss: 0.5368 - acc: 0.7799 - val_loss: 1.1181 - val_acc: 0.4677\n",
      "Epoch 3/20\n"
     ]
    },
    {
     "name": "stdout",
     "output_type": "stream",
     "text": [
      " 6528/12793 [==============>...............] - ETA: 8:03 - loss: 0.5441 - acc: 0.718 - ETA: 7:19 - loss: 0.5236 - acc: 0.812 - ETA: 6:25 - loss: 0.4626 - acc: 0.843 - ETA: 6:40 - loss: 0.4660 - acc: 0.835 - ETA: 6:36 - loss: 0.4184 - acc: 0.856 - ETA: 6:13 - loss: 0.4234 - acc: 0.843 - ETA: 6:10 - loss: 0.4202 - acc: 0.843 - ETA: 6:20 - loss: 0.4334 - acc: 0.835 - ETA: 6:08 - loss: 0.4395 - acc: 0.826 - ETA: 5:55 - loss: 0.4414 - acc: 0.828 - ETA: 5:58 - loss: 0.4202 - acc: 0.835 - ETA: 5:56 - loss: 0.4069 - acc: 0.841 - ETA: 5:47 - loss: 0.4023 - acc: 0.841 - ETA: 5:42 - loss: 0.4026 - acc: 0.837 - ETA: 5:46 - loss: 0.4039 - acc: 0.837 - ETA: 5:40 - loss: 0.3950 - acc: 0.841 - ETA: 5:35 - loss: 0.3851 - acc: 0.845 - ETA: 5:33 - loss: 0.3918 - acc: 0.845 - ETA: 5:36 - loss: 0.3880 - acc: 0.847 - ETA: 5:30 - loss: 0.4022 - acc: 0.840 - ETA: 5:25 - loss: 0.4024 - acc: 0.839 - ETA: 5:25 - loss: 0.3968 - acc: 0.839 - ETA: 5:27 - loss: 0.3894 - acc: 0.845 - ETA: 5:22 - loss: 0.3830 - acc: 0.847 - ETA: 5:18 - loss: 0.3813 - acc: 0.846 - ETA: 5:19 - loss: 0.3809 - acc: 0.848 - ETA: 5:19 - loss: 0.3766 - acc: 0.850 - ETA: 5:15 - loss: 0.3684 - acc: 0.853 - ETA: 5:12 - loss: 0.3758 - acc: 0.850 - ETA: 5:13 - loss: 0.3799 - acc: 0.849 - ETA: 5:12 - loss: 0.3759 - acc: 0.851 - ETA: 5:09 - loss: 0.3702 - acc: 0.854 - ETA: 5:06 - loss: 0.3729 - acc: 0.853 - ETA: 5:07 - loss: 0.3722 - acc: 0.853 - ETA: 5:06 - loss: 0.3699 - acc: 0.853 - ETA: 5:03 - loss: 0.3659 - acc: 0.855 - ETA: 5:01 - loss: 0.3685 - acc: 0.854 - ETA: 5:02 - loss: 0.3628 - acc: 0.856 - ETA: 5:00 - loss: 0.3613 - acc: 0.859 - ETA: 4:58 - loss: 0.3545 - acc: 0.862 - ETA: 4:57 - loss: 0.3503 - acc: 0.865 - ETA: 4:58 - loss: 0.3501 - acc: 0.865 - ETA: 4:55 - loss: 0.3454 - acc: 0.867 - ETA: 4:53 - loss: 0.3452 - acc: 0.866 - ETA: 4:53 - loss: 0.3477 - acc: 0.866 - ETA: 4:53 - loss: 0.3514 - acc: 0.864 - ETA: 4:51 - loss: 0.3549 - acc: 0.864 - ETA: 4:49 - loss: 0.3533 - acc: 0.865 - ETA: 4:49 - loss: 0.3531 - acc: 0.866 - ETA: 4:49 - loss: 0.3546 - acc: 0.866 - ETA: 4:47 - loss: 0.3554 - acc: 0.866 - ETA: 4:45 - loss: 0.3551 - acc: 0.865 - ETA: 4:45 - loss: 0.3550 - acc: 0.865 - ETA: 4:44 - loss: 0.3550 - acc: 0.863 - ETA: 4:42 - loss: 0.3540 - acc: 0.862 - ETA: 4:40 - loss: 0.3595 - acc: 0.861 - ETA: 4:41 - loss: 0.3559 - acc: 0.863 - ETA: 4:41 - loss: 0.3566 - acc: 0.863 - ETA: 4:39 - loss: 0.3587 - acc: 0.863 - ETA: 4:39 - loss: 0.3586 - acc: 0.864 - ETA: 4:40 - loss: 0.3583 - acc: 0.864 - ETA: 4:38 - loss: 0.3607 - acc: 0.862 - ETA: 4:36 - loss: 0.3612 - acc: 0.862 - ETA: 4:36 - loss: 0.3601 - acc: 0.861 - ETA: 4:36 - loss: 0.3593 - acc: 0.861 - ETA: 4:34 - loss: 0.3570 - acc: 0.862 - ETA: 4:33 - loss: 0.3584 - acc: 0.862 - ETA: 4:34 - loss: 0.3579 - acc: 0.863 - ETA: 4:32 - loss: 0.3581 - acc: 0.862 - ETA: 4:31 - loss: 0.3556 - acc: 0.863 - ETA: 4:33 - loss: 0.3552 - acc: 0.864 - ETA: 4:32 - loss: 0.3560 - acc: 0.864 - ETA: 4:31 - loss: 0.3592 - acc: 0.863 - ETA: 4:32 - loss: 0.3604 - acc: 0.863 - ETA: 4:32 - loss: 0.3586 - acc: 0.863 - ETA: 4:32 - loss: 0.3573 - acc: 0.864 - ETA: 4:32 - loss: 0.3568 - acc: 0.864 - ETA: 4:32 - loss: 0.3558 - acc: 0.865 - ETA: 4:31 - loss: 0.3571 - acc: 0.864 - ETA: 4:31 - loss: 0.3558 - acc: 0.864 - ETA: 4:30 - loss: 0.3552 - acc: 0.865 - ETA: 4:28 - loss: 0.3540 - acc: 0.865 - ETA: 4:27 - loss: 0.3550 - acc: 0.864 - ETA: 4:26 - loss: 0.3546 - acc: 0.864 - ETA: 4:26 - loss: 0.3544 - acc: 0.864 - ETA: 4:25 - loss: 0.3558 - acc: 0.863 - ETA: 4:24 - loss: 0.3558 - acc: 0.862 - ETA: 4:24 - loss: 0.3558 - acc: 0.863 - ETA: 4:22 - loss: 0.3540 - acc: 0.863 - ETA: 4:21 - loss: 0.3534 - acc: 0.863 - ETA: 4:21 - loss: 0.3535 - acc: 0.863 - ETA: 4:21 - loss: 0.3523 - acc: 0.864 - ETA: 4:19 - loss: 0.3521 - acc: 0.863 - ETA: 4:18 - loss: 0.3505 - acc: 0.864 - ETA: 4:17 - loss: 0.3526 - acc: 0.862 - ETA: 4:16 - loss: 0.3529 - acc: 0.863 - ETA: 4:15 - loss: 0.3526 - acc: 0.863 - ETA: 4:14 - loss: 0.3526 - acc: 0.863 - ETA: 4:14 - loss: 0.3522 - acc: 0.863 - ETA: 4:13 - loss: 0.3534 - acc: 0.863 - ETA: 4:12 - loss: 0.3514 - acc: 0.864 - ETA: 4:12 - loss: 0.3522 - acc: 0.864 - ETA: 4:11 - loss: 0.3518 - acc: 0.864 - ETA: 4:10 - loss: 0.3519 - acc: 0.864 - ETA: 4:09 - loss: 0.3503 - acc: 0.864 - ETA: 4:09 - loss: 0.3494 - acc: 0.864 - ETA: 4:07 - loss: 0.3496 - acc: 0.863 - ETA: 4:06 - loss: 0.3475 - acc: 0.864 - ETA: 4:06 - loss: 0.3467 - acc: 0.865 - ETA: 4:05 - loss: 0.3468 - acc: 0.865 - ETA: 4:03 - loss: 0.3463 - acc: 0.865 - ETA: 4:02 - loss: 0.3472 - acc: 0.865 - ETA: 4:01 - loss: 0.3469 - acc: 0.865 - ETA: 4:01 - loss: 0.3467 - acc: 0.865 - ETA: 3:59 - loss: 0.3461 - acc: 0.865 - ETA: 3:58 - loss: 0.3479 - acc: 0.865 - ETA: 3:57 - loss: 0.3469 - acc: 0.865 - ETA: 3:56 - loss: 0.3466 - acc: 0.865 - ETA: 3:55 - loss: 0.3453 - acc: 0.866 - ETA: 3:54 - loss: 0.3460 - acc: 0.866 - ETA: 3:55 - loss: 0.3463 - acc: 0.866 - ETA: 3:53 - loss: 0.3461 - acc: 0.866 - ETA: 3:52 - loss: 0.3464 - acc: 0.866 - ETA: 3:52 - loss: 0.3467 - acc: 0.866 - ETA: 3:51 - loss: 0.3458 - acc: 0.867 - ETA: 3:50 - loss: 0.3451 - acc: 0.868 - ETA: 3:48 - loss: 0.3455 - acc: 0.867 - ETA: 3:48 - loss: 0.3444 - acc: 0.868 - ETA: 3:47 - loss: 0.3429 - acc: 0.868 - ETA: 3:46 - loss: 0.3435 - acc: 0.868 - ETA: 3:45 - loss: 0.3424 - acc: 0.868 - ETA: 3:45 - loss: 0.3422 - acc: 0.868 - ETA: 3:43 - loss: 0.3411 - acc: 0.869 - ETA: 3:42 - loss: 0.3417 - acc: 0.868 - ETA: 3:42 - loss: 0.3407 - acc: 0.869 - ETA: 3:41 - loss: 0.3396 - acc: 0.869 - ETA: 3:40 - loss: 0.3403 - acc: 0.869 - ETA: 3:40 - loss: 0.3408 - acc: 0.869 - ETA: 3:39 - loss: 0.3410 - acc: 0.869 - ETA: 3:38 - loss: 0.3401 - acc: 0.869 - ETA: 3:37 - loss: 0.3409 - acc: 0.869 - ETA: 3:37 - loss: 0.3403 - acc: 0.869 - ETA: 3:36 - loss: 0.3412 - acc: 0.868 - ETA: 3:35 - loss: 0.3411 - acc: 0.868 - ETA: 3:34 - loss: 0.3402 - acc: 0.869 - ETA: 3:34 - loss: 0.3406 - acc: 0.869 - ETA: 3:33 - loss: 0.3406 - acc: 0.869 - ETA: 3:31 - loss: 0.3394 - acc: 0.869 - ETA: 3:31 - loss: 0.3392 - acc: 0.869 - ETA: 3:30 - loss: 0.3396 - acc: 0.869 - ETA: 3:29 - loss: 0.3409 - acc: 0.869 - ETA: 3:28 - loss: 0.3403 - acc: 0.869 - ETA: 3:27 - loss: 0.3391 - acc: 0.869 - ETA: 3:26 - loss: 0.3399 - acc: 0.869 - ETA: 3:25 - loss: 0.3409 - acc: 0.869 - ETA: 3:24 - loss: 0.3424 - acc: 0.869 - ETA: 3:24 - loss: 0.3421 - acc: 0.869 - ETA: 3:23 - loss: 0.3435 - acc: 0.868 - ETA: 3:22 - loss: 0.3433 - acc: 0.869 - ETA: 3:21 - loss: 0.3434 - acc: 0.869 - ETA: 3:20 - loss: 0.3441 - acc: 0.869 - ETA: 3:19 - loss: 0.3440 - acc: 0.869 - ETA: 3:18 - loss: 0.3453 - acc: 0.868 - ETA: 3:17 - loss: 0.3458 - acc: 0.868 - ETA: 3:17 - loss: 0.3460 - acc: 0.868 - ETA: 3:16 - loss: 0.3462 - acc: 0.868 - ETA: 3:14 - loss: 0.3462 - acc: 0.868 - ETA: 3:14 - loss: 0.3478 - acc: 0.867 - ETA: 3:13 - loss: 0.3484 - acc: 0.867 - ETA: 3:12 - loss: 0.3501 - acc: 0.866 - ETA: 3:11 - loss: 0.3501 - acc: 0.866 - ETA: 3:10 - loss: 0.3500 - acc: 0.866 - ETA: 3:09 - loss: 0.3499 - acc: 0.866 - ETA: 3:08 - loss: 0.3498 - acc: 0.866 - ETA: 3:07 - loss: 0.3493 - acc: 0.866 - ETA: 3:07 - loss: 0.3491 - acc: 0.866 - ETA: 3:06 - loss: 0.3493 - acc: 0.866 - ETA: 3:05 - loss: 0.3494 - acc: 0.866 - ETA: 3:04 - loss: 0.3498 - acc: 0.866 - ETA: 3:03 - loss: 0.3511 - acc: 0.865 - ETA: 3:02 - loss: 0.3511 - acc: 0.865 - ETA: 3:01 - loss: 0.3515 - acc: 0.865 - ETA: 3:00 - loss: 0.3511 - acc: 0.865 - ETA: 3:00 - loss: 0.3513 - acc: 0.865 - ETA: 2:59 - loss: 0.3506 - acc: 0.865 - ETA: 2:58 - loss: 0.3510 - acc: 0.865 - ETA: 2:57 - loss: 0.3512 - acc: 0.865 - ETA: 2:56 - loss: 0.3516 - acc: 0.865 - ETA: 2:55 - loss: 0.3517 - acc: 0.865 - ETA: 2:54 - loss: 0.3513 - acc: 0.865 - ETA: 2:53 - loss: 0.3519 - acc: 0.864 - ETA: 2:53 - loss: 0.3520 - acc: 0.864 - ETA: 2:52 - loss: 0.3532 - acc: 0.864 - ETA: 2:51 - loss: 0.3534 - acc: 0.864 - ETA: 2:50 - loss: 0.3525 - acc: 0.864 - ETA: 2:49 - loss: 0.3513 - acc: 0.865 - ETA: 2:48 - loss: 0.3520 - acc: 0.865 - ETA: 2:47 - loss: 0.3516 - acc: 0.865 - ETA: 2:47 - loss: 0.3506 - acc: 0.865 - ETA: 2:46 - loss: 0.3515 - acc: 0.865 - ETA: 2:45 - loss: 0.3509 - acc: 0.865 - ETA: 2:44 - loss: 0.3508 - acc: 0.865 - ETA: 2:43 - loss: 0.3505 - acc: 0.865 - ETA: 2:42 - loss: 0.3499 - acc: 0.8657"
     ]
    },
    {
     "name": "stdout",
     "output_type": "stream",
     "text": [
      "12793/12793 [==============================] - ETA: 2:41 - loss: 0.3500 - acc: 0.865 - ETA: 2:40 - loss: 0.3505 - acc: 0.865 - ETA: 2:39 - loss: 0.3515 - acc: 0.864 - ETA: 2:38 - loss: 0.3526 - acc: 0.864 - ETA: 2:37 - loss: 0.3523 - acc: 0.864 - ETA: 2:37 - loss: 0.3524 - acc: 0.864 - ETA: 2:36 - loss: 0.3518 - acc: 0.864 - ETA: 2:35 - loss: 0.3517 - acc: 0.864 - ETA: 2:34 - loss: 0.3512 - acc: 0.864 - ETA: 2:33 - loss: 0.3521 - acc: 0.864 - ETA: 2:33 - loss: 0.3521 - acc: 0.864 - ETA: 2:32 - loss: 0.3516 - acc: 0.864 - ETA: 2:31 - loss: 0.3530 - acc: 0.863 - ETA: 2:30 - loss: 0.3534 - acc: 0.863 - ETA: 2:29 - loss: 0.3543 - acc: 0.862 - ETA: 2:28 - loss: 0.3541 - acc: 0.862 - ETA: 2:27 - loss: 0.3541 - acc: 0.862 - ETA: 2:27 - loss: 0.3537 - acc: 0.862 - ETA: 2:26 - loss: 0.3528 - acc: 0.863 - ETA: 2:25 - loss: 0.3533 - acc: 0.863 - ETA: 2:24 - loss: 0.3542 - acc: 0.862 - ETA: 2:23 - loss: 0.3535 - acc: 0.862 - ETA: 2:22 - loss: 0.3530 - acc: 0.863 - ETA: 2:21 - loss: 0.3527 - acc: 0.863 - ETA: 2:21 - loss: 0.3525 - acc: 0.863 - ETA: 2:20 - loss: 0.3524 - acc: 0.863 - ETA: 2:19 - loss: 0.3521 - acc: 0.863 - ETA: 2:18 - loss: 0.3533 - acc: 0.862 - ETA: 2:17 - loss: 0.3545 - acc: 0.862 - ETA: 2:16 - loss: 0.3546 - acc: 0.862 - ETA: 2:16 - loss: 0.3540 - acc: 0.862 - ETA: 2:15 - loss: 0.3538 - acc: 0.862 - ETA: 2:14 - loss: 0.3541 - acc: 0.862 - ETA: 2:13 - loss: 0.3535 - acc: 0.862 - ETA: 2:12 - loss: 0.3538 - acc: 0.862 - ETA: 2:11 - loss: 0.3532 - acc: 0.862 - ETA: 2:10 - loss: 0.3541 - acc: 0.862 - ETA: 2:10 - loss: 0.3541 - acc: 0.862 - ETA: 2:09 - loss: 0.3546 - acc: 0.862 - ETA: 2:08 - loss: 0.3544 - acc: 0.862 - ETA: 2:07 - loss: 0.3547 - acc: 0.862 - ETA: 2:06 - loss: 0.3551 - acc: 0.862 - ETA: 2:05 - loss: 0.3546 - acc: 0.862 - ETA: 2:04 - loss: 0.3548 - acc: 0.861 - ETA: 2:04 - loss: 0.3551 - acc: 0.861 - ETA: 2:03 - loss: 0.3551 - acc: 0.861 - ETA: 2:02 - loss: 0.3552 - acc: 0.861 - ETA: 2:01 - loss: 0.3551 - acc: 0.861 - ETA: 2:00 - loss: 0.3552 - acc: 0.861 - ETA: 1:59 - loss: 0.3558 - acc: 0.860 - ETA: 1:58 - loss: 0.3555 - acc: 0.861 - ETA: 1:58 - loss: 0.3551 - acc: 0.861 - ETA: 1:57 - loss: 0.3548 - acc: 0.861 - ETA: 1:56 - loss: 0.3542 - acc: 0.861 - ETA: 1:55 - loss: 0.3543 - acc: 0.861 - ETA: 1:54 - loss: 0.3549 - acc: 0.861 - ETA: 1:53 - loss: 0.3559 - acc: 0.860 - ETA: 1:53 - loss: 0.3550 - acc: 0.861 - ETA: 1:52 - loss: 0.3545 - acc: 0.861 - ETA: 1:51 - loss: 0.3540 - acc: 0.862 - ETA: 1:50 - loss: 0.3539 - acc: 0.862 - ETA: 1:49 - loss: 0.3540 - acc: 0.862 - ETA: 1:48 - loss: 0.3535 - acc: 0.862 - ETA: 1:47 - loss: 0.3533 - acc: 0.862 - ETA: 1:47 - loss: 0.3535 - acc: 0.862 - ETA: 1:46 - loss: 0.3539 - acc: 0.862 - ETA: 1:45 - loss: 0.3540 - acc: 0.862 - ETA: 1:44 - loss: 0.3545 - acc: 0.862 - ETA: 1:43 - loss: 0.3546 - acc: 0.862 - ETA: 1:42 - loss: 0.3541 - acc: 0.862 - ETA: 1:42 - loss: 0.3539 - acc: 0.862 - ETA: 1:41 - loss: 0.3530 - acc: 0.862 - ETA: 1:40 - loss: 0.3521 - acc: 0.863 - ETA: 1:39 - loss: 0.3530 - acc: 0.862 - ETA: 1:38 - loss: 0.3528 - acc: 0.863 - ETA: 1:38 - loss: 0.3532 - acc: 0.862 - ETA: 1:37 - loss: 0.3540 - acc: 0.862 - ETA: 1:36 - loss: 0.3540 - acc: 0.862 - ETA: 1:35 - loss: 0.3535 - acc: 0.862 - ETA: 1:34 - loss: 0.3535 - acc: 0.862 - ETA: 1:33 - loss: 0.3534 - acc: 0.862 - ETA: 1:32 - loss: 0.3538 - acc: 0.862 - ETA: 1:32 - loss: 0.3540 - acc: 0.861 - ETA: 1:31 - loss: 0.3539 - acc: 0.862 - ETA: 1:30 - loss: 0.3544 - acc: 0.862 - ETA: 1:29 - loss: 0.3538 - acc: 0.862 - ETA: 1:28 - loss: 0.3534 - acc: 0.862 - ETA: 1:28 - loss: 0.3533 - acc: 0.862 - ETA: 1:27 - loss: 0.3533 - acc: 0.862 - ETA: 1:26 - loss: 0.3532 - acc: 0.862 - ETA: 1:25 - loss: 0.3530 - acc: 0.862 - ETA: 1:24 - loss: 0.3525 - acc: 0.863 - ETA: 1:23 - loss: 0.3528 - acc: 0.863 - ETA: 1:22 - loss: 0.3524 - acc: 0.863 - ETA: 1:22 - loss: 0.3525 - acc: 0.863 - ETA: 1:21 - loss: 0.3528 - acc: 0.863 - ETA: 1:20 - loss: 0.3540 - acc: 0.862 - ETA: 1:19 - loss: 0.3556 - acc: 0.862 - ETA: 1:18 - loss: 0.3550 - acc: 0.862 - ETA: 1:18 - loss: 0.3551 - acc: 0.862 - ETA: 1:17 - loss: 0.3552 - acc: 0.862 - ETA: 1:16 - loss: 0.3547 - acc: 0.862 - ETA: 1:15 - loss: 0.3546 - acc: 0.862 - ETA: 1:14 - loss: 0.3541 - acc: 0.862 - ETA: 1:13 - loss: 0.3538 - acc: 0.863 - ETA: 1:13 - loss: 0.3536 - acc: 0.863 - ETA: 1:12 - loss: 0.3545 - acc: 0.862 - ETA: 1:11 - loss: 0.3550 - acc: 0.862 - ETA: 1:10 - loss: 0.3554 - acc: 0.862 - ETA: 1:09 - loss: 0.3549 - acc: 0.862 - ETA: 1:09 - loss: 0.3557 - acc: 0.862 - ETA: 1:08 - loss: 0.3555 - acc: 0.862 - ETA: 1:07 - loss: 0.3554 - acc: 0.863 - ETA: 1:06 - loss: 0.3555 - acc: 0.863 - ETA: 1:05 - loss: 0.3551 - acc: 0.863 - ETA: 1:04 - loss: 0.3547 - acc: 0.863 - ETA: 1:04 - loss: 0.3551 - acc: 0.863 - ETA: 1:03 - loss: 0.3553 - acc: 0.863 - ETA: 1:02 - loss: 0.3557 - acc: 0.862 - ETA: 1:01 - loss: 0.3555 - acc: 0.863 - ETA: 1:00 - loss: 0.3559 - acc: 0.862 - ETA: 1:00 - loss: 0.3565 - acc: 0.862 - ETA: 59s - loss: 0.3569 - acc: 0.862 - ETA: 58s - loss: 0.3566 - acc: 0.86 - ETA: 57s - loss: 0.3562 - acc: 0.86 - ETA: 56s - loss: 0.3558 - acc: 0.86 - ETA: 55s - loss: 0.3555 - acc: 0.86 - ETA: 55s - loss: 0.3553 - acc: 0.86 - ETA: 54s - loss: 0.3557 - acc: 0.86 - ETA: 53s - loss: 0.3558 - acc: 0.86 - ETA: 52s - loss: 0.3554 - acc: 0.86 - ETA: 51s - loss: 0.3553 - acc: 0.86 - ETA: 50s - loss: 0.3552 - acc: 0.86 - ETA: 50s - loss: 0.3554 - acc: 0.86 - ETA: 49s - loss: 0.3552 - acc: 0.86 - ETA: 48s - loss: 0.3548 - acc: 0.86 - ETA: 47s - loss: 0.3545 - acc: 0.86 - ETA: 46s - loss: 0.3542 - acc: 0.86 - ETA: 46s - loss: 0.3541 - acc: 0.86 - ETA: 45s - loss: 0.3538 - acc: 0.86 - ETA: 44s - loss: 0.3533 - acc: 0.86 - ETA: 43s - loss: 0.3534 - acc: 0.86 - ETA: 42s - loss: 0.3538 - acc: 0.86 - ETA: 41s - loss: 0.3540 - acc: 0.86 - ETA: 41s - loss: 0.3540 - acc: 0.86 - ETA: 40s - loss: 0.3540 - acc: 0.86 - ETA: 39s - loss: 0.3543 - acc: 0.86 - ETA: 38s - loss: 0.3539 - acc: 0.86 - ETA: 37s - loss: 0.3537 - acc: 0.86 - ETA: 37s - loss: 0.3538 - acc: 0.86 - ETA: 36s - loss: 0.3541 - acc: 0.86 - ETA: 35s - loss: 0.3541 - acc: 0.86 - ETA: 34s - loss: 0.3539 - acc: 0.86 - ETA: 33s - loss: 0.3533 - acc: 0.86 - ETA: 33s - loss: 0.3530 - acc: 0.86 - ETA: 32s - loss: 0.3530 - acc: 0.86 - ETA: 31s - loss: 0.3535 - acc: 0.86 - ETA: 30s - loss: 0.3530 - acc: 0.86 - ETA: 29s - loss: 0.3533 - acc: 0.86 - ETA: 28s - loss: 0.3534 - acc: 0.86 - ETA: 28s - loss: 0.3533 - acc: 0.86 - ETA: 27s - loss: 0.3535 - acc: 0.86 - ETA: 26s - loss: 0.3534 - acc: 0.86 - ETA: 25s - loss: 0.3532 - acc: 0.86 - ETA: 24s - loss: 0.3534 - acc: 0.86 - ETA: 24s - loss: 0.3530 - acc: 0.86 - ETA: 23s - loss: 0.3529 - acc: 0.86 - ETA: 22s - loss: 0.3532 - acc: 0.86 - ETA: 21s - loss: 0.3529 - acc: 0.86 - ETA: 20s - loss: 0.3535 - acc: 0.86 - ETA: 20s - loss: 0.3538 - acc: 0.86 - ETA: 19s - loss: 0.3542 - acc: 0.86 - ETA: 18s - loss: 0.3542 - acc: 0.86 - ETA: 17s - loss: 0.3542 - acc: 0.86 - ETA: 16s - loss: 0.3544 - acc: 0.86 - ETA: 15s - loss: 0.3545 - acc: 0.86 - ETA: 15s - loss: 0.3543 - acc: 0.86 - ETA: 14s - loss: 0.3542 - acc: 0.86 - ETA: 13s - loss: 0.3543 - acc: 0.86 - ETA: 12s - loss: 0.3547 - acc: 0.86 - ETA: 11s - loss: 0.3549 - acc: 0.86 - ETA: 11s - loss: 0.3553 - acc: 0.86 - ETA: 10s - loss: 0.3551 - acc: 0.86 - ETA: 9s - loss: 0.3556 - acc: 0.8624 - ETA: 8s - loss: 0.3556 - acc: 0.862 - ETA: 7s - loss: 0.3552 - acc: 0.862 - ETA: 7s - loss: 0.3550 - acc: 0.862 - ETA: 6s - loss: 0.3554 - acc: 0.862 - ETA: 5s - loss: 0.3551 - acc: 0.862 - ETA: 4s - loss: 0.3560 - acc: 0.861 - ETA: 3s - loss: 0.3554 - acc: 0.862 - ETA: 3s - loss: 0.3551 - acc: 0.862 - ETA: 2s - loss: 0.3548 - acc: 0.862 - ETA: 1s - loss: 0.3546 - acc: 0.862 - ETA: 0s - loss: 0.3546 - acc: 0.862 - 330s 26ms/step - loss: 0.3544 - acc: 0.8626 - val_loss: 1.5726 - val_acc: 0.4093\n",
      "Epoch 4/20\n"
     ]
    },
    {
     "name": "stdout",
     "output_type": "stream",
     "text": [
      " 6528/12793 [==============>...............] - ETA: 4:02 - loss: 0.1762 - acc: 0.937 - ETA: 4:08 - loss: 0.1899 - acc: 0.921 - ETA: 4:59 - loss: 0.1771 - acc: 0.927 - ETA: 5:07 - loss: 0.1684 - acc: 0.929 - ETA: 4:58 - loss: 0.1737 - acc: 0.925 - ETA: 4:52 - loss: 0.1803 - acc: 0.921 - ETA: 5:11 - loss: 0.1883 - acc: 0.928 - ETA: 5:08 - loss: 0.1851 - acc: 0.933 - ETA: 5:20 - loss: 0.1860 - acc: 0.934 - ETA: 5:29 - loss: 0.1753 - acc: 0.937 - ETA: 5:25 - loss: 0.1747 - acc: 0.940 - ETA: 5:16 - loss: 0.1787 - acc: 0.937 - ETA: 5:13 - loss: 0.1828 - acc: 0.935 - ETA: 5:18 - loss: 0.1851 - acc: 0.935 - ETA: 5:14 - loss: 0.1910 - acc: 0.933 - ETA: 5:09 - loss: 0.1878 - acc: 0.935 - ETA: 5:07 - loss: 0.1959 - acc: 0.930 - ETA: 5:19 - loss: 0.2077 - acc: 0.925 - ETA: 5:15 - loss: 0.2027 - acc: 0.927 - ETA: 5:16 - loss: 0.1980 - acc: 0.929 - ETA: 5:23 - loss: 0.2016 - acc: 0.928 - ETA: 5:18 - loss: 0.2018 - acc: 0.926 - ETA: 5:14 - loss: 0.1951 - acc: 0.929 - ETA: 5:17 - loss: 0.1936 - acc: 0.929 - ETA: 5:21 - loss: 0.1887 - acc: 0.932 - ETA: 5:16 - loss: 0.1878 - acc: 0.931 - ETA: 5:15 - loss: 0.1854 - acc: 0.931 - ETA: 5:17 - loss: 0.1877 - acc: 0.930 - ETA: 5:13 - loss: 0.1846 - acc: 0.932 - ETA: 5:09 - loss: 0.1820 - acc: 0.932 - ETA: 5:09 - loss: 0.1825 - acc: 0.933 - ETA: 5:10 - loss: 0.1821 - acc: 0.933 - ETA: 5:06 - loss: 0.1826 - acc: 0.932 - ETA: 5:02 - loss: 0.1831 - acc: 0.932 - ETA: 5:01 - loss: 0.1830 - acc: 0.931 - ETA: 5:04 - loss: 0.1827 - acc: 0.931 - ETA: 5:02 - loss: 0.1845 - acc: 0.930 - ETA: 5:01 - loss: 0.1875 - acc: 0.929 - ETA: 5:02 - loss: 0.1896 - acc: 0.928 - ETA: 5:02 - loss: 0.1956 - acc: 0.927 - ETA: 5:01 - loss: 0.1952 - acc: 0.926 - ETA: 5:02 - loss: 0.1933 - acc: 0.927 - ETA: 5:03 - loss: 0.1941 - acc: 0.926 - ETA: 5:01 - loss: 0.1902 - acc: 0.928 - ETA: 5:02 - loss: 0.1891 - acc: 0.929 - ETA: 5:03 - loss: 0.1896 - acc: 0.928 - ETA: 5:01 - loss: 0.1870 - acc: 0.929 - ETA: 5:01 - loss: 0.1852 - acc: 0.931 - ETA: 5:02 - loss: 0.1909 - acc: 0.929 - ETA: 4:59 - loss: 0.1889 - acc: 0.930 - ETA: 4:57 - loss: 0.1911 - acc: 0.928 - ETA: 4:56 - loss: 0.1907 - acc: 0.928 - ETA: 4:57 - loss: 0.1916 - acc: 0.928 - ETA: 4:55 - loss: 0.1941 - acc: 0.927 - ETA: 4:53 - loss: 0.1957 - acc: 0.927 - ETA: 4:53 - loss: 0.1958 - acc: 0.927 - ETA: 4:52 - loss: 0.1938 - acc: 0.928 - ETA: 4:50 - loss: 0.1948 - acc: 0.927 - ETA: 4:47 - loss: 0.1930 - acc: 0.928 - ETA: 4:48 - loss: 0.1931 - acc: 0.928 - ETA: 4:47 - loss: 0.1913 - acc: 0.929 - ETA: 4:46 - loss: 0.1909 - acc: 0.929 - ETA: 4:45 - loss: 0.1914 - acc: 0.929 - ETA: 4:43 - loss: 0.1924 - acc: 0.928 - ETA: 4:42 - loss: 0.1908 - acc: 0.929 - ETA: 4:42 - loss: 0.1913 - acc: 0.929 - ETA: 4:41 - loss: 0.1898 - acc: 0.930 - ETA: 4:39 - loss: 0.1914 - acc: 0.929 - ETA: 4:39 - loss: 0.1916 - acc: 0.929 - ETA: 4:38 - loss: 0.1914 - acc: 0.929 - ETA: 4:36 - loss: 0.1900 - acc: 0.930 - ETA: 4:34 - loss: 0.1911 - acc: 0.929 - ETA: 4:34 - loss: 0.1918 - acc: 0.928 - ETA: 4:34 - loss: 0.1936 - acc: 0.928 - ETA: 4:32 - loss: 0.1929 - acc: 0.929 - ETA: 4:30 - loss: 0.1933 - acc: 0.929 - ETA: 4:30 - loss: 0.1952 - acc: 0.928 - ETA: 4:29 - loss: 0.1934 - acc: 0.928 - ETA: 4:28 - loss: 0.1946 - acc: 0.928 - ETA: 4:27 - loss: 0.1928 - acc: 0.928 - ETA: 4:27 - loss: 0.1912 - acc: 0.929 - ETA: 4:25 - loss: 0.1909 - acc: 0.929 - ETA: 4:24 - loss: 0.1923 - acc: 0.928 - ETA: 4:23 - loss: 0.1922 - acc: 0.927 - ETA: 4:23 - loss: 0.1917 - acc: 0.927 - ETA: 4:21 - loss: 0.1913 - acc: 0.928 - ETA: 4:19 - loss: 0.1931 - acc: 0.928 - ETA: 4:19 - loss: 0.1931 - acc: 0.928 - ETA: 4:19 - loss: 0.1945 - acc: 0.928 - ETA: 4:17 - loss: 0.1944 - acc: 0.927 - ETA: 4:16 - loss: 0.1951 - acc: 0.928 - ETA: 4:15 - loss: 0.1961 - acc: 0.928 - ETA: 4:15 - loss: 0.1948 - acc: 0.928 - ETA: 4:13 - loss: 0.1939 - acc: 0.928 - ETA: 4:12 - loss: 0.1938 - acc: 0.928 - ETA: 4:12 - loss: 0.1937 - acc: 0.928 - ETA: 4:11 - loss: 0.1963 - acc: 0.927 - ETA: 4:09 - loss: 0.1957 - acc: 0.927 - ETA: 4:08 - loss: 0.1954 - acc: 0.928 - ETA: 4:08 - loss: 0.1955 - acc: 0.927 - ETA: 4:07 - loss: 0.1949 - acc: 0.927 - ETA: 4:05 - loss: 0.1935 - acc: 0.928 - ETA: 4:04 - loss: 0.1951 - acc: 0.928 - ETA: 4:04 - loss: 0.1942 - acc: 0.928 - ETA: 4:03 - loss: 0.1953 - acc: 0.927 - ETA: 4:02 - loss: 0.1959 - acc: 0.927 - ETA: 4:00 - loss: 0.1970 - acc: 0.927 - ETA: 4:00 - loss: 0.1961 - acc: 0.927 - ETA: 3:59 - loss: 0.1973 - acc: 0.926 - ETA: 3:58 - loss: 0.1978 - acc: 0.927 - ETA: 3:57 - loss: 0.1982 - acc: 0.926 - ETA: 3:57 - loss: 0.2003 - acc: 0.926 - ETA: 3:55 - loss: 0.1993 - acc: 0.926 - ETA: 3:54 - loss: 0.2001 - acc: 0.926 - ETA: 3:53 - loss: 0.1996 - acc: 0.926 - ETA: 3:53 - loss: 0.1989 - acc: 0.926 - ETA: 3:52 - loss: 0.1979 - acc: 0.927 - ETA: 3:51 - loss: 0.1967 - acc: 0.927 - ETA: 3:50 - loss: 0.1959 - acc: 0.928 - ETA: 3:50 - loss: 0.1959 - acc: 0.927 - ETA: 3:48 - loss: 0.1962 - acc: 0.928 - ETA: 3:47 - loss: 0.1955 - acc: 0.928 - ETA: 3:47 - loss: 0.1959 - acc: 0.928 - ETA: 3:46 - loss: 0.1952 - acc: 0.928 - ETA: 3:45 - loss: 0.1956 - acc: 0.929 - ETA: 3:44 - loss: 0.1948 - acc: 0.929 - ETA: 3:43 - loss: 0.1964 - acc: 0.929 - ETA: 3:42 - loss: 0.1956 - acc: 0.929 - ETA: 3:41 - loss: 0.1951 - acc: 0.929 - ETA: 3:40 - loss: 0.1958 - acc: 0.929 - ETA: 3:40 - loss: 0.1964 - acc: 0.929 - ETA: 3:39 - loss: 0.1967 - acc: 0.929 - ETA: 3:37 - loss: 0.1972 - acc: 0.928 - ETA: 3:36 - loss: 0.1964 - acc: 0.928 - ETA: 3:36 - loss: 0.1966 - acc: 0.928 - ETA: 3:35 - loss: 0.1957 - acc: 0.928 - ETA: 3:34 - loss: 0.1970 - acc: 0.928 - ETA: 3:33 - loss: 0.1969 - acc: 0.928 - ETA: 3:33 - loss: 0.1964 - acc: 0.928 - ETA: 3:32 - loss: 0.1977 - acc: 0.928 - ETA: 3:30 - loss: 0.1975 - acc: 0.928 - ETA: 3:30 - loss: 0.1980 - acc: 0.928 - ETA: 3:29 - loss: 0.1976 - acc: 0.928 - ETA: 3:28 - loss: 0.1970 - acc: 0.928 - ETA: 3:27 - loss: 0.1980 - acc: 0.928 - ETA: 3:27 - loss: 0.1982 - acc: 0.928 - ETA: 3:26 - loss: 0.1978 - acc: 0.928 - ETA: 3:25 - loss: 0.1982 - acc: 0.928 - ETA: 3:23 - loss: 0.1984 - acc: 0.928 - ETA: 3:23 - loss: 0.1980 - acc: 0.928 - ETA: 3:22 - loss: 0.1985 - acc: 0.928 - ETA: 3:21 - loss: 0.1978 - acc: 0.928 - ETA: 3:20 - loss: 0.1973 - acc: 0.928 - ETA: 3:20 - loss: 0.1981 - acc: 0.928 - ETA: 3:19 - loss: 0.1984 - acc: 0.928 - ETA: 3:18 - loss: 0.1982 - acc: 0.928 - ETA: 3:16 - loss: 0.1984 - acc: 0.928 - ETA: 3:16 - loss: 0.1986 - acc: 0.928 - ETA: 3:15 - loss: 0.1986 - acc: 0.928 - ETA: 3:14 - loss: 0.1981 - acc: 0.928 - ETA: 3:13 - loss: 0.1985 - acc: 0.927 - ETA: 3:13 - loss: 0.1986 - acc: 0.927 - ETA: 3:12 - loss: 0.1980 - acc: 0.928 - ETA: 3:11 - loss: 0.1977 - acc: 0.928 - ETA: 3:10 - loss: 0.1976 - acc: 0.928 - ETA: 3:09 - loss: 0.1970 - acc: 0.928 - ETA: 3:08 - loss: 0.1969 - acc: 0.928 - ETA: 3:07 - loss: 0.1968 - acc: 0.928 - ETA: 3:06 - loss: 0.1965 - acc: 0.928 - ETA: 3:06 - loss: 0.1964 - acc: 0.928 - ETA: 3:05 - loss: 0.1972 - acc: 0.928 - ETA: 3:04 - loss: 0.1968 - acc: 0.928 - ETA: 3:03 - loss: 0.1965 - acc: 0.928 - ETA: 3:03 - loss: 0.1968 - acc: 0.928 - ETA: 3:02 - loss: 0.1973 - acc: 0.928 - ETA: 3:01 - loss: 0.1981 - acc: 0.927 - ETA: 3:00 - loss: 0.1978 - acc: 0.928 - ETA: 2:59 - loss: 0.1973 - acc: 0.928 - ETA: 2:58 - loss: 0.1975 - acc: 0.928 - ETA: 2:57 - loss: 0.1978 - acc: 0.928 - ETA: 2:57 - loss: 0.1977 - acc: 0.928 - ETA: 2:56 - loss: 0.1976 - acc: 0.928 - ETA: 2:55 - loss: 0.1981 - acc: 0.927 - ETA: 2:54 - loss: 0.1987 - acc: 0.927 - ETA: 2:53 - loss: 0.1988 - acc: 0.927 - ETA: 2:53 - loss: 0.1999 - acc: 0.927 - ETA: 2:52 - loss: 0.2013 - acc: 0.926 - ETA: 2:51 - loss: 0.2019 - acc: 0.925 - ETA: 2:50 - loss: 0.2019 - acc: 0.925 - ETA: 2:49 - loss: 0.2015 - acc: 0.925 - ETA: 2:48 - loss: 0.2016 - acc: 0.925 - ETA: 2:47 - loss: 0.2010 - acc: 0.925 - ETA: 2:47 - loss: 0.2011 - acc: 0.926 - ETA: 2:46 - loss: 0.2009 - acc: 0.926 - ETA: 2:45 - loss: 0.2008 - acc: 0.925 - ETA: 2:44 - loss: 0.2011 - acc: 0.925 - ETA: 2:43 - loss: 0.2020 - acc: 0.925 - ETA: 2:42 - loss: 0.2020 - acc: 0.925 - ETA: 2:41 - loss: 0.2023 - acc: 0.925 - ETA: 2:41 - loss: 0.2026 - acc: 0.925 - ETA: 2:40 - loss: 0.2031 - acc: 0.925 - ETA: 2:39 - loss: 0.2029 - acc: 0.925 - ETA: 2:38 - loss: 0.2030 - acc: 0.925 - ETA: 2:38 - loss: 0.2029 - acc: 0.9256"
     ]
    },
    {
     "name": "stdout",
     "output_type": "stream",
     "text": [
      "12793/12793 [==============================] - ETA: 2:37 - loss: 0.2037 - acc: 0.925 - ETA: 2:36 - loss: 0.2030 - acc: 0.925 - ETA: 2:35 - loss: 0.2024 - acc: 0.925 - ETA: 2:34 - loss: 0.2028 - acc: 0.925 - ETA: 2:33 - loss: 0.2024 - acc: 0.925 - ETA: 2:32 - loss: 0.2024 - acc: 0.925 - ETA: 2:32 - loss: 0.2030 - acc: 0.925 - ETA: 2:31 - loss: 0.2031 - acc: 0.925 - ETA: 2:30 - loss: 0.2030 - acc: 0.925 - ETA: 2:29 - loss: 0.2027 - acc: 0.925 - ETA: 2:28 - loss: 0.2025 - acc: 0.925 - ETA: 2:28 - loss: 0.2025 - acc: 0.925 - ETA: 2:27 - loss: 0.2021 - acc: 0.926 - ETA: 2:26 - loss: 0.2019 - acc: 0.926 - ETA: 2:25 - loss: 0.2013 - acc: 0.926 - ETA: 2:24 - loss: 0.2015 - acc: 0.926 - ETA: 2:23 - loss: 0.2018 - acc: 0.925 - ETA: 2:22 - loss: 0.2018 - acc: 0.925 - ETA: 2:22 - loss: 0.2027 - acc: 0.925 - ETA: 2:21 - loss: 0.2031 - acc: 0.925 - ETA: 2:20 - loss: 0.2026 - acc: 0.925 - ETA: 2:19 - loss: 0.2030 - acc: 0.925 - ETA: 2:19 - loss: 0.2028 - acc: 0.925 - ETA: 2:18 - loss: 0.2026 - acc: 0.925 - ETA: 2:17 - loss: 0.2022 - acc: 0.925 - ETA: 2:16 - loss: 0.2016 - acc: 0.925 - ETA: 2:15 - loss: 0.2021 - acc: 0.925 - ETA: 2:15 - loss: 0.2015 - acc: 0.926 - ETA: 2:14 - loss: 0.2023 - acc: 0.925 - ETA: 2:13 - loss: 0.2030 - acc: 0.925 - ETA: 2:12 - loss: 0.2029 - acc: 0.925 - ETA: 2:11 - loss: 0.2023 - acc: 0.926 - ETA: 2:10 - loss: 0.2029 - acc: 0.925 - ETA: 2:09 - loss: 0.2027 - acc: 0.925 - ETA: 2:09 - loss: 0.2029 - acc: 0.925 - ETA: 2:08 - loss: 0.2031 - acc: 0.925 - ETA: 2:07 - loss: 0.2034 - acc: 0.925 - ETA: 2:06 - loss: 0.2037 - acc: 0.925 - ETA: 2:06 - loss: 0.2038 - acc: 0.924 - ETA: 2:05 - loss: 0.2039 - acc: 0.924 - ETA: 2:04 - loss: 0.2036 - acc: 0.925 - ETA: 2:03 - loss: 0.2040 - acc: 0.924 - ETA: 2:02 - loss: 0.2035 - acc: 0.925 - ETA: 2:01 - loss: 0.2042 - acc: 0.924 - ETA: 2:01 - loss: 0.2041 - acc: 0.924 - ETA: 2:00 - loss: 0.2037 - acc: 0.924 - ETA: 1:59 - loss: 0.2041 - acc: 0.924 - ETA: 1:58 - loss: 0.2036 - acc: 0.924 - ETA: 1:57 - loss: 0.2038 - acc: 0.924 - ETA: 1:57 - loss: 0.2038 - acc: 0.924 - ETA: 1:56 - loss: 0.2034 - acc: 0.924 - ETA: 1:55 - loss: 0.2039 - acc: 0.924 - ETA: 1:54 - loss: 0.2033 - acc: 0.924 - ETA: 1:53 - loss: 0.2034 - acc: 0.924 - ETA: 1:53 - loss: 0.2034 - acc: 0.924 - ETA: 1:52 - loss: 0.2030 - acc: 0.924 - ETA: 1:51 - loss: 0.2031 - acc: 0.924 - ETA: 1:50 - loss: 0.2029 - acc: 0.924 - ETA: 1:49 - loss: 0.2029 - acc: 0.924 - ETA: 1:48 - loss: 0.2029 - acc: 0.924 - ETA: 1:48 - loss: 0.2029 - acc: 0.924 - ETA: 1:47 - loss: 0.2030 - acc: 0.924 - ETA: 1:46 - loss: 0.2027 - acc: 0.924 - ETA: 1:45 - loss: 0.2022 - acc: 0.924 - ETA: 1:44 - loss: 0.2028 - acc: 0.924 - ETA: 1:44 - loss: 0.2029 - acc: 0.924 - ETA: 1:43 - loss: 0.2029 - acc: 0.924 - ETA: 1:42 - loss: 0.2026 - acc: 0.924 - ETA: 1:41 - loss: 0.2031 - acc: 0.924 - ETA: 1:40 - loss: 0.2035 - acc: 0.924 - ETA: 1:40 - loss: 0.2030 - acc: 0.924 - ETA: 1:39 - loss: 0.2044 - acc: 0.924 - ETA: 1:38 - loss: 0.2045 - acc: 0.924 - ETA: 1:37 - loss: 0.2048 - acc: 0.924 - ETA: 1:36 - loss: 0.2046 - acc: 0.924 - ETA: 1:35 - loss: 0.2048 - acc: 0.924 - ETA: 1:35 - loss: 0.2051 - acc: 0.923 - ETA: 1:34 - loss: 0.2051 - acc: 0.924 - ETA: 1:33 - loss: 0.2049 - acc: 0.924 - ETA: 1:32 - loss: 0.2052 - acc: 0.923 - ETA: 1:32 - loss: 0.2062 - acc: 0.923 - ETA: 1:31 - loss: 0.2073 - acc: 0.923 - ETA: 1:30 - loss: 0.2074 - acc: 0.922 - ETA: 1:29 - loss: 0.2070 - acc: 0.923 - ETA: 1:28 - loss: 0.2070 - acc: 0.923 - ETA: 1:28 - loss: 0.2071 - acc: 0.923 - ETA: 1:27 - loss: 0.2076 - acc: 0.922 - ETA: 1:26 - loss: 0.2073 - acc: 0.922 - ETA: 1:25 - loss: 0.2080 - acc: 0.922 - ETA: 1:24 - loss: 0.2078 - acc: 0.922 - ETA: 1:23 - loss: 0.2078 - acc: 0.922 - ETA: 1:23 - loss: 0.2077 - acc: 0.923 - ETA: 1:22 - loss: 0.2076 - acc: 0.923 - ETA: 1:21 - loss: 0.2074 - acc: 0.923 - ETA: 1:20 - loss: 0.2069 - acc: 0.923 - ETA: 1:19 - loss: 0.2078 - acc: 0.923 - ETA: 1:19 - loss: 0.2076 - acc: 0.923 - ETA: 1:18 - loss: 0.2072 - acc: 0.923 - ETA: 1:17 - loss: 0.2077 - acc: 0.923 - ETA: 1:16 - loss: 0.2082 - acc: 0.922 - ETA: 1:15 - loss: 0.2084 - acc: 0.922 - ETA: 1:15 - loss: 0.2080 - acc: 0.922 - ETA: 1:14 - loss: 0.2081 - acc: 0.922 - ETA: 1:13 - loss: 0.2077 - acc: 0.923 - ETA: 1:12 - loss: 0.2079 - acc: 0.922 - ETA: 1:11 - loss: 0.2083 - acc: 0.922 - ETA: 1:11 - loss: 0.2085 - acc: 0.922 - ETA: 1:10 - loss: 0.2087 - acc: 0.922 - ETA: 1:09 - loss: 0.2089 - acc: 0.922 - ETA: 1:08 - loss: 0.2088 - acc: 0.922 - ETA: 1:07 - loss: 0.2093 - acc: 0.922 - ETA: 1:07 - loss: 0.2095 - acc: 0.922 - ETA: 1:06 - loss: 0.2093 - acc: 0.922 - ETA: 1:05 - loss: 0.2097 - acc: 0.922 - ETA: 1:04 - loss: 0.2099 - acc: 0.921 - ETA: 1:03 - loss: 0.2106 - acc: 0.921 - ETA: 1:03 - loss: 0.2107 - acc: 0.921 - ETA: 1:02 - loss: 0.2103 - acc: 0.922 - ETA: 1:01 - loss: 0.2099 - acc: 0.922 - ETA: 1:00 - loss: 0.2095 - acc: 0.922 - ETA: 59s - loss: 0.2098 - acc: 0.922 - ETA: 59s - loss: 0.2099 - acc: 0.92 - ETA: 58s - loss: 0.2098 - acc: 0.92 - ETA: 57s - loss: 0.2096 - acc: 0.92 - ETA: 56s - loss: 0.2100 - acc: 0.92 - ETA: 55s - loss: 0.2099 - acc: 0.92 - ETA: 55s - loss: 0.2098 - acc: 0.92 - ETA: 54s - loss: 0.2099 - acc: 0.92 - ETA: 53s - loss: 0.2102 - acc: 0.92 - ETA: 52s - loss: 0.2103 - acc: 0.92 - ETA: 51s - loss: 0.2106 - acc: 0.92 - ETA: 51s - loss: 0.2102 - acc: 0.92 - ETA: 50s - loss: 0.2102 - acc: 0.92 - ETA: 49s - loss: 0.2102 - acc: 0.92 - ETA: 48s - loss: 0.2100 - acc: 0.92 - ETA: 47s - loss: 0.2101 - acc: 0.92 - ETA: 47s - loss: 0.2102 - acc: 0.92 - ETA: 46s - loss: 0.2109 - acc: 0.92 - ETA: 45s - loss: 0.2117 - acc: 0.92 - ETA: 44s - loss: 0.2114 - acc: 0.92 - ETA: 43s - loss: 0.2117 - acc: 0.92 - ETA: 43s - loss: 0.2120 - acc: 0.92 - ETA: 42s - loss: 0.2118 - acc: 0.92 - ETA: 41s - loss: 0.2117 - acc: 0.92 - ETA: 40s - loss: 0.2116 - acc: 0.92 - ETA: 39s - loss: 0.2116 - acc: 0.92 - ETA: 39s - loss: 0.2122 - acc: 0.92 - ETA: 38s - loss: 0.2130 - acc: 0.92 - ETA: 37s - loss: 0.2130 - acc: 0.92 - ETA: 36s - loss: 0.2130 - acc: 0.92 - ETA: 35s - loss: 0.2131 - acc: 0.92 - ETA: 35s - loss: 0.2134 - acc: 0.92 - ETA: 34s - loss: 0.2133 - acc: 0.92 - ETA: 33s - loss: 0.2134 - acc: 0.92 - ETA: 32s - loss: 0.2134 - acc: 0.92 - ETA: 31s - loss: 0.2136 - acc: 0.92 - ETA: 31s - loss: 0.2133 - acc: 0.92 - ETA: 30s - loss: 0.2137 - acc: 0.91 - ETA: 29s - loss: 0.2143 - acc: 0.91 - ETA: 28s - loss: 0.2140 - acc: 0.91 - ETA: 27s - loss: 0.2140 - acc: 0.91 - ETA: 27s - loss: 0.2144 - acc: 0.91 - ETA: 26s - loss: 0.2146 - acc: 0.91 - ETA: 25s - loss: 0.2145 - acc: 0.91 - ETA: 24s - loss: 0.2141 - acc: 0.91 - ETA: 23s - loss: 0.2140 - acc: 0.91 - ETA: 23s - loss: 0.2138 - acc: 0.91 - ETA: 22s - loss: 0.2134 - acc: 0.91 - ETA: 21s - loss: 0.2134 - acc: 0.91 - ETA: 20s - loss: 0.2137 - acc: 0.91 - ETA: 19s - loss: 0.2139 - acc: 0.91 - ETA: 19s - loss: 0.2143 - acc: 0.91 - ETA: 18s - loss: 0.2143 - acc: 0.91 - ETA: 17s - loss: 0.2146 - acc: 0.91 - ETA: 16s - loss: 0.2146 - acc: 0.91 - ETA: 15s - loss: 0.2150 - acc: 0.91 - ETA: 15s - loss: 0.2151 - acc: 0.91 - ETA: 14s - loss: 0.2148 - acc: 0.91 - ETA: 13s - loss: 0.2148 - acc: 0.91 - ETA: 12s - loss: 0.2144 - acc: 0.91 - ETA: 11s - loss: 0.2143 - acc: 0.91 - ETA: 11s - loss: 0.2142 - acc: 0.91 - ETA: 10s - loss: 0.2141 - acc: 0.91 - ETA: 9s - loss: 0.2142 - acc: 0.9195 - ETA: 8s - loss: 0.2148 - acc: 0.919 - ETA: 7s - loss: 0.2149 - acc: 0.918 - ETA: 7s - loss: 0.2150 - acc: 0.919 - ETA: 6s - loss: 0.2148 - acc: 0.919 - ETA: 5s - loss: 0.2150 - acc: 0.918 - ETA: 4s - loss: 0.2150 - acc: 0.918 - ETA: 3s - loss: 0.2154 - acc: 0.918 - ETA: 3s - loss: 0.2155 - acc: 0.918 - ETA: 2s - loss: 0.2153 - acc: 0.918 - ETA: 1s - loss: 0.2154 - acc: 0.918 - ETA: 0s - loss: 0.2160 - acc: 0.917 - 329s 26ms/step - loss: 0.2157 - acc: 0.9181 - val_loss: 2.0347 - val_acc: 0.3805\n",
      "Epoch 5/20\n"
     ]
    },
    {
     "name": "stdout",
     "output_type": "stream",
     "text": [
      " 6528/12793 [==============>...............] - ETA: 5:20 - loss: 0.1370 - acc: 0.937 - ETA: 4:56 - loss: 0.1117 - acc: 0.953 - ETA: 5:46 - loss: 0.1062 - acc: 0.947 - ETA: 5:46 - loss: 0.0936 - acc: 0.960 - ETA: 5:30 - loss: 0.1103 - acc: 0.956 - ETA: 5:21 - loss: 0.1213 - acc: 0.953 - ETA: 5:39 - loss: 0.1144 - acc: 0.955 - ETA: 5:32 - loss: 0.1123 - acc: 0.953 - ETA: 5:24 - loss: 0.1045 - acc: 0.958 - ETA: 5:30 - loss: 0.0977 - acc: 0.962 - ETA: 5:35 - loss: 0.0942 - acc: 0.965 - ETA: 5:27 - loss: 0.0904 - acc: 0.966 - ETA: 5:22 - loss: 0.0932 - acc: 0.963 - ETA: 5:28 - loss: 0.0965 - acc: 0.964 - ETA: 5:24 - loss: 0.1033 - acc: 0.962 - ETA: 5:18 - loss: 0.0988 - acc: 0.964 - ETA: 5:14 - loss: 0.0957 - acc: 0.966 - ETA: 5:19 - loss: 0.0942 - acc: 0.968 - ETA: 5:17 - loss: 0.0966 - acc: 0.967 - ETA: 5:13 - loss: 0.1052 - acc: 0.960 - ETA: 5:15 - loss: 0.1210 - acc: 0.959 - ETA: 5:17 - loss: 0.1176 - acc: 0.961 - ETA: 5:13 - loss: 0.1140 - acc: 0.963 - ETA: 5:09 - loss: 0.1113 - acc: 0.964 - ETA: 5:12 - loss: 0.1128 - acc: 0.963 - ETA: 5:12 - loss: 0.1145 - acc: 0.962 - ETA: 5:09 - loss: 0.1151 - acc: 0.963 - ETA: 5:06 - loss: 0.1200 - acc: 0.962 - ETA: 5:08 - loss: 0.1173 - acc: 0.962 - ETA: 5:06 - loss: 0.1209 - acc: 0.962 - ETA: 5:03 - loss: 0.1178 - acc: 0.963 - ETA: 5:03 - loss: 0.1197 - acc: 0.961 - ETA: 5:05 - loss: 0.1212 - acc: 0.961 - ETA: 5:03 - loss: 0.1203 - acc: 0.961 - ETA: 5:00 - loss: 0.1185 - acc: 0.961 - ETA: 5:02 - loss: 0.1189 - acc: 0.960 - ETA: 5:02 - loss: 0.1200 - acc: 0.960 - ETA: 4:59 - loss: 0.1190 - acc: 0.960 - ETA: 4:58 - loss: 0.1196 - acc: 0.960 - ETA: 5:00 - loss: 0.1217 - acc: 0.960 - ETA: 4:59 - loss: 0.1209 - acc: 0.960 - ETA: 4:57 - loss: 0.1222 - acc: 0.959 - ETA: 4:58 - loss: 0.1238 - acc: 0.958 - ETA: 4:58 - loss: 0.1272 - acc: 0.957 - ETA: 4:56 - loss: 0.1279 - acc: 0.957 - ETA: 4:55 - loss: 0.1253 - acc: 0.958 - ETA: 4:57 - loss: 0.1266 - acc: 0.958 - ETA: 4:55 - loss: 0.1254 - acc: 0.959 - ETA: 4:53 - loss: 0.1243 - acc: 0.959 - ETA: 4:54 - loss: 0.1236 - acc: 0.959 - ETA: 4:53 - loss: 0.1277 - acc: 0.958 - ETA: 4:51 - loss: 0.1269 - acc: 0.958 - ETA: 4:49 - loss: 0.1257 - acc: 0.958 - ETA: 4:50 - loss: 0.1252 - acc: 0.959 - ETA: 4:49 - loss: 0.1243 - acc: 0.959 - ETA: 4:46 - loss: 0.1242 - acc: 0.959 - ETA: 4:45 - loss: 0.1233 - acc: 0.959 - ETA: 4:46 - loss: 0.1289 - acc: 0.957 - ETA: 4:44 - loss: 0.1284 - acc: 0.957 - ETA: 4:42 - loss: 0.1286 - acc: 0.957 - ETA: 4:42 - loss: 0.1293 - acc: 0.955 - ETA: 4:42 - loss: 0.1309 - acc: 0.955 - ETA: 4:40 - loss: 0.1302 - acc: 0.954 - ETA: 4:39 - loss: 0.1312 - acc: 0.954 - ETA: 4:39 - loss: 0.1314 - acc: 0.953 - ETA: 4:38 - loss: 0.1320 - acc: 0.954 - ETA: 4:36 - loss: 0.1317 - acc: 0.953 - ETA: 4:35 - loss: 0.1304 - acc: 0.954 - ETA: 4:35 - loss: 0.1296 - acc: 0.954 - ETA: 4:34 - loss: 0.1287 - acc: 0.954 - ETA: 4:32 - loss: 0.1312 - acc: 0.954 - ETA: 4:30 - loss: 0.1305 - acc: 0.954 - ETA: 4:31 - loss: 0.1293 - acc: 0.954 - ETA: 4:30 - loss: 0.1292 - acc: 0.954 - ETA: 4:28 - loss: 0.1292 - acc: 0.954 - ETA: 4:27 - loss: 0.1297 - acc: 0.953 - ETA: 4:27 - loss: 0.1286 - acc: 0.954 - ETA: 4:25 - loss: 0.1281 - acc: 0.954 - ETA: 4:24 - loss: 0.1299 - acc: 0.953 - ETA: 4:23 - loss: 0.1303 - acc: 0.952 - ETA: 4:23 - loss: 0.1314 - acc: 0.951 - ETA: 4:21 - loss: 0.1312 - acc: 0.951 - ETA: 4:20 - loss: 0.1298 - acc: 0.951 - ETA: 4:19 - loss: 0.1298 - acc: 0.951 - ETA: 4:19 - loss: 0.1304 - acc: 0.951 - ETA: 4:18 - loss: 0.1296 - acc: 0.952 - ETA: 4:16 - loss: 0.1300 - acc: 0.951 - ETA: 4:16 - loss: 0.1293 - acc: 0.951 - ETA: 4:15 - loss: 0.1282 - acc: 0.952 - ETA: 4:14 - loss: 0.1270 - acc: 0.952 - ETA: 4:12 - loss: 0.1264 - acc: 0.953 - ETA: 4:12 - loss: 0.1259 - acc: 0.953 - ETA: 4:12 - loss: 0.1249 - acc: 0.953 - ETA: 4:10 - loss: 0.1250 - acc: 0.953 - ETA: 4:09 - loss: 0.1248 - acc: 0.953 - ETA: 4:09 - loss: 0.1239 - acc: 0.953 - ETA: 4:08 - loss: 0.1235 - acc: 0.953 - ETA: 4:06 - loss: 0.1239 - acc: 0.953 - ETA: 4:05 - loss: 0.1246 - acc: 0.953 - ETA: 4:05 - loss: 0.1238 - acc: 0.953 - ETA: 4:04 - loss: 0.1246 - acc: 0.952 - ETA: 4:03 - loss: 0.1246 - acc: 0.952 - ETA: 4:02 - loss: 0.1251 - acc: 0.952 - ETA: 4:02 - loss: 0.1250 - acc: 0.952 - ETA: 4:00 - loss: 0.1248 - acc: 0.952 - ETA: 3:59 - loss: 0.1246 - acc: 0.952 - ETA: 3:58 - loss: 0.1245 - acc: 0.952 - ETA: 3:58 - loss: 0.1236 - acc: 0.953 - ETA: 3:57 - loss: 0.1237 - acc: 0.952 - ETA: 3:55 - loss: 0.1231 - acc: 0.952 - ETA: 3:55 - loss: 0.1230 - acc: 0.952 - ETA: 3:55 - loss: 0.1229 - acc: 0.952 - ETA: 3:53 - loss: 0.1224 - acc: 0.953 - ETA: 3:52 - loss: 0.1219 - acc: 0.953 - ETA: 3:52 - loss: 0.1246 - acc: 0.953 - ETA: 3:51 - loss: 0.1241 - acc: 0.953 - ETA: 3:50 - loss: 0.1246 - acc: 0.953 - ETA: 3:49 - loss: 0.1256 - acc: 0.953 - ETA: 3:48 - loss: 0.1270 - acc: 0.952 - ETA: 3:48 - loss: 0.1267 - acc: 0.952 - ETA: 3:46 - loss: 0.1266 - acc: 0.952 - ETA: 3:45 - loss: 0.1266 - acc: 0.952 - ETA: 3:45 - loss: 0.1262 - acc: 0.953 - ETA: 3:44 - loss: 0.1257 - acc: 0.953 - ETA: 3:43 - loss: 0.1250 - acc: 0.953 - ETA: 3:42 - loss: 0.1244 - acc: 0.953 - ETA: 3:42 - loss: 0.1235 - acc: 0.954 - ETA: 3:41 - loss: 0.1242 - acc: 0.953 - ETA: 3:40 - loss: 0.1236 - acc: 0.954 - ETA: 3:40 - loss: 0.1243 - acc: 0.953 - ETA: 3:39 - loss: 0.1245 - acc: 0.953 - ETA: 3:37 - loss: 0.1251 - acc: 0.953 - ETA: 3:37 - loss: 0.1248 - acc: 0.953 - ETA: 3:36 - loss: 0.1243 - acc: 0.953 - ETA: 3:35 - loss: 0.1239 - acc: 0.953 - ETA: 3:34 - loss: 0.1237 - acc: 0.953 - ETA: 3:33 - loss: 0.1234 - acc: 0.953 - ETA: 3:33 - loss: 0.1235 - acc: 0.954 - ETA: 3:32 - loss: 0.1232 - acc: 0.954 - ETA: 3:30 - loss: 0.1231 - acc: 0.954 - ETA: 3:30 - loss: 0.1234 - acc: 0.953 - ETA: 3:29 - loss: 0.1235 - acc: 0.953 - ETA: 3:28 - loss: 0.1252 - acc: 0.953 - ETA: 3:27 - loss: 0.1250 - acc: 0.953 - ETA: 3:27 - loss: 0.1249 - acc: 0.953 - ETA: 3:26 - loss: 0.1254 - acc: 0.952 - ETA: 3:25 - loss: 0.1259 - acc: 0.952 - ETA: 3:24 - loss: 0.1268 - acc: 0.952 - ETA: 3:23 - loss: 0.1264 - acc: 0.953 - ETA: 3:23 - loss: 0.1264 - acc: 0.952 - ETA: 3:22 - loss: 0.1271 - acc: 0.952 - ETA: 3:21 - loss: 0.1271 - acc: 0.952 - ETA: 3:20 - loss: 0.1268 - acc: 0.952 - ETA: 3:19 - loss: 0.1262 - acc: 0.952 - ETA: 3:18 - loss: 0.1260 - acc: 0.953 - ETA: 3:17 - loss: 0.1260 - acc: 0.953 - ETA: 3:17 - loss: 0.1259 - acc: 0.953 - ETA: 3:16 - loss: 0.1265 - acc: 0.952 - ETA: 3:15 - loss: 0.1262 - acc: 0.952 - ETA: 3:14 - loss: 0.1258 - acc: 0.953 - ETA: 3:13 - loss: 0.1255 - acc: 0.953 - ETA: 3:12 - loss: 0.1250 - acc: 0.953 - ETA: 3:11 - loss: 0.1262 - acc: 0.952 - ETA: 3:11 - loss: 0.1276 - acc: 0.952 - ETA: 3:10 - loss: 0.1273 - acc: 0.952 - ETA: 3:09 - loss: 0.1271 - acc: 0.952 - ETA: 3:08 - loss: 0.1266 - acc: 0.953 - ETA: 3:08 - loss: 0.1264 - acc: 0.953 - ETA: 3:07 - loss: 0.1263 - acc: 0.953 - ETA: 3:06 - loss: 0.1269 - acc: 0.952 - ETA: 3:05 - loss: 0.1270 - acc: 0.952 - ETA: 3:04 - loss: 0.1275 - acc: 0.952 - ETA: 3:03 - loss: 0.1272 - acc: 0.952 - ETA: 3:02 - loss: 0.1268 - acc: 0.952 - ETA: 3:01 - loss: 0.1268 - acc: 0.952 - ETA: 3:01 - loss: 0.1283 - acc: 0.952 - ETA: 3:00 - loss: 0.1280 - acc: 0.952 - ETA: 2:59 - loss: 0.1282 - acc: 0.952 - ETA: 2:58 - loss: 0.1286 - acc: 0.952 - ETA: 2:58 - loss: 0.1283 - acc: 0.952 - ETA: 2:57 - loss: 0.1284 - acc: 0.952 - ETA: 2:56 - loss: 0.1293 - acc: 0.951 - ETA: 2:55 - loss: 0.1290 - acc: 0.951 - ETA: 2:54 - loss: 0.1286 - acc: 0.951 - ETA: 2:53 - loss: 0.1282 - acc: 0.952 - ETA: 2:52 - loss: 0.1280 - acc: 0.952 - ETA: 2:52 - loss: 0.1277 - acc: 0.952 - ETA: 2:51 - loss: 0.1273 - acc: 0.952 - ETA: 2:50 - loss: 0.1277 - acc: 0.952 - ETA: 2:49 - loss: 0.1276 - acc: 0.952 - ETA: 2:49 - loss: 0.1280 - acc: 0.952 - ETA: 2:48 - loss: 0.1278 - acc: 0.952 - ETA: 2:47 - loss: 0.1281 - acc: 0.952 - ETA: 2:46 - loss: 0.1290 - acc: 0.951 - ETA: 2:45 - loss: 0.1294 - acc: 0.951 - ETA: 2:44 - loss: 0.1295 - acc: 0.951 - ETA: 2:43 - loss: 0.1296 - acc: 0.951 - ETA: 2:43 - loss: 0.1292 - acc: 0.951 - ETA: 2:42 - loss: 0.1291 - acc: 0.951 - ETA: 2:41 - loss: 0.1297 - acc: 0.951 - ETA: 2:40 - loss: 0.1293 - acc: 0.951 - ETA: 2:39 - loss: 0.1298 - acc: 0.951 - ETA: 2:39 - loss: 0.1294 - acc: 0.951 - ETA: 2:38 - loss: 0.1290 - acc: 0.9517"
     ]
    },
    {
     "name": "stdout",
     "output_type": "stream",
     "text": [
      "12793/12793 [==============================] - ETA: 2:37 - loss: 0.1285 - acc: 0.952 - ETA: 2:36 - loss: 0.1284 - acc: 0.952 - ETA: 2:36 - loss: 0.1290 - acc: 0.952 - ETA: 2:35 - loss: 0.1291 - acc: 0.952 - ETA: 2:34 - loss: 0.1297 - acc: 0.951 - ETA: 2:33 - loss: 0.1296 - acc: 0.951 - ETA: 2:32 - loss: 0.1294 - acc: 0.951 - ETA: 2:31 - loss: 0.1298 - acc: 0.951 - ETA: 2:30 - loss: 0.1297 - acc: 0.951 - ETA: 2:30 - loss: 0.1295 - acc: 0.951 - ETA: 2:29 - loss: 0.1293 - acc: 0.951 - ETA: 2:28 - loss: 0.1301 - acc: 0.951 - ETA: 2:27 - loss: 0.1297 - acc: 0.951 - ETA: 2:27 - loss: 0.1296 - acc: 0.951 - ETA: 2:26 - loss: 0.1294 - acc: 0.951 - ETA: 2:25 - loss: 0.1293 - acc: 0.951 - ETA: 2:24 - loss: 0.1294 - acc: 0.951 - ETA: 2:23 - loss: 0.1295 - acc: 0.951 - ETA: 2:22 - loss: 0.1290 - acc: 0.952 - ETA: 2:21 - loss: 0.1292 - acc: 0.952 - ETA: 2:21 - loss: 0.1289 - acc: 0.952 - ETA: 2:20 - loss: 0.1286 - acc: 0.952 - ETA: 2:19 - loss: 0.1285 - acc: 0.952 - ETA: 2:18 - loss: 0.1285 - acc: 0.952 - ETA: 2:18 - loss: 0.1284 - acc: 0.952 - ETA: 2:17 - loss: 0.1280 - acc: 0.952 - ETA: 2:16 - loss: 0.1280 - acc: 0.952 - ETA: 2:15 - loss: 0.1279 - acc: 0.952 - ETA: 2:14 - loss: 0.1277 - acc: 0.952 - ETA: 2:13 - loss: 0.1282 - acc: 0.952 - ETA: 2:12 - loss: 0.1279 - acc: 0.952 - ETA: 2:12 - loss: 0.1274 - acc: 0.953 - ETA: 2:11 - loss: 0.1270 - acc: 0.953 - ETA: 2:10 - loss: 0.1268 - acc: 0.953 - ETA: 2:09 - loss: 0.1269 - acc: 0.953 - ETA: 2:09 - loss: 0.1265 - acc: 0.953 - ETA: 2:08 - loss: 0.1267 - acc: 0.953 - ETA: 2:07 - loss: 0.1264 - acc: 0.953 - ETA: 2:06 - loss: 0.1267 - acc: 0.953 - ETA: 2:05 - loss: 0.1264 - acc: 0.953 - ETA: 2:05 - loss: 0.1263 - acc: 0.953 - ETA: 2:04 - loss: 0.1260 - acc: 0.953 - ETA: 2:03 - loss: 0.1257 - acc: 0.953 - ETA: 2:02 - loss: 0.1254 - acc: 0.954 - ETA: 2:01 - loss: 0.1251 - acc: 0.954 - ETA: 2:00 - loss: 0.1259 - acc: 0.954 - ETA: 2:00 - loss: 0.1256 - acc: 0.954 - ETA: 1:59 - loss: 0.1253 - acc: 0.954 - ETA: 1:58 - loss: 0.1259 - acc: 0.954 - ETA: 1:57 - loss: 0.1256 - acc: 0.954 - ETA: 1:56 - loss: 0.1258 - acc: 0.954 - ETA: 1:56 - loss: 0.1257 - acc: 0.954 - ETA: 1:55 - loss: 0.1256 - acc: 0.954 - ETA: 1:54 - loss: 0.1259 - acc: 0.954 - ETA: 1:53 - loss: 0.1262 - acc: 0.954 - ETA: 1:52 - loss: 0.1271 - acc: 0.953 - ETA: 1:51 - loss: 0.1270 - acc: 0.953 - ETA: 1:51 - loss: 0.1270 - acc: 0.953 - ETA: 1:50 - loss: 0.1279 - acc: 0.953 - ETA: 1:49 - loss: 0.1277 - acc: 0.953 - ETA: 1:48 - loss: 0.1276 - acc: 0.953 - ETA: 1:47 - loss: 0.1275 - acc: 0.953 - ETA: 1:47 - loss: 0.1283 - acc: 0.953 - ETA: 1:46 - loss: 0.1283 - acc: 0.953 - ETA: 1:45 - loss: 0.1281 - acc: 0.953 - ETA: 1:44 - loss: 0.1281 - acc: 0.953 - ETA: 1:43 - loss: 0.1287 - acc: 0.953 - ETA: 1:43 - loss: 0.1290 - acc: 0.952 - ETA: 1:42 - loss: 0.1287 - acc: 0.953 - ETA: 1:41 - loss: 0.1291 - acc: 0.952 - ETA: 1:40 - loss: 0.1296 - acc: 0.952 - ETA: 1:39 - loss: 0.1298 - acc: 0.952 - ETA: 1:38 - loss: 0.1297 - acc: 0.952 - ETA: 1:38 - loss: 0.1296 - acc: 0.952 - ETA: 1:37 - loss: 0.1294 - acc: 0.952 - ETA: 1:36 - loss: 0.1293 - acc: 0.952 - ETA: 1:35 - loss: 0.1292 - acc: 0.953 - ETA: 1:35 - loss: 0.1295 - acc: 0.952 - ETA: 1:34 - loss: 0.1303 - acc: 0.952 - ETA: 1:33 - loss: 0.1300 - acc: 0.952 - ETA: 1:32 - loss: 0.1297 - acc: 0.952 - ETA: 1:31 - loss: 0.1296 - acc: 0.952 - ETA: 1:31 - loss: 0.1295 - acc: 0.952 - ETA: 1:30 - loss: 0.1296 - acc: 0.952 - ETA: 1:29 - loss: 0.1295 - acc: 0.952 - ETA: 1:28 - loss: 0.1297 - acc: 0.952 - ETA: 1:27 - loss: 0.1298 - acc: 0.952 - ETA: 1:27 - loss: 0.1297 - acc: 0.952 - ETA: 1:26 - loss: 0.1300 - acc: 0.952 - ETA: 1:25 - loss: 0.1298 - acc: 0.952 - ETA: 1:24 - loss: 0.1303 - acc: 0.952 - ETA: 1:23 - loss: 0.1301 - acc: 0.952 - ETA: 1:23 - loss: 0.1302 - acc: 0.952 - ETA: 1:22 - loss: 0.1306 - acc: 0.952 - ETA: 1:21 - loss: 0.1313 - acc: 0.952 - ETA: 1:20 - loss: 0.1312 - acc: 0.952 - ETA: 1:19 - loss: 0.1314 - acc: 0.952 - ETA: 1:19 - loss: 0.1314 - acc: 0.952 - ETA: 1:18 - loss: 0.1315 - acc: 0.951 - ETA: 1:17 - loss: 0.1313 - acc: 0.952 - ETA: 1:16 - loss: 0.1313 - acc: 0.952 - ETA: 1:15 - loss: 0.1318 - acc: 0.952 - ETA: 1:15 - loss: 0.1321 - acc: 0.952 - ETA: 1:14 - loss: 0.1320 - acc: 0.952 - ETA: 1:13 - loss: 0.1319 - acc: 0.952 - ETA: 1:12 - loss: 0.1321 - acc: 0.952 - ETA: 1:11 - loss: 0.1325 - acc: 0.952 - ETA: 1:11 - loss: 0.1327 - acc: 0.951 - ETA: 1:10 - loss: 0.1329 - acc: 0.951 - ETA: 1:09 - loss: 0.1328 - acc: 0.951 - ETA: 1:08 - loss: 0.1327 - acc: 0.952 - ETA: 1:07 - loss: 0.1334 - acc: 0.951 - ETA: 1:06 - loss: 0.1332 - acc: 0.951 - ETA: 1:06 - loss: 0.1333 - acc: 0.951 - ETA: 1:05 - loss: 0.1332 - acc: 0.952 - ETA: 1:04 - loss: 0.1333 - acc: 0.952 - ETA: 1:03 - loss: 0.1333 - acc: 0.952 - ETA: 1:02 - loss: 0.1332 - acc: 0.952 - ETA: 1:02 - loss: 0.1331 - acc: 0.952 - ETA: 1:01 - loss: 0.1333 - acc: 0.951 - ETA: 1:00 - loss: 0.1331 - acc: 0.952 - ETA: 59s - loss: 0.1338 - acc: 0.951 - ETA: 58s - loss: 0.1340 - acc: 0.95 - ETA: 58s - loss: 0.1340 - acc: 0.95 - ETA: 57s - loss: 0.1347 - acc: 0.95 - ETA: 56s - loss: 0.1352 - acc: 0.95 - ETA: 55s - loss: 0.1357 - acc: 0.95 - ETA: 54s - loss: 0.1356 - acc: 0.95 - ETA: 53s - loss: 0.1361 - acc: 0.95 - ETA: 53s - loss: 0.1361 - acc: 0.95 - ETA: 52s - loss: 0.1359 - acc: 0.95 - ETA: 51s - loss: 0.1357 - acc: 0.95 - ETA: 50s - loss: 0.1360 - acc: 0.95 - ETA: 49s - loss: 0.1369 - acc: 0.95 - ETA: 49s - loss: 0.1369 - acc: 0.95 - ETA: 48s - loss: 0.1371 - acc: 0.95 - ETA: 47s - loss: 0.1372 - acc: 0.95 - ETA: 46s - loss: 0.1371 - acc: 0.95 - ETA: 45s - loss: 0.1369 - acc: 0.95 - ETA: 45s - loss: 0.1371 - acc: 0.95 - ETA: 44s - loss: 0.1371 - acc: 0.95 - ETA: 43s - loss: 0.1373 - acc: 0.95 - ETA: 42s - loss: 0.1376 - acc: 0.95 - ETA: 41s - loss: 0.1375 - acc: 0.95 - ETA: 40s - loss: 0.1372 - acc: 0.95 - ETA: 40s - loss: 0.1373 - acc: 0.95 - ETA: 39s - loss: 0.1371 - acc: 0.95 - ETA: 38s - loss: 0.1370 - acc: 0.95 - ETA: 37s - loss: 0.1372 - acc: 0.94 - ETA: 36s - loss: 0.1371 - acc: 0.94 - ETA: 36s - loss: 0.1374 - acc: 0.94 - ETA: 35s - loss: 0.1377 - acc: 0.94 - ETA: 34s - loss: 0.1381 - acc: 0.94 - ETA: 33s - loss: 0.1384 - acc: 0.94 - ETA: 32s - loss: 0.1383 - acc: 0.94 - ETA: 32s - loss: 0.1382 - acc: 0.94 - ETA: 31s - loss: 0.1379 - acc: 0.94 - ETA: 30s - loss: 0.1381 - acc: 0.94 - ETA: 29s - loss: 0.1381 - acc: 0.94 - ETA: 28s - loss: 0.1383 - acc: 0.94 - ETA: 28s - loss: 0.1382 - acc: 0.94 - ETA: 27s - loss: 0.1384 - acc: 0.94 - ETA: 26s - loss: 0.1383 - acc: 0.94 - ETA: 25s - loss: 0.1381 - acc: 0.94 - ETA: 24s - loss: 0.1381 - acc: 0.94 - ETA: 24s - loss: 0.1387 - acc: 0.94 - ETA: 23s - loss: 0.1387 - acc: 0.94 - ETA: 22s - loss: 0.1391 - acc: 0.94 - ETA: 21s - loss: 0.1395 - acc: 0.94 - ETA: 20s - loss: 0.1396 - acc: 0.94 - ETA: 19s - loss: 0.1394 - acc: 0.94 - ETA: 19s - loss: 0.1396 - acc: 0.94 - ETA: 18s - loss: 0.1394 - acc: 0.94 - ETA: 17s - loss: 0.1393 - acc: 0.94 - ETA: 16s - loss: 0.1395 - acc: 0.94 - ETA: 15s - loss: 0.1399 - acc: 0.94 - ETA: 15s - loss: 0.1397 - acc: 0.94 - ETA: 14s - loss: 0.1403 - acc: 0.94 - ETA: 13s - loss: 0.1403 - acc: 0.94 - ETA: 12s - loss: 0.1405 - acc: 0.94 - ETA: 11s - loss: 0.1403 - acc: 0.94 - ETA: 11s - loss: 0.1406 - acc: 0.94 - ETA: 10s - loss: 0.1403 - acc: 0.94 - ETA: 9s - loss: 0.1400 - acc: 0.9490 - ETA: 8s - loss: 0.1398 - acc: 0.949 - ETA: 7s - loss: 0.1396 - acc: 0.949 - ETA: 7s - loss: 0.1398 - acc: 0.949 - ETA: 6s - loss: 0.1397 - acc: 0.949 - ETA: 5s - loss: 0.1397 - acc: 0.949 - ETA: 4s - loss: 0.1397 - acc: 0.949 - ETA: 3s - loss: 0.1394 - acc: 0.949 - ETA: 3s - loss: 0.1394 - acc: 0.949 - ETA: 2s - loss: 0.1392 - acc: 0.949 - ETA: 1s - loss: 0.1391 - acc: 0.949 - ETA: 0s - loss: 0.1390 - acc: 0.949 - 327s 26ms/step - loss: 0.1389 - acc: 0.9492 - val_loss: 2.6032 - val_acc: 0.3931\n",
      "Epoch 6/20\n"
     ]
    },
    {
     "name": "stdout",
     "output_type": "stream",
     "text": [
      " 6528/12793 [==============>...............] - ETA: 4:09 - loss: 0.0840 - acc: 0.968 - ETA: 4:22 - loss: 0.0578 - acc: 0.984 - ETA: 5:13 - loss: 0.0882 - acc: 0.979 - ETA: 5:39 - loss: 0.0698 - acc: 0.984 - ETA: 5:45 - loss: 0.1110 - acc: 0.968 - ETA: 6:15 - loss: 0.1017 - acc: 0.974 - ETA: 6:15 - loss: 0.1071 - acc: 0.964 - ETA: 6:18 - loss: 0.1022 - acc: 0.968 - ETA: 6:33 - loss: 0.0968 - acc: 0.968 - ETA: 6:28 - loss: 0.0897 - acc: 0.971 - ETA: 6:23 - loss: 0.0995 - acc: 0.971 - ETA: 6:19 - loss: 0.1034 - acc: 0.968 - ETA: 6:32 - loss: 0.0974 - acc: 0.971 - ETA: 6:27 - loss: 0.0998 - acc: 0.971 - ETA: 6:23 - loss: 0.1012 - acc: 0.968 - ETA: 6:32 - loss: 0.1053 - acc: 0.966 - ETA: 6:28 - loss: 0.1010 - acc: 0.968 - ETA: 6:28 - loss: 0.0982 - acc: 0.968 - ETA: 6:33 - loss: 0.0984 - acc: 0.968 - ETA: 6:29 - loss: 0.0944 - acc: 0.970 - ETA: 6:26 - loss: 0.0946 - acc: 0.970 - ETA: 6:23 - loss: 0.0967 - acc: 0.968 - ETA: 6:28 - loss: 0.1017 - acc: 0.967 - ETA: 6:26 - loss: 0.0977 - acc: 0.968 - ETA: 6:25 - loss: 0.0945 - acc: 0.970 - ETA: 6:29 - loss: 0.0918 - acc: 0.971 - ETA: 6:26 - loss: 0.0889 - acc: 0.972 - ETA: 6:27 - loss: 0.0871 - acc: 0.972 - ETA: 6:29 - loss: 0.0854 - acc: 0.972 - ETA: 6:25 - loss: 0.0847 - acc: 0.971 - ETA: 6:27 - loss: 0.0847 - acc: 0.971 - ETA: 6:28 - loss: 0.0831 - acc: 0.972 - ETA: 6:27 - loss: 0.0819 - acc: 0.973 - ETA: 6:30 - loss: 0.0805 - acc: 0.974 - ETA: 6:27 - loss: 0.0802 - acc: 0.974 - ETA: 6:27 - loss: 0.0785 - acc: 0.974 - ETA: 6:27 - loss: 0.0818 - acc: 0.973 - ETA: 6:25 - loss: 0.0833 - acc: 0.972 - ETA: 6:27 - loss: 0.0818 - acc: 0.973 - ETA: 6:25 - loss: 0.0823 - acc: 0.973 - ETA: 6:24 - loss: 0.0814 - acc: 0.973 - ETA: 6:25 - loss: 0.0838 - acc: 0.972 - ETA: 6:23 - loss: 0.0824 - acc: 0.973 - ETA: 6:22 - loss: 0.0845 - acc: 0.972 - ETA: 6:23 - loss: 0.0901 - acc: 0.969 - ETA: 6:20 - loss: 0.0926 - acc: 0.968 - ETA: 6:18 - loss: 0.0913 - acc: 0.968 - ETA: 6:16 - loss: 0.0905 - acc: 0.968 - ETA: 6:17 - loss: 0.0907 - acc: 0.968 - ETA: 6:15 - loss: 0.0953 - acc: 0.966 - ETA: 6:13 - loss: 0.0970 - acc: 0.966 - ETA: 6:14 - loss: 0.0978 - acc: 0.965 - ETA: 6:11 - loss: 0.0962 - acc: 0.966 - ETA: 6:11 - loss: 0.0966 - acc: 0.965 - ETA: 6:11 - loss: 0.0961 - acc: 0.965 - ETA: 6:09 - loss: 0.0956 - acc: 0.966 - ETA: 6:09 - loss: 0.0994 - acc: 0.964 - ETA: 6:08 - loss: 0.0996 - acc: 0.964 - ETA: 6:06 - loss: 0.0994 - acc: 0.965 - ETA: 6:07 - loss: 0.0990 - acc: 0.965 - ETA: 6:05 - loss: 0.0981 - acc: 0.966 - ETA: 6:03 - loss: 0.0979 - acc: 0.966 - ETA: 6:04 - loss: 0.0981 - acc: 0.965 - ETA: 6:02 - loss: 0.0981 - acc: 0.965 - ETA: 6:00 - loss: 0.0988 - acc: 0.964 - ETA: 5:58 - loss: 0.0985 - acc: 0.965 - ETA: 5:58 - loss: 0.0982 - acc: 0.965 - ETA: 5:57 - loss: 0.0972 - acc: 0.965 - ETA: 5:55 - loss: 0.0974 - acc: 0.965 - ETA: 5:55 - loss: 0.0983 - acc: 0.965 - ETA: 5:53 - loss: 0.0974 - acc: 0.965 - ETA: 5:51 - loss: 0.0986 - acc: 0.965 - ETA: 5:52 - loss: 0.0977 - acc: 0.965 - ETA: 5:50 - loss: 0.0980 - acc: 0.964 - ETA: 5:49 - loss: 0.0975 - acc: 0.965 - ETA: 5:49 - loss: 0.0969 - acc: 0.965 - ETA: 5:47 - loss: 0.0962 - acc: 0.965 - ETA: 5:45 - loss: 0.0972 - acc: 0.965 - ETA: 5:43 - loss: 0.0966 - acc: 0.965 - ETA: 5:43 - loss: 0.0963 - acc: 0.965 - ETA: 5:42 - loss: 0.0955 - acc: 0.966 - ETA: 5:40 - loss: 0.0954 - acc: 0.965 - ETA: 5:40 - loss: 0.0999 - acc: 0.965 - ETA: 5:38 - loss: 0.0988 - acc: 0.966 - ETA: 5:37 - loss: 0.1004 - acc: 0.965 - ETA: 5:37 - loss: 0.0995 - acc: 0.965 - ETA: 5:35 - loss: 0.1001 - acc: 0.965 - ETA: 5:34 - loss: 0.1001 - acc: 0.965 - ETA: 5:34 - loss: 0.0991 - acc: 0.965 - ETA: 5:32 - loss: 0.0981 - acc: 0.966 - ETA: 5:32 - loss: 0.0973 - acc: 0.966 - ETA: 5:31 - loss: 0.0966 - acc: 0.967 - ETA: 5:29 - loss: 0.0965 - acc: 0.966 - ETA: 5:29 - loss: 0.0967 - acc: 0.966 - ETA: 5:28 - loss: 0.0968 - acc: 0.966 - ETA: 5:27 - loss: 0.0967 - acc: 0.966 - ETA: 5:26 - loss: 0.0964 - acc: 0.966 - ETA: 5:25 - loss: 0.0956 - acc: 0.966 - ETA: 5:23 - loss: 0.0950 - acc: 0.967 - ETA: 5:21 - loss: 0.0951 - acc: 0.967 - ETA: 5:22 - loss: 0.0955 - acc: 0.967 - ETA: 5:20 - loss: 0.0951 - acc: 0.967 - ETA: 5:18 - loss: 0.0947 - acc: 0.967 - ETA: 5:18 - loss: 0.0949 - acc: 0.966 - ETA: 5:16 - loss: 0.0955 - acc: 0.966 - ETA: 5:15 - loss: 0.0966 - acc: 0.965 - ETA: 5:15 - loss: 0.0971 - acc: 0.965 - ETA: 5:14 - loss: 0.0964 - acc: 0.966 - ETA: 5:12 - loss: 0.0961 - acc: 0.966 - ETA: 5:11 - loss: 0.0957 - acc: 0.966 - ETA: 5:11 - loss: 0.0957 - acc: 0.966 - ETA: 5:09 - loss: 0.0955 - acc: 0.966 - ETA: 5:08 - loss: 0.0961 - acc: 0.966 - ETA: 5:07 - loss: 0.0958 - acc: 0.966 - ETA: 5:06 - loss: 0.0953 - acc: 0.966 - ETA: 5:05 - loss: 0.0953 - acc: 0.966 - ETA: 5:04 - loss: 0.0952 - acc: 0.966 - ETA: 5:03 - loss: 0.0951 - acc: 0.966 - ETA: 5:02 - loss: 0.0947 - acc: 0.966 - ETA: 5:01 - loss: 0.0944 - acc: 0.966 - ETA: 4:59 - loss: 0.0938 - acc: 0.966 - ETA: 4:59 - loss: 0.0932 - acc: 0.967 - ETA: 4:58 - loss: 0.0927 - acc: 0.967 - ETA: 4:56 - loss: 0.0922 - acc: 0.967 - ETA: 4:56 - loss: 0.0919 - acc: 0.967 - ETA: 4:54 - loss: 0.0913 - acc: 0.967 - ETA: 4:53 - loss: 0.0914 - acc: 0.967 - ETA: 4:53 - loss: 0.0914 - acc: 0.967 - ETA: 4:51 - loss: 0.0913 - acc: 0.967 - ETA: 4:50 - loss: 0.0916 - acc: 0.967 - ETA: 4:50 - loss: 0.0910 - acc: 0.967 - ETA: 4:48 - loss: 0.0913 - acc: 0.967 - ETA: 4:48 - loss: 0.0907 - acc: 0.967 - ETA: 4:46 - loss: 0.0902 - acc: 0.967 - ETA: 4:45 - loss: 0.0908 - acc: 0.967 - ETA: 4:45 - loss: 0.0902 - acc: 0.968 - ETA: 4:43 - loss: 0.0899 - acc: 0.968 - ETA: 4:42 - loss: 0.0907 - acc: 0.968 - ETA: 4:41 - loss: 0.0902 - acc: 0.968 - ETA: 4:40 - loss: 0.0898 - acc: 0.968 - ETA: 4:39 - loss: 0.0902 - acc: 0.968 - ETA: 4:38 - loss: 0.0912 - acc: 0.968 - ETA: 4:37 - loss: 0.0907 - acc: 0.968 - ETA: 4:36 - loss: 0.0907 - acc: 0.968 - ETA: 4:35 - loss: 0.0911 - acc: 0.968 - ETA: 4:34 - loss: 0.0908 - acc: 0.968 - ETA: 4:33 - loss: 0.0907 - acc: 0.968 - ETA: 4:32 - loss: 0.0901 - acc: 0.968 - ETA: 4:31 - loss: 0.0903 - acc: 0.968 - ETA: 4:30 - loss: 0.0924 - acc: 0.967 - ETA: 4:29 - loss: 0.0921 - acc: 0.968 - ETA: 4:27 - loss: 0.0922 - acc: 0.968 - ETA: 4:26 - loss: 0.0934 - acc: 0.967 - ETA: 4:26 - loss: 0.0928 - acc: 0.967 - ETA: 4:24 - loss: 0.0930 - acc: 0.967 - ETA: 4:23 - loss: 0.0925 - acc: 0.967 - ETA: 4:22 - loss: 0.0920 - acc: 0.968 - ETA: 4:21 - loss: 0.0920 - acc: 0.968 - ETA: 4:20 - loss: 0.0918 - acc: 0.968 - ETA: 4:18 - loss: 0.0914 - acc: 0.968 - ETA: 4:18 - loss: 0.0911 - acc: 0.968 - ETA: 4:16 - loss: 0.0917 - acc: 0.968 - ETA: 4:15 - loss: 0.0913 - acc: 0.968 - ETA: 4:15 - loss: 0.0910 - acc: 0.968 - ETA: 4:13 - loss: 0.0909 - acc: 0.968 - ETA: 4:12 - loss: 0.0907 - acc: 0.968 - ETA: 4:11 - loss: 0.0903 - acc: 0.968 - ETA: 4:10 - loss: 0.0900 - acc: 0.968 - ETA: 4:09 - loss: 0.0898 - acc: 0.969 - ETA: 4:08 - loss: 0.0896 - acc: 0.969 - ETA: 4:07 - loss: 0.0895 - acc: 0.969 - ETA: 4:06 - loss: 0.0893 - acc: 0.969 - ETA: 4:05 - loss: 0.0891 - acc: 0.969 - ETA: 4:04 - loss: 0.0892 - acc: 0.969 - ETA: 4:03 - loss: 0.0889 - acc: 0.969 - ETA: 4:02 - loss: 0.0887 - acc: 0.969 - ETA: 4:01 - loss: 0.0890 - acc: 0.969 - ETA: 4:00 - loss: 0.0895 - acc: 0.968 - ETA: 3:59 - loss: 0.0894 - acc: 0.969 - ETA: 3:58 - loss: 0.0893 - acc: 0.968 - ETA: 3:56 - loss: 0.0890 - acc: 0.969 - ETA: 3:56 - loss: 0.0890 - acc: 0.969 - ETA: 3:54 - loss: 0.0885 - acc: 0.969 - ETA: 3:53 - loss: 0.0887 - acc: 0.969 - ETA: 3:52 - loss: 0.0884 - acc: 0.969 - ETA: 3:51 - loss: 0.0892 - acc: 0.969 - ETA: 3:50 - loss: 0.0888 - acc: 0.969 - ETA: 3:49 - loss: 0.0891 - acc: 0.968 - ETA: 3:48 - loss: 0.0896 - acc: 0.968 - ETA: 3:47 - loss: 0.0897 - acc: 0.968 - ETA: 3:46 - loss: 0.0897 - acc: 0.968 - ETA: 3:45 - loss: 0.0896 - acc: 0.968 - ETA: 3:44 - loss: 0.0893 - acc: 0.968 - ETA: 3:43 - loss: 0.0889 - acc: 0.969 - ETA: 3:41 - loss: 0.0886 - acc: 0.969 - ETA: 3:40 - loss: 0.0889 - acc: 0.968 - ETA: 3:39 - loss: 0.0904 - acc: 0.968 - ETA: 3:38 - loss: 0.0899 - acc: 0.968 - ETA: 3:37 - loss: 0.0910 - acc: 0.968 - ETA: 3:36 - loss: 0.0912 - acc: 0.968 - ETA: 3:35 - loss: 0.0917 - acc: 0.967 - ETA: 3:34 - loss: 0.0914 - acc: 0.968 - ETA: 3:33 - loss: 0.0919 - acc: 0.968 - ETA: 3:32 - loss: 0.0923 - acc: 0.9680"
     ]
    },
    {
     "name": "stdout",
     "output_type": "stream",
     "text": [
      "12793/12793 [==============================] - ETA: 3:30 - loss: 0.0919 - acc: 0.968 - ETA: 3:30 - loss: 0.0919 - acc: 0.968 - ETA: 3:28 - loss: 0.0916 - acc: 0.968 - ETA: 3:28 - loss: 0.0917 - acc: 0.968 - ETA: 3:26 - loss: 0.0926 - acc: 0.967 - ETA: 3:25 - loss: 0.0925 - acc: 0.967 - ETA: 3:24 - loss: 0.0927 - acc: 0.967 - ETA: 3:23 - loss: 0.0925 - acc: 0.967 - ETA: 3:22 - loss: 0.0928 - acc: 0.967 - ETA: 3:21 - loss: 0.0931 - acc: 0.967 - ETA: 3:20 - loss: 0.0936 - acc: 0.967 - ETA: 3:19 - loss: 0.0933 - acc: 0.967 - ETA: 3:18 - loss: 0.0933 - acc: 0.967 - ETA: 3:17 - loss: 0.0930 - acc: 0.967 - ETA: 3:16 - loss: 0.0929 - acc: 0.967 - ETA: 3:14 - loss: 0.0939 - acc: 0.966 - ETA: 3:14 - loss: 0.0936 - acc: 0.966 - ETA: 3:12 - loss: 0.0933 - acc: 0.967 - ETA: 3:11 - loss: 0.0931 - acc: 0.967 - ETA: 3:10 - loss: 0.0928 - acc: 0.967 - ETA: 3:09 - loss: 0.0928 - acc: 0.967 - ETA: 3:08 - loss: 0.0926 - acc: 0.967 - ETA: 3:07 - loss: 0.0927 - acc: 0.967 - ETA: 3:06 - loss: 0.0925 - acc: 0.967 - ETA: 3:05 - loss: 0.0924 - acc: 0.967 - ETA: 3:04 - loss: 0.0929 - acc: 0.967 - ETA: 3:03 - loss: 0.0928 - acc: 0.967 - ETA: 3:02 - loss: 0.0927 - acc: 0.967 - ETA: 3:01 - loss: 0.0924 - acc: 0.967 - ETA: 3:00 - loss: 0.0925 - acc: 0.967 - ETA: 2:59 - loss: 0.0925 - acc: 0.967 - ETA: 2:58 - loss: 0.0923 - acc: 0.967 - ETA: 2:57 - loss: 0.0922 - acc: 0.967 - ETA: 2:56 - loss: 0.0919 - acc: 0.967 - ETA: 2:55 - loss: 0.0917 - acc: 0.967 - ETA: 2:53 - loss: 0.0919 - acc: 0.967 - ETA: 2:52 - loss: 0.0918 - acc: 0.967 - ETA: 2:51 - loss: 0.0914 - acc: 0.967 - ETA: 2:50 - loss: 0.0917 - acc: 0.967 - ETA: 2:49 - loss: 0.0917 - acc: 0.967 - ETA: 2:48 - loss: 0.0921 - acc: 0.966 - ETA: 2:47 - loss: 0.0925 - acc: 0.966 - ETA: 2:46 - loss: 0.0923 - acc: 0.966 - ETA: 2:45 - loss: 0.0930 - acc: 0.966 - ETA: 2:44 - loss: 0.0936 - acc: 0.966 - ETA: 2:43 - loss: 0.0934 - acc: 0.966 - ETA: 2:42 - loss: 0.0933 - acc: 0.966 - ETA: 2:40 - loss: 0.0933 - acc: 0.966 - ETA: 2:39 - loss: 0.0932 - acc: 0.966 - ETA: 2:38 - loss: 0.0932 - acc: 0.966 - ETA: 2:37 - loss: 0.0929 - acc: 0.966 - ETA: 2:36 - loss: 0.0926 - acc: 0.967 - ETA: 2:35 - loss: 0.0925 - acc: 0.967 - ETA: 2:34 - loss: 0.0927 - acc: 0.967 - ETA: 2:33 - loss: 0.0924 - acc: 0.967 - ETA: 2:32 - loss: 0.0928 - acc: 0.967 - ETA: 2:31 - loss: 0.0930 - acc: 0.967 - ETA: 2:30 - loss: 0.0932 - acc: 0.967 - ETA: 2:28 - loss: 0.0930 - acc: 0.967 - ETA: 2:28 - loss: 0.0936 - acc: 0.966 - ETA: 2:26 - loss: 0.0933 - acc: 0.966 - ETA: 2:25 - loss: 0.0931 - acc: 0.967 - ETA: 2:24 - loss: 0.0928 - acc: 0.967 - ETA: 2:23 - loss: 0.0929 - acc: 0.967 - ETA: 2:22 - loss: 0.0930 - acc: 0.967 - ETA: 2:21 - loss: 0.0928 - acc: 0.967 - ETA: 2:20 - loss: 0.0934 - acc: 0.966 - ETA: 2:19 - loss: 0.0932 - acc: 0.966 - ETA: 2:18 - loss: 0.0932 - acc: 0.966 - ETA: 2:17 - loss: 0.0930 - acc: 0.966 - ETA: 2:15 - loss: 0.0930 - acc: 0.966 - ETA: 2:14 - loss: 0.0930 - acc: 0.966 - ETA: 2:13 - loss: 0.0930 - acc: 0.966 - ETA: 2:12 - loss: 0.0927 - acc: 0.967 - ETA: 2:11 - loss: 0.0927 - acc: 0.967 - ETA: 2:10 - loss: 0.0928 - acc: 0.966 - ETA: 2:09 - loss: 0.0927 - acc: 0.966 - ETA: 2:08 - loss: 0.0927 - acc: 0.966 - ETA: 2:07 - loss: 0.0927 - acc: 0.966 - ETA: 2:06 - loss: 0.0928 - acc: 0.966 - ETA: 2:04 - loss: 0.0925 - acc: 0.966 - ETA: 2:03 - loss: 0.0925 - acc: 0.966 - ETA: 2:02 - loss: 0.0926 - acc: 0.966 - ETA: 2:01 - loss: 0.0924 - acc: 0.966 - ETA: 2:00 - loss: 0.0925 - acc: 0.966 - ETA: 1:59 - loss: 0.0929 - acc: 0.966 - ETA: 1:58 - loss: 0.0928 - acc: 0.966 - ETA: 1:57 - loss: 0.0927 - acc: 0.966 - ETA: 1:56 - loss: 0.0925 - acc: 0.966 - ETA: 1:55 - loss: 0.0929 - acc: 0.966 - ETA: 1:54 - loss: 0.0927 - acc: 0.966 - ETA: 1:52 - loss: 0.0928 - acc: 0.966 - ETA: 1:51 - loss: 0.0927 - acc: 0.966 - ETA: 1:50 - loss: 0.0928 - acc: 0.966 - ETA: 1:49 - loss: 0.0926 - acc: 0.966 - ETA: 1:48 - loss: 0.0925 - acc: 0.966 - ETA: 1:47 - loss: 0.0922 - acc: 0.966 - ETA: 1:45 - loss: 0.0929 - acc: 0.966 - ETA: 1:44 - loss: 0.0928 - acc: 0.966 - ETA: 1:43 - loss: 0.0926 - acc: 0.966 - ETA: 1:42 - loss: 0.0924 - acc: 0.966 - ETA: 1:41 - loss: 0.0922 - acc: 0.966 - ETA: 1:40 - loss: 0.0920 - acc: 0.966 - ETA: 1:38 - loss: 0.0921 - acc: 0.966 - ETA: 1:37 - loss: 0.0921 - acc: 0.966 - ETA: 1:36 - loss: 0.0922 - acc: 0.966 - ETA: 1:35 - loss: 0.0923 - acc: 0.966 - ETA: 1:34 - loss: 0.0925 - acc: 0.966 - ETA: 1:33 - loss: 0.0923 - acc: 0.966 - ETA: 1:31 - loss: 0.0921 - acc: 0.966 - ETA: 1:30 - loss: 0.0921 - acc: 0.966 - ETA: 1:29 - loss: 0.0922 - acc: 0.966 - ETA: 1:28 - loss: 0.0922 - acc: 0.966 - ETA: 1:27 - loss: 0.0920 - acc: 0.966 - ETA: 1:26 - loss: 0.0924 - acc: 0.966 - ETA: 1:25 - loss: 0.0922 - acc: 0.966 - ETA: 1:24 - loss: 0.0922 - acc: 0.966 - ETA: 1:22 - loss: 0.0921 - acc: 0.966 - ETA: 1:21 - loss: 0.0919 - acc: 0.966 - ETA: 1:20 - loss: 0.0922 - acc: 0.966 - ETA: 1:19 - loss: 0.0920 - acc: 0.966 - ETA: 1:18 - loss: 0.0919 - acc: 0.966 - ETA: 1:17 - loss: 0.0919 - acc: 0.966 - ETA: 1:16 - loss: 0.0918 - acc: 0.966 - ETA: 1:15 - loss: 0.0916 - acc: 0.966 - ETA: 1:14 - loss: 0.0914 - acc: 0.967 - ETA: 1:13 - loss: 0.0917 - acc: 0.966 - ETA: 1:11 - loss: 0.0921 - acc: 0.966 - ETA: 1:10 - loss: 0.0925 - acc: 0.966 - ETA: 1:09 - loss: 0.0925 - acc: 0.966 - ETA: 1:08 - loss: 0.0929 - acc: 0.966 - ETA: 1:07 - loss: 0.0928 - acc: 0.966 - ETA: 1:06 - loss: 0.0927 - acc: 0.966 - ETA: 1:05 - loss: 0.0934 - acc: 0.966 - ETA: 1:04 - loss: 0.0932 - acc: 0.966 - ETA: 1:03 - loss: 0.0938 - acc: 0.966 - ETA: 1:02 - loss: 0.0939 - acc: 0.966 - ETA: 1:01 - loss: 0.0937 - acc: 0.966 - ETA: 1:00 - loss: 0.0935 - acc: 0.966 - ETA: 58s - loss: 0.0936 - acc: 0.966 - ETA: 57s - loss: 0.0936 - acc: 0.96 - ETA: 56s - loss: 0.0936 - acc: 0.96 - ETA: 55s - loss: 0.0939 - acc: 0.96 - ETA: 54s - loss: 0.0938 - acc: 0.96 - ETA: 53s - loss: 0.0942 - acc: 0.96 - ETA: 52s - loss: 0.0943 - acc: 0.96 - ETA: 51s - loss: 0.0943 - acc: 0.96 - ETA: 50s - loss: 0.0941 - acc: 0.96 - ETA: 49s - loss: 0.0940 - acc: 0.96 - ETA: 48s - loss: 0.0938 - acc: 0.96 - ETA: 46s - loss: 0.0936 - acc: 0.96 - ETA: 45s - loss: 0.0937 - acc: 0.96 - ETA: 44s - loss: 0.0943 - acc: 0.96 - ETA: 43s - loss: 0.0944 - acc: 0.96 - ETA: 42s - loss: 0.0944 - acc: 0.96 - ETA: 41s - loss: 0.0943 - acc: 0.96 - ETA: 40s - loss: 0.0947 - acc: 0.96 - ETA: 39s - loss: 0.0946 - acc: 0.96 - ETA: 38s - loss: 0.0951 - acc: 0.96 - ETA: 37s - loss: 0.0950 - acc: 0.96 - ETA: 36s - loss: 0.0949 - acc: 0.96 - ETA: 35s - loss: 0.0947 - acc: 0.96 - ETA: 34s - loss: 0.0947 - acc: 0.96 - ETA: 33s - loss: 0.0945 - acc: 0.96 - ETA: 32s - loss: 0.0945 - acc: 0.96 - ETA: 30s - loss: 0.0947 - acc: 0.96 - ETA: 29s - loss: 0.0946 - acc: 0.96 - ETA: 28s - loss: 0.0955 - acc: 0.96 - ETA: 27s - loss: 0.0954 - acc: 0.96 - ETA: 26s - loss: 0.0952 - acc: 0.96 - ETA: 25s - loss: 0.0957 - acc: 0.96 - ETA: 24s - loss: 0.0956 - acc: 0.96 - ETA: 23s - loss: 0.0956 - acc: 0.96 - ETA: 22s - loss: 0.0955 - acc: 0.96 - ETA: 21s - loss: 0.0954 - acc: 0.96 - ETA: 20s - loss: 0.0956 - acc: 0.96 - ETA: 19s - loss: 0.0956 - acc: 0.96 - ETA: 18s - loss: 0.0955 - acc: 0.96 - ETA: 17s - loss: 0.0957 - acc: 0.96 - ETA: 16s - loss: 0.0957 - acc: 0.96 - ETA: 15s - loss: 0.0959 - acc: 0.96 - ETA: 14s - loss: 0.0963 - acc: 0.96 - ETA: 13s - loss: 0.0963 - acc: 0.96 - ETA: 12s - loss: 0.0966 - acc: 0.96 - ETA: 11s - loss: 0.0968 - acc: 0.96 - ETA: 10s - loss: 0.0974 - acc: 0.96 - ETA: 9s - loss: 0.0979 - acc: 0.9644 - ETA: 7s - loss: 0.0980 - acc: 0.964 - ETA: 6s - loss: 0.0979 - acc: 0.964 - ETA: 5s - loss: 0.0978 - acc: 0.964 - ETA: 4s - loss: 0.0978 - acc: 0.964 - ETA: 3s - loss: 0.0977 - acc: 0.964 - ETA: 2s - loss: 0.0979 - acc: 0.964 - ETA: 1s - loss: 0.0977 - acc: 0.964 - ETA: 0s - loss: 0.0987 - acc: 0.964 - 415s 32ms/step - loss: 0.0986 - acc: 0.9643 - val_loss: 2.8035 - val_acc: 0.3629\n",
      "Epoch 7/20\n"
     ]
    },
    {
     "name": "stdout",
     "output_type": "stream",
     "text": [
      " 6528/12793 [==============>...............] - ETA: 5:30 - loss: 0.0568 - acc: 1.000 - ETA: 4:46 - loss: 0.0372 - acc: 1.000 - ETA: 4:31 - loss: 0.0364 - acc: 1.000 - ETA: 5:07 - loss: 0.0649 - acc: 0.984 - ETA: 5:13 - loss: 0.0595 - acc: 0.987 - ETA: 5:03 - loss: 0.0575 - acc: 0.989 - ETA: 4:59 - loss: 0.0579 - acc: 0.991 - ETA: 5:12 - loss: 0.0544 - acc: 0.992 - ETA: 5:07 - loss: 0.0562 - acc: 0.989 - ETA: 4:59 - loss: 0.0556 - acc: 0.990 - ETA: 4:57 - loss: 0.0531 - acc: 0.991 - ETA: 5:05 - loss: 0.0551 - acc: 0.989 - ETA: 5:01 - loss: 0.0602 - acc: 0.988 - ETA: 4:57 - loss: 0.0581 - acc: 0.988 - ETA: 4:55 - loss: 0.0580 - acc: 0.987 - ETA: 5:00 - loss: 0.0600 - acc: 0.984 - ETA: 4:57 - loss: 0.0576 - acc: 0.985 - ETA: 4:53 - loss: 0.0599 - acc: 0.984 - ETA: 4:54 - loss: 0.0665 - acc: 0.981 - ETA: 4:59 - loss: 0.0671 - acc: 0.981 - ETA: 4:55 - loss: 0.0643 - acc: 0.982 - ETA: 4:52 - loss: 0.0618 - acc: 0.983 - ETA: 4:53 - loss: 0.0608 - acc: 0.983 - ETA: 4:56 - loss: 0.0610 - acc: 0.983 - ETA: 4:52 - loss: 0.0589 - acc: 0.983 - ETA: 4:49 - loss: 0.0568 - acc: 0.984 - ETA: 4:52 - loss: 0.0553 - acc: 0.985 - ETA: 4:53 - loss: 0.0542 - acc: 0.985 - ETA: 4:50 - loss: 0.0534 - acc: 0.986 - ETA: 4:47 - loss: 0.0519 - acc: 0.986 - ETA: 4:49 - loss: 0.0538 - acc: 0.985 - ETA: 4:49 - loss: 0.0545 - acc: 0.985 - ETA: 4:46 - loss: 0.0581 - acc: 0.983 - ETA: 4:43 - loss: 0.0577 - acc: 0.983 - ETA: 4:46 - loss: 0.0575 - acc: 0.983 - ETA: 4:45 - loss: 0.0583 - acc: 0.982 - ETA: 4:43 - loss: 0.0598 - acc: 0.981 - ETA: 4:42 - loss: 0.0591 - acc: 0.981 - ETA: 4:43 - loss: 0.0586 - acc: 0.981 - ETA: 4:42 - loss: 0.0580 - acc: 0.982 - ETA: 4:40 - loss: 0.0569 - acc: 0.982 - ETA: 4:38 - loss: 0.0604 - acc: 0.980 - ETA: 4:40 - loss: 0.0644 - acc: 0.978 - ETA: 4:39 - loss: 0.0650 - acc: 0.978 - ETA: 4:36 - loss: 0.0650 - acc: 0.978 - ETA: 4:36 - loss: 0.0649 - acc: 0.978 - ETA: 4:37 - loss: 0.0635 - acc: 0.978 - ETA: 4:35 - loss: 0.0633 - acc: 0.978 - ETA: 4:33 - loss: 0.0662 - acc: 0.978 - ETA: 4:33 - loss: 0.0661 - acc: 0.978 - ETA: 4:34 - loss: 0.0653 - acc: 0.978 - ETA: 4:32 - loss: 0.0670 - acc: 0.977 - ETA: 4:30 - loss: 0.0714 - acc: 0.976 - ETA: 4:30 - loss: 0.0720 - acc: 0.976 - ETA: 4:31 - loss: 0.0709 - acc: 0.976 - ETA: 4:29 - loss: 0.0717 - acc: 0.976 - ETA: 4:28 - loss: 0.0725 - acc: 0.975 - ETA: 4:28 - loss: 0.0735 - acc: 0.974 - ETA: 4:28 - loss: 0.0748 - acc: 0.973 - ETA: 4:26 - loss: 0.0739 - acc: 0.973 - ETA: 4:25 - loss: 0.0733 - acc: 0.973 - ETA: 4:26 - loss: 0.0733 - acc: 0.973 - ETA: 4:25 - loss: 0.0737 - acc: 0.973 - ETA: 4:23 - loss: 0.0744 - acc: 0.973 - ETA: 4:23 - loss: 0.0737 - acc: 0.974 - ETA: 4:23 - loss: 0.0729 - acc: 0.974 - ETA: 4:21 - loss: 0.0745 - acc: 0.973 - ETA: 4:20 - loss: 0.0736 - acc: 0.973 - ETA: 4:19 - loss: 0.0737 - acc: 0.973 - ETA: 4:19 - loss: 0.0754 - acc: 0.972 - ETA: 4:18 - loss: 0.0757 - acc: 0.972 - ETA: 4:17 - loss: 0.0756 - acc: 0.972 - ETA: 4:16 - loss: 0.0749 - acc: 0.972 - ETA: 4:16 - loss: 0.0740 - acc: 0.973 - ETA: 4:15 - loss: 0.0740 - acc: 0.972 - ETA: 4:13 - loss: 0.0741 - acc: 0.972 - ETA: 4:13 - loss: 0.0743 - acc: 0.972 - ETA: 4:13 - loss: 0.0740 - acc: 0.972 - ETA: 4:12 - loss: 0.0733 - acc: 0.972 - ETA: 4:10 - loss: 0.0743 - acc: 0.971 - ETA: 4:11 - loss: 0.0747 - acc: 0.971 - ETA: 4:10 - loss: 0.0743 - acc: 0.972 - ETA: 4:09 - loss: 0.0735 - acc: 0.972 - ETA: 4:07 - loss: 0.0732 - acc: 0.972 - ETA: 4:08 - loss: 0.0727 - acc: 0.973 - ETA: 4:07 - loss: 0.0735 - acc: 0.973 - ETA: 4:05 - loss: 0.0735 - acc: 0.973 - ETA: 4:04 - loss: 0.0740 - acc: 0.973 - ETA: 4:04 - loss: 0.0734 - acc: 0.973 - ETA: 4:03 - loss: 0.0739 - acc: 0.973 - ETA: 4:02 - loss: 0.0736 - acc: 0.973 - ETA: 4:01 - loss: 0.0730 - acc: 0.973 - ETA: 4:01 - loss: 0.0734 - acc: 0.973 - ETA: 4:00 - loss: 0.0733 - acc: 0.973 - ETA: 3:59 - loss: 0.0739 - acc: 0.973 - ETA: 3:58 - loss: 0.0759 - acc: 0.973 - ETA: 3:58 - loss: 0.0761 - acc: 0.972 - ETA: 3:57 - loss: 0.0755 - acc: 0.973 - ETA: 3:55 - loss: 0.0768 - acc: 0.972 - ETA: 3:54 - loss: 0.0764 - acc: 0.972 - ETA: 3:54 - loss: 0.0759 - acc: 0.973 - ETA: 3:53 - loss: 0.0773 - acc: 0.973 - ETA: 3:52 - loss: 0.0772 - acc: 0.973 - ETA: 3:51 - loss: 0.0768 - acc: 0.973 - ETA: 3:51 - loss: 0.0762 - acc: 0.973 - ETA: 3:50 - loss: 0.0762 - acc: 0.973 - ETA: 3:49 - loss: 0.0771 - acc: 0.973 - ETA: 3:48 - loss: 0.0773 - acc: 0.973 - ETA: 3:48 - loss: 0.0769 - acc: 0.973 - ETA: 3:47 - loss: 0.0767 - acc: 0.973 - ETA: 3:45 - loss: 0.0769 - acc: 0.972 - ETA: 3:45 - loss: 0.0767 - acc: 0.972 - ETA: 3:45 - loss: 0.0762 - acc: 0.972 - ETA: 3:43 - loss: 0.0763 - acc: 0.972 - ETA: 3:42 - loss: 0.0757 - acc: 0.973 - ETA: 3:42 - loss: 0.0754 - acc: 0.973 - ETA: 3:42 - loss: 0.0748 - acc: 0.973 - ETA: 3:40 - loss: 0.0761 - acc: 0.973 - ETA: 3:39 - loss: 0.0755 - acc: 0.973 - ETA: 3:39 - loss: 0.0749 - acc: 0.973 - ETA: 3:39 - loss: 0.0756 - acc: 0.973 - ETA: 3:38 - loss: 0.0757 - acc: 0.973 - ETA: 3:37 - loss: 0.0753 - acc: 0.973 - ETA: 3:36 - loss: 0.0748 - acc: 0.974 - ETA: 3:36 - loss: 0.0745 - acc: 0.974 - ETA: 3:34 - loss: 0.0748 - acc: 0.974 - ETA: 3:34 - loss: 0.0744 - acc: 0.974 - ETA: 3:33 - loss: 0.0752 - acc: 0.973 - ETA: 3:32 - loss: 0.0747 - acc: 0.974 - ETA: 3:31 - loss: 0.0742 - acc: 0.974 - ETA: 3:30 - loss: 0.0744 - acc: 0.974 - ETA: 3:30 - loss: 0.0746 - acc: 0.974 - ETA: 3:29 - loss: 0.0749 - acc: 0.973 - ETA: 3:28 - loss: 0.0746 - acc: 0.973 - ETA: 3:27 - loss: 0.0744 - acc: 0.973 - ETA: 3:27 - loss: 0.0741 - acc: 0.973 - ETA: 3:26 - loss: 0.0737 - acc: 0.974 - ETA: 3:25 - loss: 0.0737 - acc: 0.974 - ETA: 3:24 - loss: 0.0748 - acc: 0.973 - ETA: 3:24 - loss: 0.0746 - acc: 0.973 - ETA: 3:23 - loss: 0.0753 - acc: 0.973 - ETA: 3:22 - loss: 0.0753 - acc: 0.973 - ETA: 3:21 - loss: 0.0748 - acc: 0.973 - ETA: 3:21 - loss: 0.0749 - acc: 0.973 - ETA: 3:20 - loss: 0.0749 - acc: 0.973 - ETA: 3:19 - loss: 0.0752 - acc: 0.973 - ETA: 3:18 - loss: 0.0749 - acc: 0.973 - ETA: 3:17 - loss: 0.0754 - acc: 0.973 - ETA: 3:16 - loss: 0.0758 - acc: 0.973 - ETA: 3:15 - loss: 0.0760 - acc: 0.973 - ETA: 3:15 - loss: 0.0763 - acc: 0.973 - ETA: 3:14 - loss: 0.0766 - acc: 0.973 - ETA: 3:13 - loss: 0.0766 - acc: 0.973 - ETA: 3:12 - loss: 0.0766 - acc: 0.973 - ETA: 3:12 - loss: 0.0796 - acc: 0.972 - ETA: 3:11 - loss: 0.0793 - acc: 0.973 - ETA: 3:10 - loss: 0.0797 - acc: 0.972 - ETA: 3:09 - loss: 0.0795 - acc: 0.972 - ETA: 3:08 - loss: 0.0800 - acc: 0.972 - ETA: 3:08 - loss: 0.0796 - acc: 0.973 - ETA: 3:07 - loss: 0.0794 - acc: 0.973 - ETA: 3:06 - loss: 0.0794 - acc: 0.973 - ETA: 3:05 - loss: 0.0794 - acc: 0.973 - ETA: 3:04 - loss: 0.0812 - acc: 0.972 - ETA: 3:03 - loss: 0.0819 - acc: 0.972 - ETA: 3:03 - loss: 0.0845 - acc: 0.972 - ETA: 3:02 - loss: 0.0845 - acc: 0.972 - ETA: 3:01 - loss: 0.0841 - acc: 0.972 - ETA: 3:00 - loss: 0.0837 - acc: 0.973 - ETA: 2:59 - loss: 0.0834 - acc: 0.973 - ETA: 2:59 - loss: 0.0830 - acc: 0.973 - ETA: 2:58 - loss: 0.0833 - acc: 0.973 - ETA: 2:57 - loss: 0.0833 - acc: 0.973 - ETA: 2:56 - loss: 0.0830 - acc: 0.973 - ETA: 2:56 - loss: 0.0831 - acc: 0.973 - ETA: 2:55 - loss: 0.0840 - acc: 0.973 - ETA: 2:54 - loss: 0.0840 - acc: 0.973 - ETA: 2:53 - loss: 0.0841 - acc: 0.973 - ETA: 2:52 - loss: 0.0837 - acc: 0.973 - ETA: 2:52 - loss: 0.0838 - acc: 0.973 - ETA: 2:51 - loss: 0.0840 - acc: 0.973 - ETA: 2:50 - loss: 0.0837 - acc: 0.973 - ETA: 2:49 - loss: 0.0834 - acc: 0.973 - ETA: 2:48 - loss: 0.0835 - acc: 0.973 - ETA: 2:47 - loss: 0.0833 - acc: 0.973 - ETA: 2:47 - loss: 0.0829 - acc: 0.973 - ETA: 2:46 - loss: 0.0827 - acc: 0.973 - ETA: 2:45 - loss: 0.0827 - acc: 0.973 - ETA: 2:44 - loss: 0.0839 - acc: 0.973 - ETA: 2:44 - loss: 0.0842 - acc: 0.972 - ETA: 2:43 - loss: 0.0839 - acc: 0.973 - ETA: 2:42 - loss: 0.0844 - acc: 0.972 - ETA: 2:41 - loss: 0.0840 - acc: 0.973 - ETA: 2:41 - loss: 0.0842 - acc: 0.972 - ETA: 2:40 - loss: 0.0841 - acc: 0.972 - ETA: 2:39 - loss: 0.0840 - acc: 0.972 - ETA: 2:38 - loss: 0.0843 - acc: 0.972 - ETA: 2:38 - loss: 0.0842 - acc: 0.972 - ETA: 2:37 - loss: 0.0841 - acc: 0.972 - ETA: 2:36 - loss: 0.0848 - acc: 0.972 - ETA: 2:35 - loss: 0.0849 - acc: 0.972 - ETA: 2:34 - loss: 0.0846 - acc: 0.972 - ETA: 2:34 - loss: 0.0843 - acc: 0.972 - ETA: 2:33 - loss: 0.0841 - acc: 0.9724"
     ]
    },
    {
     "name": "stdout",
     "output_type": "stream",
     "text": [
      "12793/12793 [==============================] - ETA: 2:32 - loss: 0.0843 - acc: 0.972 - ETA: 2:31 - loss: 0.0848 - acc: 0.972 - ETA: 2:31 - loss: 0.0845 - acc: 0.972 - ETA: 2:30 - loss: 0.0842 - acc: 0.972 - ETA: 2:29 - loss: 0.0839 - acc: 0.972 - ETA: 2:29 - loss: 0.0840 - acc: 0.972 - ETA: 2:28 - loss: 0.0837 - acc: 0.972 - ETA: 2:27 - loss: 0.0835 - acc: 0.972 - ETA: 2:26 - loss: 0.0835 - acc: 0.972 - ETA: 2:25 - loss: 0.0839 - acc: 0.972 - ETA: 2:24 - loss: 0.0835 - acc: 0.972 - ETA: 2:24 - loss: 0.0836 - acc: 0.972 - ETA: 2:23 - loss: 0.0840 - acc: 0.972 - ETA: 2:22 - loss: 0.0837 - acc: 0.972 - ETA: 2:21 - loss: 0.0838 - acc: 0.972 - ETA: 2:21 - loss: 0.0836 - acc: 0.972 - ETA: 2:20 - loss: 0.0839 - acc: 0.972 - ETA: 2:19 - loss: 0.0837 - acc: 0.972 - ETA: 2:18 - loss: 0.0836 - acc: 0.972 - ETA: 2:18 - loss: 0.0840 - acc: 0.972 - ETA: 2:17 - loss: 0.0838 - acc: 0.972 - ETA: 2:16 - loss: 0.0839 - acc: 0.972 - ETA: 2:16 - loss: 0.0838 - acc: 0.972 - ETA: 2:15 - loss: 0.0836 - acc: 0.972 - ETA: 2:14 - loss: 0.0834 - acc: 0.972 - ETA: 2:14 - loss: 0.0833 - acc: 0.972 - ETA: 2:13 - loss: 0.0829 - acc: 0.972 - ETA: 2:12 - loss: 0.0827 - acc: 0.972 - ETA: 2:11 - loss: 0.0825 - acc: 0.972 - ETA: 2:10 - loss: 0.0822 - acc: 0.972 - ETA: 2:10 - loss: 0.0824 - acc: 0.972 - ETA: 2:09 - loss: 0.0834 - acc: 0.972 - ETA: 2:08 - loss: 0.0843 - acc: 0.972 - ETA: 2:07 - loss: 0.0842 - acc: 0.972 - ETA: 2:06 - loss: 0.0841 - acc: 0.972 - ETA: 2:06 - loss: 0.0840 - acc: 0.972 - ETA: 2:05 - loss: 0.0839 - acc: 0.972 - ETA: 2:04 - loss: 0.0835 - acc: 0.972 - ETA: 2:03 - loss: 0.0836 - acc: 0.972 - ETA: 2:02 - loss: 0.0834 - acc: 0.972 - ETA: 2:02 - loss: 0.0833 - acc: 0.972 - ETA: 2:01 - loss: 0.0831 - acc: 0.972 - ETA: 2:00 - loss: 0.0830 - acc: 0.972 - ETA: 2:00 - loss: 0.0836 - acc: 0.972 - ETA: 1:59 - loss: 0.0836 - acc: 0.972 - ETA: 1:58 - loss: 0.0833 - acc: 0.972 - ETA: 1:57 - loss: 0.0830 - acc: 0.972 - ETA: 1:56 - loss: 0.0827 - acc: 0.972 - ETA: 1:56 - loss: 0.0826 - acc: 0.972 - ETA: 1:55 - loss: 0.0830 - acc: 0.972 - ETA: 1:54 - loss: 0.0833 - acc: 0.972 - ETA: 1:53 - loss: 0.0832 - acc: 0.972 - ETA: 1:53 - loss: 0.0831 - acc: 0.972 - ETA: 1:52 - loss: 0.0830 - acc: 0.972 - ETA: 1:51 - loss: 0.0831 - acc: 0.972 - ETA: 1:50 - loss: 0.0830 - acc: 0.972 - ETA: 1:49 - loss: 0.0829 - acc: 0.972 - ETA: 1:49 - loss: 0.0826 - acc: 0.972 - ETA: 1:48 - loss: 0.0826 - acc: 0.972 - ETA: 1:47 - loss: 0.0823 - acc: 0.972 - ETA: 1:46 - loss: 0.0825 - acc: 0.972 - ETA: 1:45 - loss: 0.0823 - acc: 0.972 - ETA: 1:45 - loss: 0.0826 - acc: 0.972 - ETA: 1:44 - loss: 0.0836 - acc: 0.972 - ETA: 1:43 - loss: 0.0837 - acc: 0.972 - ETA: 1:42 - loss: 0.0841 - acc: 0.972 - ETA: 1:41 - loss: 0.0843 - acc: 0.972 - ETA: 1:41 - loss: 0.0840 - acc: 0.972 - ETA: 1:40 - loss: 0.0844 - acc: 0.972 - ETA: 1:39 - loss: 0.0847 - acc: 0.971 - ETA: 1:38 - loss: 0.0847 - acc: 0.971 - ETA: 1:38 - loss: 0.0847 - acc: 0.972 - ETA: 1:37 - loss: 0.0845 - acc: 0.972 - ETA: 1:36 - loss: 0.0846 - acc: 0.972 - ETA: 1:35 - loss: 0.0844 - acc: 0.972 - ETA: 1:34 - loss: 0.0841 - acc: 0.972 - ETA: 1:34 - loss: 0.0842 - acc: 0.972 - ETA: 1:33 - loss: 0.0845 - acc: 0.972 - ETA: 1:32 - loss: 0.0846 - acc: 0.972 - ETA: 1:31 - loss: 0.0847 - acc: 0.971 - ETA: 1:31 - loss: 0.0845 - acc: 0.972 - ETA: 1:30 - loss: 0.0843 - acc: 0.972 - ETA: 1:29 - loss: 0.0845 - acc: 0.971 - ETA: 1:28 - loss: 0.0846 - acc: 0.971 - ETA: 1:27 - loss: 0.0846 - acc: 0.971 - ETA: 1:26 - loss: 0.0849 - acc: 0.971 - ETA: 1:26 - loss: 0.0852 - acc: 0.971 - ETA: 1:25 - loss: 0.0852 - acc: 0.971 - ETA: 1:24 - loss: 0.0854 - acc: 0.971 - ETA: 1:23 - loss: 0.0853 - acc: 0.971 - ETA: 1:23 - loss: 0.0853 - acc: 0.971 - ETA: 1:22 - loss: 0.0852 - acc: 0.971 - ETA: 1:21 - loss: 0.0850 - acc: 0.971 - ETA: 1:20 - loss: 0.0850 - acc: 0.971 - ETA: 1:19 - loss: 0.0850 - acc: 0.971 - ETA: 1:19 - loss: 0.0852 - acc: 0.971 - ETA: 1:18 - loss: 0.0853 - acc: 0.971 - ETA: 1:17 - loss: 0.0851 - acc: 0.971 - ETA: 1:16 - loss: 0.0851 - acc: 0.971 - ETA: 1:15 - loss: 0.0848 - acc: 0.971 - ETA: 1:15 - loss: 0.0846 - acc: 0.971 - ETA: 1:14 - loss: 0.0844 - acc: 0.971 - ETA: 1:13 - loss: 0.0842 - acc: 0.971 - ETA: 1:12 - loss: 0.0841 - acc: 0.971 - ETA: 1:11 - loss: 0.0841 - acc: 0.971 - ETA: 1:11 - loss: 0.0841 - acc: 0.971 - ETA: 1:10 - loss: 0.0839 - acc: 0.971 - ETA: 1:09 - loss: 0.0838 - acc: 0.971 - ETA: 1:08 - loss: 0.0836 - acc: 0.971 - ETA: 1:07 - loss: 0.0837 - acc: 0.971 - ETA: 1:07 - loss: 0.0835 - acc: 0.971 - ETA: 1:06 - loss: 0.0839 - acc: 0.971 - ETA: 1:05 - loss: 0.0841 - acc: 0.971 - ETA: 1:04 - loss: 0.0841 - acc: 0.971 - ETA: 1:04 - loss: 0.0842 - acc: 0.971 - ETA: 1:03 - loss: 0.0841 - acc: 0.971 - ETA: 1:02 - loss: 0.0839 - acc: 0.971 - ETA: 1:01 - loss: 0.0838 - acc: 0.971 - ETA: 1:00 - loss: 0.0839 - acc: 0.971 - ETA: 1:00 - loss: 0.0844 - acc: 0.971 - ETA: 59s - loss: 0.0844 - acc: 0.971 - ETA: 58s - loss: 0.0842 - acc: 0.97 - ETA: 57s - loss: 0.0841 - acc: 0.97 - ETA: 56s - loss: 0.0843 - acc: 0.97 - ETA: 56s - loss: 0.0841 - acc: 0.97 - ETA: 55s - loss: 0.0841 - acc: 0.97 - ETA: 54s - loss: 0.0841 - acc: 0.97 - ETA: 53s - loss: 0.0843 - acc: 0.97 - ETA: 52s - loss: 0.0842 - acc: 0.97 - ETA: 52s - loss: 0.0842 - acc: 0.97 - ETA: 51s - loss: 0.0842 - acc: 0.97 - ETA: 50s - loss: 0.0840 - acc: 0.97 - ETA: 49s - loss: 0.0838 - acc: 0.97 - ETA: 48s - loss: 0.0836 - acc: 0.97 - ETA: 48s - loss: 0.0834 - acc: 0.97 - ETA: 47s - loss: 0.0832 - acc: 0.97 - ETA: 46s - loss: 0.0830 - acc: 0.97 - ETA: 45s - loss: 0.0831 - acc: 0.97 - ETA: 44s - loss: 0.0830 - acc: 0.97 - ETA: 44s - loss: 0.0830 - acc: 0.97 - ETA: 43s - loss: 0.0828 - acc: 0.97 - ETA: 42s - loss: 0.0826 - acc: 0.97 - ETA: 41s - loss: 0.0824 - acc: 0.97 - ETA: 40s - loss: 0.0823 - acc: 0.97 - ETA: 40s - loss: 0.0822 - acc: 0.97 - ETA: 39s - loss: 0.0823 - acc: 0.97 - ETA: 38s - loss: 0.0821 - acc: 0.97 - ETA: 37s - loss: 0.0819 - acc: 0.97 - ETA: 37s - loss: 0.0829 - acc: 0.97 - ETA: 36s - loss: 0.0836 - acc: 0.97 - ETA: 35s - loss: 0.0834 - acc: 0.97 - ETA: 34s - loss: 0.0837 - acc: 0.97 - ETA: 33s - loss: 0.0838 - acc: 0.97 - ETA: 33s - loss: 0.0842 - acc: 0.97 - ETA: 32s - loss: 0.0841 - acc: 0.97 - ETA: 31s - loss: 0.0842 - acc: 0.97 - ETA: 30s - loss: 0.0840 - acc: 0.97 - ETA: 29s - loss: 0.0839 - acc: 0.97 - ETA: 29s - loss: 0.0839 - acc: 0.97 - ETA: 28s - loss: 0.0845 - acc: 0.97 - ETA: 27s - loss: 0.0844 - acc: 0.97 - ETA: 26s - loss: 0.0847 - acc: 0.97 - ETA: 25s - loss: 0.0847 - acc: 0.97 - ETA: 25s - loss: 0.0848 - acc: 0.97 - ETA: 24s - loss: 0.0849 - acc: 0.97 - ETA: 23s - loss: 0.0847 - acc: 0.97 - ETA: 22s - loss: 0.0850 - acc: 0.97 - ETA: 22s - loss: 0.0850 - acc: 0.97 - ETA: 21s - loss: 0.0849 - acc: 0.97 - ETA: 20s - loss: 0.0850 - acc: 0.97 - ETA: 19s - loss: 0.0850 - acc: 0.97 - ETA: 18s - loss: 0.0851 - acc: 0.97 - ETA: 18s - loss: 0.0852 - acc: 0.97 - ETA: 17s - loss: 0.0852 - acc: 0.97 - ETA: 16s - loss: 0.0852 - acc: 0.97 - ETA: 15s - loss: 0.0851 - acc: 0.97 - ETA: 14s - loss: 0.0856 - acc: 0.97 - ETA: 14s - loss: 0.0857 - acc: 0.97 - ETA: 13s - loss: 0.0856 - acc: 0.97 - ETA: 12s - loss: 0.0855 - acc: 0.97 - ETA: 11s - loss: 0.0854 - acc: 0.97 - ETA: 10s - loss: 0.0854 - acc: 0.97 - ETA: 10s - loss: 0.0852 - acc: 0.97 - ETA: 9s - loss: 0.0853 - acc: 0.9711 - ETA: 8s - loss: 0.0853 - acc: 0.971 - ETA: 7s - loss: 0.0852 - acc: 0.971 - ETA: 6s - loss: 0.0856 - acc: 0.971 - ETA: 6s - loss: 0.0858 - acc: 0.970 - ETA: 5s - loss: 0.0859 - acc: 0.970 - ETA: 4s - loss: 0.0860 - acc: 0.970 - ETA: 3s - loss: 0.0864 - acc: 0.970 - ETA: 2s - loss: 0.0863 - acc: 0.970 - ETA: 2s - loss: 0.0862 - acc: 0.970 - ETA: 1s - loss: 0.0864 - acc: 0.970 - ETA: 0s - loss: 0.0864 - acc: 0.970 - 323s 25ms/step - loss: 0.0863 - acc: 0.9708 - val_loss: 3.1370 - val_acc: 0.3354\n",
      "Epoch 8/20\n"
     ]
    },
    {
     "name": "stdout",
     "output_type": "stream",
     "text": [
      " 6528/12793 [==============>...............] - ETA: 4:04 - loss: 0.1875 - acc: 0.937 - ETA: 3:59 - loss: 0.1024 - acc: 0.968 - ETA: 4:38 - loss: 0.0699 - acc: 0.979 - ETA: 5:10 - loss: 0.0572 - acc: 0.984 - ETA: 4:55 - loss: 0.0481 - acc: 0.987 - ETA: 4:46 - loss: 0.0489 - acc: 0.984 - ETA: 5:04 - loss: 0.0519 - acc: 0.977 - ETA: 5:08 - loss: 0.0468 - acc: 0.980 - ETA: 4:59 - loss: 0.0425 - acc: 0.982 - ETA: 4:54 - loss: 0.0473 - acc: 0.981 - ETA: 5:03 - loss: 0.0515 - acc: 0.980 - ETA: 5:03 - loss: 0.0634 - acc: 0.979 - ETA: 4:58 - loss: 0.0590 - acc: 0.980 - ETA: 4:55 - loss: 0.0601 - acc: 0.979 - ETA: 5:01 - loss: 0.0585 - acc: 0.981 - ETA: 5:00 - loss: 0.0559 - acc: 0.982 - ETA: 4:55 - loss: 0.0569 - acc: 0.979 - ETA: 4:53 - loss: 0.0612 - acc: 0.975 - ETA: 4:59 - loss: 0.0589 - acc: 0.977 - ETA: 4:56 - loss: 0.0577 - acc: 0.978 - ETA: 4:53 - loss: 0.0562 - acc: 0.979 - ETA: 4:51 - loss: 0.0638 - acc: 0.978 - ETA: 4:54 - loss: 0.0648 - acc: 0.978 - ETA: 4:52 - loss: 0.0640 - acc: 0.977 - ETA: 4:49 - loss: 0.0716 - acc: 0.975 - ETA: 4:50 - loss: 0.0734 - acc: 0.974 - ETA: 4:53 - loss: 0.0729 - acc: 0.974 - ETA: 4:51 - loss: 0.0716 - acc: 0.975 - ETA: 4:48 - loss: 0.0698 - acc: 0.976 - ETA: 4:51 - loss: 0.0695 - acc: 0.977 - ETA: 4:51 - loss: 0.0686 - acc: 0.976 - ETA: 4:48 - loss: 0.0667 - acc: 0.977 - ETA: 4:46 - loss: 0.0673 - acc: 0.977 - ETA: 4:48 - loss: 0.0709 - acc: 0.974 - ETA: 4:48 - loss: 0.0717 - acc: 0.974 - ETA: 4:45 - loss: 0.0708 - acc: 0.974 - ETA: 4:44 - loss: 0.0707 - acc: 0.974 - ETA: 4:46 - loss: 0.0706 - acc: 0.974 - ETA: 4:45 - loss: 0.0702 - acc: 0.974 - ETA: 4:42 - loss: 0.0702 - acc: 0.974 - ETA: 4:41 - loss: 0.0704 - acc: 0.973 - ETA: 4:43 - loss: 0.0694 - acc: 0.974 - ETA: 4:41 - loss: 0.0692 - acc: 0.973 - ETA: 4:39 - loss: 0.0681 - acc: 0.974 - ETA: 4:39 - loss: 0.0678 - acc: 0.974 - ETA: 4:40 - loss: 0.0667 - acc: 0.974 - ETA: 4:42 - loss: 0.0656 - acc: 0.975 - ETA: 4:41 - loss: 0.0649 - acc: 0.975 - ETA: 4:39 - loss: 0.0638 - acc: 0.976 - ETA: 4:38 - loss: 0.0637 - acc: 0.976 - ETA: 4:39 - loss: 0.0628 - acc: 0.977 - ETA: 4:37 - loss: 0.0677 - acc: 0.976 - ETA: 4:35 - loss: 0.0668 - acc: 0.976 - ETA: 4:34 - loss: 0.0680 - acc: 0.975 - ETA: 4:35 - loss: 0.0671 - acc: 0.976 - ETA: 4:33 - loss: 0.0660 - acc: 0.976 - ETA: 4:31 - loss: 0.0660 - acc: 0.976 - ETA: 4:31 - loss: 0.0653 - acc: 0.976 - ETA: 4:32 - loss: 0.0647 - acc: 0.977 - ETA: 4:30 - loss: 0.0637 - acc: 0.977 - ETA: 4:28 - loss: 0.0628 - acc: 0.978 - ETA: 4:28 - loss: 0.0618 - acc: 0.978 - ETA: 4:29 - loss: 0.0624 - acc: 0.977 - ETA: 4:27 - loss: 0.0623 - acc: 0.977 - ETA: 4:25 - loss: 0.0631 - acc: 0.977 - ETA: 4:26 - loss: 0.0627 - acc: 0.977 - ETA: 4:25 - loss: 0.0622 - acc: 0.977 - ETA: 4:24 - loss: 0.0615 - acc: 0.977 - ETA: 4:22 - loss: 0.0609 - acc: 0.977 - ETA: 4:23 - loss: 0.0601 - acc: 0.977 - ETA: 4:22 - loss: 0.0593 - acc: 0.978 - ETA: 4:21 - loss: 0.0589 - acc: 0.978 - ETA: 4:20 - loss: 0.0604 - acc: 0.978 - ETA: 4:20 - loss: 0.0599 - acc: 0.978 - ETA: 4:19 - loss: 0.0594 - acc: 0.978 - ETA: 4:17 - loss: 0.0592 - acc: 0.978 - ETA: 4:17 - loss: 0.0605 - acc: 0.978 - ETA: 4:17 - loss: 0.0599 - acc: 0.978 - ETA: 4:15 - loss: 0.0592 - acc: 0.979 - ETA: 4:14 - loss: 0.0585 - acc: 0.979 - ETA: 4:13 - loss: 0.0580 - acc: 0.979 - ETA: 4:13 - loss: 0.0574 - acc: 0.979 - ETA: 4:12 - loss: 0.0567 - acc: 0.980 - ETA: 4:11 - loss: 0.0561 - acc: 0.980 - ETA: 4:11 - loss: 0.0569 - acc: 0.979 - ETA: 4:10 - loss: 0.0566 - acc: 0.980 - ETA: 4:09 - loss: 0.0567 - acc: 0.979 - ETA: 4:09 - loss: 0.0592 - acc: 0.978 - ETA: 4:09 - loss: 0.0588 - acc: 0.978 - ETA: 4:09 - loss: 0.0582 - acc: 0.979 - ETA: 4:08 - loss: 0.0581 - acc: 0.979 - ETA: 4:07 - loss: 0.0587 - acc: 0.978 - ETA: 4:06 - loss: 0.0581 - acc: 0.978 - ETA: 4:06 - loss: 0.0575 - acc: 0.979 - ETA: 4:05 - loss: 0.0580 - acc: 0.978 - ETA: 4:03 - loss: 0.0585 - acc: 0.978 - ETA: 4:03 - loss: 0.0588 - acc: 0.978 - ETA: 4:03 - loss: 0.0582 - acc: 0.978 - ETA: 4:01 - loss: 0.0579 - acc: 0.978 - ETA: 4:00 - loss: 0.0574 - acc: 0.978 - ETA: 3:59 - loss: 0.0575 - acc: 0.978 - ETA: 3:59 - loss: 0.0569 - acc: 0.978 - ETA: 3:58 - loss: 0.0566 - acc: 0.979 - ETA: 3:56 - loss: 0.0564 - acc: 0.979 - ETA: 3:56 - loss: 0.0564 - acc: 0.978 - ETA: 3:56 - loss: 0.0562 - acc: 0.979 - ETA: 3:55 - loss: 0.0557 - acc: 0.979 - ETA: 3:53 - loss: 0.0555 - acc: 0.979 - ETA: 3:53 - loss: 0.0560 - acc: 0.979 - ETA: 3:52 - loss: 0.0569 - acc: 0.978 - ETA: 3:51 - loss: 0.0568 - acc: 0.978 - ETA: 3:50 - loss: 0.0570 - acc: 0.978 - ETA: 3:50 - loss: 0.0576 - acc: 0.978 - ETA: 3:49 - loss: 0.0579 - acc: 0.978 - ETA: 3:48 - loss: 0.0581 - acc: 0.978 - ETA: 3:47 - loss: 0.0576 - acc: 0.978 - ETA: 3:47 - loss: 0.0576 - acc: 0.978 - ETA: 3:46 - loss: 0.0573 - acc: 0.978 - ETA: 3:44 - loss: 0.0570 - acc: 0.979 - ETA: 3:44 - loss: 0.0566 - acc: 0.979 - ETA: 3:43 - loss: 0.0570 - acc: 0.978 - ETA: 3:42 - loss: 0.0569 - acc: 0.978 - ETA: 3:41 - loss: 0.0580 - acc: 0.978 - ETA: 3:41 - loss: 0.0582 - acc: 0.978 - ETA: 3:40 - loss: 0.0589 - acc: 0.978 - ETA: 3:39 - loss: 0.0589 - acc: 0.978 - ETA: 3:38 - loss: 0.0586 - acc: 0.978 - ETA: 3:38 - loss: 0.0588 - acc: 0.978 - ETA: 3:37 - loss: 0.0583 - acc: 0.978 - ETA: 3:36 - loss: 0.0583 - acc: 0.978 - ETA: 3:35 - loss: 0.0579 - acc: 0.978 - ETA: 3:35 - loss: 0.0575 - acc: 0.978 - ETA: 3:34 - loss: 0.0574 - acc: 0.978 - ETA: 3:33 - loss: 0.0571 - acc: 0.978 - ETA: 3:32 - loss: 0.0569 - acc: 0.978 - ETA: 3:32 - loss: 0.0566 - acc: 0.978 - ETA: 3:31 - loss: 0.0566 - acc: 0.979 - ETA: 3:30 - loss: 0.0566 - acc: 0.978 - ETA: 3:29 - loss: 0.0569 - acc: 0.978 - ETA: 3:29 - loss: 0.0565 - acc: 0.978 - ETA: 3:28 - loss: 0.0565 - acc: 0.978 - ETA: 3:26 - loss: 0.0562 - acc: 0.978 - ETA: 3:26 - loss: 0.0567 - acc: 0.978 - ETA: 3:25 - loss: 0.0575 - acc: 0.978 - ETA: 3:24 - loss: 0.0571 - acc: 0.978 - ETA: 3:23 - loss: 0.0571 - acc: 0.978 - ETA: 3:23 - loss: 0.0568 - acc: 0.978 - ETA: 3:22 - loss: 0.0572 - acc: 0.978 - ETA: 3:21 - loss: 0.0569 - acc: 0.978 - ETA: 3:20 - loss: 0.0565 - acc: 0.979 - ETA: 3:20 - loss: 0.0575 - acc: 0.978 - ETA: 3:19 - loss: 0.0572 - acc: 0.978 - ETA: 3:19 - loss: 0.0578 - acc: 0.978 - ETA: 3:18 - loss: 0.0584 - acc: 0.978 - ETA: 3:17 - loss: 0.0588 - acc: 0.978 - ETA: 3:16 - loss: 0.0594 - acc: 0.977 - ETA: 3:15 - loss: 0.0594 - acc: 0.977 - ETA: 3:14 - loss: 0.0591 - acc: 0.977 - ETA: 3:13 - loss: 0.0592 - acc: 0.977 - ETA: 3:13 - loss: 0.0588 - acc: 0.977 - ETA: 3:12 - loss: 0.0586 - acc: 0.978 - ETA: 3:11 - loss: 0.0583 - acc: 0.978 - ETA: 3:10 - loss: 0.0586 - acc: 0.978 - ETA: 3:09 - loss: 0.0583 - acc: 0.978 - ETA: 3:08 - loss: 0.0580 - acc: 0.978 - ETA: 3:07 - loss: 0.0579 - acc: 0.978 - ETA: 3:06 - loss: 0.0579 - acc: 0.978 - ETA: 3:06 - loss: 0.0577 - acc: 0.978 - ETA: 3:06 - loss: 0.0575 - acc: 0.978 - ETA: 3:05 - loss: 0.0573 - acc: 0.978 - ETA: 3:04 - loss: 0.0572 - acc: 0.978 - ETA: 3:03 - loss: 0.0571 - acc: 0.978 - ETA: 3:02 - loss: 0.0570 - acc: 0.978 - ETA: 3:01 - loss: 0.0571 - acc: 0.978 - ETA: 3:00 - loss: 0.0573 - acc: 0.978 - ETA: 3:00 - loss: 0.0571 - acc: 0.978 - ETA: 2:59 - loss: 0.0576 - acc: 0.978 - ETA: 2:58 - loss: 0.0574 - acc: 0.978 - ETA: 2:57 - loss: 0.0596 - acc: 0.977 - ETA: 2:56 - loss: 0.0593 - acc: 0.978 - ETA: 2:56 - loss: 0.0591 - acc: 0.978 - ETA: 2:55 - loss: 0.0591 - acc: 0.977 - ETA: 2:54 - loss: 0.0589 - acc: 0.978 - ETA: 2:53 - loss: 0.0589 - acc: 0.977 - ETA: 2:53 - loss: 0.0587 - acc: 0.977 - ETA: 2:51 - loss: 0.0590 - acc: 0.977 - ETA: 2:50 - loss: 0.0589 - acc: 0.977 - ETA: 2:50 - loss: 0.0595 - acc: 0.977 - ETA: 2:49 - loss: 0.0593 - acc: 0.977 - ETA: 2:48 - loss: 0.0595 - acc: 0.977 - ETA: 2:47 - loss: 0.0594 - acc: 0.977 - ETA: 2:47 - loss: 0.0599 - acc: 0.977 - ETA: 2:46 - loss: 0.0599 - acc: 0.977 - ETA: 2:45 - loss: 0.0600 - acc: 0.977 - ETA: 2:44 - loss: 0.0601 - acc: 0.977 - ETA: 2:43 - loss: 0.0601 - acc: 0.977 - ETA: 2:43 - loss: 0.0604 - acc: 0.976 - ETA: 2:42 - loss: 0.0602 - acc: 0.977 - ETA: 2:41 - loss: 0.0600 - acc: 0.977 - ETA: 2:40 - loss: 0.0603 - acc: 0.976 - ETA: 2:39 - loss: 0.0600 - acc: 0.976 - ETA: 2:38 - loss: 0.0602 - acc: 0.976 - ETA: 2:37 - loss: 0.0605 - acc: 0.976 - ETA: 2:37 - loss: 0.0610 - acc: 0.9761"
     ]
    },
    {
     "name": "stdout",
     "output_type": "stream",
     "text": [
      "12793/12793 [==============================] - ETA: 2:36 - loss: 0.0612 - acc: 0.975 - ETA: 2:35 - loss: 0.0610 - acc: 0.976 - ETA: 2:34 - loss: 0.0617 - acc: 0.975 - ETA: 2:34 - loss: 0.0614 - acc: 0.976 - ETA: 2:33 - loss: 0.0613 - acc: 0.976 - ETA: 2:32 - loss: 0.0610 - acc: 0.976 - ETA: 2:31 - loss: 0.0611 - acc: 0.976 - ETA: 2:30 - loss: 0.0608 - acc: 0.976 - ETA: 2:30 - loss: 0.0613 - acc: 0.976 - ETA: 2:29 - loss: 0.0611 - acc: 0.976 - ETA: 2:28 - loss: 0.0609 - acc: 0.976 - ETA: 2:27 - loss: 0.0608 - acc: 0.976 - ETA: 2:26 - loss: 0.0606 - acc: 0.976 - ETA: 2:25 - loss: 0.0609 - acc: 0.976 - ETA: 2:25 - loss: 0.0607 - acc: 0.976 - ETA: 2:24 - loss: 0.0608 - acc: 0.976 - ETA: 2:23 - loss: 0.0615 - acc: 0.976 - ETA: 2:22 - loss: 0.0613 - acc: 0.976 - ETA: 2:22 - loss: 0.0612 - acc: 0.976 - ETA: 2:21 - loss: 0.0613 - acc: 0.976 - ETA: 2:20 - loss: 0.0612 - acc: 0.976 - ETA: 2:19 - loss: 0.0614 - acc: 0.976 - ETA: 2:18 - loss: 0.0614 - acc: 0.976 - ETA: 2:17 - loss: 0.0613 - acc: 0.976 - ETA: 2:16 - loss: 0.0611 - acc: 0.976 - ETA: 2:16 - loss: 0.0609 - acc: 0.976 - ETA: 2:15 - loss: 0.0607 - acc: 0.976 - ETA: 2:14 - loss: 0.0605 - acc: 0.977 - ETA: 2:13 - loss: 0.0603 - acc: 0.977 - ETA: 2:12 - loss: 0.0607 - acc: 0.976 - ETA: 2:12 - loss: 0.0606 - acc: 0.977 - ETA: 2:11 - loss: 0.0604 - acc: 0.977 - ETA: 2:10 - loss: 0.0605 - acc: 0.977 - ETA: 2:09 - loss: 0.0603 - acc: 0.977 - ETA: 2:09 - loss: 0.0604 - acc: 0.977 - ETA: 2:08 - loss: 0.0603 - acc: 0.977 - ETA: 2:07 - loss: 0.0601 - acc: 0.977 - ETA: 2:06 - loss: 0.0601 - acc: 0.977 - ETA: 2:05 - loss: 0.0604 - acc: 0.977 - ETA: 2:04 - loss: 0.0605 - acc: 0.977 - ETA: 2:03 - loss: 0.0605 - acc: 0.977 - ETA: 2:03 - loss: 0.0603 - acc: 0.977 - ETA: 2:02 - loss: 0.0606 - acc: 0.977 - ETA: 2:01 - loss: 0.0605 - acc: 0.977 - ETA: 2:00 - loss: 0.0607 - acc: 0.977 - ETA: 2:00 - loss: 0.0605 - acc: 0.977 - ETA: 1:59 - loss: 0.0606 - acc: 0.977 - ETA: 1:58 - loss: 0.0604 - acc: 0.976 - ETA: 1:57 - loss: 0.0605 - acc: 0.976 - ETA: 1:56 - loss: 0.0609 - acc: 0.976 - ETA: 1:55 - loss: 0.0608 - acc: 0.976 - ETA: 1:55 - loss: 0.0606 - acc: 0.976 - ETA: 1:54 - loss: 0.0605 - acc: 0.976 - ETA: 1:53 - loss: 0.0604 - acc: 0.977 - ETA: 1:52 - loss: 0.0605 - acc: 0.976 - ETA: 1:51 - loss: 0.0604 - acc: 0.976 - ETA: 1:51 - loss: 0.0604 - acc: 0.976 - ETA: 1:50 - loss: 0.0602 - acc: 0.977 - ETA: 1:49 - loss: 0.0604 - acc: 0.976 - ETA: 1:48 - loss: 0.0612 - acc: 0.976 - ETA: 1:47 - loss: 0.0613 - acc: 0.976 - ETA: 1:47 - loss: 0.0618 - acc: 0.976 - ETA: 1:46 - loss: 0.0616 - acc: 0.976 - ETA: 1:45 - loss: 0.0615 - acc: 0.976 - ETA: 1:44 - loss: 0.0614 - acc: 0.976 - ETA: 1:43 - loss: 0.0613 - acc: 0.976 - ETA: 1:43 - loss: 0.0612 - acc: 0.976 - ETA: 1:42 - loss: 0.0611 - acc: 0.976 - ETA: 1:41 - loss: 0.0612 - acc: 0.976 - ETA: 1:40 - loss: 0.0610 - acc: 0.977 - ETA: 1:39 - loss: 0.0611 - acc: 0.976 - ETA: 1:38 - loss: 0.0610 - acc: 0.977 - ETA: 1:38 - loss: 0.0613 - acc: 0.976 - ETA: 1:37 - loss: 0.0617 - acc: 0.976 - ETA: 1:36 - loss: 0.0615 - acc: 0.976 - ETA: 1:35 - loss: 0.0613 - acc: 0.977 - ETA: 1:35 - loss: 0.0619 - acc: 0.976 - ETA: 1:34 - loss: 0.0619 - acc: 0.976 - ETA: 1:33 - loss: 0.0618 - acc: 0.976 - ETA: 1:32 - loss: 0.0617 - acc: 0.976 - ETA: 1:31 - loss: 0.0616 - acc: 0.976 - ETA: 1:31 - loss: 0.0615 - acc: 0.976 - ETA: 1:30 - loss: 0.0613 - acc: 0.977 - ETA: 1:29 - loss: 0.0612 - acc: 0.977 - ETA: 1:28 - loss: 0.0611 - acc: 0.977 - ETA: 1:28 - loss: 0.0609 - acc: 0.977 - ETA: 1:27 - loss: 0.0607 - acc: 0.977 - ETA: 1:26 - loss: 0.0608 - acc: 0.977 - ETA: 1:25 - loss: 0.0606 - acc: 0.977 - ETA: 1:24 - loss: 0.0612 - acc: 0.977 - ETA: 1:24 - loss: 0.0613 - acc: 0.976 - ETA: 1:23 - loss: 0.0613 - acc: 0.976 - ETA: 1:22 - loss: 0.0612 - acc: 0.976 - ETA: 1:21 - loss: 0.0610 - acc: 0.976 - ETA: 1:20 - loss: 0.0610 - acc: 0.976 - ETA: 1:20 - loss: 0.0610 - acc: 0.977 - ETA: 1:19 - loss: 0.0608 - acc: 0.977 - ETA: 1:18 - loss: 0.0607 - acc: 0.977 - ETA: 1:17 - loss: 0.0606 - acc: 0.977 - ETA: 1:16 - loss: 0.0604 - acc: 0.977 - ETA: 1:15 - loss: 0.0609 - acc: 0.977 - ETA: 1:15 - loss: 0.0609 - acc: 0.977 - ETA: 1:14 - loss: 0.0607 - acc: 0.977 - ETA: 1:13 - loss: 0.0606 - acc: 0.977 - ETA: 1:12 - loss: 0.0605 - acc: 0.977 - ETA: 1:12 - loss: 0.0605 - acc: 0.977 - ETA: 1:11 - loss: 0.0604 - acc: 0.977 - ETA: 1:10 - loss: 0.0602 - acc: 0.977 - ETA: 1:09 - loss: 0.0600 - acc: 0.977 - ETA: 1:08 - loss: 0.0600 - acc: 0.977 - ETA: 1:08 - loss: 0.0598 - acc: 0.977 - ETA: 1:07 - loss: 0.0597 - acc: 0.977 - ETA: 1:06 - loss: 0.0596 - acc: 0.977 - ETA: 1:05 - loss: 0.0596 - acc: 0.977 - ETA: 1:04 - loss: 0.0594 - acc: 0.977 - ETA: 1:03 - loss: 0.0592 - acc: 0.977 - ETA: 1:03 - loss: 0.0591 - acc: 0.977 - ETA: 1:02 - loss: 0.0594 - acc: 0.977 - ETA: 1:01 - loss: 0.0593 - acc: 0.977 - ETA: 1:00 - loss: 0.0593 - acc: 0.977 - ETA: 59s - loss: 0.0591 - acc: 0.977 - ETA: 59s - loss: 0.0590 - acc: 0.97 - ETA: 58s - loss: 0.0590 - acc: 0.97 - ETA: 57s - loss: 0.0589 - acc: 0.97 - ETA: 56s - loss: 0.0588 - acc: 0.97 - ETA: 55s - loss: 0.0587 - acc: 0.97 - ETA: 55s - loss: 0.0585 - acc: 0.97 - ETA: 54s - loss: 0.0587 - acc: 0.97 - ETA: 53s - loss: 0.0585 - acc: 0.97 - ETA: 52s - loss: 0.0593 - acc: 0.97 - ETA: 51s - loss: 0.0594 - acc: 0.97 - ETA: 51s - loss: 0.0593 - acc: 0.97 - ETA: 50s - loss: 0.0592 - acc: 0.97 - ETA: 49s - loss: 0.0592 - acc: 0.97 - ETA: 48s - loss: 0.0590 - acc: 0.97 - ETA: 47s - loss: 0.0595 - acc: 0.97 - ETA: 47s - loss: 0.0598 - acc: 0.97 - ETA: 46s - loss: 0.0598 - acc: 0.97 - ETA: 45s - loss: 0.0599 - acc: 0.97 - ETA: 44s - loss: 0.0602 - acc: 0.97 - ETA: 43s - loss: 0.0600 - acc: 0.97 - ETA: 43s - loss: 0.0599 - acc: 0.97 - ETA: 42s - loss: 0.0598 - acc: 0.97 - ETA: 41s - loss: 0.0597 - acc: 0.97 - ETA: 40s - loss: 0.0596 - acc: 0.97 - ETA: 39s - loss: 0.0597 - acc: 0.97 - ETA: 39s - loss: 0.0597 - acc: 0.97 - ETA: 38s - loss: 0.0598 - acc: 0.97 - ETA: 37s - loss: 0.0596 - acc: 0.97 - ETA: 36s - loss: 0.0595 - acc: 0.97 - ETA: 35s - loss: 0.0593 - acc: 0.97 - ETA: 35s - loss: 0.0592 - acc: 0.97 - ETA: 34s - loss: 0.0595 - acc: 0.97 - ETA: 33s - loss: 0.0596 - acc: 0.97 - ETA: 32s - loss: 0.0596 - acc: 0.97 - ETA: 31s - loss: 0.0603 - acc: 0.97 - ETA: 31s - loss: 0.0602 - acc: 0.97 - ETA: 30s - loss: 0.0601 - acc: 0.97 - ETA: 29s - loss: 0.0599 - acc: 0.97 - ETA: 28s - loss: 0.0601 - acc: 0.97 - ETA: 27s - loss: 0.0600 - acc: 0.97 - ETA: 27s - loss: 0.0599 - acc: 0.97 - ETA: 26s - loss: 0.0601 - acc: 0.97 - ETA: 25s - loss: 0.0602 - acc: 0.97 - ETA: 24s - loss: 0.0600 - acc: 0.97 - ETA: 23s - loss: 0.0599 - acc: 0.97 - ETA: 23s - loss: 0.0600 - acc: 0.97 - ETA: 22s - loss: 0.0602 - acc: 0.97 - ETA: 21s - loss: 0.0604 - acc: 0.97 - ETA: 20s - loss: 0.0604 - acc: 0.97 - ETA: 19s - loss: 0.0608 - acc: 0.97 - ETA: 19s - loss: 0.0607 - acc: 0.97 - ETA: 18s - loss: 0.0606 - acc: 0.97 - ETA: 17s - loss: 0.0605 - acc: 0.97 - ETA: 16s - loss: 0.0604 - acc: 0.97 - ETA: 15s - loss: 0.0603 - acc: 0.97 - ETA: 15s - loss: 0.0605 - acc: 0.97 - ETA: 14s - loss: 0.0604 - acc: 0.97 - ETA: 13s - loss: 0.0610 - acc: 0.97 - ETA: 12s - loss: 0.0608 - acc: 0.97 - ETA: 11s - loss: 0.0607 - acc: 0.97 - ETA: 11s - loss: 0.0607 - acc: 0.97 - ETA: 10s - loss: 0.0606 - acc: 0.97 - ETA: 9s - loss: 0.0610 - acc: 0.9775 - ETA: 8s - loss: 0.0610 - acc: 0.977 - ETA: 7s - loss: 0.0611 - acc: 0.977 - ETA: 7s - loss: 0.0610 - acc: 0.977 - ETA: 6s - loss: 0.0613 - acc: 0.977 - ETA: 5s - loss: 0.0615 - acc: 0.977 - ETA: 4s - loss: 0.0617 - acc: 0.977 - ETA: 3s - loss: 0.0617 - acc: 0.977 - ETA: 3s - loss: 0.0618 - acc: 0.977 - ETA: 2s - loss: 0.0619 - acc: 0.976 - ETA: 1s - loss: 0.0619 - acc: 0.976 - ETA: 0s - loss: 0.0625 - acc: 0.976 - 326s 25ms/step - loss: 0.0628 - acc: 0.9766 - val_loss: 3.4496 - val_acc: 0.3931\n",
      "Epoch 9/20\n"
     ]
    },
    {
     "name": "stdout",
     "output_type": "stream",
     "text": [
      " 6528/12793 [==============>...............] - ETA: 4:04 - loss: 0.0576 - acc: 0.968 - ETA: 5:30 - loss: 0.0572 - acc: 0.968 - ETA: 5:42 - loss: 0.0404 - acc: 0.979 - ETA: 5:17 - loss: 0.0410 - acc: 0.984 - ETA: 5:08 - loss: 0.0333 - acc: 0.987 - ETA: 5:25 - loss: 0.0292 - acc: 0.989 - ETA: 5:21 - loss: 0.0336 - acc: 0.986 - ETA: 5:10 - loss: 0.0315 - acc: 0.988 - ETA: 5:04 - loss: 0.0334 - acc: 0.989 - ETA: 5:14 - loss: 0.0364 - acc: 0.987 - ETA: 5:12 - loss: 0.0352 - acc: 0.988 - ETA: 5:05 - loss: 0.0439 - acc: 0.981 - ETA: 5:04 - loss: 0.0408 - acc: 0.983 - ETA: 5:11 - loss: 0.0411 - acc: 0.982 - ETA: 5:06 - loss: 0.0422 - acc: 0.983 - ETA: 5:01 - loss: 0.0399 - acc: 0.984 - ETA: 5:04 - loss: 0.0394 - acc: 0.985 - ETA: 5:08 - loss: 0.0426 - acc: 0.984 - ETA: 5:03 - loss: 0.0413 - acc: 0.985 - ETA: 4:59 - loss: 0.0395 - acc: 0.985 - ETA: 5:01 - loss: 0.0473 - acc: 0.982 - ETA: 5:04 - loss: 0.0497 - acc: 0.980 - ETA: 5:00 - loss: 0.0481 - acc: 0.981 - ETA: 4:58 - loss: 0.0463 - acc: 0.981 - ETA: 5:00 - loss: 0.0448 - acc: 0.982 - ETA: 5:00 - loss: 0.0441 - acc: 0.983 - ETA: 4:57 - loss: 0.0459 - acc: 0.982 - ETA: 4:54 - loss: 0.0471 - acc: 0.982 - ETA: 4:57 - loss: 0.0481 - acc: 0.981 - ETA: 4:56 - loss: 0.0477 - acc: 0.982 - ETA: 4:54 - loss: 0.0461 - acc: 0.982 - ETA: 4:53 - loss: 0.0449 - acc: 0.983 - ETA: 4:56 - loss: 0.0445 - acc: 0.983 - ETA: 4:57 - loss: 0.0433 - acc: 0.983 - ETA: 4:57 - loss: 0.0429 - acc: 0.983 - ETA: 4:54 - loss: 0.0430 - acc: 0.982 - ETA: 4:52 - loss: 0.0425 - acc: 0.983 - ETA: 4:54 - loss: 0.0420 - acc: 0.983 - ETA: 4:52 - loss: 0.0410 - acc: 0.984 - ETA: 4:49 - loss: 0.0401 - acc: 0.984 - ETA: 4:48 - loss: 0.0393 - acc: 0.984 - ETA: 4:49 - loss: 0.0395 - acc: 0.984 - ETA: 4:48 - loss: 0.0388 - acc: 0.984 - ETA: 4:45 - loss: 0.0380 - acc: 0.985 - ETA: 4:45 - loss: 0.0372 - acc: 0.985 - ETA: 4:46 - loss: 0.0374 - acc: 0.985 - ETA: 4:44 - loss: 0.0378 - acc: 0.984 - ETA: 4:42 - loss: 0.0385 - acc: 0.984 - ETA: 4:42 - loss: 0.0379 - acc: 0.984 - ETA: 4:43 - loss: 0.0382 - acc: 0.984 - ETA: 4:41 - loss: 0.0376 - acc: 0.984 - ETA: 4:40 - loss: 0.0379 - acc: 0.984 - ETA: 4:42 - loss: 0.0397 - acc: 0.983 - ETA: 4:40 - loss: 0.0392 - acc: 0.983 - ETA: 4:39 - loss: 0.0387 - acc: 0.984 - ETA: 4:39 - loss: 0.0411 - acc: 0.983 - ETA: 4:40 - loss: 0.0405 - acc: 0.984 - ETA: 4:41 - loss: 0.0401 - acc: 0.984 - ETA: 4:40 - loss: 0.0405 - acc: 0.984 - ETA: 4:38 - loss: 0.0424 - acc: 0.982 - ETA: 4:37 - loss: 0.0425 - acc: 0.982 - ETA: 4:38 - loss: 0.0420 - acc: 0.982 - ETA: 4:36 - loss: 0.0433 - acc: 0.982 - ETA: 4:34 - loss: 0.0445 - acc: 0.981 - ETA: 4:34 - loss: 0.0442 - acc: 0.982 - ETA: 4:34 - loss: 0.0439 - acc: 0.982 - ETA: 4:32 - loss: 0.0445 - acc: 0.982 - ETA: 4:31 - loss: 0.0441 - acc: 0.982 - ETA: 4:32 - loss: 0.0455 - acc: 0.981 - ETA: 4:31 - loss: 0.0452 - acc: 0.982 - ETA: 4:30 - loss: 0.0447 - acc: 0.982 - ETA: 4:31 - loss: 0.0443 - acc: 0.982 - ETA: 4:30 - loss: 0.0441 - acc: 0.982 - ETA: 4:29 - loss: 0.0443 - acc: 0.982 - ETA: 4:28 - loss: 0.0443 - acc: 0.982 - ETA: 4:29 - loss: 0.0442 - acc: 0.982 - ETA: 4:30 - loss: 0.0444 - acc: 0.982 - ETA: 4:29 - loss: 0.0453 - acc: 0.982 - ETA: 4:27 - loss: 0.0470 - acc: 0.981 - ETA: 4:27 - loss: 0.0475 - acc: 0.981 - ETA: 4:27 - loss: 0.0474 - acc: 0.981 - ETA: 4:25 - loss: 0.0528 - acc: 0.980 - ETA: 4:23 - loss: 0.0541 - acc: 0.979 - ETA: 4:23 - loss: 0.0538 - acc: 0.979 - ETA: 4:23 - loss: 0.0543 - acc: 0.979 - ETA: 4:21 - loss: 0.0547 - acc: 0.979 - ETA: 4:19 - loss: 0.0546 - acc: 0.979 - ETA: 4:20 - loss: 0.0550 - acc: 0.978 - ETA: 4:19 - loss: 0.0553 - acc: 0.978 - ETA: 4:17 - loss: 0.0549 - acc: 0.978 - ETA: 4:16 - loss: 0.0555 - acc: 0.978 - ETA: 4:17 - loss: 0.0553 - acc: 0.978 - ETA: 4:17 - loss: 0.0548 - acc: 0.978 - ETA: 4:16 - loss: 0.0548 - acc: 0.978 - ETA: 4:15 - loss: 0.0546 - acc: 0.978 - ETA: 4:15 - loss: 0.0545 - acc: 0.978 - ETA: 4:15 - loss: 0.0558 - acc: 0.978 - ETA: 4:13 - loss: 0.0553 - acc: 0.978 - ETA: 4:12 - loss: 0.0549 - acc: 0.978 - ETA: 4:13 - loss: 0.0559 - acc: 0.978 - ETA: 4:12 - loss: 0.0554 - acc: 0.978 - ETA: 4:11 - loss: 0.0554 - acc: 0.978 - ETA: 4:11 - loss: 0.0552 - acc: 0.978 - ETA: 4:12 - loss: 0.0548 - acc: 0.979 - ETA: 4:11 - loss: 0.0544 - acc: 0.979 - ETA: 4:10 - loss: 0.0550 - acc: 0.979 - ETA: 4:10 - loss: 0.0550 - acc: 0.979 - ETA: 4:09 - loss: 0.0566 - acc: 0.978 - ETA: 4:08 - loss: 0.0575 - acc: 0.978 - ETA: 4:08 - loss: 0.0574 - acc: 0.978 - ETA: 4:07 - loss: 0.0574 - acc: 0.978 - ETA: 4:06 - loss: 0.0571 - acc: 0.978 - ETA: 4:05 - loss: 0.0574 - acc: 0.977 - ETA: 4:05 - loss: 0.0571 - acc: 0.977 - ETA: 4:04 - loss: 0.0569 - acc: 0.977 - ETA: 4:03 - loss: 0.0582 - acc: 0.977 - ETA: 4:03 - loss: 0.0587 - acc: 0.976 - ETA: 4:02 - loss: 0.0585 - acc: 0.976 - ETA: 4:01 - loss: 0.0583 - acc: 0.976 - ETA: 4:00 - loss: 0.0582 - acc: 0.976 - ETA: 4:00 - loss: 0.0594 - acc: 0.976 - ETA: 3:59 - loss: 0.0590 - acc: 0.976 - ETA: 3:59 - loss: 0.0587 - acc: 0.976 - ETA: 3:57 - loss: 0.0585 - acc: 0.977 - ETA: 3:57 - loss: 0.0582 - acc: 0.977 - ETA: 3:56 - loss: 0.0588 - acc: 0.977 - ETA: 3:55 - loss: 0.0585 - acc: 0.977 - ETA: 3:54 - loss: 0.0581 - acc: 0.977 - ETA: 3:54 - loss: 0.0586 - acc: 0.977 - ETA: 3:53 - loss: 0.0585 - acc: 0.977 - ETA: 3:52 - loss: 0.0597 - acc: 0.976 - ETA: 3:51 - loss: 0.0596 - acc: 0.977 - ETA: 3:50 - loss: 0.0595 - acc: 0.977 - ETA: 3:49 - loss: 0.0595 - acc: 0.976 - ETA: 3:48 - loss: 0.0592 - acc: 0.977 - ETA: 3:47 - loss: 0.0593 - acc: 0.977 - ETA: 3:46 - loss: 0.0591 - acc: 0.977 - ETA: 3:45 - loss: 0.0590 - acc: 0.976 - ETA: 3:44 - loss: 0.0587 - acc: 0.977 - ETA: 3:43 - loss: 0.0590 - acc: 0.977 - ETA: 3:43 - loss: 0.0588 - acc: 0.977 - ETA: 3:42 - loss: 0.0591 - acc: 0.976 - ETA: 3:41 - loss: 0.0594 - acc: 0.976 - ETA: 3:40 - loss: 0.0590 - acc: 0.977 - ETA: 3:39 - loss: 0.0591 - acc: 0.976 - ETA: 3:38 - loss: 0.0587 - acc: 0.977 - ETA: 3:37 - loss: 0.0584 - acc: 0.977 - ETA: 3:36 - loss: 0.0581 - acc: 0.977 - ETA: 3:36 - loss: 0.0580 - acc: 0.977 - ETA: 3:34 - loss: 0.0580 - acc: 0.977 - ETA: 3:33 - loss: 0.0582 - acc: 0.977 - ETA: 3:32 - loss: 0.0578 - acc: 0.977 - ETA: 3:31 - loss: 0.0577 - acc: 0.977 - ETA: 3:30 - loss: 0.0577 - acc: 0.977 - ETA: 3:29 - loss: 0.0575 - acc: 0.977 - ETA: 3:28 - loss: 0.0574 - acc: 0.977 - ETA: 3:27 - loss: 0.0572 - acc: 0.977 - ETA: 3:26 - loss: 0.0572 - acc: 0.977 - ETA: 3:25 - loss: 0.0569 - acc: 0.977 - ETA: 3:24 - loss: 0.0568 - acc: 0.977 - ETA: 3:24 - loss: 0.0565 - acc: 0.977 - ETA: 3:24 - loss: 0.0563 - acc: 0.977 - ETA: 3:23 - loss: 0.0561 - acc: 0.977 - ETA: 3:23 - loss: 0.0558 - acc: 0.977 - ETA: 3:22 - loss: 0.0555 - acc: 0.977 - ETA: 3:21 - loss: 0.0563 - acc: 0.977 - ETA: 3:21 - loss: 0.0560 - acc: 0.977 - ETA: 3:20 - loss: 0.0557 - acc: 0.978 - ETA: 3:19 - loss: 0.0556 - acc: 0.978 - ETA: 3:19 - loss: 0.0555 - acc: 0.978 - ETA: 3:17 - loss: 0.0554 - acc: 0.978 - ETA: 3:17 - loss: 0.0552 - acc: 0.978 - ETA: 3:16 - loss: 0.0566 - acc: 0.978 - ETA: 3:15 - loss: 0.0564 - acc: 0.978 - ETA: 3:14 - loss: 0.0561 - acc: 0.978 - ETA: 3:14 - loss: 0.0565 - acc: 0.978 - ETA: 3:13 - loss: 0.0562 - acc: 0.978 - ETA: 3:12 - loss: 0.0560 - acc: 0.978 - ETA: 3:11 - loss: 0.0557 - acc: 0.978 - ETA: 3:11 - loss: 0.0562 - acc: 0.978 - ETA: 3:10 - loss: 0.0561 - acc: 0.978 - ETA: 3:10 - loss: 0.0558 - acc: 0.978 - ETA: 3:09 - loss: 0.0555 - acc: 0.979 - ETA: 3:08 - loss: 0.0552 - acc: 0.979 - ETA: 3:07 - loss: 0.0550 - acc: 0.979 - ETA: 3:07 - loss: 0.0547 - acc: 0.979 - ETA: 3:06 - loss: 0.0553 - acc: 0.979 - ETA: 3:05 - loss: 0.0572 - acc: 0.979 - ETA: 3:04 - loss: 0.0569 - acc: 0.979 - ETA: 3:04 - loss: 0.0568 - acc: 0.979 - ETA: 3:03 - loss: 0.0565 - acc: 0.979 - ETA: 3:03 - loss: 0.0570 - acc: 0.979 - ETA: 3:02 - loss: 0.0575 - acc: 0.979 - ETA: 3:01 - loss: 0.0575 - acc: 0.979 - ETA: 3:01 - loss: 0.0574 - acc: 0.979 - ETA: 3:00 - loss: 0.0576 - acc: 0.979 - ETA: 2:59 - loss: 0.0573 - acc: 0.979 - ETA: 2:58 - loss: 0.0574 - acc: 0.979 - ETA: 2:58 - loss: 0.0573 - acc: 0.979 - ETA: 2:57 - loss: 0.0571 - acc: 0.979 - ETA: 2:56 - loss: 0.0569 - acc: 0.979 - ETA: 2:55 - loss: 0.0578 - acc: 0.979 - ETA: 2:54 - loss: 0.0575 - acc: 0.979 - ETA: 2:53 - loss: 0.0575 - acc: 0.9793"
     ]
    },
    {
     "name": "stdout",
     "output_type": "stream",
     "text": [
      "12793/12793 [==============================] - ETA: 2:52 - loss: 0.0576 - acc: 0.979 - ETA: 2:51 - loss: 0.0575 - acc: 0.979 - ETA: 2:50 - loss: 0.0572 - acc: 0.979 - ETA: 2:49 - loss: 0.0576 - acc: 0.979 - ETA: 2:49 - loss: 0.0577 - acc: 0.979 - ETA: 2:48 - loss: 0.0580 - acc: 0.979 - ETA: 2:47 - loss: 0.0583 - acc: 0.979 - ETA: 2:46 - loss: 0.0581 - acc: 0.979 - ETA: 2:45 - loss: 0.0585 - acc: 0.979 - ETA: 2:44 - loss: 0.0592 - acc: 0.978 - ETA: 2:43 - loss: 0.0592 - acc: 0.978 - ETA: 2:42 - loss: 0.0598 - acc: 0.978 - ETA: 2:41 - loss: 0.0601 - acc: 0.978 - ETA: 2:41 - loss: 0.0599 - acc: 0.978 - ETA: 2:40 - loss: 0.0600 - acc: 0.978 - ETA: 2:39 - loss: 0.0599 - acc: 0.978 - ETA: 2:39 - loss: 0.0597 - acc: 0.978 - ETA: 2:38 - loss: 0.0594 - acc: 0.978 - ETA: 2:37 - loss: 0.0598 - acc: 0.978 - ETA: 2:36 - loss: 0.0597 - acc: 0.978 - ETA: 2:35 - loss: 0.0598 - acc: 0.978 - ETA: 2:34 - loss: 0.0599 - acc: 0.978 - ETA: 2:34 - loss: 0.0602 - acc: 0.978 - ETA: 2:33 - loss: 0.0610 - acc: 0.977 - ETA: 2:32 - loss: 0.0609 - acc: 0.977 - ETA: 2:31 - loss: 0.0609 - acc: 0.977 - ETA: 2:30 - loss: 0.0609 - acc: 0.977 - ETA: 2:29 - loss: 0.0609 - acc: 0.977 - ETA: 2:28 - loss: 0.0606 - acc: 0.977 - ETA: 2:27 - loss: 0.0607 - acc: 0.977 - ETA: 2:26 - loss: 0.0606 - acc: 0.977 - ETA: 2:25 - loss: 0.0608 - acc: 0.977 - ETA: 2:24 - loss: 0.0609 - acc: 0.977 - ETA: 2:23 - loss: 0.0609 - acc: 0.977 - ETA: 2:22 - loss: 0.0611 - acc: 0.977 - ETA: 2:21 - loss: 0.0609 - acc: 0.977 - ETA: 2:20 - loss: 0.0607 - acc: 0.977 - ETA: 2:19 - loss: 0.0611 - acc: 0.977 - ETA: 2:18 - loss: 0.0611 - acc: 0.977 - ETA: 2:17 - loss: 0.0614 - acc: 0.977 - ETA: 2:16 - loss: 0.0612 - acc: 0.977 - ETA: 2:15 - loss: 0.0611 - acc: 0.977 - ETA: 2:14 - loss: 0.0609 - acc: 0.977 - ETA: 2:13 - loss: 0.0608 - acc: 0.977 - ETA: 2:12 - loss: 0.0606 - acc: 0.978 - ETA: 2:11 - loss: 0.0605 - acc: 0.978 - ETA: 2:10 - loss: 0.0602 - acc: 0.978 - ETA: 2:09 - loss: 0.0602 - acc: 0.978 - ETA: 2:08 - loss: 0.0607 - acc: 0.978 - ETA: 2:07 - loss: 0.0611 - acc: 0.977 - ETA: 2:07 - loss: 0.0609 - acc: 0.977 - ETA: 2:06 - loss: 0.0607 - acc: 0.977 - ETA: 2:05 - loss: 0.0607 - acc: 0.977 - ETA: 2:04 - loss: 0.0612 - acc: 0.977 - ETA: 2:03 - loss: 0.0610 - acc: 0.977 - ETA: 2:03 - loss: 0.0609 - acc: 0.977 - ETA: 2:02 - loss: 0.0607 - acc: 0.977 - ETA: 2:01 - loss: 0.0607 - acc: 0.977 - ETA: 2:00 - loss: 0.0605 - acc: 0.978 - ETA: 1:59 - loss: 0.0608 - acc: 0.977 - ETA: 1:59 - loss: 0.0606 - acc: 0.977 - ETA: 1:58 - loss: 0.0604 - acc: 0.977 - ETA: 1:57 - loss: 0.0602 - acc: 0.978 - ETA: 1:56 - loss: 0.0600 - acc: 0.978 - ETA: 1:55 - loss: 0.0598 - acc: 0.978 - ETA: 1:54 - loss: 0.0598 - acc: 0.978 - ETA: 1:53 - loss: 0.0598 - acc: 0.978 - ETA: 1:52 - loss: 0.0597 - acc: 0.978 - ETA: 1:51 - loss: 0.0594 - acc: 0.978 - ETA: 1:51 - loss: 0.0593 - acc: 0.978 - ETA: 1:50 - loss: 0.0592 - acc: 0.978 - ETA: 1:49 - loss: 0.0592 - acc: 0.978 - ETA: 1:48 - loss: 0.0592 - acc: 0.978 - ETA: 1:47 - loss: 0.0590 - acc: 0.978 - ETA: 1:46 - loss: 0.0590 - acc: 0.978 - ETA: 1:45 - loss: 0.0589 - acc: 0.978 - ETA: 1:45 - loss: 0.0588 - acc: 0.978 - ETA: 1:44 - loss: 0.0587 - acc: 0.978 - ETA: 1:43 - loss: 0.0590 - acc: 0.978 - ETA: 1:42 - loss: 0.0589 - acc: 0.978 - ETA: 1:41 - loss: 0.0588 - acc: 0.978 - ETA: 1:40 - loss: 0.0588 - acc: 0.978 - ETA: 1:39 - loss: 0.0586 - acc: 0.978 - ETA: 1:38 - loss: 0.0585 - acc: 0.978 - ETA: 1:37 - loss: 0.0590 - acc: 0.978 - ETA: 1:36 - loss: 0.0588 - acc: 0.978 - ETA: 1:36 - loss: 0.0586 - acc: 0.978 - ETA: 1:35 - loss: 0.0585 - acc: 0.978 - ETA: 1:34 - loss: 0.0584 - acc: 0.978 - ETA: 1:33 - loss: 0.0585 - acc: 0.978 - ETA: 1:32 - loss: 0.0586 - acc: 0.978 - ETA: 1:31 - loss: 0.0584 - acc: 0.978 - ETA: 1:30 - loss: 0.0586 - acc: 0.978 - ETA: 1:29 - loss: 0.0584 - acc: 0.978 - ETA: 1:29 - loss: 0.0583 - acc: 0.978 - ETA: 1:28 - loss: 0.0581 - acc: 0.978 - ETA: 1:27 - loss: 0.0582 - acc: 0.978 - ETA: 1:26 - loss: 0.0583 - acc: 0.978 - ETA: 1:25 - loss: 0.0582 - acc: 0.978 - ETA: 1:24 - loss: 0.0589 - acc: 0.978 - ETA: 1:23 - loss: 0.0587 - acc: 0.978 - ETA: 1:22 - loss: 0.0586 - acc: 0.978 - ETA: 1:21 - loss: 0.0585 - acc: 0.978 - ETA: 1:21 - loss: 0.0589 - acc: 0.978 - ETA: 1:20 - loss: 0.0590 - acc: 0.978 - ETA: 1:19 - loss: 0.0590 - acc: 0.978 - ETA: 1:18 - loss: 0.0590 - acc: 0.978 - ETA: 1:17 - loss: 0.0591 - acc: 0.978 - ETA: 1:16 - loss: 0.0596 - acc: 0.978 - ETA: 1:15 - loss: 0.0595 - acc: 0.978 - ETA: 1:14 - loss: 0.0593 - acc: 0.978 - ETA: 1:14 - loss: 0.0593 - acc: 0.978 - ETA: 1:13 - loss: 0.0593 - acc: 0.978 - ETA: 1:12 - loss: 0.0593 - acc: 0.978 - ETA: 1:11 - loss: 0.0592 - acc: 0.978 - ETA: 1:10 - loss: 0.0591 - acc: 0.978 - ETA: 1:09 - loss: 0.0593 - acc: 0.978 - ETA: 1:08 - loss: 0.0597 - acc: 0.978 - ETA: 1:07 - loss: 0.0601 - acc: 0.978 - ETA: 1:06 - loss: 0.0600 - acc: 0.978 - ETA: 1:06 - loss: 0.0606 - acc: 0.978 - ETA: 1:05 - loss: 0.0605 - acc: 0.978 - ETA: 1:04 - loss: 0.0606 - acc: 0.978 - ETA: 1:03 - loss: 0.0607 - acc: 0.978 - ETA: 1:02 - loss: 0.0606 - acc: 0.978 - ETA: 1:01 - loss: 0.0607 - acc: 0.977 - ETA: 1:00 - loss: 0.0614 - acc: 0.977 - ETA: 59s - loss: 0.0612 - acc: 0.978 - ETA: 59s - loss: 0.0611 - acc: 0.97 - ETA: 58s - loss: 0.0609 - acc: 0.97 - ETA: 57s - loss: 0.0608 - acc: 0.97 - ETA: 56s - loss: 0.0608 - acc: 0.97 - ETA: 55s - loss: 0.0607 - acc: 0.97 - ETA: 54s - loss: 0.0606 - acc: 0.97 - ETA: 53s - loss: 0.0610 - acc: 0.97 - ETA: 52s - loss: 0.0612 - acc: 0.97 - ETA: 52s - loss: 0.0611 - acc: 0.97 - ETA: 51s - loss: 0.0610 - acc: 0.97 - ETA: 50s - loss: 0.0609 - acc: 0.97 - ETA: 49s - loss: 0.0608 - acc: 0.97 - ETA: 48s - loss: 0.0608 - acc: 0.97 - ETA: 47s - loss: 0.0611 - acc: 0.97 - ETA: 46s - loss: 0.0610 - acc: 0.97 - ETA: 46s - loss: 0.0610 - acc: 0.97 - ETA: 45s - loss: 0.0609 - acc: 0.97 - ETA: 44s - loss: 0.0610 - acc: 0.97 - ETA: 43s - loss: 0.0610 - acc: 0.97 - ETA: 42s - loss: 0.0610 - acc: 0.97 - ETA: 41s - loss: 0.0609 - acc: 0.97 - ETA: 40s - loss: 0.0608 - acc: 0.97 - ETA: 39s - loss: 0.0611 - acc: 0.97 - ETA: 38s - loss: 0.0613 - acc: 0.97 - ETA: 38s - loss: 0.0613 - acc: 0.97 - ETA: 37s - loss: 0.0612 - acc: 0.97 - ETA: 36s - loss: 0.0611 - acc: 0.97 - ETA: 35s - loss: 0.0609 - acc: 0.97 - ETA: 34s - loss: 0.0608 - acc: 0.97 - ETA: 33s - loss: 0.0610 - acc: 0.97 - ETA: 32s - loss: 0.0610 - acc: 0.97 - ETA: 31s - loss: 0.0609 - acc: 0.97 - ETA: 31s - loss: 0.0608 - acc: 0.97 - ETA: 30s - loss: 0.0608 - acc: 0.97 - ETA: 29s - loss: 0.0606 - acc: 0.97 - ETA: 28s - loss: 0.0605 - acc: 0.97 - ETA: 27s - loss: 0.0604 - acc: 0.97 - ETA: 26s - loss: 0.0602 - acc: 0.97 - ETA: 25s - loss: 0.0601 - acc: 0.97 - ETA: 24s - loss: 0.0604 - acc: 0.97 - ETA: 23s - loss: 0.0608 - acc: 0.97 - ETA: 22s - loss: 0.0607 - acc: 0.97 - ETA: 22s - loss: 0.0606 - acc: 0.97 - ETA: 21s - loss: 0.0605 - acc: 0.97 - ETA: 20s - loss: 0.0605 - acc: 0.97 - ETA: 19s - loss: 0.0604 - acc: 0.97 - ETA: 18s - loss: 0.0606 - acc: 0.97 - ETA: 17s - loss: 0.0605 - acc: 0.97 - ETA: 16s - loss: 0.0604 - acc: 0.97 - ETA: 15s - loss: 0.0603 - acc: 0.97 - ETA: 14s - loss: 0.0601 - acc: 0.97 - ETA: 14s - loss: 0.0600 - acc: 0.97 - ETA: 13s - loss: 0.0600 - acc: 0.97 - ETA: 12s - loss: 0.0599 - acc: 0.97 - ETA: 11s - loss: 0.0600 - acc: 0.97 - ETA: 10s - loss: 0.0599 - acc: 0.97 - ETA: 9s - loss: 0.0601 - acc: 0.9783 - ETA: 8s - loss: 0.0602 - acc: 0.978 - ETA: 7s - loss: 0.0601 - acc: 0.978 - ETA: 6s - loss: 0.0600 - acc: 0.978 - ETA: 6s - loss: 0.0599 - acc: 0.978 - ETA: 5s - loss: 0.0598 - acc: 0.978 - ETA: 4s - loss: 0.0601 - acc: 0.978 - ETA: 3s - loss: 0.0600 - acc: 0.978 - ETA: 2s - loss: 0.0599 - acc: 0.978 - ETA: 1s - loss: 0.0601 - acc: 0.978 - ETA: 0s - loss: 0.0601 - acc: 0.978 - 363s 28ms/step - loss: 0.0602 - acc: 0.9783 - val_loss: 4.3364 - val_acc: 0.3601\n",
      "Epoch 10/20\n"
     ]
    },
    {
     "name": "stdout",
     "output_type": "stream",
     "text": [
      " 6528/12793 [==============>...............] - ETA: 4:31 - loss: 8.3399e-04 - acc: 1.000 - ETA: 5:45 - loss: 0.0149 - acc: 0.9844    - ETA: 5:38 - loss: 0.0106 - acc: 0.989 - ETA: 5:12 - loss: 0.0085 - acc: 0.992 - ETA: 5:23 - loss: 0.0147 - acc: 0.993 - ETA: 5:43 - loss: 0.0188 - acc: 0.989 - ETA: 5:28 - loss: 0.0163 - acc: 0.991 - ETA: 5:17 - loss: 0.0160 - acc: 0.992 - ETA: 5:20 - loss: 0.0150 - acc: 0.993 - ETA: 5:37 - loss: 0.0137 - acc: 0.993 - ETA: 5:42 - loss: 0.0226 - acc: 0.991 - ETA: 5:40 - loss: 0.0227 - acc: 0.992 - ETA: 5:34 - loss: 0.0238 - acc: 0.992 - ETA: 5:44 - loss: 0.0227 - acc: 0.993 - ETA: 5:48 - loss: 0.0212 - acc: 0.993 - ETA: 5:48 - loss: 0.0199 - acc: 0.994 - ETA: 5:55 - loss: 0.0230 - acc: 0.992 - ETA: 5:49 - loss: 0.0261 - acc: 0.991 - ETA: 5:44 - loss: 0.0280 - acc: 0.990 - ETA: 5:50 - loss: 0.0270 - acc: 0.990 - ETA: 5:47 - loss: 0.0258 - acc: 0.991 - ETA: 5:41 - loss: 0.0248 - acc: 0.991 - ETA: 5:35 - loss: 0.0238 - acc: 0.991 - ETA: 5:36 - loss: 0.0234 - acc: 0.992 - ETA: 5:34 - loss: 0.0225 - acc: 0.992 - ETA: 5:29 - loss: 0.0217 - acc: 0.992 - ETA: 5:25 - loss: 0.0214 - acc: 0.993 - ETA: 5:27 - loss: 0.0218 - acc: 0.993 - ETA: 5:27 - loss: 0.0211 - acc: 0.993 - ETA: 5:22 - loss: 0.0205 - acc: 0.993 - ETA: 5:20 - loss: 0.0202 - acc: 0.994 - ETA: 5:23 - loss: 0.0202 - acc: 0.994 - ETA: 5:20 - loss: 0.0226 - acc: 0.993 - ETA: 5:19 - loss: 0.0222 - acc: 0.993 - ETA: 5:23 - loss: 0.0217 - acc: 0.993 - ETA: 5:20 - loss: 0.0243 - acc: 0.992 - ETA: 5:17 - loss: 0.0268 - acc: 0.991 - ETA: 5:18 - loss: 0.0282 - acc: 0.991 - ETA: 5:17 - loss: 0.0280 - acc: 0.991 - ETA: 5:15 - loss: 0.0277 - acc: 0.991 - ETA: 5:14 - loss: 0.0288 - acc: 0.990 - ETA: 5:16 - loss: 0.0285 - acc: 0.991 - ETA: 5:14 - loss: 0.0285 - acc: 0.991 - ETA: 5:11 - loss: 0.0283 - acc: 0.991 - ETA: 5:13 - loss: 0.0287 - acc: 0.991 - ETA: 5:12 - loss: 0.0290 - acc: 0.991 - ETA: 5:10 - loss: 0.0284 - acc: 0.991 - ETA: 5:10 - loss: 0.0290 - acc: 0.990 - ETA: 5:10 - loss: 0.0318 - acc: 0.990 - ETA: 5:08 - loss: 0.0312 - acc: 0.990 - ETA: 5:07 - loss: 0.0307 - acc: 0.990 - ETA: 5:08 - loss: 0.0347 - acc: 0.989 - ETA: 5:07 - loss: 0.0340 - acc: 0.990 - ETA: 5:04 - loss: 0.0335 - acc: 0.990 - ETA: 5:07 - loss: 0.0330 - acc: 0.990 - ETA: 5:05 - loss: 0.0325 - acc: 0.990 - ETA: 5:02 - loss: 0.0320 - acc: 0.990 - ETA: 5:00 - loss: 0.0315 - acc: 0.990 - ETA: 5:00 - loss: 0.0327 - acc: 0.990 - ETA: 4:59 - loss: 0.0322 - acc: 0.990 - ETA: 4:56 - loss: 0.0323 - acc: 0.990 - ETA: 4:54 - loss: 0.0322 - acc: 0.990 - ETA: 4:55 - loss: 0.0317 - acc: 0.991 - ETA: 4:55 - loss: 0.0314 - acc: 0.991 - ETA: 4:53 - loss: 0.0327 - acc: 0.990 - ETA: 4:53 - loss: 0.0327 - acc: 0.990 - ETA: 4:52 - loss: 0.0323 - acc: 0.990 - ETA: 4:50 - loss: 0.0319 - acc: 0.990 - ETA: 4:47 - loss: 0.0315 - acc: 0.990 - ETA: 4:47 - loss: 0.0326 - acc: 0.990 - ETA: 4:46 - loss: 0.0321 - acc: 0.990 - ETA: 4:45 - loss: 0.0324 - acc: 0.990 - ETA: 4:46 - loss: 0.0320 - acc: 0.990 - ETA: 4:46 - loss: 0.0317 - acc: 0.990 - ETA: 4:44 - loss: 0.0314 - acc: 0.990 - ETA: 4:44 - loss: 0.0310 - acc: 0.990 - ETA: 4:44 - loss: 0.0307 - acc: 0.990 - ETA: 4:42 - loss: 0.0317 - acc: 0.990 - ETA: 4:41 - loss: 0.0328 - acc: 0.989 - ETA: 4:41 - loss: 0.0341 - acc: 0.989 - ETA: 4:39 - loss: 0.0349 - acc: 0.988 - ETA: 4:38 - loss: 0.0355 - acc: 0.988 - ETA: 4:36 - loss: 0.0352 - acc: 0.988 - ETA: 4:37 - loss: 0.0348 - acc: 0.988 - ETA: 4:35 - loss: 0.0345 - acc: 0.989 - ETA: 4:33 - loss: 0.0343 - acc: 0.989 - ETA: 4:33 - loss: 0.0342 - acc: 0.989 - ETA: 4:33 - loss: 0.0351 - acc: 0.989 - ETA: 4:31 - loss: 0.0352 - acc: 0.988 - ETA: 4:31 - loss: 0.0350 - acc: 0.988 - ETA: 4:30 - loss: 0.0361 - acc: 0.988 - ETA: 4:29 - loss: 0.0359 - acc: 0.988 - ETA: 4:27 - loss: 0.0359 - acc: 0.988 - ETA: 4:29 - loss: 0.0360 - acc: 0.988 - ETA: 4:28 - loss: 0.0361 - acc: 0.988 - ETA: 4:26 - loss: 0.0366 - acc: 0.988 - ETA: 4:27 - loss: 0.0367 - acc: 0.988 - ETA: 4:25 - loss: 0.0364 - acc: 0.988 - ETA: 4:24 - loss: 0.0367 - acc: 0.988 - ETA: 4:23 - loss: 0.0365 - acc: 0.988 - ETA: 4:23 - loss: 0.0368 - acc: 0.987 - ETA: 4:21 - loss: 0.0372 - acc: 0.987 - ETA: 4:19 - loss: 0.0372 - acc: 0.987 - ETA: 4:19 - loss: 0.0370 - acc: 0.987 - ETA: 4:18 - loss: 0.0371 - acc: 0.987 - ETA: 4:17 - loss: 0.0370 - acc: 0.987 - ETA: 4:16 - loss: 0.0371 - acc: 0.987 - ETA: 4:15 - loss: 0.0380 - acc: 0.987 - ETA: 4:14 - loss: 0.0385 - acc: 0.987 - ETA: 4:12 - loss: 0.0386 - acc: 0.986 - ETA: 4:11 - loss: 0.0384 - acc: 0.987 - ETA: 4:11 - loss: 0.0384 - acc: 0.987 - ETA: 4:09 - loss: 0.0382 - acc: 0.987 - ETA: 4:08 - loss: 0.0379 - acc: 0.987 - ETA: 4:07 - loss: 0.0376 - acc: 0.987 - ETA: 4:07 - loss: 0.0376 - acc: 0.987 - ETA: 4:06 - loss: 0.0377 - acc: 0.987 - ETA: 4:05 - loss: 0.0382 - acc: 0.986 - ETA: 4:04 - loss: 0.0388 - acc: 0.986 - ETA: 4:03 - loss: 0.0394 - acc: 0.986 - ETA: 4:02 - loss: 0.0393 - acc: 0.986 - ETA: 4:01 - loss: 0.0391 - acc: 0.986 - ETA: 4:01 - loss: 0.0389 - acc: 0.986 - ETA: 4:00 - loss: 0.0388 - acc: 0.986 - ETA: 3:58 - loss: 0.0385 - acc: 0.986 - ETA: 3:58 - loss: 0.0382 - acc: 0.986 - ETA: 3:57 - loss: 0.0381 - acc: 0.987 - ETA: 3:55 - loss: 0.0378 - acc: 0.987 - ETA: 3:54 - loss: 0.0384 - acc: 0.986 - ETA: 3:53 - loss: 0.0381 - acc: 0.987 - ETA: 3:52 - loss: 0.0388 - acc: 0.986 - ETA: 3:52 - loss: 0.0397 - acc: 0.986 - ETA: 3:51 - loss: 0.0394 - acc: 0.986 - ETA: 3:49 - loss: 0.0393 - acc: 0.986 - ETA: 3:48 - loss: 0.0391 - acc: 0.986 - ETA: 3:48 - loss: 0.0389 - acc: 0.986 - ETA: 3:47 - loss: 0.0390 - acc: 0.986 - ETA: 3:45 - loss: 0.0388 - acc: 0.986 - ETA: 3:45 - loss: 0.0391 - acc: 0.986 - ETA: 3:44 - loss: 0.0389 - acc: 0.986 - ETA: 3:44 - loss: 0.0408 - acc: 0.986 - ETA: 3:43 - loss: 0.0407 - acc: 0.986 - ETA: 3:42 - loss: 0.0407 - acc: 0.986 - ETA: 3:41 - loss: 0.0406 - acc: 0.986 - ETA: 3:41 - loss: 0.0405 - acc: 0.986 - ETA: 3:40 - loss: 0.0406 - acc: 0.986 - ETA: 3:40 - loss: 0.0405 - acc: 0.986 - ETA: 3:40 - loss: 0.0418 - acc: 0.985 - ETA: 3:39 - loss: 0.0423 - acc: 0.985 - ETA: 3:38 - loss: 0.0421 - acc: 0.985 - ETA: 3:37 - loss: 0.0419 - acc: 0.985 - ETA: 3:36 - loss: 0.0418 - acc: 0.986 - ETA: 3:35 - loss: 0.0415 - acc: 0.986 - ETA: 3:34 - loss: 0.0413 - acc: 0.986 - ETA: 3:33 - loss: 0.0411 - acc: 0.986 - ETA: 3:32 - loss: 0.0409 - acc: 0.986 - ETA: 3:31 - loss: 0.0407 - acc: 0.986 - ETA: 3:31 - loss: 0.0411 - acc: 0.986 - ETA: 3:30 - loss: 0.0412 - acc: 0.986 - ETA: 3:30 - loss: 0.0409 - acc: 0.986 - ETA: 3:29 - loss: 0.0409 - acc: 0.986 - ETA: 3:28 - loss: 0.0407 - acc: 0.986 - ETA: 3:27 - loss: 0.0414 - acc: 0.986 - ETA: 3:26 - loss: 0.0413 - acc: 0.986 - ETA: 3:25 - loss: 0.0418 - acc: 0.986 - ETA: 3:24 - loss: 0.0420 - acc: 0.986 - ETA: 3:23 - loss: 0.0418 - acc: 0.986 - ETA: 3:22 - loss: 0.0417 - acc: 0.986 - ETA: 3:21 - loss: 0.0415 - acc: 0.986 - ETA: 3:20 - loss: 0.0419 - acc: 0.986 - ETA: 3:20 - loss: 0.0421 - acc: 0.986 - ETA: 3:19 - loss: 0.0420 - acc: 0.986 - ETA: 3:18 - loss: 0.0418 - acc: 0.986 - ETA: 3:18 - loss: 0.0417 - acc: 0.986 - ETA: 3:17 - loss: 0.0416 - acc: 0.986 - ETA: 3:16 - loss: 0.0414 - acc: 0.986 - ETA: 3:16 - loss: 0.0423 - acc: 0.986 - ETA: 3:15 - loss: 0.0421 - acc: 0.986 - ETA: 3:13 - loss: 0.0422 - acc: 0.986 - ETA: 3:13 - loss: 0.0422 - acc: 0.986 - ETA: 3:12 - loss: 0.0422 - acc: 0.986 - ETA: 3:11 - loss: 0.0420 - acc: 0.986 - ETA: 3:10 - loss: 0.0420 - acc: 0.986 - ETA: 3:09 - loss: 0.0418 - acc: 0.986 - ETA: 3:08 - loss: 0.0418 - acc: 0.986 - ETA: 3:07 - loss: 0.0425 - acc: 0.985 - ETA: 3:07 - loss: 0.0424 - acc: 0.986 - ETA: 3:06 - loss: 0.0422 - acc: 0.986 - ETA: 3:05 - loss: 0.0421 - acc: 0.986 - ETA: 3:05 - loss: 0.0420 - acc: 0.986 - ETA: 3:04 - loss: 0.0419 - acc: 0.986 - ETA: 3:03 - loss: 0.0419 - acc: 0.986 - ETA: 3:02 - loss: 0.0417 - acc: 0.986 - ETA: 3:01 - loss: 0.0415 - acc: 0.986 - ETA: 3:00 - loss: 0.0417 - acc: 0.986 - ETA: 3:00 - loss: 0.0416 - acc: 0.986 - ETA: 2:59 - loss: 0.0414 - acc: 0.986 - ETA: 2:58 - loss: 0.0415 - acc: 0.986 - ETA: 2:57 - loss: 0.0417 - acc: 0.986 - ETA: 2:57 - loss: 0.0418 - acc: 0.986 - ETA: 2:56 - loss: 0.0416 - acc: 0.986 - ETA: 2:56 - loss: 0.0415 - acc: 0.986 - ETA: 2:55 - loss: 0.0414 - acc: 0.986 - ETA: 2:53 - loss: 0.0412 - acc: 0.9865"
     ]
    },
    {
     "name": "stdout",
     "output_type": "stream",
     "text": [
      "12793/12793 [==============================] - ETA: 2:53 - loss: 0.0413 - acc: 0.986 - ETA: 2:52 - loss: 0.0413 - acc: 0.986 - ETA: 2:51 - loss: 0.0411 - acc: 0.986 - ETA: 2:50 - loss: 0.0410 - acc: 0.986 - ETA: 2:49 - loss: 0.0409 - acc: 0.986 - ETA: 2:48 - loss: 0.0409 - acc: 0.986 - ETA: 2:47 - loss: 0.0408 - acc: 0.986 - ETA: 2:47 - loss: 0.0411 - acc: 0.986 - ETA: 2:46 - loss: 0.0412 - acc: 0.986 - ETA: 2:45 - loss: 0.0411 - acc: 0.986 - ETA: 2:43 - loss: 0.0414 - acc: 0.986 - ETA: 2:43 - loss: 0.0413 - acc: 0.986 - ETA: 2:42 - loss: 0.0420 - acc: 0.986 - ETA: 2:41 - loss: 0.0420 - acc: 0.986 - ETA: 2:40 - loss: 0.0420 - acc: 0.985 - ETA: 2:39 - loss: 0.0420 - acc: 0.985 - ETA: 2:39 - loss: 0.0422 - acc: 0.985 - ETA: 2:37 - loss: 0.0420 - acc: 0.985 - ETA: 2:36 - loss: 0.0423 - acc: 0.985 - ETA: 2:36 - loss: 0.0430 - acc: 0.985 - ETA: 2:35 - loss: 0.0430 - acc: 0.985 - ETA: 2:34 - loss: 0.0428 - acc: 0.985 - ETA: 2:33 - loss: 0.0427 - acc: 0.985 - ETA: 2:32 - loss: 0.0433 - acc: 0.985 - ETA: 2:31 - loss: 0.0433 - acc: 0.985 - ETA: 2:30 - loss: 0.0444 - acc: 0.985 - ETA: 2:29 - loss: 0.0443 - acc: 0.985 - ETA: 2:29 - loss: 0.0441 - acc: 0.985 - ETA: 2:27 - loss: 0.0441 - acc: 0.985 - ETA: 2:26 - loss: 0.0446 - acc: 0.985 - ETA: 2:26 - loss: 0.0460 - acc: 0.985 - ETA: 2:25 - loss: 0.0461 - acc: 0.984 - ETA: 2:24 - loss: 0.0467 - acc: 0.984 - ETA: 2:23 - loss: 0.0465 - acc: 0.984 - ETA: 2:22 - loss: 0.0464 - acc: 0.985 - ETA: 2:21 - loss: 0.0469 - acc: 0.984 - ETA: 2:20 - loss: 0.0476 - acc: 0.984 - ETA: 2:19 - loss: 0.0478 - acc: 0.984 - ETA: 2:18 - loss: 0.0476 - acc: 0.984 - ETA: 2:17 - loss: 0.0475 - acc: 0.984 - ETA: 2:16 - loss: 0.0483 - acc: 0.984 - ETA: 2:16 - loss: 0.0484 - acc: 0.984 - ETA: 2:15 - loss: 0.0484 - acc: 0.984 - ETA: 2:14 - loss: 0.0485 - acc: 0.984 - ETA: 2:13 - loss: 0.0485 - acc: 0.984 - ETA: 2:12 - loss: 0.0488 - acc: 0.984 - ETA: 2:11 - loss: 0.0486 - acc: 0.984 - ETA: 2:10 - loss: 0.0486 - acc: 0.984 - ETA: 2:09 - loss: 0.0484 - acc: 0.984 - ETA: 2:08 - loss: 0.0484 - acc: 0.984 - ETA: 2:07 - loss: 0.0482 - acc: 0.984 - ETA: 2:06 - loss: 0.0481 - acc: 0.984 - ETA: 2:05 - loss: 0.0479 - acc: 0.984 - ETA: 2:04 - loss: 0.0478 - acc: 0.984 - ETA: 2:03 - loss: 0.0477 - acc: 0.984 - ETA: 2:02 - loss: 0.0477 - acc: 0.984 - ETA: 2:02 - loss: 0.0475 - acc: 0.984 - ETA: 2:01 - loss: 0.0474 - acc: 0.984 - ETA: 2:00 - loss: 0.0474 - acc: 0.984 - ETA: 1:59 - loss: 0.0478 - acc: 0.984 - ETA: 1:58 - loss: 0.0477 - acc: 0.984 - ETA: 1:57 - loss: 0.0476 - acc: 0.984 - ETA: 1:56 - loss: 0.0479 - acc: 0.984 - ETA: 1:55 - loss: 0.0478 - acc: 0.984 - ETA: 1:54 - loss: 0.0477 - acc: 0.984 - ETA: 1:53 - loss: 0.0477 - acc: 0.984 - ETA: 1:52 - loss: 0.0475 - acc: 0.984 - ETA: 1:52 - loss: 0.0474 - acc: 0.984 - ETA: 1:51 - loss: 0.0473 - acc: 0.984 - ETA: 1:50 - loss: 0.0473 - acc: 0.984 - ETA: 1:49 - loss: 0.0471 - acc: 0.984 - ETA: 1:48 - loss: 0.0472 - acc: 0.984 - ETA: 1:47 - loss: 0.0471 - acc: 0.984 - ETA: 1:46 - loss: 0.0470 - acc: 0.984 - ETA: 1:45 - loss: 0.0473 - acc: 0.984 - ETA: 1:45 - loss: 0.0471 - acc: 0.984 - ETA: 1:44 - loss: 0.0471 - acc: 0.984 - ETA: 1:43 - loss: 0.0473 - acc: 0.984 - ETA: 1:42 - loss: 0.0471 - acc: 0.984 - ETA: 1:41 - loss: 0.0470 - acc: 0.984 - ETA: 1:40 - loss: 0.0472 - acc: 0.984 - ETA: 1:39 - loss: 0.0477 - acc: 0.984 - ETA: 1:38 - loss: 0.0475 - acc: 0.984 - ETA: 1:38 - loss: 0.0474 - acc: 0.984 - ETA: 1:37 - loss: 0.0473 - acc: 0.984 - ETA: 1:36 - loss: 0.0471 - acc: 0.984 - ETA: 1:35 - loss: 0.0471 - acc: 0.984 - ETA: 1:34 - loss: 0.0470 - acc: 0.984 - ETA: 1:33 - loss: 0.0468 - acc: 0.984 - ETA: 1:32 - loss: 0.0467 - acc: 0.984 - ETA: 1:31 - loss: 0.0465 - acc: 0.984 - ETA: 1:30 - loss: 0.0473 - acc: 0.984 - ETA: 1:30 - loss: 0.0479 - acc: 0.984 - ETA: 1:29 - loss: 0.0478 - acc: 0.984 - ETA: 1:28 - loss: 0.0479 - acc: 0.984 - ETA: 1:27 - loss: 0.0480 - acc: 0.984 - ETA: 1:26 - loss: 0.0481 - acc: 0.984 - ETA: 1:25 - loss: 0.0479 - acc: 0.984 - ETA: 1:24 - loss: 0.0478 - acc: 0.984 - ETA: 1:24 - loss: 0.0478 - acc: 0.984 - ETA: 1:23 - loss: 0.0478 - acc: 0.984 - ETA: 1:22 - loss: 0.0478 - acc: 0.984 - ETA: 1:21 - loss: 0.0476 - acc: 0.984 - ETA: 1:20 - loss: 0.0480 - acc: 0.984 - ETA: 1:19 - loss: 0.0481 - acc: 0.984 - ETA: 1:18 - loss: 0.0488 - acc: 0.983 - ETA: 1:17 - loss: 0.0487 - acc: 0.983 - ETA: 1:16 - loss: 0.0488 - acc: 0.983 - ETA: 1:15 - loss: 0.0487 - acc: 0.983 - ETA: 1:14 - loss: 0.0490 - acc: 0.983 - ETA: 1:14 - loss: 0.0489 - acc: 0.983 - ETA: 1:13 - loss: 0.0488 - acc: 0.983 - ETA: 1:12 - loss: 0.0490 - acc: 0.983 - ETA: 1:11 - loss: 0.0489 - acc: 0.983 - ETA: 1:10 - loss: 0.0490 - acc: 0.983 - ETA: 1:09 - loss: 0.0493 - acc: 0.983 - ETA: 1:08 - loss: 0.0499 - acc: 0.983 - ETA: 1:07 - loss: 0.0498 - acc: 0.983 - ETA: 1:06 - loss: 0.0497 - acc: 0.983 - ETA: 1:05 - loss: 0.0497 - acc: 0.983 - ETA: 1:05 - loss: 0.0498 - acc: 0.983 - ETA: 1:04 - loss: 0.0497 - acc: 0.983 - ETA: 1:03 - loss: 0.0501 - acc: 0.983 - ETA: 1:02 - loss: 0.0500 - acc: 0.983 - ETA: 1:01 - loss: 0.0499 - acc: 0.983 - ETA: 1:00 - loss: 0.0498 - acc: 0.983 - ETA: 59s - loss: 0.0497 - acc: 0.983 - ETA: 58s - loss: 0.0497 - acc: 0.98 - ETA: 57s - loss: 0.0495 - acc: 0.98 - ETA: 56s - loss: 0.0494 - acc: 0.98 - ETA: 56s - loss: 0.0493 - acc: 0.98 - ETA: 55s - loss: 0.0493 - acc: 0.98 - ETA: 54s - loss: 0.0493 - acc: 0.98 - ETA: 53s - loss: 0.0492 - acc: 0.98 - ETA: 52s - loss: 0.0491 - acc: 0.98 - ETA: 51s - loss: 0.0490 - acc: 0.98 - ETA: 50s - loss: 0.0489 - acc: 0.98 - ETA: 49s - loss: 0.0489 - acc: 0.98 - ETA: 49s - loss: 0.0496 - acc: 0.98 - ETA: 48s - loss: 0.0495 - acc: 0.98 - ETA: 47s - loss: 0.0496 - acc: 0.98 - ETA: 46s - loss: 0.0495 - acc: 0.98 - ETA: 45s - loss: 0.0496 - acc: 0.98 - ETA: 44s - loss: 0.0497 - acc: 0.98 - ETA: 43s - loss: 0.0498 - acc: 0.98 - ETA: 42s - loss: 0.0500 - acc: 0.98 - ETA: 42s - loss: 0.0499 - acc: 0.98 - ETA: 41s - loss: 0.0498 - acc: 0.98 - ETA: 40s - loss: 0.0497 - acc: 0.98 - ETA: 39s - loss: 0.0503 - acc: 0.98 - ETA: 38s - loss: 0.0502 - acc: 0.98 - ETA: 37s - loss: 0.0500 - acc: 0.98 - ETA: 36s - loss: 0.0499 - acc: 0.98 - ETA: 35s - loss: 0.0502 - acc: 0.98 - ETA: 35s - loss: 0.0501 - acc: 0.98 - ETA: 34s - loss: 0.0500 - acc: 0.98 - ETA: 33s - loss: 0.0499 - acc: 0.98 - ETA: 32s - loss: 0.0498 - acc: 0.98 - ETA: 31s - loss: 0.0497 - acc: 0.98 - ETA: 30s - loss: 0.0496 - acc: 0.98 - ETA: 29s - loss: 0.0498 - acc: 0.98 - ETA: 28s - loss: 0.0498 - acc: 0.98 - ETA: 28s - loss: 0.0502 - acc: 0.98 - ETA: 27s - loss: 0.0502 - acc: 0.98 - ETA: 26s - loss: 0.0501 - acc: 0.98 - ETA: 25s - loss: 0.0501 - acc: 0.98 - ETA: 24s - loss: 0.0500 - acc: 0.98 - ETA: 23s - loss: 0.0499 - acc: 0.98 - ETA: 22s - loss: 0.0498 - acc: 0.98 - ETA: 22s - loss: 0.0498 - acc: 0.98 - ETA: 21s - loss: 0.0498 - acc: 0.98 - ETA: 20s - loss: 0.0497 - acc: 0.98 - ETA: 19s - loss: 0.0496 - acc: 0.98 - ETA: 18s - loss: 0.0495 - acc: 0.98 - ETA: 17s - loss: 0.0494 - acc: 0.98 - ETA: 16s - loss: 0.0496 - acc: 0.98 - ETA: 16s - loss: 0.0495 - acc: 0.98 - ETA: 15s - loss: 0.0502 - acc: 0.98 - ETA: 14s - loss: 0.0504 - acc: 0.98 - ETA: 13s - loss: 0.0505 - acc: 0.98 - ETA: 12s - loss: 0.0504 - acc: 0.98 - ETA: 11s - loss: 0.0503 - acc: 0.98 - ETA: 10s - loss: 0.0506 - acc: 0.98 - ETA: 10s - loss: 0.0505 - acc: 0.98 - ETA: 9s - loss: 0.0504 - acc: 0.9832 - ETA: 8s - loss: 0.0505 - acc: 0.983 - ETA: 7s - loss: 0.0508 - acc: 0.983 - ETA: 6s - loss: 0.0508 - acc: 0.983 - ETA: 5s - loss: 0.0507 - acc: 0.983 - ETA: 4s - loss: 0.0510 - acc: 0.983 - ETA: 4s - loss: 0.0509 - acc: 0.983 - ETA: 3s - loss: 0.0513 - acc: 0.983 - ETA: 2s - loss: 0.0512 - acc: 0.983 - ETA: 1s - loss: 0.0514 - acc: 0.982 - ETA: 0s - loss: 0.0513 - acc: 0.982 - 345s 27ms/step - loss: 0.0515 - acc: 0.9829 - val_loss: 4.3823 - val_acc: 0.3720\n",
      "Epoch 11/20\n"
     ]
    },
    {
     "name": "stdout",
     "output_type": "stream",
     "text": [
      " 6528/12793 [==============>...............] - ETA: 6:19 - loss: 0.0051 - acc: 1.000 - ETA: 5:06 - loss: 0.0159 - acc: 1.000 - ETA: 4:47 - loss: 0.0203 - acc: 0.989 - ETA: 5:08 - loss: 0.0153 - acc: 0.992 - ETA: 5:22 - loss: 0.0133 - acc: 0.993 - ETA: 5:05 - loss: 0.0143 - acc: 0.994 - ETA: 4:52 - loss: 0.0128 - acc: 0.995 - ETA: 4:54 - loss: 0.0190 - acc: 0.992 - ETA: 5:03 - loss: 0.0181 - acc: 0.993 - ETA: 4:55 - loss: 0.0241 - acc: 0.990 - ETA: 4:48 - loss: 0.0226 - acc: 0.991 - ETA: 4:48 - loss: 0.0212 - acc: 0.992 - ETA: 4:55 - loss: 0.0203 - acc: 0.992 - ETA: 4:49 - loss: 0.0216 - acc: 0.991 - ETA: 4:44 - loss: 0.0215 - acc: 0.991 - ETA: 4:45 - loss: 0.0210 - acc: 0.992 - ETA: 4:50 - loss: 0.0211 - acc: 0.992 - ETA: 4:47 - loss: 0.0288 - acc: 0.987 - ETA: 4:43 - loss: 0.0273 - acc: 0.988 - ETA: 4:42 - loss: 0.0262 - acc: 0.989 - ETA: 4:45 - loss: 0.0263 - acc: 0.989 - ETA: 4:43 - loss: 0.0252 - acc: 0.990 - ETA: 4:40 - loss: 0.0242 - acc: 0.990 - ETA: 4:38 - loss: 0.0233 - acc: 0.990 - ETA: 4:41 - loss: 0.0226 - acc: 0.991 - ETA: 4:40 - loss: 0.0240 - acc: 0.990 - ETA: 4:36 - loss: 0.0232 - acc: 0.990 - ETA: 4:33 - loss: 0.0225 - acc: 0.991 - ETA: 4:36 - loss: 0.0237 - acc: 0.990 - ETA: 4:37 - loss: 0.0232 - acc: 0.990 - ETA: 4:34 - loss: 0.0227 - acc: 0.990 - ETA: 4:31 - loss: 0.0223 - acc: 0.991 - ETA: 4:33 - loss: 0.0222 - acc: 0.991 - ETA: 4:34 - loss: 0.0228 - acc: 0.990 - ETA: 4:31 - loss: 0.0229 - acc: 0.991 - ETA: 4:29 - loss: 0.0230 - acc: 0.990 - ETA: 4:30 - loss: 0.0225 - acc: 0.990 - ETA: 4:30 - loss: 0.0223 - acc: 0.991 - ETA: 4:28 - loss: 0.0221 - acc: 0.991 - ETA: 4:26 - loss: 0.0251 - acc: 0.990 - ETA: 4:27 - loss: 0.0257 - acc: 0.990 - ETA: 4:28 - loss: 0.0255 - acc: 0.990 - ETA: 4:26 - loss: 0.0252 - acc: 0.990 - ETA: 4:24 - loss: 0.0262 - acc: 0.990 - ETA: 4:25 - loss: 0.0291 - acc: 0.989 - ETA: 4:25 - loss: 0.0304 - acc: 0.989 - ETA: 4:23 - loss: 0.0300 - acc: 0.989 - ETA: 4:21 - loss: 0.0294 - acc: 0.989 - ETA: 4:22 - loss: 0.0289 - acc: 0.989 - ETA: 4:23 - loss: 0.0287 - acc: 0.990 - ETA: 4:21 - loss: 0.0283 - acc: 0.990 - ETA: 4:19 - loss: 0.0279 - acc: 0.990 - ETA: 4:20 - loss: 0.0275 - acc: 0.990 - ETA: 4:20 - loss: 0.0270 - acc: 0.990 - ETA: 4:18 - loss: 0.0266 - acc: 0.990 - ETA: 4:16 - loss: 0.0262 - acc: 0.991 - ETA: 4:17 - loss: 0.0263 - acc: 0.990 - ETA: 4:17 - loss: 0.0287 - acc: 0.990 - ETA: 4:15 - loss: 0.0284 - acc: 0.990 - ETA: 4:13 - loss: 0.0281 - acc: 0.990 - ETA: 4:14 - loss: 0.0285 - acc: 0.990 - ETA: 4:14 - loss: 0.0283 - acc: 0.990 - ETA: 4:12 - loss: 0.0311 - acc: 0.988 - ETA: 4:11 - loss: 0.0306 - acc: 0.988 - ETA: 4:11 - loss: 0.0302 - acc: 0.988 - ETA: 4:11 - loss: 0.0298 - acc: 0.989 - ETA: 4:09 - loss: 0.0294 - acc: 0.989 - ETA: 4:08 - loss: 0.0300 - acc: 0.989 - ETA: 4:07 - loss: 0.0307 - acc: 0.988 - ETA: 4:09 - loss: 0.0303 - acc: 0.988 - ETA: 4:08 - loss: 0.0304 - acc: 0.989 - ETA: 4:08 - loss: 0.0301 - acc: 0.989 - ETA: 4:09 - loss: 0.0298 - acc: 0.989 - ETA: 4:08 - loss: 0.0294 - acc: 0.989 - ETA: 4:06 - loss: 0.0303 - acc: 0.989 - ETA: 4:08 - loss: 0.0303 - acc: 0.989 - ETA: 4:08 - loss: 0.0302 - acc: 0.989 - ETA: 4:08 - loss: 0.0299 - acc: 0.989 - ETA: 4:08 - loss: 0.0295 - acc: 0.989 - ETA: 4:07 - loss: 0.0302 - acc: 0.989 - ETA: 4:06 - loss: 0.0300 - acc: 0.989 - ETA: 4:04 - loss: 0.0299 - acc: 0.989 - ETA: 4:04 - loss: 0.0307 - acc: 0.989 - ETA: 4:04 - loss: 0.0305 - acc: 0.989 - ETA: 4:02 - loss: 0.0302 - acc: 0.989 - ETA: 4:01 - loss: 0.0299 - acc: 0.989 - ETA: 4:01 - loss: 0.0303 - acc: 0.989 - ETA: 4:00 - loss: 0.0303 - acc: 0.989 - ETA: 3:59 - loss: 0.0308 - acc: 0.989 - ETA: 3:57 - loss: 0.0329 - acc: 0.988 - ETA: 3:58 - loss: 0.0334 - acc: 0.988 - ETA: 3:57 - loss: 0.0333 - acc: 0.988 - ETA: 3:56 - loss: 0.0331 - acc: 0.988 - ETA: 3:54 - loss: 0.0328 - acc: 0.989 - ETA: 3:54 - loss: 0.0357 - acc: 0.988 - ETA: 3:54 - loss: 0.0354 - acc: 0.988 - ETA: 3:52 - loss: 0.0353 - acc: 0.988 - ETA: 3:51 - loss: 0.0352 - acc: 0.988 - ETA: 3:51 - loss: 0.0352 - acc: 0.988 - ETA: 3:50 - loss: 0.0352 - acc: 0.988 - ETA: 3:49 - loss: 0.0349 - acc: 0.988 - ETA: 3:48 - loss: 0.0349 - acc: 0.988 - ETA: 3:48 - loss: 0.0346 - acc: 0.988 - ETA: 3:47 - loss: 0.0343 - acc: 0.988 - ETA: 3:46 - loss: 0.0341 - acc: 0.988 - ETA: 3:45 - loss: 0.0346 - acc: 0.988 - ETA: 3:44 - loss: 0.0346 - acc: 0.988 - ETA: 3:44 - loss: 0.0345 - acc: 0.988 - ETA: 3:43 - loss: 0.0343 - acc: 0.988 - ETA: 3:41 - loss: 0.0340 - acc: 0.988 - ETA: 3:41 - loss: 0.0338 - acc: 0.988 - ETA: 3:41 - loss: 0.0335 - acc: 0.988 - ETA: 3:39 - loss: 0.0350 - acc: 0.988 - ETA: 3:38 - loss: 0.0348 - acc: 0.988 - ETA: 3:38 - loss: 0.0351 - acc: 0.988 - ETA: 3:38 - loss: 0.0348 - acc: 0.988 - ETA: 3:36 - loss: 0.0346 - acc: 0.988 - ETA: 3:35 - loss: 0.0354 - acc: 0.987 - ETA: 3:35 - loss: 0.0355 - acc: 0.987 - ETA: 3:35 - loss: 0.0353 - acc: 0.987 - ETA: 3:34 - loss: 0.0355 - acc: 0.987 - ETA: 3:34 - loss: 0.0352 - acc: 0.987 - ETA: 3:33 - loss: 0.0351 - acc: 0.987 - ETA: 3:33 - loss: 0.0348 - acc: 0.987 - ETA: 3:33 - loss: 0.0347 - acc: 0.988 - ETA: 3:31 - loss: 0.0345 - acc: 0.988 - ETA: 3:31 - loss: 0.0343 - acc: 0.988 - ETA: 3:31 - loss: 0.0341 - acc: 0.988 - ETA: 3:30 - loss: 0.0339 - acc: 0.988 - ETA: 3:29 - loss: 0.0337 - acc: 0.988 - ETA: 3:29 - loss: 0.0344 - acc: 0.988 - ETA: 3:29 - loss: 0.0342 - acc: 0.988 - ETA: 3:28 - loss: 0.0342 - acc: 0.988 - ETA: 3:27 - loss: 0.0347 - acc: 0.988 - ETA: 3:26 - loss: 0.0346 - acc: 0.988 - ETA: 3:26 - loss: 0.0344 - acc: 0.988 - ETA: 3:26 - loss: 0.0344 - acc: 0.988 - ETA: 3:25 - loss: 0.0349 - acc: 0.988 - ETA: 3:24 - loss: 0.0347 - acc: 0.988 - ETA: 3:24 - loss: 0.0345 - acc: 0.988 - ETA: 3:23 - loss: 0.0357 - acc: 0.987 - ETA: 3:22 - loss: 0.0356 - acc: 0.987 - ETA: 3:22 - loss: 0.0359 - acc: 0.987 - ETA: 3:21 - loss: 0.0359 - acc: 0.987 - ETA: 3:20 - loss: 0.0360 - acc: 0.987 - ETA: 3:19 - loss: 0.0359 - acc: 0.987 - ETA: 3:19 - loss: 0.0357 - acc: 0.987 - ETA: 3:18 - loss: 0.0357 - acc: 0.987 - ETA: 3:17 - loss: 0.0356 - acc: 0.987 - ETA: 3:16 - loss: 0.0353 - acc: 0.987 - ETA: 3:16 - loss: 0.0352 - acc: 0.988 - ETA: 3:15 - loss: 0.0359 - acc: 0.987 - ETA: 3:15 - loss: 0.0359 - acc: 0.987 - ETA: 3:14 - loss: 0.0359 - acc: 0.987 - ETA: 3:14 - loss: 0.0357 - acc: 0.987 - ETA: 3:13 - loss: 0.0362 - acc: 0.987 - ETA: 3:13 - loss: 0.0367 - acc: 0.987 - ETA: 3:12 - loss: 0.0366 - acc: 0.987 - ETA: 3:11 - loss: 0.0364 - acc: 0.987 - ETA: 3:11 - loss: 0.0362 - acc: 0.987 - ETA: 3:11 - loss: 0.0362 - acc: 0.987 - ETA: 3:10 - loss: 0.0367 - acc: 0.987 - ETA: 3:09 - loss: 0.0366 - acc: 0.987 - ETA: 3:09 - loss: 0.0365 - acc: 0.987 - ETA: 3:07 - loss: 0.0379 - acc: 0.987 - ETA: 3:06 - loss: 0.0377 - acc: 0.987 - ETA: 3:06 - loss: 0.0375 - acc: 0.987 - ETA: 3:05 - loss: 0.0378 - acc: 0.987 - ETA: 3:04 - loss: 0.0378 - acc: 0.987 - ETA: 3:03 - loss: 0.0378 - acc: 0.987 - ETA: 3:03 - loss: 0.0376 - acc: 0.987 - ETA: 3:02 - loss: 0.0375 - acc: 0.987 - ETA: 3:01 - loss: 0.0383 - acc: 0.987 - ETA: 3:00 - loss: 0.0380 - acc: 0.987 - ETA: 2:59 - loss: 0.0380 - acc: 0.987 - ETA: 2:59 - loss: 0.0379 - acc: 0.987 - ETA: 2:58 - loss: 0.0379 - acc: 0.987 - ETA: 2:57 - loss: 0.0377 - acc: 0.987 - ETA: 2:57 - loss: 0.0376 - acc: 0.987 - ETA: 2:56 - loss: 0.0376 - acc: 0.987 - ETA: 2:55 - loss: 0.0379 - acc: 0.987 - ETA: 2:55 - loss: 0.0385 - acc: 0.987 - ETA: 2:54 - loss: 0.0386 - acc: 0.987 - ETA: 2:53 - loss: 0.0385 - acc: 0.987 - ETA: 2:53 - loss: 0.0383 - acc: 0.987 - ETA: 2:52 - loss: 0.0384 - acc: 0.987 - ETA: 2:51 - loss: 0.0384 - acc: 0.987 - ETA: 2:50 - loss: 0.0387 - acc: 0.987 - ETA: 2:49 - loss: 0.0387 - acc: 0.986 - ETA: 2:49 - loss: 0.0399 - acc: 0.986 - ETA: 2:48 - loss: 0.0397 - acc: 0.986 - ETA: 2:47 - loss: 0.0396 - acc: 0.986 - ETA: 2:46 - loss: 0.0394 - acc: 0.986 - ETA: 2:45 - loss: 0.0392 - acc: 0.986 - ETA: 2:44 - loss: 0.0391 - acc: 0.986 - ETA: 2:43 - loss: 0.0395 - acc: 0.986 - ETA: 2:43 - loss: 0.0394 - acc: 0.986 - ETA: 2:42 - loss: 0.0392 - acc: 0.986 - ETA: 2:41 - loss: 0.0393 - acc: 0.986 - ETA: 2:40 - loss: 0.0393 - acc: 0.986 - ETA: 2:39 - loss: 0.0397 - acc: 0.986 - ETA: 2:38 - loss: 0.0396 - acc: 0.986 - ETA: 2:37 - loss: 0.0399 - acc: 0.986 - ETA: 2:36 - loss: 0.0411 - acc: 0.9864"
     ]
    },
    {
     "name": "stdout",
     "output_type": "stream",
     "text": [
      "12793/12793 [==============================] - ETA: 2:36 - loss: 0.0409 - acc: 0.986 - ETA: 2:35 - loss: 0.0407 - acc: 0.986 - ETA: 2:34 - loss: 0.0406 - acc: 0.986 - ETA: 2:33 - loss: 0.0404 - acc: 0.986 - ETA: 2:33 - loss: 0.0403 - acc: 0.986 - ETA: 2:32 - loss: 0.0404 - acc: 0.986 - ETA: 2:31 - loss: 0.0403 - acc: 0.986 - ETA: 2:30 - loss: 0.0402 - acc: 0.986 - ETA: 2:29 - loss: 0.0400 - acc: 0.986 - ETA: 2:28 - loss: 0.0400 - acc: 0.986 - ETA: 2:27 - loss: 0.0399 - acc: 0.986 - ETA: 2:27 - loss: 0.0397 - acc: 0.987 - ETA: 2:26 - loss: 0.0395 - acc: 0.987 - ETA: 2:25 - loss: 0.0394 - acc: 0.987 - ETA: 2:24 - loss: 0.0398 - acc: 0.986 - ETA: 2:23 - loss: 0.0397 - acc: 0.986 - ETA: 2:23 - loss: 0.0399 - acc: 0.986 - ETA: 2:22 - loss: 0.0397 - acc: 0.986 - ETA: 2:21 - loss: 0.0400 - acc: 0.986 - ETA: 2:20 - loss: 0.0400 - acc: 0.986 - ETA: 2:20 - loss: 0.0399 - acc: 0.986 - ETA: 2:19 - loss: 0.0397 - acc: 0.987 - ETA: 2:18 - loss: 0.0403 - acc: 0.986 - ETA: 2:17 - loss: 0.0401 - acc: 0.986 - ETA: 2:16 - loss: 0.0399 - acc: 0.986 - ETA: 2:15 - loss: 0.0398 - acc: 0.987 - ETA: 2:14 - loss: 0.0398 - acc: 0.986 - ETA: 2:14 - loss: 0.0396 - acc: 0.986 - ETA: 2:13 - loss: 0.0397 - acc: 0.986 - ETA: 2:12 - loss: 0.0396 - acc: 0.986 - ETA: 2:11 - loss: 0.0394 - acc: 0.987 - ETA: 2:11 - loss: 0.0398 - acc: 0.986 - ETA: 2:10 - loss: 0.0396 - acc: 0.986 - ETA: 2:09 - loss: 0.0409 - acc: 0.986 - ETA: 2:08 - loss: 0.0408 - acc: 0.986 - ETA: 2:08 - loss: 0.0407 - acc: 0.986 - ETA: 2:07 - loss: 0.0405 - acc: 0.986 - ETA: 2:06 - loss: 0.0406 - acc: 0.986 - ETA: 2:05 - loss: 0.0406 - acc: 0.986 - ETA: 2:04 - loss: 0.0405 - acc: 0.986 - ETA: 2:04 - loss: 0.0408 - acc: 0.986 - ETA: 2:03 - loss: 0.0408 - acc: 0.986 - ETA: 2:02 - loss: 0.0407 - acc: 0.986 - ETA: 2:01 - loss: 0.0406 - acc: 0.986 - ETA: 2:00 - loss: 0.0405 - acc: 0.986 - ETA: 2:00 - loss: 0.0404 - acc: 0.986 - ETA: 1:59 - loss: 0.0403 - acc: 0.986 - ETA: 1:58 - loss: 0.0403 - acc: 0.986 - ETA: 1:57 - loss: 0.0401 - acc: 0.986 - ETA: 1:57 - loss: 0.0405 - acc: 0.986 - ETA: 1:56 - loss: 0.0403 - acc: 0.986 - ETA: 1:55 - loss: 0.0402 - acc: 0.986 - ETA: 1:54 - loss: 0.0402 - acc: 0.986 - ETA: 1:54 - loss: 0.0401 - acc: 0.986 - ETA: 1:53 - loss: 0.0400 - acc: 0.986 - ETA: 1:52 - loss: 0.0400 - acc: 0.986 - ETA: 1:51 - loss: 0.0399 - acc: 0.986 - ETA: 1:50 - loss: 0.0399 - acc: 0.986 - ETA: 1:50 - loss: 0.0399 - acc: 0.986 - ETA: 1:49 - loss: 0.0398 - acc: 0.986 - ETA: 1:48 - loss: 0.0400 - acc: 0.986 - ETA: 1:47 - loss: 0.0400 - acc: 0.986 - ETA: 1:46 - loss: 0.0399 - acc: 0.986 - ETA: 1:46 - loss: 0.0401 - acc: 0.986 - ETA: 1:45 - loss: 0.0400 - acc: 0.986 - ETA: 1:44 - loss: 0.0399 - acc: 0.986 - ETA: 1:44 - loss: 0.0399 - acc: 0.986 - ETA: 1:43 - loss: 0.0398 - acc: 0.986 - ETA: 1:42 - loss: 0.0397 - acc: 0.986 - ETA: 1:41 - loss: 0.0400 - acc: 0.986 - ETA: 1:40 - loss: 0.0398 - acc: 0.986 - ETA: 1:40 - loss: 0.0397 - acc: 0.986 - ETA: 1:39 - loss: 0.0396 - acc: 0.986 - ETA: 1:38 - loss: 0.0395 - acc: 0.986 - ETA: 1:37 - loss: 0.0394 - acc: 0.986 - ETA: 1:36 - loss: 0.0393 - acc: 0.986 - ETA: 1:36 - loss: 0.0393 - acc: 0.986 - ETA: 1:35 - loss: 0.0392 - acc: 0.986 - ETA: 1:34 - loss: 0.0390 - acc: 0.986 - ETA: 1:33 - loss: 0.0389 - acc: 0.986 - ETA: 1:33 - loss: 0.0388 - acc: 0.986 - ETA: 1:32 - loss: 0.0389 - acc: 0.986 - ETA: 1:31 - loss: 0.0388 - acc: 0.986 - ETA: 1:30 - loss: 0.0387 - acc: 0.986 - ETA: 1:30 - loss: 0.0386 - acc: 0.986 - ETA: 1:29 - loss: 0.0385 - acc: 0.987 - ETA: 1:28 - loss: 0.0384 - acc: 0.987 - ETA: 1:27 - loss: 0.0383 - acc: 0.987 - ETA: 1:26 - loss: 0.0384 - acc: 0.987 - ETA: 1:26 - loss: 0.0383 - acc: 0.987 - ETA: 1:25 - loss: 0.0391 - acc: 0.986 - ETA: 1:24 - loss: 0.0391 - acc: 0.986 - ETA: 1:23 - loss: 0.0391 - acc: 0.986 - ETA: 1:22 - loss: 0.0390 - acc: 0.986 - ETA: 1:21 - loss: 0.0389 - acc: 0.986 - ETA: 1:21 - loss: 0.0388 - acc: 0.987 - ETA: 1:20 - loss: 0.0390 - acc: 0.986 - ETA: 1:19 - loss: 0.0389 - acc: 0.987 - ETA: 1:18 - loss: 0.0388 - acc: 0.987 - ETA: 1:17 - loss: 0.0388 - acc: 0.986 - ETA: 1:17 - loss: 0.0392 - acc: 0.986 - ETA: 1:16 - loss: 0.0391 - acc: 0.986 - ETA: 1:15 - loss: 0.0390 - acc: 0.986 - ETA: 1:14 - loss: 0.0390 - acc: 0.986 - ETA: 1:13 - loss: 0.0391 - acc: 0.986 - ETA: 1:13 - loss: 0.0390 - acc: 0.986 - ETA: 1:12 - loss: 0.0392 - acc: 0.986 - ETA: 1:11 - loss: 0.0391 - acc: 0.986 - ETA: 1:10 - loss: 0.0390 - acc: 0.986 - ETA: 1:10 - loss: 0.0393 - acc: 0.986 - ETA: 1:09 - loss: 0.0394 - acc: 0.986 - ETA: 1:08 - loss: 0.0397 - acc: 0.986 - ETA: 1:07 - loss: 0.0396 - acc: 0.986 - ETA: 1:06 - loss: 0.0395 - acc: 0.986 - ETA: 1:05 - loss: 0.0398 - acc: 0.986 - ETA: 1:04 - loss: 0.0399 - acc: 0.986 - ETA: 1:04 - loss: 0.0400 - acc: 0.986 - ETA: 1:03 - loss: 0.0403 - acc: 0.986 - ETA: 1:02 - loss: 0.0402 - acc: 0.986 - ETA: 1:01 - loss: 0.0401 - acc: 0.986 - ETA: 1:00 - loss: 0.0403 - acc: 0.986 - ETA: 1:00 - loss: 0.0403 - acc: 0.986 - ETA: 59s - loss: 0.0402 - acc: 0.986 - ETA: 58s - loss: 0.0402 - acc: 0.98 - ETA: 57s - loss: 0.0403 - acc: 0.98 - ETA: 56s - loss: 0.0402 - acc: 0.98 - ETA: 55s - loss: 0.0403 - acc: 0.98 - ETA: 55s - loss: 0.0404 - acc: 0.98 - ETA: 54s - loss: 0.0406 - acc: 0.98 - ETA: 53s - loss: 0.0408 - acc: 0.98 - ETA: 52s - loss: 0.0408 - acc: 0.98 - ETA: 51s - loss: 0.0407 - acc: 0.98 - ETA: 50s - loss: 0.0405 - acc: 0.98 - ETA: 50s - loss: 0.0405 - acc: 0.98 - ETA: 49s - loss: 0.0407 - acc: 0.98 - ETA: 48s - loss: 0.0408 - acc: 0.98 - ETA: 47s - loss: 0.0408 - acc: 0.98 - ETA: 46s - loss: 0.0409 - acc: 0.98 - ETA: 46s - loss: 0.0410 - acc: 0.98 - ETA: 45s - loss: 0.0409 - acc: 0.98 - ETA: 44s - loss: 0.0410 - acc: 0.98 - ETA: 43s - loss: 0.0410 - acc: 0.98 - ETA: 42s - loss: 0.0412 - acc: 0.98 - ETA: 41s - loss: 0.0411 - acc: 0.98 - ETA: 41s - loss: 0.0412 - acc: 0.98 - ETA: 40s - loss: 0.0411 - acc: 0.98 - ETA: 39s - loss: 0.0410 - acc: 0.98 - ETA: 38s - loss: 0.0410 - acc: 0.98 - ETA: 38s - loss: 0.0411 - acc: 0.98 - ETA: 37s - loss: 0.0417 - acc: 0.98 - ETA: 36s - loss: 0.0416 - acc: 0.98 - ETA: 35s - loss: 0.0417 - acc: 0.98 - ETA: 34s - loss: 0.0416 - acc: 0.98 - ETA: 33s - loss: 0.0417 - acc: 0.98 - ETA: 33s - loss: 0.0416 - acc: 0.98 - ETA: 32s - loss: 0.0415 - acc: 0.98 - ETA: 31s - loss: 0.0414 - acc: 0.98 - ETA: 30s - loss: 0.0414 - acc: 0.98 - ETA: 29s - loss: 0.0416 - acc: 0.98 - ETA: 29s - loss: 0.0415 - acc: 0.98 - ETA: 28s - loss: 0.0418 - acc: 0.98 - ETA: 27s - loss: 0.0417 - acc: 0.98 - ETA: 26s - loss: 0.0416 - acc: 0.98 - ETA: 25s - loss: 0.0415 - acc: 0.98 - ETA: 24s - loss: 0.0416 - acc: 0.98 - ETA: 24s - loss: 0.0416 - acc: 0.98 - ETA: 23s - loss: 0.0415 - acc: 0.98 - ETA: 22s - loss: 0.0419 - acc: 0.98 - ETA: 21s - loss: 0.0419 - acc: 0.98 - ETA: 20s - loss: 0.0419 - acc: 0.98 - ETA: 20s - loss: 0.0419 - acc: 0.98 - ETA: 19s - loss: 0.0418 - acc: 0.98 - ETA: 18s - loss: 0.0417 - acc: 0.98 - ETA: 17s - loss: 0.0416 - acc: 0.98 - ETA: 16s - loss: 0.0415 - acc: 0.98 - ETA: 16s - loss: 0.0415 - acc: 0.98 - ETA: 15s - loss: 0.0417 - acc: 0.98 - ETA: 14s - loss: 0.0416 - acc: 0.98 - ETA: 13s - loss: 0.0416 - acc: 0.98 - ETA: 12s - loss: 0.0415 - acc: 0.98 - ETA: 11s - loss: 0.0419 - acc: 0.98 - ETA: 11s - loss: 0.0422 - acc: 0.98 - ETA: 10s - loss: 0.0424 - acc: 0.98 - ETA: 9s - loss: 0.0425 - acc: 0.9855 - ETA: 8s - loss: 0.0424 - acc: 0.985 - ETA: 7s - loss: 0.0424 - acc: 0.985 - ETA: 7s - loss: 0.0423 - acc: 0.985 - ETA: 6s - loss: 0.0425 - acc: 0.985 - ETA: 5s - loss: 0.0425 - acc: 0.985 - ETA: 4s - loss: 0.0424 - acc: 0.985 - ETA: 3s - loss: 0.0423 - acc: 0.985 - ETA: 3s - loss: 0.0423 - acc: 0.985 - ETA: 2s - loss: 0.0422 - acc: 0.985 - ETA: 1s - loss: 0.0425 - acc: 0.985 - ETA: 0s - loss: 0.0424 - acc: 0.985 - 328s 26ms/step - loss: 0.0424 - acc: 0.9856 - val_loss: 4.2237 - val_acc: 0.4023\n",
      "Epoch 12/20\n"
     ]
    },
    {
     "name": "stdout",
     "output_type": "stream",
     "text": [
      " 6528/12793 [==============>...............] - ETA: 7:55 - loss: 0.0183 - acc: 1.000 - ETA: 6:51 - loss: 0.0096 - acc: 1.000 - ETA: 6:28 - loss: 0.0067 - acc: 1.000 - ETA: 6:44 - loss: 0.0072 - acc: 1.000 - ETA: 6:12 - loss: 0.0292 - acc: 0.993 - ETA: 5:47 - loss: 0.0330 - acc: 0.994 - ETA: 5:32 - loss: 0.0337 - acc: 0.991 - ETA: 5:39 - loss: 0.0308 - acc: 0.992 - ETA: 5:35 - loss: 0.0292 - acc: 0.993 - ETA: 5:33 - loss: 0.0265 - acc: 0.993 - ETA: 5:41 - loss: 0.0243 - acc: 0.994 - ETA: 5:52 - loss: 0.0305 - acc: 0.992 - ETA: 5:50 - loss: 0.0390 - acc: 0.990 - ETA: 5:58 - loss: 0.0409 - acc: 0.988 - ETA: 5:52 - loss: 0.0384 - acc: 0.989 - ETA: 5:43 - loss: 0.0558 - acc: 0.986 - ETA: 5:36 - loss: 0.0531 - acc: 0.987 - ETA: 5:38 - loss: 0.0504 - acc: 0.987 - ETA: 5:36 - loss: 0.0479 - acc: 0.988 - ETA: 5:29 - loss: 0.0461 - acc: 0.989 - ETA: 5:24 - loss: 0.0507 - acc: 0.986 - ETA: 5:25 - loss: 0.0492 - acc: 0.987 - ETA: 5:23 - loss: 0.0480 - acc: 0.986 - ETA: 5:19 - loss: 0.0468 - acc: 0.987 - ETA: 5:14 - loss: 0.0458 - acc: 0.987 - ETA: 5:15 - loss: 0.0441 - acc: 0.988 - ETA: 5:15 - loss: 0.0426 - acc: 0.988 - ETA: 5:11 - loss: 0.0411 - acc: 0.988 - ETA: 5:07 - loss: 0.0461 - acc: 0.987 - ETA: 5:08 - loss: 0.0452 - acc: 0.987 - ETA: 5:08 - loss: 0.0448 - acc: 0.987 - ETA: 5:06 - loss: 0.0456 - acc: 0.987 - ETA: 5:09 - loss: 0.0445 - acc: 0.987 - ETA: 5:10 - loss: 0.0437 - acc: 0.988 - ETA: 5:09 - loss: 0.0427 - acc: 0.988 - ETA: 5:10 - loss: 0.0418 - acc: 0.988 - ETA: 5:08 - loss: 0.0442 - acc: 0.988 - ETA: 5:13 - loss: 0.0432 - acc: 0.988 - ETA: 5:13 - loss: 0.0421 - acc: 0.988 - ETA: 5:14 - loss: 0.0415 - acc: 0.989 - ETA: 5:15 - loss: 0.0405 - acc: 0.989 - ETA: 5:15 - loss: 0.0396 - acc: 0.989 - ETA: 5:13 - loss: 0.0423 - acc: 0.989 - ETA: 5:14 - loss: 0.0420 - acc: 0.989 - ETA: 5:13 - loss: 0.0411 - acc: 0.989 - ETA: 5:12 - loss: 0.0406 - acc: 0.989 - ETA: 5:15 - loss: 0.0406 - acc: 0.989 - ETA: 5:15 - loss: 0.0402 - acc: 0.989 - ETA: 5:12 - loss: 0.0396 - acc: 0.989 - ETA: 5:12 - loss: 0.0390 - acc: 0.990 - ETA: 5:11 - loss: 0.0388 - acc: 0.989 - ETA: 5:08 - loss: 0.0385 - acc: 0.989 - ETA: 5:05 - loss: 0.0379 - acc: 0.990 - ETA: 5:05 - loss: 0.0374 - acc: 0.990 - ETA: 5:05 - loss: 0.0369 - acc: 0.990 - ETA: 5:02 - loss: 0.0368 - acc: 0.990 - ETA: 5:00 - loss: 0.0363 - acc: 0.990 - ETA: 5:00 - loss: 0.0361 - acc: 0.990 - ETA: 4:58 - loss: 0.0362 - acc: 0.989 - ETA: 4:56 - loss: 0.0359 - acc: 0.990 - ETA: 4:53 - loss: 0.0359 - acc: 0.989 - ETA: 4:55 - loss: 0.0356 - acc: 0.989 - ETA: 4:53 - loss: 0.0367 - acc: 0.989 - ETA: 4:51 - loss: 0.0387 - acc: 0.988 - ETA: 4:51 - loss: 0.0382 - acc: 0.988 - ETA: 4:52 - loss: 0.0404 - acc: 0.988 - ETA: 4:50 - loss: 0.0400 - acc: 0.988 - ETA: 4:48 - loss: 0.0411 - acc: 0.988 - ETA: 4:48 - loss: 0.0405 - acc: 0.988 - ETA: 4:46 - loss: 0.0400 - acc: 0.988 - ETA: 4:44 - loss: 0.0399 - acc: 0.989 - ETA: 4:43 - loss: 0.0393 - acc: 0.989 - ETA: 4:42 - loss: 0.0389 - acc: 0.989 - ETA: 4:41 - loss: 0.0393 - acc: 0.989 - ETA: 4:39 - loss: 0.0391 - acc: 0.989 - ETA: 4:38 - loss: 0.0386 - acc: 0.989 - ETA: 4:38 - loss: 0.0381 - acc: 0.989 - ETA: 4:36 - loss: 0.0378 - acc: 0.989 - ETA: 4:34 - loss: 0.0374 - acc: 0.989 - ETA: 4:33 - loss: 0.0370 - acc: 0.989 - ETA: 4:33 - loss: 0.0371 - acc: 0.989 - ETA: 4:31 - loss: 0.0381 - acc: 0.988 - ETA: 4:29 - loss: 0.0397 - acc: 0.988 - ETA: 4:29 - loss: 0.0403 - acc: 0.988 - ETA: 4:29 - loss: 0.0404 - acc: 0.987 - ETA: 4:28 - loss: 0.0400 - acc: 0.988 - ETA: 4:27 - loss: 0.0395 - acc: 0.988 - ETA: 4:27 - loss: 0.0394 - acc: 0.987 - ETA: 4:25 - loss: 0.0393 - acc: 0.987 - ETA: 4:24 - loss: 0.0390 - acc: 0.987 - ETA: 4:24 - loss: 0.0386 - acc: 0.988 - ETA: 4:24 - loss: 0.0383 - acc: 0.988 - ETA: 4:22 - loss: 0.0379 - acc: 0.988 - ETA: 4:21 - loss: 0.0375 - acc: 0.988 - ETA: 4:20 - loss: 0.0374 - acc: 0.988 - ETA: 4:19 - loss: 0.0374 - acc: 0.988 - ETA: 4:18 - loss: 0.0370 - acc: 0.988 - ETA: 4:16 - loss: 0.0367 - acc: 0.988 - ETA: 4:17 - loss: 0.0371 - acc: 0.988 - ETA: 4:17 - loss: 0.0371 - acc: 0.988 - ETA: 4:16 - loss: 0.0369 - acc: 0.988 - ETA: 4:16 - loss: 0.0365 - acc: 0.988 - ETA: 4:15 - loss: 0.0376 - acc: 0.988 - ETA: 4:13 - loss: 0.0373 - acc: 0.988 - ETA: 4:13 - loss: 0.0370 - acc: 0.988 - ETA: 4:12 - loss: 0.0369 - acc: 0.988 - ETA: 4:10 - loss: 0.0366 - acc: 0.988 - ETA: 4:09 - loss: 0.0365 - acc: 0.988 - ETA: 4:08 - loss: 0.0363 - acc: 0.988 - ETA: 4:08 - loss: 0.0361 - acc: 0.988 - ETA: 4:06 - loss: 0.0359 - acc: 0.989 - ETA: 4:05 - loss: 0.0356 - acc: 0.989 - ETA: 4:04 - loss: 0.0355 - acc: 0.989 - ETA: 4:03 - loss: 0.0354 - acc: 0.989 - ETA: 4:02 - loss: 0.0354 - acc: 0.989 - ETA: 4:00 - loss: 0.0356 - acc: 0.989 - ETA: 4:00 - loss: 0.0354 - acc: 0.989 - ETA: 3:59 - loss: 0.0354 - acc: 0.989 - ETA: 3:57 - loss: 0.0351 - acc: 0.989 - ETA: 3:56 - loss: 0.0348 - acc: 0.989 - ETA: 3:55 - loss: 0.0345 - acc: 0.989 - ETA: 3:55 - loss: 0.0343 - acc: 0.989 - ETA: 3:53 - loss: 0.0342 - acc: 0.989 - ETA: 3:52 - loss: 0.0341 - acc: 0.989 - ETA: 3:51 - loss: 0.0338 - acc: 0.989 - ETA: 3:50 - loss: 0.0338 - acc: 0.989 - ETA: 3:49 - loss: 0.0336 - acc: 0.989 - ETA: 3:48 - loss: 0.0340 - acc: 0.989 - ETA: 3:47 - loss: 0.0338 - acc: 0.989 - ETA: 3:47 - loss: 0.0339 - acc: 0.989 - ETA: 3:45 - loss: 0.0337 - acc: 0.989 - ETA: 3:45 - loss: 0.0335 - acc: 0.989 - ETA: 3:45 - loss: 0.0332 - acc: 0.989 - ETA: 3:44 - loss: 0.0340 - acc: 0.989 - ETA: 3:43 - loss: 0.0341 - acc: 0.989 - ETA: 3:42 - loss: 0.0338 - acc: 0.989 - ETA: 3:42 - loss: 0.0336 - acc: 0.989 - ETA: 3:41 - loss: 0.0334 - acc: 0.989 - ETA: 3:41 - loss: 0.0331 - acc: 0.989 - ETA: 3:40 - loss: 0.0333 - acc: 0.989 - ETA: 3:38 - loss: 0.0332 - acc: 0.989 - ETA: 3:37 - loss: 0.0337 - acc: 0.989 - ETA: 3:37 - loss: 0.0335 - acc: 0.989 - ETA: 3:36 - loss: 0.0332 - acc: 0.989 - ETA: 3:34 - loss: 0.0330 - acc: 0.989 - ETA: 3:34 - loss: 0.0329 - acc: 0.989 - ETA: 3:33 - loss: 0.0326 - acc: 0.989 - ETA: 3:32 - loss: 0.0325 - acc: 0.989 - ETA: 3:31 - loss: 0.0323 - acc: 0.989 - ETA: 3:30 - loss: 0.0322 - acc: 0.990 - ETA: 3:29 - loss: 0.0326 - acc: 0.989 - ETA: 3:28 - loss: 0.0324 - acc: 0.989 - ETA: 3:27 - loss: 0.0323 - acc: 0.990 - ETA: 3:27 - loss: 0.0345 - acc: 0.989 - ETA: 3:26 - loss: 0.0344 - acc: 0.989 - ETA: 3:25 - loss: 0.0346 - acc: 0.989 - ETA: 3:23 - loss: 0.0345 - acc: 0.989 - ETA: 3:23 - loss: 0.0344 - acc: 0.989 - ETA: 3:22 - loss: 0.0342 - acc: 0.989 - ETA: 3:21 - loss: 0.0343 - acc: 0.989 - ETA: 3:20 - loss: 0.0341 - acc: 0.989 - ETA: 3:19 - loss: 0.0344 - acc: 0.989 - ETA: 3:18 - loss: 0.0343 - acc: 0.989 - ETA: 3:17 - loss: 0.0345 - acc: 0.989 - ETA: 3:16 - loss: 0.0343 - acc: 0.989 - ETA: 3:15 - loss: 0.0344 - acc: 0.989 - ETA: 3:14 - loss: 0.0342 - acc: 0.989 - ETA: 3:13 - loss: 0.0342 - acc: 0.989 - ETA: 3:12 - loss: 0.0342 - acc: 0.989 - ETA: 3:12 - loss: 0.0340 - acc: 0.989 - ETA: 3:11 - loss: 0.0340 - acc: 0.989 - ETA: 3:10 - loss: 0.0339 - acc: 0.989 - ETA: 3:09 - loss: 0.0337 - acc: 0.989 - ETA: 3:08 - loss: 0.0337 - acc: 0.989 - ETA: 3:07 - loss: 0.0336 - acc: 0.989 - ETA: 3:06 - loss: 0.0334 - acc: 0.989 - ETA: 3:05 - loss: 0.0333 - acc: 0.989 - ETA: 3:04 - loss: 0.0331 - acc: 0.989 - ETA: 3:03 - loss: 0.0329 - acc: 0.989 - ETA: 3:02 - loss: 0.0328 - acc: 0.989 - ETA: 3:01 - loss: 0.0326 - acc: 0.989 - ETA: 3:01 - loss: 0.0326 - acc: 0.989 - ETA: 3:00 - loss: 0.0324 - acc: 0.989 - ETA: 2:59 - loss: 0.0323 - acc: 0.989 - ETA: 2:58 - loss: 0.0322 - acc: 0.989 - ETA: 2:57 - loss: 0.0321 - acc: 0.989 - ETA: 2:56 - loss: 0.0319 - acc: 0.990 - ETA: 2:55 - loss: 0.0325 - acc: 0.989 - ETA: 2:54 - loss: 0.0328 - acc: 0.989 - ETA: 2:54 - loss: 0.0326 - acc: 0.989 - ETA: 2:53 - loss: 0.0325 - acc: 0.989 - ETA: 2:51 - loss: 0.0332 - acc: 0.989 - ETA: 2:51 - loss: 0.0331 - acc: 0.989 - ETA: 2:50 - loss: 0.0332 - acc: 0.989 - ETA: 2:49 - loss: 0.0330 - acc: 0.989 - ETA: 2:48 - loss: 0.0329 - acc: 0.989 - ETA: 2:47 - loss: 0.0329 - acc: 0.989 - ETA: 2:47 - loss: 0.0328 - acc: 0.989 - ETA: 2:46 - loss: 0.0329 - acc: 0.989 - ETA: 2:45 - loss: 0.0329 - acc: 0.989 - ETA: 2:44 - loss: 0.0331 - acc: 0.989 - ETA: 2:43 - loss: 0.0330 - acc: 0.989 - ETA: 2:42 - loss: 0.0328 - acc: 0.989 - ETA: 2:41 - loss: 0.0344 - acc: 0.9893"
     ]
    },
    {
     "name": "stdout",
     "output_type": "stream",
     "text": [
      "12793/12793 [==============================] - ETA: 2:40 - loss: 0.0343 - acc: 0.989 - ETA: 2:40 - loss: 0.0342 - acc: 0.989 - ETA: 2:39 - loss: 0.0340 - acc: 0.989 - ETA: 2:38 - loss: 0.0339 - acc: 0.989 - ETA: 2:37 - loss: 0.0337 - acc: 0.989 - ETA: 2:36 - loss: 0.0338 - acc: 0.989 - ETA: 2:35 - loss: 0.0336 - acc: 0.989 - ETA: 2:34 - loss: 0.0340 - acc: 0.989 - ETA: 2:34 - loss: 0.0340 - acc: 0.989 - ETA: 2:33 - loss: 0.0341 - acc: 0.989 - ETA: 2:32 - loss: 0.0340 - acc: 0.989 - ETA: 2:31 - loss: 0.0339 - acc: 0.989 - ETA: 2:30 - loss: 0.0338 - acc: 0.989 - ETA: 2:29 - loss: 0.0337 - acc: 0.989 - ETA: 2:28 - loss: 0.0337 - acc: 0.989 - ETA: 2:27 - loss: 0.0341 - acc: 0.989 - ETA: 2:27 - loss: 0.0343 - acc: 0.989 - ETA: 2:26 - loss: 0.0342 - acc: 0.989 - ETA: 2:25 - loss: 0.0345 - acc: 0.988 - ETA: 2:24 - loss: 0.0344 - acc: 0.988 - ETA: 2:23 - loss: 0.0343 - acc: 0.988 - ETA: 2:22 - loss: 0.0343 - acc: 0.988 - ETA: 2:21 - loss: 0.0344 - acc: 0.988 - ETA: 2:21 - loss: 0.0343 - acc: 0.988 - ETA: 2:20 - loss: 0.0353 - acc: 0.988 - ETA: 2:19 - loss: 0.0358 - acc: 0.988 - ETA: 2:18 - loss: 0.0357 - acc: 0.988 - ETA: 2:17 - loss: 0.0356 - acc: 0.988 - ETA: 2:17 - loss: 0.0364 - acc: 0.987 - ETA: 2:16 - loss: 0.0362 - acc: 0.988 - ETA: 2:15 - loss: 0.0367 - acc: 0.987 - ETA: 2:14 - loss: 0.0367 - acc: 0.987 - ETA: 2:13 - loss: 0.0367 - acc: 0.987 - ETA: 2:12 - loss: 0.0375 - acc: 0.987 - ETA: 2:11 - loss: 0.0376 - acc: 0.987 - ETA: 2:11 - loss: 0.0378 - acc: 0.987 - ETA: 2:10 - loss: 0.0379 - acc: 0.987 - ETA: 2:09 - loss: 0.0380 - acc: 0.987 - ETA: 2:08 - loss: 0.0380 - acc: 0.987 - ETA: 2:07 - loss: 0.0382 - acc: 0.987 - ETA: 2:06 - loss: 0.0383 - acc: 0.987 - ETA: 2:05 - loss: 0.0386 - acc: 0.987 - ETA: 2:05 - loss: 0.0390 - acc: 0.987 - ETA: 2:04 - loss: 0.0389 - acc: 0.987 - ETA: 2:03 - loss: 0.0389 - acc: 0.986 - ETA: 2:02 - loss: 0.0388 - acc: 0.987 - ETA: 2:01 - loss: 0.0387 - acc: 0.987 - ETA: 2:01 - loss: 0.0390 - acc: 0.987 - ETA: 2:00 - loss: 0.0390 - acc: 0.986 - ETA: 1:59 - loss: 0.0390 - acc: 0.987 - ETA: 1:58 - loss: 0.0391 - acc: 0.986 - ETA: 1:57 - loss: 0.0390 - acc: 0.986 - ETA: 1:56 - loss: 0.0397 - acc: 0.986 - ETA: 1:55 - loss: 0.0396 - acc: 0.986 - ETA: 1:55 - loss: 0.0395 - acc: 0.986 - ETA: 1:54 - loss: 0.0395 - acc: 0.986 - ETA: 1:53 - loss: 0.0396 - acc: 0.986 - ETA: 1:52 - loss: 0.0400 - acc: 0.986 - ETA: 1:51 - loss: 0.0399 - acc: 0.986 - ETA: 1:51 - loss: 0.0398 - acc: 0.986 - ETA: 1:50 - loss: 0.0397 - acc: 0.986 - ETA: 1:49 - loss: 0.0399 - acc: 0.986 - ETA: 1:48 - loss: 0.0398 - acc: 0.986 - ETA: 1:47 - loss: 0.0397 - acc: 0.986 - ETA: 1:46 - loss: 0.0401 - acc: 0.986 - ETA: 1:45 - loss: 0.0403 - acc: 0.986 - ETA: 1:45 - loss: 0.0402 - acc: 0.986 - ETA: 1:44 - loss: 0.0404 - acc: 0.986 - ETA: 1:43 - loss: 0.0403 - acc: 0.986 - ETA: 1:42 - loss: 0.0404 - acc: 0.986 - ETA: 1:41 - loss: 0.0403 - acc: 0.986 - ETA: 1:40 - loss: 0.0403 - acc: 0.986 - ETA: 1:40 - loss: 0.0404 - acc: 0.986 - ETA: 1:39 - loss: 0.0403 - acc: 0.986 - ETA: 1:38 - loss: 0.0404 - acc: 0.986 - ETA: 1:37 - loss: 0.0407 - acc: 0.986 - ETA: 1:36 - loss: 0.0405 - acc: 0.986 - ETA: 1:36 - loss: 0.0404 - acc: 0.986 - ETA: 1:35 - loss: 0.0403 - acc: 0.986 - ETA: 1:34 - loss: 0.0406 - acc: 0.986 - ETA: 1:33 - loss: 0.0408 - acc: 0.986 - ETA: 1:32 - loss: 0.0407 - acc: 0.986 - ETA: 1:31 - loss: 0.0407 - acc: 0.986 - ETA: 1:31 - loss: 0.0406 - acc: 0.986 - ETA: 1:30 - loss: 0.0408 - acc: 0.986 - ETA: 1:29 - loss: 0.0416 - acc: 0.985 - ETA: 1:28 - loss: 0.0418 - acc: 0.985 - ETA: 1:27 - loss: 0.0416 - acc: 0.985 - ETA: 1:26 - loss: 0.0415 - acc: 0.985 - ETA: 1:26 - loss: 0.0415 - acc: 0.985 - ETA: 1:25 - loss: 0.0414 - acc: 0.985 - ETA: 1:24 - loss: 0.0413 - acc: 0.985 - ETA: 1:23 - loss: 0.0416 - acc: 0.985 - ETA: 1:22 - loss: 0.0416 - acc: 0.985 - ETA: 1:21 - loss: 0.0416 - acc: 0.985 - ETA: 1:21 - loss: 0.0415 - acc: 0.985 - ETA: 1:20 - loss: 0.0415 - acc: 0.985 - ETA: 1:19 - loss: 0.0414 - acc: 0.985 - ETA: 1:18 - loss: 0.0413 - acc: 0.985 - ETA: 1:17 - loss: 0.0413 - acc: 0.985 - ETA: 1:17 - loss: 0.0412 - acc: 0.985 - ETA: 1:16 - loss: 0.0411 - acc: 0.985 - ETA: 1:15 - loss: 0.0410 - acc: 0.985 - ETA: 1:14 - loss: 0.0411 - acc: 0.985 - ETA: 1:13 - loss: 0.0411 - acc: 0.985 - ETA: 1:12 - loss: 0.0412 - acc: 0.985 - ETA: 1:12 - loss: 0.0412 - acc: 0.985 - ETA: 1:11 - loss: 0.0411 - acc: 0.985 - ETA: 1:10 - loss: 0.0410 - acc: 0.985 - ETA: 1:09 - loss: 0.0410 - acc: 0.985 - ETA: 1:08 - loss: 0.0409 - acc: 0.985 - ETA: 1:07 - loss: 0.0408 - acc: 0.985 - ETA: 1:07 - loss: 0.0407 - acc: 0.985 - ETA: 1:06 - loss: 0.0406 - acc: 0.985 - ETA: 1:05 - loss: 0.0405 - acc: 0.986 - ETA: 1:04 - loss: 0.0405 - acc: 0.985 - ETA: 1:03 - loss: 0.0404 - acc: 0.986 - ETA: 1:03 - loss: 0.0403 - acc: 0.986 - ETA: 1:02 - loss: 0.0406 - acc: 0.986 - ETA: 1:01 - loss: 0.0405 - acc: 0.986 - ETA: 1:00 - loss: 0.0404 - acc: 0.986 - ETA: 59s - loss: 0.0404 - acc: 0.986 - ETA: 58s - loss: 0.0405 - acc: 0.98 - ETA: 58s - loss: 0.0405 - acc: 0.98 - ETA: 57s - loss: 0.0404 - acc: 0.98 - ETA: 56s - loss: 0.0405 - acc: 0.98 - ETA: 55s - loss: 0.0404 - acc: 0.98 - ETA: 54s - loss: 0.0404 - acc: 0.98 - ETA: 54s - loss: 0.0407 - acc: 0.98 - ETA: 53s - loss: 0.0408 - acc: 0.98 - ETA: 52s - loss: 0.0409 - acc: 0.98 - ETA: 51s - loss: 0.0410 - acc: 0.98 - ETA: 50s - loss: 0.0412 - acc: 0.98 - ETA: 50s - loss: 0.0412 - acc: 0.98 - ETA: 49s - loss: 0.0411 - acc: 0.98 - ETA: 48s - loss: 0.0412 - acc: 0.98 - ETA: 47s - loss: 0.0411 - acc: 0.98 - ETA: 46s - loss: 0.0409 - acc: 0.98 - ETA: 45s - loss: 0.0409 - acc: 0.98 - ETA: 45s - loss: 0.0409 - acc: 0.98 - ETA: 44s - loss: 0.0408 - acc: 0.98 - ETA: 43s - loss: 0.0408 - acc: 0.98 - ETA: 42s - loss: 0.0407 - acc: 0.98 - ETA: 41s - loss: 0.0408 - acc: 0.98 - ETA: 41s - loss: 0.0407 - acc: 0.98 - ETA: 40s - loss: 0.0405 - acc: 0.98 - ETA: 39s - loss: 0.0405 - acc: 0.98 - ETA: 38s - loss: 0.0409 - acc: 0.98 - ETA: 37s - loss: 0.0408 - acc: 0.98 - ETA: 37s - loss: 0.0408 - acc: 0.98 - ETA: 36s - loss: 0.0407 - acc: 0.98 - ETA: 35s - loss: 0.0407 - acc: 0.98 - ETA: 34s - loss: 0.0407 - acc: 0.98 - ETA: 33s - loss: 0.0406 - acc: 0.98 - ETA: 32s - loss: 0.0405 - acc: 0.98 - ETA: 32s - loss: 0.0405 - acc: 0.98 - ETA: 31s - loss: 0.0407 - acc: 0.98 - ETA: 30s - loss: 0.0406 - acc: 0.98 - ETA: 29s - loss: 0.0406 - acc: 0.98 - ETA: 28s - loss: 0.0405 - acc: 0.98 - ETA: 28s - loss: 0.0404 - acc: 0.98 - ETA: 27s - loss: 0.0403 - acc: 0.98 - ETA: 26s - loss: 0.0402 - acc: 0.98 - ETA: 25s - loss: 0.0408 - acc: 0.98 - ETA: 24s - loss: 0.0407 - acc: 0.98 - ETA: 24s - loss: 0.0406 - acc: 0.98 - ETA: 23s - loss: 0.0406 - acc: 0.98 - ETA: 22s - loss: 0.0405 - acc: 0.98 - ETA: 21s - loss: 0.0404 - acc: 0.98 - ETA: 20s - loss: 0.0403 - acc: 0.98 - ETA: 20s - loss: 0.0403 - acc: 0.98 - ETA: 19s - loss: 0.0403 - acc: 0.98 - ETA: 18s - loss: 0.0414 - acc: 0.98 - ETA: 17s - loss: 0.0413 - acc: 0.98 - ETA: 16s - loss: 0.0414 - acc: 0.98 - ETA: 15s - loss: 0.0413 - acc: 0.98 - ETA: 15s - loss: 0.0412 - acc: 0.98 - ETA: 14s - loss: 0.0411 - acc: 0.98 - ETA: 13s - loss: 0.0412 - acc: 0.98 - ETA: 12s - loss: 0.0420 - acc: 0.98 - ETA: 11s - loss: 0.0420 - acc: 0.98 - ETA: 11s - loss: 0.0419 - acc: 0.98 - ETA: 10s - loss: 0.0418 - acc: 0.98 - ETA: 9s - loss: 0.0417 - acc: 0.9859 - ETA: 8s - loss: 0.0419 - acc: 0.985 - ETA: 7s - loss: 0.0419 - acc: 0.985 - ETA: 7s - loss: 0.0420 - acc: 0.985 - ETA: 6s - loss: 0.0419 - acc: 0.985 - ETA: 5s - loss: 0.0418 - acc: 0.985 - ETA: 4s - loss: 0.0417 - acc: 0.985 - ETA: 3s - loss: 0.0417 - acc: 0.985 - ETA: 3s - loss: 0.0416 - acc: 0.985 - ETA: 2s - loss: 0.0415 - acc: 0.985 - ETA: 1s - loss: 0.0415 - acc: 0.985 - ETA: 0s - loss: 0.0417 - acc: 0.985 - 328s 26ms/step - loss: 0.0417 - acc: 0.9859 - val_loss: 4.1117 - val_acc: 0.3769\n",
      "Epoch 13/20\n"
     ]
    },
    {
     "name": "stdout",
     "output_type": "stream",
     "text": [
      " 6528/12793 [==============>...............] - ETA: 3:59 - loss: 0.1027 - acc: 0.968 - ETA: 4:14 - loss: 0.0602 - acc: 0.984 - ETA: 5:05 - loss: 0.0409 - acc: 0.989 - ETA: 5:03 - loss: 0.0359 - acc: 0.992 - ETA: 4:52 - loss: 0.0295 - acc: 0.993 - ETA: 4:56 - loss: 0.0254 - acc: 0.994 - ETA: 5:13 - loss: 0.0258 - acc: 0.995 - ETA: 5:03 - loss: 0.0273 - acc: 0.992 - ETA: 4:56 - loss: 0.0251 - acc: 0.993 - ETA: 4:56 - loss: 0.0232 - acc: 0.993 - ETA: 5:06 - loss: 0.0212 - acc: 0.994 - ETA: 5:01 - loss: 0.0232 - acc: 0.992 - ETA: 4:55 - loss: 0.0241 - acc: 0.990 - ETA: 4:59 - loss: 0.0246 - acc: 0.988 - ETA: 5:04 - loss: 0.0234 - acc: 0.989 - ETA: 4:59 - loss: 0.0237 - acc: 0.988 - ETA: 4:54 - loss: 0.0252 - acc: 0.987 - ETA: 4:58 - loss: 0.0239 - acc: 0.987 - ETA: 5:01 - loss: 0.0240 - acc: 0.988 - ETA: 4:57 - loss: 0.0251 - acc: 0.987 - ETA: 4:53 - loss: 0.0258 - acc: 0.988 - ETA: 4:58 - loss: 0.0256 - acc: 0.988 - ETA: 4:57 - loss: 0.0247 - acc: 0.989 - ETA: 4:54 - loss: 0.0239 - acc: 0.989 - ETA: 4:52 - loss: 0.0234 - acc: 0.990 - ETA: 4:55 - loss: 0.0251 - acc: 0.989 - ETA: 4:53 - loss: 0.0243 - acc: 0.989 - ETA: 4:50 - loss: 0.0235 - acc: 0.990 - ETA: 4:48 - loss: 0.0237 - acc: 0.990 - ETA: 4:50 - loss: 0.0229 - acc: 0.990 - ETA: 4:49 - loss: 0.0229 - acc: 0.989 - ETA: 4:47 - loss: 0.0223 - acc: 0.990 - ETA: 4:45 - loss: 0.0216 - acc: 0.990 - ETA: 4:48 - loss: 0.0234 - acc: 0.989 - ETA: 4:45 - loss: 0.0234 - acc: 0.990 - ETA: 4:42 - loss: 0.0243 - acc: 0.989 - ETA: 4:40 - loss: 0.0242 - acc: 0.989 - ETA: 4:42 - loss: 0.0241 - acc: 0.990 - ETA: 4:41 - loss: 0.0237 - acc: 0.990 - ETA: 4:39 - loss: 0.0237 - acc: 0.990 - ETA: 4:39 - loss: 0.0235 - acc: 0.990 - ETA: 4:41 - loss: 0.0232 - acc: 0.991 - ETA: 4:39 - loss: 0.0227 - acc: 0.991 - ETA: 4:36 - loss: 0.0224 - acc: 0.991 - ETA: 4:38 - loss: 0.0222 - acc: 0.991 - ETA: 4:38 - loss: 0.0219 - acc: 0.991 - ETA: 4:36 - loss: 0.0224 - acc: 0.992 - ETA: 4:34 - loss: 0.0219 - acc: 0.992 - ETA: 4:35 - loss: 0.0216 - acc: 0.992 - ETA: 4:35 - loss: 0.0225 - acc: 0.991 - ETA: 4:33 - loss: 0.0222 - acc: 0.992 - ETA: 4:31 - loss: 0.0218 - acc: 0.992 - ETA: 4:32 - loss: 0.0216 - acc: 0.992 - ETA: 4:31 - loss: 0.0212 - acc: 0.992 - ETA: 4:30 - loss: 0.0210 - acc: 0.992 - ETA: 4:28 - loss: 0.0207 - acc: 0.992 - ETA: 4:29 - loss: 0.0212 - acc: 0.992 - ETA: 4:28 - loss: 0.0209 - acc: 0.992 - ETA: 4:26 - loss: 0.0216 - acc: 0.991 - ETA: 4:26 - loss: 0.0217 - acc: 0.991 - ETA: 4:26 - loss: 0.0221 - acc: 0.991 - ETA: 4:25 - loss: 0.0223 - acc: 0.990 - ETA: 4:23 - loss: 0.0225 - acc: 0.990 - ETA: 4:23 - loss: 0.0225 - acc: 0.990 - ETA: 4:23 - loss: 0.0224 - acc: 0.990 - ETA: 4:22 - loss: 0.0221 - acc: 0.990 - ETA: 4:20 - loss: 0.0225 - acc: 0.990 - ETA: 4:20 - loss: 0.0229 - acc: 0.989 - ETA: 4:20 - loss: 0.0230 - acc: 0.989 - ETA: 4:19 - loss: 0.0229 - acc: 0.989 - ETA: 4:17 - loss: 0.0240 - acc: 0.989 - ETA: 4:18 - loss: 0.0237 - acc: 0.989 - ETA: 4:17 - loss: 0.0237 - acc: 0.989 - ETA: 4:16 - loss: 0.0245 - acc: 0.989 - ETA: 4:15 - loss: 0.0249 - acc: 0.988 - ETA: 4:16 - loss: 0.0268 - acc: 0.988 - ETA: 4:15 - loss: 0.0284 - acc: 0.987 - ETA: 4:13 - loss: 0.0281 - acc: 0.988 - ETA: 4:13 - loss: 0.0296 - acc: 0.987 - ETA: 4:13 - loss: 0.0300 - acc: 0.987 - ETA: 4:11 - loss: 0.0297 - acc: 0.987 - ETA: 4:10 - loss: 0.0295 - acc: 0.987 - ETA: 4:10 - loss: 0.0292 - acc: 0.987 - ETA: 4:10 - loss: 0.0291 - acc: 0.987 - ETA: 4:08 - loss: 0.0291 - acc: 0.987 - ETA: 4:07 - loss: 0.0291 - acc: 0.987 - ETA: 4:07 - loss: 0.0294 - acc: 0.987 - ETA: 4:07 - loss: 0.0295 - acc: 0.987 - ETA: 4:05 - loss: 0.0292 - acc: 0.987 - ETA: 4:04 - loss: 0.0294 - acc: 0.987 - ETA: 4:04 - loss: 0.0293 - acc: 0.987 - ETA: 4:03 - loss: 0.0297 - acc: 0.987 - ETA: 4:02 - loss: 0.0299 - acc: 0.986 - ETA: 4:00 - loss: 0.0300 - acc: 0.987 - ETA: 4:01 - loss: 0.0310 - acc: 0.986 - ETA: 4:00 - loss: 0.0319 - acc: 0.986 - ETA: 3:58 - loss: 0.0316 - acc: 0.986 - ETA: 3:57 - loss: 0.0319 - acc: 0.986 - ETA: 3:57 - loss: 0.0324 - acc: 0.986 - ETA: 3:56 - loss: 0.0322 - acc: 0.986 - ETA: 3:55 - loss: 0.0321 - acc: 0.986 - ETA: 3:54 - loss: 0.0324 - acc: 0.986 - ETA: 3:54 - loss: 0.0321 - acc: 0.986 - ETA: 3:53 - loss: 0.0318 - acc: 0.986 - ETA: 3:52 - loss: 0.0332 - acc: 0.986 - ETA: 3:51 - loss: 0.0329 - acc: 0.986 - ETA: 3:51 - loss: 0.0340 - acc: 0.985 - ETA: 3:50 - loss: 0.0338 - acc: 0.985 - ETA: 3:48 - loss: 0.0336 - acc: 0.986 - ETA: 3:48 - loss: 0.0334 - acc: 0.986 - ETA: 3:47 - loss: 0.0331 - acc: 0.986 - ETA: 3:46 - loss: 0.0329 - acc: 0.986 - ETA: 3:45 - loss: 0.0327 - acc: 0.986 - ETA: 3:44 - loss: 0.0328 - acc: 0.986 - ETA: 3:44 - loss: 0.0338 - acc: 0.986 - ETA: 3:43 - loss: 0.0336 - acc: 0.986 - ETA: 3:42 - loss: 0.0335 - acc: 0.986 - ETA: 3:41 - loss: 0.0333 - acc: 0.986 - ETA: 3:41 - loss: 0.0331 - acc: 0.986 - ETA: 3:40 - loss: 0.0349 - acc: 0.985 - ETA: 3:39 - loss: 0.0352 - acc: 0.985 - ETA: 3:38 - loss: 0.0353 - acc: 0.985 - ETA: 3:38 - loss: 0.0358 - acc: 0.985 - ETA: 3:37 - loss: 0.0356 - acc: 0.985 - ETA: 3:35 - loss: 0.0356 - acc: 0.985 - ETA: 3:35 - loss: 0.0354 - acc: 0.985 - ETA: 3:35 - loss: 0.0351 - acc: 0.985 - ETA: 3:34 - loss: 0.0361 - acc: 0.985 - ETA: 3:33 - loss: 0.0364 - acc: 0.985 - ETA: 3:32 - loss: 0.0363 - acc: 0.985 - ETA: 3:31 - loss: 0.0360 - acc: 0.985 - ETA: 3:30 - loss: 0.0358 - acc: 0.985 - ETA: 3:29 - loss: 0.0356 - acc: 0.985 - ETA: 3:29 - loss: 0.0354 - acc: 0.985 - ETA: 3:28 - loss: 0.0353 - acc: 0.985 - ETA: 3:27 - loss: 0.0350 - acc: 0.985 - ETA: 3:26 - loss: 0.0362 - acc: 0.984 - ETA: 3:26 - loss: 0.0360 - acc: 0.985 - ETA: 3:25 - loss: 0.0358 - acc: 0.985 - ETA: 3:24 - loss: 0.0363 - acc: 0.985 - ETA: 3:23 - loss: 0.0360 - acc: 0.985 - ETA: 3:23 - loss: 0.0359 - acc: 0.985 - ETA: 3:22 - loss: 0.0356 - acc: 0.985 - ETA: 3:21 - loss: 0.0361 - acc: 0.985 - ETA: 3:20 - loss: 0.0359 - acc: 0.985 - ETA: 3:20 - loss: 0.0357 - acc: 0.985 - ETA: 3:19 - loss: 0.0357 - acc: 0.985 - ETA: 3:18 - loss: 0.0356 - acc: 0.985 - ETA: 3:17 - loss: 0.0353 - acc: 0.985 - ETA: 3:17 - loss: 0.0355 - acc: 0.985 - ETA: 3:16 - loss: 0.0354 - acc: 0.985 - ETA: 3:14 - loss: 0.0365 - acc: 0.985 - ETA: 3:14 - loss: 0.0363 - acc: 0.985 - ETA: 3:13 - loss: 0.0362 - acc: 0.985 - ETA: 3:12 - loss: 0.0362 - acc: 0.985 - ETA: 3:11 - loss: 0.0363 - acc: 0.985 - ETA: 3:11 - loss: 0.0361 - acc: 0.985 - ETA: 3:10 - loss: 0.0359 - acc: 0.985 - ETA: 3:09 - loss: 0.0358 - acc: 0.985 - ETA: 3:09 - loss: 0.0361 - acc: 0.985 - ETA: 3:08 - loss: 0.0359 - acc: 0.985 - ETA: 3:07 - loss: 0.0358 - acc: 0.985 - ETA: 3:06 - loss: 0.0357 - acc: 0.985 - ETA: 3:06 - loss: 0.0355 - acc: 0.985 - ETA: 3:05 - loss: 0.0353 - acc: 0.986 - ETA: 3:04 - loss: 0.0353 - acc: 0.985 - ETA: 3:03 - loss: 0.0351 - acc: 0.986 - ETA: 3:03 - loss: 0.0355 - acc: 0.985 - ETA: 3:02 - loss: 0.0353 - acc: 0.985 - ETA: 3:01 - loss: 0.0352 - acc: 0.985 - ETA: 3:00 - loss: 0.0352 - acc: 0.985 - ETA: 3:00 - loss: 0.0354 - acc: 0.985 - ETA: 2:59 - loss: 0.0353 - acc: 0.985 - ETA: 2:58 - loss: 0.0352 - acc: 0.985 - ETA: 2:57 - loss: 0.0350 - acc: 0.985 - ETA: 2:57 - loss: 0.0353 - acc: 0.985 - ETA: 2:56 - loss: 0.0351 - acc: 0.985 - ETA: 2:55 - loss: 0.0358 - acc: 0.985 - ETA: 2:54 - loss: 0.0356 - acc: 0.985 - ETA: 2:54 - loss: 0.0360 - acc: 0.985 - ETA: 2:52 - loss: 0.0359 - acc: 0.985 - ETA: 2:51 - loss: 0.0357 - acc: 0.985 - ETA: 2:51 - loss: 0.0356 - acc: 0.985 - ETA: 2:50 - loss: 0.0356 - acc: 0.985 - ETA: 2:49 - loss: 0.0362 - acc: 0.985 - ETA: 2:48 - loss: 0.0360 - acc: 0.985 - ETA: 2:48 - loss: 0.0359 - acc: 0.985 - ETA: 2:47 - loss: 0.0357 - acc: 0.985 - ETA: 2:46 - loss: 0.0356 - acc: 0.985 - ETA: 2:45 - loss: 0.0354 - acc: 0.986 - ETA: 2:45 - loss: 0.0367 - acc: 0.985 - ETA: 2:44 - loss: 0.0365 - acc: 0.986 - ETA: 2:43 - loss: 0.0368 - acc: 0.985 - ETA: 2:42 - loss: 0.0369 - acc: 0.985 - ETA: 2:42 - loss: 0.0369 - acc: 0.985 - ETA: 2:41 - loss: 0.0368 - acc: 0.986 - ETA: 2:40 - loss: 0.0369 - acc: 0.986 - ETA: 2:39 - loss: 0.0372 - acc: 0.986 - ETA: 2:38 - loss: 0.0371 - acc: 0.985 - ETA: 2:37 - loss: 0.0370 - acc: 0.985 - ETA: 2:36 - loss: 0.0370 - acc: 0.985 - ETA: 2:36 - loss: 0.0369 - acc: 0.985 - ETA: 2:35 - loss: 0.0371 - acc: 0.985 - ETA: 2:34 - loss: 0.0370 - acc: 0.9859"
     ]
    },
    {
     "name": "stdout",
     "output_type": "stream",
     "text": [
      "12793/12793 [==============================] - ETA: 2:33 - loss: 0.0369 - acc: 0.986 - ETA: 2:33 - loss: 0.0369 - acc: 0.986 - ETA: 2:32 - loss: 0.0368 - acc: 0.986 - ETA: 2:31 - loss: 0.0367 - acc: 0.986 - ETA: 2:30 - loss: 0.0367 - acc: 0.986 - ETA: 2:30 - loss: 0.0365 - acc: 0.986 - ETA: 2:29 - loss: 0.0364 - acc: 0.986 - ETA: 2:28 - loss: 0.0362 - acc: 0.986 - ETA: 2:27 - loss: 0.0365 - acc: 0.986 - ETA: 2:27 - loss: 0.0365 - acc: 0.986 - ETA: 2:26 - loss: 0.0364 - acc: 0.986 - ETA: 2:25 - loss: 0.0367 - acc: 0.986 - ETA: 2:24 - loss: 0.0366 - acc: 0.986 - ETA: 2:23 - loss: 0.0366 - acc: 0.986 - ETA: 2:22 - loss: 0.0364 - acc: 0.986 - ETA: 2:22 - loss: 0.0363 - acc: 0.986 - ETA: 2:21 - loss: 0.0362 - acc: 0.986 - ETA: 2:20 - loss: 0.0362 - acc: 0.986 - ETA: 2:19 - loss: 0.0365 - acc: 0.986 - ETA: 2:18 - loss: 0.0364 - acc: 0.986 - ETA: 2:18 - loss: 0.0362 - acc: 0.986 - ETA: 2:17 - loss: 0.0363 - acc: 0.986 - ETA: 2:16 - loss: 0.0363 - acc: 0.986 - ETA: 2:15 - loss: 0.0362 - acc: 0.986 - ETA: 2:15 - loss: 0.0367 - acc: 0.986 - ETA: 2:14 - loss: 0.0366 - acc: 0.986 - ETA: 2:13 - loss: 0.0365 - acc: 0.986 - ETA: 2:12 - loss: 0.0364 - acc: 0.986 - ETA: 2:12 - loss: 0.0365 - acc: 0.986 - ETA: 2:11 - loss: 0.0365 - acc: 0.986 - ETA: 2:10 - loss: 0.0365 - acc: 0.986 - ETA: 2:09 - loss: 0.0364 - acc: 0.986 - ETA: 2:09 - loss: 0.0363 - acc: 0.986 - ETA: 2:08 - loss: 0.0365 - acc: 0.986 - ETA: 2:07 - loss: 0.0363 - acc: 0.986 - ETA: 2:06 - loss: 0.0367 - acc: 0.986 - ETA: 2:06 - loss: 0.0366 - acc: 0.986 - ETA: 2:05 - loss: 0.0369 - acc: 0.986 - ETA: 2:04 - loss: 0.0375 - acc: 0.986 - ETA: 2:04 - loss: 0.0375 - acc: 0.986 - ETA: 2:03 - loss: 0.0375 - acc: 0.986 - ETA: 2:02 - loss: 0.0373 - acc: 0.986 - ETA: 2:02 - loss: 0.0372 - acc: 0.986 - ETA: 2:01 - loss: 0.0372 - acc: 0.986 - ETA: 2:00 - loss: 0.0371 - acc: 0.986 - ETA: 2:00 - loss: 0.0370 - acc: 0.986 - ETA: 1:59 - loss: 0.0368 - acc: 0.986 - ETA: 1:58 - loss: 0.0377 - acc: 0.986 - ETA: 1:57 - loss: 0.0375 - acc: 0.986 - ETA: 1:57 - loss: 0.0375 - acc: 0.986 - ETA: 1:56 - loss: 0.0374 - acc: 0.986 - ETA: 1:55 - loss: 0.0374 - acc: 0.986 - ETA: 1:54 - loss: 0.0374 - acc: 0.986 - ETA: 1:54 - loss: 0.0372 - acc: 0.986 - ETA: 1:53 - loss: 0.0372 - acc: 0.986 - ETA: 1:52 - loss: 0.0372 - acc: 0.986 - ETA: 1:51 - loss: 0.0372 - acc: 0.986 - ETA: 1:51 - loss: 0.0370 - acc: 0.986 - ETA: 1:50 - loss: 0.0369 - acc: 0.986 - ETA: 1:49 - loss: 0.0372 - acc: 0.986 - ETA: 1:49 - loss: 0.0371 - acc: 0.986 - ETA: 1:48 - loss: 0.0369 - acc: 0.986 - ETA: 1:47 - loss: 0.0370 - acc: 0.986 - ETA: 1:46 - loss: 0.0369 - acc: 0.986 - ETA: 1:46 - loss: 0.0370 - acc: 0.986 - ETA: 1:45 - loss: 0.0370 - acc: 0.986 - ETA: 1:44 - loss: 0.0370 - acc: 0.986 - ETA: 1:43 - loss: 0.0369 - acc: 0.986 - ETA: 1:43 - loss: 0.0368 - acc: 0.986 - ETA: 1:42 - loss: 0.0366 - acc: 0.986 - ETA: 1:41 - loss: 0.0365 - acc: 0.986 - ETA: 1:40 - loss: 0.0365 - acc: 0.986 - ETA: 1:39 - loss: 0.0364 - acc: 0.986 - ETA: 1:38 - loss: 0.0363 - acc: 0.986 - ETA: 1:38 - loss: 0.0362 - acc: 0.986 - ETA: 1:37 - loss: 0.0361 - acc: 0.986 - ETA: 1:36 - loss: 0.0366 - acc: 0.986 - ETA: 1:35 - loss: 0.0366 - acc: 0.986 - ETA: 1:35 - loss: 0.0365 - acc: 0.986 - ETA: 1:34 - loss: 0.0364 - acc: 0.986 - ETA: 1:33 - loss: 0.0367 - acc: 0.986 - ETA: 1:32 - loss: 0.0366 - acc: 0.986 - ETA: 1:31 - loss: 0.0370 - acc: 0.986 - ETA: 1:31 - loss: 0.0369 - acc: 0.986 - ETA: 1:30 - loss: 0.0367 - acc: 0.986 - ETA: 1:29 - loss: 0.0367 - acc: 0.986 - ETA: 1:28 - loss: 0.0370 - acc: 0.986 - ETA: 1:27 - loss: 0.0371 - acc: 0.986 - ETA: 1:27 - loss: 0.0371 - acc: 0.986 - ETA: 1:26 - loss: 0.0369 - acc: 0.986 - ETA: 1:25 - loss: 0.0371 - acc: 0.986 - ETA: 1:24 - loss: 0.0373 - acc: 0.986 - ETA: 1:24 - loss: 0.0377 - acc: 0.986 - ETA: 1:23 - loss: 0.0381 - acc: 0.986 - ETA: 1:22 - loss: 0.0383 - acc: 0.986 - ETA: 1:21 - loss: 0.0382 - acc: 0.986 - ETA: 1:21 - loss: 0.0381 - acc: 0.986 - ETA: 1:20 - loss: 0.0381 - acc: 0.986 - ETA: 1:19 - loss: 0.0384 - acc: 0.986 - ETA: 1:18 - loss: 0.0385 - acc: 0.986 - ETA: 1:17 - loss: 0.0385 - acc: 0.986 - ETA: 1:17 - loss: 0.0384 - acc: 0.986 - ETA: 1:16 - loss: 0.0387 - acc: 0.986 - ETA: 1:15 - loss: 0.0388 - acc: 0.985 - ETA: 1:14 - loss: 0.0388 - acc: 0.985 - ETA: 1:14 - loss: 0.0394 - acc: 0.985 - ETA: 1:13 - loss: 0.0394 - acc: 0.985 - ETA: 1:12 - loss: 0.0393 - acc: 0.985 - ETA: 1:11 - loss: 0.0399 - acc: 0.985 - ETA: 1:11 - loss: 0.0399 - acc: 0.985 - ETA: 1:10 - loss: 0.0397 - acc: 0.985 - ETA: 1:09 - loss: 0.0401 - acc: 0.985 - ETA: 1:08 - loss: 0.0401 - acc: 0.985 - ETA: 1:07 - loss: 0.0401 - acc: 0.985 - ETA: 1:07 - loss: 0.0401 - acc: 0.985 - ETA: 1:06 - loss: 0.0400 - acc: 0.985 - ETA: 1:05 - loss: 0.0402 - acc: 0.985 - ETA: 1:04 - loss: 0.0401 - acc: 0.985 - ETA: 1:04 - loss: 0.0401 - acc: 0.985 - ETA: 1:03 - loss: 0.0400 - acc: 0.985 - ETA: 1:02 - loss: 0.0403 - acc: 0.985 - ETA: 1:01 - loss: 0.0404 - acc: 0.985 - ETA: 1:01 - loss: 0.0404 - acc: 0.985 - ETA: 1:00 - loss: 0.0403 - acc: 0.985 - ETA: 59s - loss: 0.0402 - acc: 0.985 - ETA: 58s - loss: 0.0405 - acc: 0.98 - ETA: 57s - loss: 0.0408 - acc: 0.98 - ETA: 57s - loss: 0.0413 - acc: 0.98 - ETA: 56s - loss: 0.0412 - acc: 0.98 - ETA: 55s - loss: 0.0411 - acc: 0.98 - ETA: 54s - loss: 0.0410 - acc: 0.98 - ETA: 53s - loss: 0.0410 - acc: 0.98 - ETA: 53s - loss: 0.0409 - acc: 0.98 - ETA: 52s - loss: 0.0408 - acc: 0.98 - ETA: 51s - loss: 0.0407 - acc: 0.98 - ETA: 50s - loss: 0.0406 - acc: 0.98 - ETA: 49s - loss: 0.0407 - acc: 0.98 - ETA: 49s - loss: 0.0406 - acc: 0.98 - ETA: 48s - loss: 0.0405 - acc: 0.98 - ETA: 47s - loss: 0.0406 - acc: 0.98 - ETA: 46s - loss: 0.0405 - acc: 0.98 - ETA: 45s - loss: 0.0405 - acc: 0.98 - ETA: 44s - loss: 0.0404 - acc: 0.98 - ETA: 43s - loss: 0.0403 - acc: 0.98 - ETA: 43s - loss: 0.0405 - acc: 0.98 - ETA: 42s - loss: 0.0404 - acc: 0.98 - ETA: 41s - loss: 0.0403 - acc: 0.98 - ETA: 40s - loss: 0.0402 - acc: 0.98 - ETA: 39s - loss: 0.0402 - acc: 0.98 - ETA: 38s - loss: 0.0402 - acc: 0.98 - ETA: 38s - loss: 0.0401 - acc: 0.98 - ETA: 37s - loss: 0.0403 - acc: 0.98 - ETA: 36s - loss: 0.0402 - acc: 0.98 - ETA: 35s - loss: 0.0401 - acc: 0.98 - ETA: 34s - loss: 0.0400 - acc: 0.98 - ETA: 33s - loss: 0.0402 - acc: 0.98 - ETA: 33s - loss: 0.0403 - acc: 0.98 - ETA: 32s - loss: 0.0402 - acc: 0.98 - ETA: 31s - loss: 0.0401 - acc: 0.98 - ETA: 30s - loss: 0.0401 - acc: 0.98 - ETA: 29s - loss: 0.0404 - acc: 0.98 - ETA: 28s - loss: 0.0403 - acc: 0.98 - ETA: 28s - loss: 0.0402 - acc: 0.98 - ETA: 27s - loss: 0.0403 - acc: 0.98 - ETA: 26s - loss: 0.0402 - acc: 0.98 - ETA: 25s - loss: 0.0403 - acc: 0.98 - ETA: 24s - loss: 0.0402 - acc: 0.98 - ETA: 23s - loss: 0.0402 - acc: 0.98 - ETA: 22s - loss: 0.0406 - acc: 0.98 - ETA: 22s - loss: 0.0407 - acc: 0.98 - ETA: 21s - loss: 0.0407 - acc: 0.98 - ETA: 20s - loss: 0.0407 - acc: 0.98 - ETA: 19s - loss: 0.0406 - acc: 0.98 - ETA: 18s - loss: 0.0405 - acc: 0.98 - ETA: 17s - loss: 0.0404 - acc: 0.98 - ETA: 16s - loss: 0.0405 - acc: 0.98 - ETA: 16s - loss: 0.0404 - acc: 0.98 - ETA: 15s - loss: 0.0403 - acc: 0.98 - ETA: 14s - loss: 0.0403 - acc: 0.98 - ETA: 13s - loss: 0.0402 - acc: 0.98 - ETA: 12s - loss: 0.0402 - acc: 0.98 - ETA: 11s - loss: 0.0402 - acc: 0.98 - ETA: 10s - loss: 0.0403 - acc: 0.98 - ETA: 10s - loss: 0.0403 - acc: 0.98 - ETA: 9s - loss: 0.0402 - acc: 0.9856 - ETA: 8s - loss: 0.0406 - acc: 0.985 - ETA: 7s - loss: 0.0405 - acc: 0.985 - ETA: 6s - loss: 0.0405 - acc: 0.985 - ETA: 5s - loss: 0.0409 - acc: 0.985 - ETA: 4s - loss: 0.0412 - acc: 0.985 - ETA: 4s - loss: 0.0413 - acc: 0.985 - ETA: 3s - loss: 0.0413 - acc: 0.985 - ETA: 2s - loss: 0.0415 - acc: 0.985 - ETA: 1s - loss: 0.0414 - acc: 0.985 - ETA: 0s - loss: 0.0415 - acc: 0.985 - 348s 27ms/step - loss: 0.0415 - acc: 0.9853 - val_loss: 4.6200 - val_acc: 0.3994\n",
      "Epoch 14/20\n"
     ]
    },
    {
     "name": "stdout",
     "output_type": "stream",
     "text": [
      " 6528/12793 [==============>...............] - ETA: 6:00 - loss: 0.0023 - acc: 1.000 - ETA: 7:16 - loss: 0.0026 - acc: 1.000 - ETA: 6:10 - loss: 0.0081 - acc: 1.000 - ETA: 5:38 - loss: 0.0070 - acc: 1.000 - ETA: 6:12 - loss: 0.0111 - acc: 0.993 - ETA: 6:00 - loss: 0.0138 - acc: 0.994 - ETA: 5:42 - loss: 0.0366 - acc: 0.986 - ETA: 5:59 - loss: 0.0324 - acc: 0.988 - ETA: 6:09 - loss: 0.0341 - acc: 0.986 - ETA: 6:09 - loss: 0.0383 - acc: 0.984 - ETA: 6:18 - loss: 0.0361 - acc: 0.985 - ETA: 6:14 - loss: 0.0345 - acc: 0.987 - ETA: 6:09 - loss: 0.0328 - acc: 0.988 - ETA: 6:14 - loss: 0.0323 - acc: 0.988 - ETA: 6:12 - loss: 0.0387 - acc: 0.985 - ETA: 6:03 - loss: 0.0365 - acc: 0.986 - ETA: 5:58 - loss: 0.0347 - acc: 0.987 - ETA: 6:02 - loss: 0.0332 - acc: 0.987 - ETA: 6:07 - loss: 0.0324 - acc: 0.988 - ETA: 6:02 - loss: 0.0312 - acc: 0.989 - ETA: 5:56 - loss: 0.0332 - acc: 0.988 - ETA: 5:54 - loss: 0.0321 - acc: 0.988 - ETA: 5:55 - loss: 0.0307 - acc: 0.989 - ETA: 5:49 - loss: 0.0296 - acc: 0.989 - ETA: 5:47 - loss: 0.0284 - acc: 0.990 - ETA: 5:50 - loss: 0.0274 - acc: 0.990 - ETA: 5:48 - loss: 0.0266 - acc: 0.990 - ETA: 5:43 - loss: 0.0258 - acc: 0.991 - ETA: 5:41 - loss: 0.0308 - acc: 0.989 - ETA: 5:43 - loss: 0.0306 - acc: 0.989 - ETA: 5:38 - loss: 0.0298 - acc: 0.989 - ETA: 5:34 - loss: 0.0289 - acc: 0.990 - ETA: 5:35 - loss: 0.0282 - acc: 0.990 - ETA: 5:35 - loss: 0.0282 - acc: 0.989 - ETA: 5:31 - loss: 0.0275 - acc: 0.990 - ETA: 5:31 - loss: 0.0283 - acc: 0.989 - ETA: 5:32 - loss: 0.0278 - acc: 0.989 - ETA: 5:29 - loss: 0.0271 - acc: 0.990 - ETA: 5:28 - loss: 0.0264 - acc: 0.990 - ETA: 5:29 - loss: 0.0258 - acc: 0.990 - ETA: 5:26 - loss: 0.0253 - acc: 0.990 - ETA: 5:24 - loss: 0.0248 - acc: 0.991 - ETA: 5:21 - loss: 0.0243 - acc: 0.991 - ETA: 5:18 - loss: 0.0239 - acc: 0.991 - ETA: 5:15 - loss: 0.0234 - acc: 0.991 - ETA: 5:16 - loss: 0.0231 - acc: 0.991 - ETA: 5:14 - loss: 0.0232 - acc: 0.992 - ETA: 5:12 - loss: 0.0233 - acc: 0.992 - ETA: 5:10 - loss: 0.0229 - acc: 0.992 - ETA: 5:08 - loss: 0.0226 - acc: 0.992 - ETA: 5:07 - loss: 0.0229 - acc: 0.992 - ETA: 5:07 - loss: 0.0240 - acc: 0.991 - ETA: 5:05 - loss: 0.0239 - acc: 0.991 - ETA: 5:02 - loss: 0.0234 - acc: 0.991 - ETA: 5:03 - loss: 0.0230 - acc: 0.992 - ETA: 5:04 - loss: 0.0231 - acc: 0.992 - ETA: 5:02 - loss: 0.0228 - acc: 0.992 - ETA: 5:02 - loss: 0.0226 - acc: 0.992 - ETA: 5:02 - loss: 0.0227 - acc: 0.992 - ETA: 5:00 - loss: 0.0223 - acc: 0.992 - ETA: 5:00 - loss: 0.0220 - acc: 0.992 - ETA: 5:01 - loss: 0.0230 - acc: 0.992 - ETA: 4:59 - loss: 0.0239 - acc: 0.992 - ETA: 4:57 - loss: 0.0236 - acc: 0.992 - ETA: 4:59 - loss: 0.0233 - acc: 0.992 - ETA: 4:57 - loss: 0.0232 - acc: 0.992 - ETA: 4:56 - loss: 0.0232 - acc: 0.992 - ETA: 4:57 - loss: 0.0229 - acc: 0.992 - ETA: 4:57 - loss: 0.0231 - acc: 0.991 - ETA: 4:55 - loss: 0.0229 - acc: 0.992 - ETA: 4:56 - loss: 0.0232 - acc: 0.992 - ETA: 4:55 - loss: 0.0229 - acc: 0.992 - ETA: 4:54 - loss: 0.0226 - acc: 0.992 - ETA: 4:55 - loss: 0.0224 - acc: 0.992 - ETA: 4:54 - loss: 0.0224 - acc: 0.992 - ETA: 4:52 - loss: 0.0221 - acc: 0.992 - ETA: 4:54 - loss: 0.0218 - acc: 0.992 - ETA: 4:52 - loss: 0.0241 - acc: 0.992 - ETA: 4:51 - loss: 0.0238 - acc: 0.992 - ETA: 4:50 - loss: 0.0243 - acc: 0.992 - ETA: 4:50 - loss: 0.0251 - acc: 0.991 - ETA: 4:48 - loss: 0.0248 - acc: 0.992 - ETA: 4:48 - loss: 0.0245 - acc: 0.992 - ETA: 4:47 - loss: 0.0245 - acc: 0.992 - ETA: 4:46 - loss: 0.0242 - acc: 0.992 - ETA: 4:44 - loss: 0.0240 - acc: 0.992 - ETA: 4:44 - loss: 0.0237 - acc: 0.992 - ETA: 4:42 - loss: 0.0235 - acc: 0.992 - ETA: 4:41 - loss: 0.0234 - acc: 0.992 - ETA: 4:40 - loss: 0.0232 - acc: 0.992 - ETA: 4:40 - loss: 0.0230 - acc: 0.992 - ETA: 4:39 - loss: 0.0231 - acc: 0.992 - ETA: 4:39 - loss: 0.0229 - acc: 0.992 - ETA: 4:39 - loss: 0.0227 - acc: 0.992 - ETA: 4:38 - loss: 0.0226 - acc: 0.992 - ETA: 4:38 - loss: 0.0233 - acc: 0.992 - ETA: 4:37 - loss: 0.0234 - acc: 0.992 - ETA: 4:36 - loss: 0.0235 - acc: 0.992 - ETA: 4:36 - loss: 0.0245 - acc: 0.991 - ETA: 4:36 - loss: 0.0252 - acc: 0.991 - ETA: 4:34 - loss: 0.0250 - acc: 0.991 - ETA: 4:34 - loss: 0.0248 - acc: 0.991 - ETA: 4:33 - loss: 0.0247 - acc: 0.991 - ETA: 4:32 - loss: 0.0245 - acc: 0.991 - ETA: 4:31 - loss: 0.0243 - acc: 0.991 - ETA: 4:31 - loss: 0.0262 - acc: 0.991 - ETA: 4:30 - loss: 0.0263 - acc: 0.990 - ETA: 4:29 - loss: 0.0272 - acc: 0.990 - ETA: 4:28 - loss: 0.0271 - acc: 0.990 - ETA: 4:26 - loss: 0.0271 - acc: 0.990 - ETA: 4:24 - loss: 0.0269 - acc: 0.990 - ETA: 4:23 - loss: 0.0271 - acc: 0.990 - ETA: 4:23 - loss: 0.0269 - acc: 0.990 - ETA: 4:22 - loss: 0.0267 - acc: 0.990 - ETA: 4:21 - loss: 0.0272 - acc: 0.990 - ETA: 4:19 - loss: 0.0269 - acc: 0.990 - ETA: 4:18 - loss: 0.0267 - acc: 0.990 - ETA: 4:18 - loss: 0.0273 - acc: 0.989 - ETA: 4:16 - loss: 0.0274 - acc: 0.989 - ETA: 4:15 - loss: 0.0275 - acc: 0.989 - ETA: 4:13 - loss: 0.0276 - acc: 0.989 - ETA: 4:13 - loss: 0.0274 - acc: 0.989 - ETA: 4:12 - loss: 0.0273 - acc: 0.989 - ETA: 4:10 - loss: 0.0280 - acc: 0.989 - ETA: 4:09 - loss: 0.0277 - acc: 0.989 - ETA: 4:08 - loss: 0.0279 - acc: 0.989 - ETA: 4:07 - loss: 0.0279 - acc: 0.989 - ETA: 4:05 - loss: 0.0277 - acc: 0.989 - ETA: 4:05 - loss: 0.0275 - acc: 0.989 - ETA: 4:04 - loss: 0.0273 - acc: 0.989 - ETA: 4:02 - loss: 0.0272 - acc: 0.989 - ETA: 4:01 - loss: 0.0274 - acc: 0.989 - ETA: 4:01 - loss: 0.0272 - acc: 0.989 - ETA: 4:00 - loss: 0.0285 - acc: 0.989 - ETA: 3:59 - loss: 0.0288 - acc: 0.989 - ETA: 3:58 - loss: 0.0286 - acc: 0.989 - ETA: 3:57 - loss: 0.0284 - acc: 0.989 - ETA: 3:55 - loss: 0.0291 - acc: 0.989 - ETA: 3:54 - loss: 0.0290 - acc: 0.989 - ETA: 3:53 - loss: 0.0292 - acc: 0.989 - ETA: 3:52 - loss: 0.0291 - acc: 0.989 - ETA: 3:51 - loss: 0.0290 - acc: 0.989 - ETA: 3:50 - loss: 0.0288 - acc: 0.989 - ETA: 3:49 - loss: 0.0297 - acc: 0.988 - ETA: 3:48 - loss: 0.0295 - acc: 0.989 - ETA: 3:46 - loss: 0.0293 - acc: 0.989 - ETA: 3:46 - loss: 0.0296 - acc: 0.988 - ETA: 3:45 - loss: 0.0297 - acc: 0.988 - ETA: 3:44 - loss: 0.0296 - acc: 0.988 - ETA: 3:42 - loss: 0.0294 - acc: 0.989 - ETA: 3:42 - loss: 0.0293 - acc: 0.989 - ETA: 3:41 - loss: 0.0292 - acc: 0.989 - ETA: 3:40 - loss: 0.0292 - acc: 0.989 - ETA: 3:38 - loss: 0.0291 - acc: 0.989 - ETA: 3:38 - loss: 0.0290 - acc: 0.989 - ETA: 3:37 - loss: 0.0288 - acc: 0.989 - ETA: 3:36 - loss: 0.0289 - acc: 0.989 - ETA: 3:34 - loss: 0.0294 - acc: 0.988 - ETA: 3:34 - loss: 0.0293 - acc: 0.989 - ETA: 3:33 - loss: 0.0294 - acc: 0.988 - ETA: 3:31 - loss: 0.0293 - acc: 0.988 - ETA: 3:30 - loss: 0.0298 - acc: 0.988 - ETA: 3:30 - loss: 0.0297 - acc: 0.988 - ETA: 3:28 - loss: 0.0296 - acc: 0.988 - ETA: 3:27 - loss: 0.0294 - acc: 0.988 - ETA: 3:27 - loss: 0.0293 - acc: 0.988 - ETA: 3:26 - loss: 0.0291 - acc: 0.989 - ETA: 3:25 - loss: 0.0290 - acc: 0.989 - ETA: 3:23 - loss: 0.0288 - acc: 0.989 - ETA: 3:23 - loss: 0.0288 - acc: 0.989 - ETA: 3:22 - loss: 0.0306 - acc: 0.988 - ETA: 3:20 - loss: 0.0305 - acc: 0.988 - ETA: 3:19 - loss: 0.0303 - acc: 0.989 - ETA: 3:19 - loss: 0.0301 - acc: 0.989 - ETA: 3:18 - loss: 0.0300 - acc: 0.989 - ETA: 3:17 - loss: 0.0298 - acc: 0.989 - ETA: 3:16 - loss: 0.0297 - acc: 0.989 - ETA: 3:16 - loss: 0.0296 - acc: 0.989 - ETA: 3:15 - loss: 0.0294 - acc: 0.989 - ETA: 3:14 - loss: 0.0292 - acc: 0.989 - ETA: 3:13 - loss: 0.0292 - acc: 0.989 - ETA: 3:12 - loss: 0.0290 - acc: 0.989 - ETA: 3:11 - loss: 0.0292 - acc: 0.989 - ETA: 3:11 - loss: 0.0291 - acc: 0.989 - ETA: 3:09 - loss: 0.0290 - acc: 0.989 - ETA: 3:08 - loss: 0.0291 - acc: 0.989 - ETA: 3:08 - loss: 0.0291 - acc: 0.989 - ETA: 3:07 - loss: 0.0291 - acc: 0.989 - ETA: 3:06 - loss: 0.0289 - acc: 0.989 - ETA: 3:05 - loss: 0.0292 - acc: 0.989 - ETA: 3:04 - loss: 0.0294 - acc: 0.989 - ETA: 3:04 - loss: 0.0292 - acc: 0.989 - ETA: 3:03 - loss: 0.0291 - acc: 0.989 - ETA: 3:02 - loss: 0.0290 - acc: 0.989 - ETA: 3:01 - loss: 0.0289 - acc: 0.989 - ETA: 3:00 - loss: 0.0288 - acc: 0.989 - ETA: 3:00 - loss: 0.0286 - acc: 0.989 - ETA: 2:59 - loss: 0.0286 - acc: 0.989 - ETA: 2:58 - loss: 0.0284 - acc: 0.989 - ETA: 2:57 - loss: 0.0288 - acc: 0.989 - ETA: 2:56 - loss: 0.0288 - acc: 0.989 - ETA: 2:55 - loss: 0.0287 - acc: 0.989 - ETA: 2:55 - loss: 0.0286 - acc: 0.989 - ETA: 2:54 - loss: 0.0285 - acc: 0.9897"
     ]
    },
    {
     "name": "stdout",
     "output_type": "stream",
     "text": [
      "12793/12793 [==============================] - ETA: 2:53 - loss: 0.0284 - acc: 0.989 - ETA: 2:52 - loss: 0.0284 - acc: 0.989 - ETA: 2:51 - loss: 0.0287 - acc: 0.989 - ETA: 2:50 - loss: 0.0287 - acc: 0.989 - ETA: 2:49 - loss: 0.0298 - acc: 0.989 - ETA: 2:48 - loss: 0.0302 - acc: 0.989 - ETA: 2:47 - loss: 0.0302 - acc: 0.989 - ETA: 2:46 - loss: 0.0304 - acc: 0.989 - ETA: 2:45 - loss: 0.0303 - acc: 0.989 - ETA: 2:44 - loss: 0.0302 - acc: 0.989 - ETA: 2:43 - loss: 0.0302 - acc: 0.989 - ETA: 2:42 - loss: 0.0302 - acc: 0.989 - ETA: 2:41 - loss: 0.0300 - acc: 0.989 - ETA: 2:41 - loss: 0.0299 - acc: 0.989 - ETA: 2:39 - loss: 0.0298 - acc: 0.989 - ETA: 2:38 - loss: 0.0300 - acc: 0.989 - ETA: 2:37 - loss: 0.0299 - acc: 0.989 - ETA: 2:37 - loss: 0.0298 - acc: 0.989 - ETA: 2:36 - loss: 0.0297 - acc: 0.989 - ETA: 2:34 - loss: 0.0296 - acc: 0.989 - ETA: 2:34 - loss: 0.0301 - acc: 0.989 - ETA: 2:33 - loss: 0.0301 - acc: 0.989 - ETA: 2:32 - loss: 0.0300 - acc: 0.989 - ETA: 2:31 - loss: 0.0300 - acc: 0.989 - ETA: 2:30 - loss: 0.0299 - acc: 0.989 - ETA: 2:29 - loss: 0.0301 - acc: 0.989 - ETA: 2:28 - loss: 0.0300 - acc: 0.989 - ETA: 2:28 - loss: 0.0298 - acc: 0.989 - ETA: 2:27 - loss: 0.0297 - acc: 0.989 - ETA: 2:26 - loss: 0.0296 - acc: 0.989 - ETA: 2:25 - loss: 0.0298 - acc: 0.989 - ETA: 2:24 - loss: 0.0297 - acc: 0.989 - ETA: 2:23 - loss: 0.0296 - acc: 0.989 - ETA: 2:22 - loss: 0.0297 - acc: 0.989 - ETA: 2:21 - loss: 0.0299 - acc: 0.989 - ETA: 2:21 - loss: 0.0301 - acc: 0.989 - ETA: 2:20 - loss: 0.0301 - acc: 0.989 - ETA: 2:19 - loss: 0.0301 - acc: 0.989 - ETA: 2:18 - loss: 0.0302 - acc: 0.989 - ETA: 2:17 - loss: 0.0302 - acc: 0.989 - ETA: 2:17 - loss: 0.0301 - acc: 0.989 - ETA: 2:16 - loss: 0.0302 - acc: 0.989 - ETA: 2:15 - loss: 0.0301 - acc: 0.989 - ETA: 2:14 - loss: 0.0301 - acc: 0.989 - ETA: 2:13 - loss: 0.0301 - acc: 0.989 - ETA: 2:12 - loss: 0.0301 - acc: 0.989 - ETA: 2:11 - loss: 0.0300 - acc: 0.989 - ETA: 2:10 - loss: 0.0299 - acc: 0.989 - ETA: 2:10 - loss: 0.0298 - acc: 0.989 - ETA: 2:09 - loss: 0.0298 - acc: 0.989 - ETA: 2:08 - loss: 0.0303 - acc: 0.989 - ETA: 2:07 - loss: 0.0302 - acc: 0.989 - ETA: 2:06 - loss: 0.0302 - acc: 0.989 - ETA: 2:05 - loss: 0.0304 - acc: 0.989 - ETA: 2:04 - loss: 0.0303 - acc: 0.989 - ETA: 2:04 - loss: 0.0302 - acc: 0.989 - ETA: 2:03 - loss: 0.0305 - acc: 0.989 - ETA: 2:02 - loss: 0.0305 - acc: 0.989 - ETA: 2:01 - loss: 0.0305 - acc: 0.989 - ETA: 2:00 - loss: 0.0304 - acc: 0.989 - ETA: 1:59 - loss: 0.0304 - acc: 0.989 - ETA: 1:58 - loss: 0.0303 - acc: 0.989 - ETA: 1:57 - loss: 0.0302 - acc: 0.989 - ETA: 1:56 - loss: 0.0302 - acc: 0.989 - ETA: 1:55 - loss: 0.0301 - acc: 0.989 - ETA: 1:55 - loss: 0.0301 - acc: 0.989 - ETA: 1:54 - loss: 0.0300 - acc: 0.989 - ETA: 1:53 - loss: 0.0301 - acc: 0.989 - ETA: 1:52 - loss: 0.0300 - acc: 0.989 - ETA: 1:51 - loss: 0.0303 - acc: 0.989 - ETA: 1:50 - loss: 0.0302 - acc: 0.989 - ETA: 1:49 - loss: 0.0302 - acc: 0.989 - ETA: 1:49 - loss: 0.0301 - acc: 0.989 - ETA: 1:48 - loss: 0.0300 - acc: 0.989 - ETA: 1:47 - loss: 0.0299 - acc: 0.989 - ETA: 1:46 - loss: 0.0298 - acc: 0.989 - ETA: 1:45 - loss: 0.0297 - acc: 0.989 - ETA: 1:44 - loss: 0.0297 - acc: 0.989 - ETA: 1:43 - loss: 0.0296 - acc: 0.989 - ETA: 1:42 - loss: 0.0295 - acc: 0.989 - ETA: 1:41 - loss: 0.0294 - acc: 0.989 - ETA: 1:40 - loss: 0.0295 - acc: 0.989 - ETA: 1:40 - loss: 0.0300 - acc: 0.989 - ETA: 1:39 - loss: 0.0299 - acc: 0.989 - ETA: 1:38 - loss: 0.0298 - acc: 0.989 - ETA: 1:37 - loss: 0.0298 - acc: 0.989 - ETA: 1:36 - loss: 0.0297 - acc: 0.989 - ETA: 1:35 - loss: 0.0298 - acc: 0.989 - ETA: 1:34 - loss: 0.0297 - acc: 0.989 - ETA: 1:33 - loss: 0.0296 - acc: 0.989 - ETA: 1:32 - loss: 0.0297 - acc: 0.989 - ETA: 1:31 - loss: 0.0298 - acc: 0.989 - ETA: 1:30 - loss: 0.0297 - acc: 0.989 - ETA: 1:30 - loss: 0.0297 - acc: 0.989 - ETA: 1:29 - loss: 0.0296 - acc: 0.989 - ETA: 1:28 - loss: 0.0298 - acc: 0.989 - ETA: 1:27 - loss: 0.0299 - acc: 0.989 - ETA: 1:26 - loss: 0.0301 - acc: 0.989 - ETA: 1:25 - loss: 0.0302 - acc: 0.989 - ETA: 1:24 - loss: 0.0301 - acc: 0.989 - ETA: 1:23 - loss: 0.0302 - acc: 0.989 - ETA: 1:22 - loss: 0.0301 - acc: 0.989 - ETA: 1:21 - loss: 0.0300 - acc: 0.989 - ETA: 1:20 - loss: 0.0300 - acc: 0.989 - ETA: 1:20 - loss: 0.0299 - acc: 0.989 - ETA: 1:19 - loss: 0.0298 - acc: 0.989 - ETA: 1:18 - loss: 0.0297 - acc: 0.989 - ETA: 1:17 - loss: 0.0300 - acc: 0.989 - ETA: 1:16 - loss: 0.0300 - acc: 0.989 - ETA: 1:15 - loss: 0.0299 - acc: 0.989 - ETA: 1:14 - loss: 0.0298 - acc: 0.989 - ETA: 1:13 - loss: 0.0299 - acc: 0.989 - ETA: 1:12 - loss: 0.0298 - acc: 0.989 - ETA: 1:11 - loss: 0.0298 - acc: 0.989 - ETA: 1:10 - loss: 0.0301 - acc: 0.989 - ETA: 1:10 - loss: 0.0300 - acc: 0.989 - ETA: 1:09 - loss: 0.0303 - acc: 0.989 - ETA: 1:08 - loss: 0.0302 - acc: 0.989 - ETA: 1:07 - loss: 0.0302 - acc: 0.989 - ETA: 1:06 - loss: 0.0301 - acc: 0.989 - ETA: 1:05 - loss: 0.0300 - acc: 0.989 - ETA: 1:04 - loss: 0.0299 - acc: 0.989 - ETA: 1:03 - loss: 0.0300 - acc: 0.989 - ETA: 1:03 - loss: 0.0301 - acc: 0.989 - ETA: 1:02 - loss: 0.0304 - acc: 0.989 - ETA: 1:01 - loss: 0.0303 - acc: 0.989 - ETA: 1:00 - loss: 0.0304 - acc: 0.989 - ETA: 59s - loss: 0.0307 - acc: 0.988 - ETA: 58s - loss: 0.0311 - acc: 0.98 - ETA: 58s - loss: 0.0310 - acc: 0.98 - ETA: 57s - loss: 0.0309 - acc: 0.98 - ETA: 56s - loss: 0.0308 - acc: 0.98 - ETA: 55s - loss: 0.0309 - acc: 0.98 - ETA: 54s - loss: 0.0308 - acc: 0.98 - ETA: 53s - loss: 0.0310 - acc: 0.98 - ETA: 52s - loss: 0.0310 - acc: 0.98 - ETA: 52s - loss: 0.0309 - acc: 0.98 - ETA: 51s - loss: 0.0311 - acc: 0.98 - ETA: 50s - loss: 0.0312 - acc: 0.98 - ETA: 49s - loss: 0.0312 - acc: 0.98 - ETA: 48s - loss: 0.0313 - acc: 0.98 - ETA: 47s - loss: 0.0312 - acc: 0.98 - ETA: 46s - loss: 0.0311 - acc: 0.98 - ETA: 45s - loss: 0.0313 - acc: 0.98 - ETA: 45s - loss: 0.0313 - acc: 0.98 - ETA: 44s - loss: 0.0315 - acc: 0.98 - ETA: 43s - loss: 0.0315 - acc: 0.98 - ETA: 42s - loss: 0.0315 - acc: 0.98 - ETA: 41s - loss: 0.0316 - acc: 0.98 - ETA: 40s - loss: 0.0315 - acc: 0.98 - ETA: 39s - loss: 0.0314 - acc: 0.98 - ETA: 38s - loss: 0.0313 - acc: 0.98 - ETA: 37s - loss: 0.0313 - acc: 0.98 - ETA: 37s - loss: 0.0314 - acc: 0.98 - ETA: 36s - loss: 0.0313 - acc: 0.98 - ETA: 35s - loss: 0.0315 - acc: 0.98 - ETA: 34s - loss: 0.0319 - acc: 0.98 - ETA: 33s - loss: 0.0319 - acc: 0.98 - ETA: 32s - loss: 0.0322 - acc: 0.98 - ETA: 31s - loss: 0.0321 - acc: 0.98 - ETA: 30s - loss: 0.0323 - acc: 0.98 - ETA: 29s - loss: 0.0323 - acc: 0.98 - ETA: 28s - loss: 0.0324 - acc: 0.98 - ETA: 28s - loss: 0.0324 - acc: 0.98 - ETA: 27s - loss: 0.0323 - acc: 0.98 - ETA: 26s - loss: 0.0325 - acc: 0.98 - ETA: 25s - loss: 0.0325 - acc: 0.98 - ETA: 24s - loss: 0.0325 - acc: 0.98 - ETA: 23s - loss: 0.0327 - acc: 0.98 - ETA: 22s - loss: 0.0328 - acc: 0.98 - ETA: 21s - loss: 0.0327 - acc: 0.98 - ETA: 21s - loss: 0.0326 - acc: 0.98 - ETA: 20s - loss: 0.0326 - acc: 0.98 - ETA: 19s - loss: 0.0327 - acc: 0.98 - ETA: 18s - loss: 0.0328 - acc: 0.98 - ETA: 17s - loss: 0.0331 - acc: 0.98 - ETA: 16s - loss: 0.0331 - acc: 0.98 - ETA: 15s - loss: 0.0330 - acc: 0.98 - ETA: 14s - loss: 0.0332 - acc: 0.98 - ETA: 14s - loss: 0.0331 - acc: 0.98 - ETA: 13s - loss: 0.0332 - acc: 0.98 - ETA: 12s - loss: 0.0334 - acc: 0.98 - ETA: 11s - loss: 0.0334 - acc: 0.98 - ETA: 10s - loss: 0.0333 - acc: 0.98 - ETA: 9s - loss: 0.0337 - acc: 0.9879 - ETA: 8s - loss: 0.0339 - acc: 0.987 - ETA: 7s - loss: 0.0340 - acc: 0.987 - ETA: 6s - loss: 0.0339 - acc: 0.987 - ETA: 6s - loss: 0.0339 - acc: 0.987 - ETA: 5s - loss: 0.0339 - acc: 0.987 - ETA: 4s - loss: 0.0340 - acc: 0.987 - ETA: 3s - loss: 0.0343 - acc: 0.987 - ETA: 2s - loss: 0.0343 - acc: 0.987 - ETA: 1s - loss: 0.0343 - acc: 0.987 - ETA: 0s - loss: 0.0342 - acc: 0.987 - 363s 28ms/step - loss: 0.0342 - acc: 0.9876 - val_loss: 4.2295 - val_acc: 0.3685\n",
      "Epoch 15/20\n"
     ]
    },
    {
     "name": "stdout",
     "output_type": "stream",
     "text": [
      " 6528/12793 [==============>...............] - ETA: 7:15 - loss: 0.0013 - acc: 1.000 - ETA: 5:53 - loss: 0.0043 - acc: 1.000 - ETA: 5:17 - loss: 0.0034 - acc: 1.000 - ETA: 5:12 - loss: 0.0027 - acc: 1.000 - ETA: 5:40 - loss: 0.0034 - acc: 1.000 - ETA: 5:27 - loss: 0.0081 - acc: 1.000 - ETA: 5:17 - loss: 0.0135 - acc: 0.995 - ETA: 5:33 - loss: 0.0119 - acc: 0.996 - ETA: 5:34 - loss: 0.0164 - acc: 0.993 - ETA: 5:25 - loss: 0.0158 - acc: 0.993 - ETA: 5:21 - loss: 0.0148 - acc: 0.994 - ETA: 5:31 - loss: 0.0139 - acc: 0.994 - ETA: 5:24 - loss: 0.0141 - acc: 0.995 - ETA: 5:18 - loss: 0.0132 - acc: 0.995 - ETA: 5:13 - loss: 0.0125 - acc: 0.995 - ETA: 5:07 - loss: 0.0146 - acc: 0.994 - ETA: 5:07 - loss: 0.0157 - acc: 0.994 - ETA: 5:12 - loss: 0.0163 - acc: 0.994 - ETA: 5:09 - loss: 0.0158 - acc: 0.995 - ETA: 5:04 - loss: 0.0153 - acc: 0.995 - ETA: 5:04 - loss: 0.0247 - acc: 0.992 - ETA: 5:09 - loss: 0.0240 - acc: 0.992 - ETA: 5:05 - loss: 0.0243 - acc: 0.993 - ETA: 5:01 - loss: 0.0234 - acc: 0.993 - ETA: 5:03 - loss: 0.0225 - acc: 0.993 - ETA: 5:05 - loss: 0.0226 - acc: 0.994 - ETA: 5:02 - loss: 0.0224 - acc: 0.994 - ETA: 4:59 - loss: 0.0218 - acc: 0.994 - ETA: 5:05 - loss: 0.0227 - acc: 0.993 - ETA: 5:06 - loss: 0.0262 - acc: 0.992 - ETA: 5:06 - loss: 0.0306 - acc: 0.990 - ETA: 5:10 - loss: 0.0299 - acc: 0.991 - ETA: 5:08 - loss: 0.0296 - acc: 0.991 - ETA: 5:05 - loss: 0.0297 - acc: 0.990 - ETA: 5:09 - loss: 0.0305 - acc: 0.990 - ETA: 5:08 - loss: 0.0300 - acc: 0.990 - ETA: 5:06 - loss: 0.0302 - acc: 0.990 - ETA: 5:04 - loss: 0.0295 - acc: 0.991 - ETA: 5:05 - loss: 0.0296 - acc: 0.990 - ETA: 5:03 - loss: 0.0289 - acc: 0.990 - ETA: 5:01 - loss: 0.0287 - acc: 0.990 - ETA: 5:02 - loss: 0.0288 - acc: 0.990 - ETA: 5:03 - loss: 0.0282 - acc: 0.990 - ETA: 5:03 - loss: 0.0276 - acc: 0.990 - ETA: 5:04 - loss: 0.0272 - acc: 0.991 - ETA: 5:04 - loss: 0.0272 - acc: 0.991 - ETA: 5:03 - loss: 0.0268 - acc: 0.991 - ETA: 5:03 - loss: 0.0268 - acc: 0.991 - ETA: 5:03 - loss: 0.0263 - acc: 0.991 - ETA: 5:00 - loss: 0.0271 - acc: 0.991 - ETA: 4:58 - loss: 0.0268 - acc: 0.991 - ETA: 4:58 - loss: 0.0265 - acc: 0.991 - ETA: 4:59 - loss: 0.0269 - acc: 0.991 - ETA: 4:57 - loss: 0.0271 - acc: 0.990 - ETA: 4:58 - loss: 0.0266 - acc: 0.990 - ETA: 4:58 - loss: 0.0263 - acc: 0.991 - ETA: 4:57 - loss: 0.0258 - acc: 0.991 - ETA: 4:55 - loss: 0.0254 - acc: 0.991 - ETA: 4:57 - loss: 0.0250 - acc: 0.991 - ETA: 4:54 - loss: 0.0250 - acc: 0.991 - ETA: 4:52 - loss: 0.0246 - acc: 0.991 - ETA: 4:52 - loss: 0.0242 - acc: 0.991 - ETA: 4:51 - loss: 0.0239 - acc: 0.992 - ETA: 4:49 - loss: 0.0236 - acc: 0.992 - ETA: 4:47 - loss: 0.0237 - acc: 0.992 - ETA: 4:47 - loss: 0.0234 - acc: 0.992 - ETA: 4:46 - loss: 0.0231 - acc: 0.992 - ETA: 4:44 - loss: 0.0245 - acc: 0.991 - ETA: 4:42 - loss: 0.0243 - acc: 0.991 - ETA: 4:42 - loss: 0.0255 - acc: 0.991 - ETA: 4:41 - loss: 0.0257 - acc: 0.991 - ETA: 4:39 - loss: 0.0254 - acc: 0.991 - ETA: 4:38 - loss: 0.0267 - acc: 0.990 - ETA: 4:38 - loss: 0.0263 - acc: 0.990 - ETA: 4:36 - loss: 0.0260 - acc: 0.990 - ETA: 4:34 - loss: 0.0257 - acc: 0.991 - ETA: 4:33 - loss: 0.0254 - acc: 0.991 - ETA: 4:33 - loss: 0.0259 - acc: 0.990 - ETA: 4:32 - loss: 0.0257 - acc: 0.990 - ETA: 4:30 - loss: 0.0254 - acc: 0.991 - ETA: 4:30 - loss: 0.0251 - acc: 0.991 - ETA: 4:30 - loss: 0.0250 - acc: 0.991 - ETA: 4:29 - loss: 0.0247 - acc: 0.991 - ETA: 4:28 - loss: 0.0251 - acc: 0.991 - ETA: 4:28 - loss: 0.0258 - acc: 0.990 - ETA: 4:27 - loss: 0.0257 - acc: 0.990 - ETA: 4:26 - loss: 0.0265 - acc: 0.990 - ETA: 4:26 - loss: 0.0264 - acc: 0.990 - ETA: 4:26 - loss: 0.0261 - acc: 0.990 - ETA: 4:25 - loss: 0.0263 - acc: 0.990 - ETA: 4:25 - loss: 0.0270 - acc: 0.990 - ETA: 4:25 - loss: 0.0267 - acc: 0.990 - ETA: 4:24 - loss: 0.0264 - acc: 0.990 - ETA: 4:25 - loss: 0.0261 - acc: 0.990 - ETA: 4:24 - loss: 0.0259 - acc: 0.990 - ETA: 4:23 - loss: 0.0261 - acc: 0.990 - ETA: 4:24 - loss: 0.0261 - acc: 0.990 - ETA: 4:23 - loss: 0.0258 - acc: 0.990 - ETA: 4:22 - loss: 0.0260 - acc: 0.990 - ETA: 4:23 - loss: 0.0257 - acc: 0.990 - ETA: 4:22 - loss: 0.0255 - acc: 0.990 - ETA: 4:22 - loss: 0.0253 - acc: 0.990 - ETA: 4:23 - loss: 0.0264 - acc: 0.990 - ETA: 4:22 - loss: 0.0261 - acc: 0.990 - ETA: 4:22 - loss: 0.0264 - acc: 0.990 - ETA: 4:21 - loss: 0.0263 - acc: 0.990 - ETA: 4:20 - loss: 0.0271 - acc: 0.990 - ETA: 4:19 - loss: 0.0269 - acc: 0.990 - ETA: 4:19 - loss: 0.0266 - acc: 0.990 - ETA: 4:18 - loss: 0.0265 - acc: 0.990 - ETA: 4:17 - loss: 0.0263 - acc: 0.990 - ETA: 4:17 - loss: 0.0268 - acc: 0.990 - ETA: 4:16 - loss: 0.0268 - acc: 0.990 - ETA: 4:16 - loss: 0.0266 - acc: 0.990 - ETA: 4:15 - loss: 0.0263 - acc: 0.990 - ETA: 4:14 - loss: 0.0265 - acc: 0.990 - ETA: 4:14 - loss: 0.0264 - acc: 0.990 - ETA: 4:13 - loss: 0.0262 - acc: 0.990 - ETA: 4:12 - loss: 0.0260 - acc: 0.990 - ETA: 4:12 - loss: 0.0258 - acc: 0.990 - ETA: 4:12 - loss: 0.0256 - acc: 0.990 - ETA: 4:11 - loss: 0.0254 - acc: 0.990 - ETA: 4:11 - loss: 0.0259 - acc: 0.990 - ETA: 4:10 - loss: 0.0257 - acc: 0.990 - ETA: 4:09 - loss: 0.0255 - acc: 0.990 - ETA: 4:09 - loss: 0.0253 - acc: 0.990 - ETA: 4:09 - loss: 0.0253 - acc: 0.990 - ETA: 4:08 - loss: 0.0263 - acc: 0.990 - ETA: 4:08 - loss: 0.0261 - acc: 0.990 - ETA: 4:07 - loss: 0.0259 - acc: 0.990 - ETA: 4:06 - loss: 0.0257 - acc: 0.990 - ETA: 4:06 - loss: 0.0259 - acc: 0.990 - ETA: 4:05 - loss: 0.0258 - acc: 0.990 - ETA: 4:05 - loss: 0.0257 - acc: 0.990 - ETA: 4:04 - loss: 0.0255 - acc: 0.990 - ETA: 4:03 - loss: 0.0254 - acc: 0.990 - ETA: 4:02 - loss: 0.0252 - acc: 0.990 - ETA: 4:02 - loss: 0.0251 - acc: 0.990 - ETA: 4:01 - loss: 0.0249 - acc: 0.991 - ETA: 4:01 - loss: 0.0248 - acc: 0.991 - ETA: 4:00 - loss: 0.0251 - acc: 0.990 - ETA: 3:58 - loss: 0.0250 - acc: 0.991 - ETA: 3:57 - loss: 0.0252 - acc: 0.990 - ETA: 3:57 - loss: 0.0251 - acc: 0.990 - ETA: 3:56 - loss: 0.0255 - acc: 0.990 - ETA: 3:55 - loss: 0.0253 - acc: 0.990 - ETA: 3:54 - loss: 0.0257 - acc: 0.990 - ETA: 3:53 - loss: 0.0255 - acc: 0.990 - ETA: 3:52 - loss: 0.0253 - acc: 0.990 - ETA: 3:51 - loss: 0.0256 - acc: 0.990 - ETA: 3:50 - loss: 0.0255 - acc: 0.990 - ETA: 3:49 - loss: 0.0254 - acc: 0.990 - ETA: 3:48 - loss: 0.0253 - acc: 0.990 - ETA: 3:47 - loss: 0.0257 - acc: 0.990 - ETA: 3:46 - loss: 0.0256 - acc: 0.990 - ETA: 3:45 - loss: 0.0255 - acc: 0.990 - ETA: 3:44 - loss: 0.0257 - acc: 0.990 - ETA: 3:43 - loss: 0.0255 - acc: 0.990 - ETA: 3:43 - loss: 0.0254 - acc: 0.990 - ETA: 3:42 - loss: 0.0252 - acc: 0.990 - ETA: 3:41 - loss: 0.0251 - acc: 0.990 - ETA: 3:40 - loss: 0.0251 - acc: 0.990 - ETA: 3:39 - loss: 0.0249 - acc: 0.991 - ETA: 3:39 - loss: 0.0248 - acc: 0.991 - ETA: 3:38 - loss: 0.0247 - acc: 0.991 - ETA: 3:37 - loss: 0.0245 - acc: 0.991 - ETA: 3:36 - loss: 0.0244 - acc: 0.991 - ETA: 3:35 - loss: 0.0245 - acc: 0.991 - ETA: 3:35 - loss: 0.0256 - acc: 0.990 - ETA: 3:34 - loss: 0.0255 - acc: 0.991 - ETA: 3:34 - loss: 0.0254 - acc: 0.991 - ETA: 3:33 - loss: 0.0272 - acc: 0.990 - ETA: 3:33 - loss: 0.0271 - acc: 0.990 - ETA: 3:32 - loss: 0.0271 - acc: 0.990 - ETA: 3:31 - loss: 0.0269 - acc: 0.990 - ETA: 3:30 - loss: 0.0269 - acc: 0.990 - ETA: 3:30 - loss: 0.0269 - acc: 0.990 - ETA: 3:29 - loss: 0.0268 - acc: 0.990 - ETA: 3:28 - loss: 0.0266 - acc: 0.990 - ETA: 3:28 - loss: 0.0270 - acc: 0.990 - ETA: 3:27 - loss: 0.0270 - acc: 0.990 - ETA: 3:27 - loss: 0.0269 - acc: 0.990 - ETA: 3:26 - loss: 0.0272 - acc: 0.990 - ETA: 3:26 - loss: 0.0271 - acc: 0.990 - ETA: 3:25 - loss: 0.0270 - acc: 0.990 - ETA: 3:24 - loss: 0.0273 - acc: 0.990 - ETA: 3:24 - loss: 0.0279 - acc: 0.990 - ETA: 3:23 - loss: 0.0278 - acc: 0.990 - ETA: 3:22 - loss: 0.0279 - acc: 0.990 - ETA: 3:21 - loss: 0.0277 - acc: 0.990 - ETA: 3:20 - loss: 0.0276 - acc: 0.990 - ETA: 3:20 - loss: 0.0283 - acc: 0.990 - ETA: 3:19 - loss: 0.0282 - acc: 0.990 - ETA: 3:18 - loss: 0.0290 - acc: 0.990 - ETA: 3:17 - loss: 0.0294 - acc: 0.989 - ETA: 3:16 - loss: 0.0302 - acc: 0.989 - ETA: 3:14 - loss: 0.0302 - acc: 0.989 - ETA: 3:13 - loss: 0.0303 - acc: 0.989 - ETA: 3:13 - loss: 0.0302 - acc: 0.989 - ETA: 3:11 - loss: 0.0308 - acc: 0.989 - ETA: 3:10 - loss: 0.0307 - acc: 0.989 - ETA: 3:10 - loss: 0.0306 - acc: 0.989 - ETA: 3:08 - loss: 0.0308 - acc: 0.989 - ETA: 3:07 - loss: 0.0310 - acc: 0.9893"
     ]
    },
    {
     "name": "stdout",
     "output_type": "stream",
     "text": [
      "12793/12793 [==============================] - ETA: 3:07 - loss: 0.0311 - acc: 0.989 - ETA: 3:06 - loss: 0.0312 - acc: 0.989 - ETA: 3:05 - loss: 0.0313 - acc: 0.989 - ETA: 3:04 - loss: 0.0314 - acc: 0.988 - ETA: 3:03 - loss: 0.0314 - acc: 0.988 - ETA: 3:02 - loss: 0.0312 - acc: 0.989 - ETA: 3:01 - loss: 0.0317 - acc: 0.988 - ETA: 3:00 - loss: 0.0316 - acc: 0.988 - ETA: 2:58 - loss: 0.0318 - acc: 0.988 - ETA: 2:57 - loss: 0.0317 - acc: 0.988 - ETA: 2:56 - loss: 0.0317 - acc: 0.988 - ETA: 2:55 - loss: 0.0316 - acc: 0.988 - ETA: 2:54 - loss: 0.0316 - acc: 0.988 - ETA: 2:53 - loss: 0.0317 - acc: 0.988 - ETA: 2:52 - loss: 0.0315 - acc: 0.988 - ETA: 2:51 - loss: 0.0314 - acc: 0.988 - ETA: 2:50 - loss: 0.0314 - acc: 0.989 - ETA: 2:49 - loss: 0.0315 - acc: 0.988 - ETA: 2:48 - loss: 0.0319 - acc: 0.988 - ETA: 2:47 - loss: 0.0318 - acc: 0.988 - ETA: 2:46 - loss: 0.0317 - acc: 0.988 - ETA: 2:45 - loss: 0.0316 - acc: 0.988 - ETA: 2:44 - loss: 0.0316 - acc: 0.988 - ETA: 2:43 - loss: 0.0317 - acc: 0.988 - ETA: 2:41 - loss: 0.0319 - acc: 0.988 - ETA: 2:40 - loss: 0.0318 - acc: 0.988 - ETA: 2:39 - loss: 0.0317 - acc: 0.988 - ETA: 2:38 - loss: 0.0317 - acc: 0.988 - ETA: 2:37 - loss: 0.0317 - acc: 0.988 - ETA: 2:36 - loss: 0.0316 - acc: 0.988 - ETA: 2:35 - loss: 0.0320 - acc: 0.988 - ETA: 2:34 - loss: 0.0319 - acc: 0.988 - ETA: 2:33 - loss: 0.0318 - acc: 0.988 - ETA: 2:32 - loss: 0.0317 - acc: 0.988 - ETA: 2:31 - loss: 0.0327 - acc: 0.988 - ETA: 2:30 - loss: 0.0327 - acc: 0.988 - ETA: 2:30 - loss: 0.0327 - acc: 0.988 - ETA: 2:29 - loss: 0.0326 - acc: 0.988 - ETA: 2:28 - loss: 0.0325 - acc: 0.988 - ETA: 2:27 - loss: 0.0325 - acc: 0.988 - ETA: 2:26 - loss: 0.0323 - acc: 0.988 - ETA: 2:25 - loss: 0.0323 - acc: 0.988 - ETA: 2:24 - loss: 0.0326 - acc: 0.988 - ETA: 2:23 - loss: 0.0325 - acc: 0.988 - ETA: 2:22 - loss: 0.0329 - acc: 0.988 - ETA: 2:21 - loss: 0.0328 - acc: 0.988 - ETA: 2:20 - loss: 0.0328 - acc: 0.988 - ETA: 2:19 - loss: 0.0330 - acc: 0.988 - ETA: 2:18 - loss: 0.0335 - acc: 0.988 - ETA: 2:17 - loss: 0.0335 - acc: 0.988 - ETA: 2:16 - loss: 0.0334 - acc: 0.988 - ETA: 2:15 - loss: 0.0334 - acc: 0.988 - ETA: 2:14 - loss: 0.0335 - acc: 0.988 - ETA: 2:13 - loss: 0.0337 - acc: 0.988 - ETA: 2:12 - loss: 0.0336 - acc: 0.988 - ETA: 2:11 - loss: 0.0335 - acc: 0.988 - ETA: 2:10 - loss: 0.0334 - acc: 0.988 - ETA: 2:09 - loss: 0.0334 - acc: 0.988 - ETA: 2:08 - loss: 0.0334 - acc: 0.988 - ETA: 2:07 - loss: 0.0333 - acc: 0.988 - ETA: 2:06 - loss: 0.0332 - acc: 0.988 - ETA: 2:05 - loss: 0.0333 - acc: 0.988 - ETA: 2:04 - loss: 0.0334 - acc: 0.988 - ETA: 2:03 - loss: 0.0334 - acc: 0.988 - ETA: 2:02 - loss: 0.0333 - acc: 0.988 - ETA: 2:01 - loss: 0.0332 - acc: 0.988 - ETA: 2:01 - loss: 0.0334 - acc: 0.988 - ETA: 2:00 - loss: 0.0338 - acc: 0.988 - ETA: 1:59 - loss: 0.0339 - acc: 0.988 - ETA: 1:58 - loss: 0.0340 - acc: 0.988 - ETA: 1:57 - loss: 0.0341 - acc: 0.988 - ETA: 1:56 - loss: 0.0341 - acc: 0.987 - ETA: 1:55 - loss: 0.0340 - acc: 0.987 - ETA: 1:54 - loss: 0.0340 - acc: 0.987 - ETA: 1:53 - loss: 0.0343 - acc: 0.987 - ETA: 1:52 - loss: 0.0342 - acc: 0.987 - ETA: 1:51 - loss: 0.0341 - acc: 0.987 - ETA: 1:50 - loss: 0.0344 - acc: 0.987 - ETA: 1:49 - loss: 0.0348 - acc: 0.987 - ETA: 1:48 - loss: 0.0347 - acc: 0.987 - ETA: 1:47 - loss: 0.0346 - acc: 0.987 - ETA: 1:46 - loss: 0.0345 - acc: 0.987 - ETA: 1:45 - loss: 0.0344 - acc: 0.987 - ETA: 1:44 - loss: 0.0344 - acc: 0.987 - ETA: 1:43 - loss: 0.0343 - acc: 0.987 - ETA: 1:42 - loss: 0.0342 - acc: 0.987 - ETA: 1:41 - loss: 0.0344 - acc: 0.987 - ETA: 1:40 - loss: 0.0343 - acc: 0.987 - ETA: 1:39 - loss: 0.0352 - acc: 0.987 - ETA: 1:38 - loss: 0.0355 - acc: 0.987 - ETA: 1:37 - loss: 0.0354 - acc: 0.987 - ETA: 1:36 - loss: 0.0353 - acc: 0.987 - ETA: 1:35 - loss: 0.0353 - acc: 0.987 - ETA: 1:34 - loss: 0.0352 - acc: 0.987 - ETA: 1:33 - loss: 0.0350 - acc: 0.987 - ETA: 1:32 - loss: 0.0350 - acc: 0.987 - ETA: 1:31 - loss: 0.0349 - acc: 0.987 - ETA: 1:30 - loss: 0.0349 - acc: 0.987 - ETA: 1:29 - loss: 0.0361 - acc: 0.987 - ETA: 1:29 - loss: 0.0360 - acc: 0.987 - ETA: 1:28 - loss: 0.0359 - acc: 0.987 - ETA: 1:26 - loss: 0.0358 - acc: 0.987 - ETA: 1:26 - loss: 0.0357 - acc: 0.987 - ETA: 1:25 - loss: 0.0358 - acc: 0.987 - ETA: 1:24 - loss: 0.0358 - acc: 0.987 - ETA: 1:23 - loss: 0.0357 - acc: 0.987 - ETA: 1:22 - loss: 0.0356 - acc: 0.987 - ETA: 1:21 - loss: 0.0356 - acc: 0.987 - ETA: 1:20 - loss: 0.0357 - acc: 0.987 - ETA: 1:19 - loss: 0.0356 - acc: 0.987 - ETA: 1:18 - loss: 0.0355 - acc: 0.987 - ETA: 1:17 - loss: 0.0354 - acc: 0.987 - ETA: 1:16 - loss: 0.0353 - acc: 0.987 - ETA: 1:15 - loss: 0.0353 - acc: 0.987 - ETA: 1:14 - loss: 0.0352 - acc: 0.987 - ETA: 1:13 - loss: 0.0350 - acc: 0.987 - ETA: 1:12 - loss: 0.0349 - acc: 0.987 - ETA: 1:11 - loss: 0.0355 - acc: 0.987 - ETA: 1:10 - loss: 0.0354 - acc: 0.987 - ETA: 1:09 - loss: 0.0354 - acc: 0.987 - ETA: 1:08 - loss: 0.0355 - acc: 0.987 - ETA: 1:07 - loss: 0.0354 - acc: 0.987 - ETA: 1:06 - loss: 0.0355 - acc: 0.987 - ETA: 1:05 - loss: 0.0355 - acc: 0.987 - ETA: 1:04 - loss: 0.0354 - acc: 0.987 - ETA: 1:04 - loss: 0.0354 - acc: 0.987 - ETA: 1:03 - loss: 0.0353 - acc: 0.987 - ETA: 1:02 - loss: 0.0352 - acc: 0.987 - ETA: 1:01 - loss: 0.0353 - acc: 0.987 - ETA: 1:00 - loss: 0.0354 - acc: 0.987 - ETA: 59s - loss: 0.0353 - acc: 0.987 - ETA: 58s - loss: 0.0353 - acc: 0.98 - ETA: 57s - loss: 0.0354 - acc: 0.98 - ETA: 56s - loss: 0.0354 - acc: 0.98 - ETA: 55s - loss: 0.0353 - acc: 0.98 - ETA: 54s - loss: 0.0354 - acc: 0.98 - ETA: 53s - loss: 0.0353 - acc: 0.98 - ETA: 52s - loss: 0.0354 - acc: 0.98 - ETA: 51s - loss: 0.0353 - acc: 0.98 - ETA: 51s - loss: 0.0352 - acc: 0.98 - ETA: 50s - loss: 0.0351 - acc: 0.98 - ETA: 49s - loss: 0.0351 - acc: 0.98 - ETA: 48s - loss: 0.0350 - acc: 0.98 - ETA: 47s - loss: 0.0352 - acc: 0.98 - ETA: 46s - loss: 0.0351 - acc: 0.98 - ETA: 45s - loss: 0.0351 - acc: 0.98 - ETA: 44s - loss: 0.0351 - acc: 0.98 - ETA: 43s - loss: 0.0350 - acc: 0.98 - ETA: 42s - loss: 0.0351 - acc: 0.98 - ETA: 41s - loss: 0.0352 - acc: 0.98 - ETA: 40s - loss: 0.0351 - acc: 0.98 - ETA: 39s - loss: 0.0350 - acc: 0.98 - ETA: 39s - loss: 0.0350 - acc: 0.98 - ETA: 38s - loss: 0.0350 - acc: 0.98 - ETA: 37s - loss: 0.0349 - acc: 0.98 - ETA: 36s - loss: 0.0349 - acc: 0.98 - ETA: 35s - loss: 0.0349 - acc: 0.98 - ETA: 34s - loss: 0.0348 - acc: 0.98 - ETA: 33s - loss: 0.0348 - acc: 0.98 - ETA: 32s - loss: 0.0347 - acc: 0.98 - ETA: 31s - loss: 0.0347 - acc: 0.98 - ETA: 30s - loss: 0.0346 - acc: 0.98 - ETA: 29s - loss: 0.0346 - acc: 0.98 - ETA: 28s - loss: 0.0345 - acc: 0.98 - ETA: 27s - loss: 0.0344 - acc: 0.98 - ETA: 27s - loss: 0.0343 - acc: 0.98 - ETA: 26s - loss: 0.0345 - acc: 0.98 - ETA: 25s - loss: 0.0345 - acc: 0.98 - ETA: 24s - loss: 0.0344 - acc: 0.98 - ETA: 23s - loss: 0.0344 - acc: 0.98 - ETA: 22s - loss: 0.0344 - acc: 0.98 - ETA: 21s - loss: 0.0345 - acc: 0.98 - ETA: 20s - loss: 0.0345 - acc: 0.98 - ETA: 19s - loss: 0.0344 - acc: 0.98 - ETA: 18s - loss: 0.0343 - acc: 0.98 - ETA: 17s - loss: 0.0344 - acc: 0.98 - ETA: 17s - loss: 0.0344 - acc: 0.98 - ETA: 16s - loss: 0.0344 - acc: 0.98 - ETA: 15s - loss: 0.0345 - acc: 0.98 - ETA: 14s - loss: 0.0351 - acc: 0.98 - ETA: 13s - loss: 0.0350 - acc: 0.98 - ETA: 12s - loss: 0.0349 - acc: 0.98 - ETA: 11s - loss: 0.0353 - acc: 0.98 - ETA: 10s - loss: 0.0353 - acc: 0.98 - ETA: 9s - loss: 0.0352 - acc: 0.9875 - ETA: 8s - loss: 0.0354 - acc: 0.987 - ETA: 7s - loss: 0.0356 - acc: 0.987 - ETA: 7s - loss: 0.0355 - acc: 0.987 - ETA: 6s - loss: 0.0354 - acc: 0.987 - ETA: 5s - loss: 0.0353 - acc: 0.987 - ETA: 4s - loss: 0.0353 - acc: 0.987 - ETA: 3s - loss: 0.0353 - acc: 0.987 - ETA: 2s - loss: 0.0361 - acc: 0.987 - ETA: 1s - loss: 0.0365 - acc: 0.987 - ETA: 0s - loss: 0.0364 - acc: 0.987 - 366s 29ms/step - loss: 0.0364 - acc: 0.9873 - val_loss: 4.3016 - val_acc: 0.3762\n",
      "Epoch 16/20\n"
     ]
    },
    {
     "name": "stdout",
     "output_type": "stream",
     "text": [
      " 6528/12793 [==============>...............] - ETA: 4:03 - loss: 0.0104 - acc: 1.000 - ETA: 4:29 - loss: 0.0305 - acc: 0.984 - ETA: 5:59 - loss: 0.0268 - acc: 0.989 - ETA: 5:28 - loss: 0.0306 - acc: 0.984 - ETA: 5:21 - loss: 0.0254 - acc: 0.987 - ETA: 5:35 - loss: 0.0231 - acc: 0.989 - ETA: 5:39 - loss: 0.0240 - acc: 0.991 - ETA: 5:33 - loss: 0.0216 - acc: 0.992 - ETA: 5:39 - loss: 0.0200 - acc: 0.993 - ETA: 5:51 - loss: 0.0285 - acc: 0.990 - ETA: 5:45 - loss: 0.0308 - acc: 0.988 - ETA: 5:45 - loss: 0.0290 - acc: 0.989 - ETA: 5:52 - loss: 0.0279 - acc: 0.990 - ETA: 5:44 - loss: 0.0295 - acc: 0.988 - ETA: 5:39 - loss: 0.0282 - acc: 0.989 - ETA: 5:43 - loss: 0.0271 - acc: 0.990 - ETA: 5:41 - loss: 0.0278 - acc: 0.989 - ETA: 5:34 - loss: 0.0309 - acc: 0.987 - ETA: 5:32 - loss: 0.0295 - acc: 0.988 - ETA: 5:35 - loss: 0.0281 - acc: 0.989 - ETA: 5:30 - loss: 0.0290 - acc: 0.988 - ETA: 5:25 - loss: 0.0283 - acc: 0.988 - ETA: 5:23 - loss: 0.0271 - acc: 0.989 - ETA: 5:26 - loss: 0.0261 - acc: 0.989 - ETA: 5:22 - loss: 0.0259 - acc: 0.990 - ETA: 5:20 - loss: 0.0250 - acc: 0.990 - ETA: 5:23 - loss: 0.0241 - acc: 0.990 - ETA: 5:22 - loss: 0.0236 - acc: 0.991 - ETA: 5:20 - loss: 0.0231 - acc: 0.991 - ETA: 5:18 - loss: 0.0229 - acc: 0.991 - ETA: 5:14 - loss: 0.0238 - acc: 0.990 - ETA: 5:14 - loss: 0.0233 - acc: 0.991 - ETA: 5:16 - loss: 0.0231 - acc: 0.991 - ETA: 5:13 - loss: 0.0232 - acc: 0.991 - ETA: 5:09 - loss: 0.0248 - acc: 0.991 - ETA: 5:10 - loss: 0.0253 - acc: 0.990 - ETA: 5:10 - loss: 0.0247 - acc: 0.990 - ETA: 5:08 - loss: 0.0257 - acc: 0.990 - ETA: 5:08 - loss: 0.0251 - acc: 0.990 - ETA: 5:10 - loss: 0.0247 - acc: 0.990 - ETA: 5:06 - loss: 0.0242 - acc: 0.990 - ETA: 5:04 - loss: 0.0240 - acc: 0.991 - ETA: 5:02 - loss: 0.0235 - acc: 0.991 - ETA: 5:01 - loss: 0.0230 - acc: 0.991 - ETA: 5:02 - loss: 0.0225 - acc: 0.991 - ETA: 5:02 - loss: 0.0225 - acc: 0.991 - ETA: 4:59 - loss: 0.0263 - acc: 0.991 - ETA: 4:57 - loss: 0.0262 - acc: 0.991 - ETA: 4:58 - loss: 0.0257 - acc: 0.991 - ETA: 4:58 - loss: 0.0283 - acc: 0.991 - ETA: 4:57 - loss: 0.0306 - acc: 0.990 - ETA: 4:57 - loss: 0.0301 - acc: 0.990 - ETA: 4:57 - loss: 0.0309 - acc: 0.990 - ETA: 4:55 - loss: 0.0320 - acc: 0.989 - ETA: 4:54 - loss: 0.0316 - acc: 0.989 - ETA: 4:56 - loss: 0.0326 - acc: 0.989 - ETA: 4:54 - loss: 0.0322 - acc: 0.989 - ETA: 4:53 - loss: 0.0317 - acc: 0.989 - ETA: 4:55 - loss: 0.0315 - acc: 0.989 - ETA: 4:53 - loss: 0.0317 - acc: 0.990 - ETA: 4:51 - loss: 0.0322 - acc: 0.989 - ETA: 4:49 - loss: 0.0328 - acc: 0.989 - ETA: 4:47 - loss: 0.0326 - acc: 0.989 - ETA: 4:47 - loss: 0.0324 - acc: 0.989 - ETA: 4:47 - loss: 0.0323 - acc: 0.989 - ETA: 4:46 - loss: 0.0332 - acc: 0.989 - ETA: 4:44 - loss: 0.0328 - acc: 0.989 - ETA: 4:44 - loss: 0.0323 - acc: 0.989 - ETA: 4:43 - loss: 0.0328 - acc: 0.989 - ETA: 4:41 - loss: 0.0323 - acc: 0.989 - ETA: 4:40 - loss: 0.0319 - acc: 0.989 - ETA: 4:40 - loss: 0.0316 - acc: 0.989 - ETA: 4:39 - loss: 0.0319 - acc: 0.989 - ETA: 4:37 - loss: 0.0315 - acc: 0.989 - ETA: 4:36 - loss: 0.0312 - acc: 0.989 - ETA: 4:36 - loss: 0.0310 - acc: 0.989 - ETA: 4:34 - loss: 0.0311 - acc: 0.989 - ETA: 4:32 - loss: 0.0310 - acc: 0.989 - ETA: 4:32 - loss: 0.0307 - acc: 0.989 - ETA: 4:32 - loss: 0.0310 - acc: 0.989 - ETA: 4:30 - loss: 0.0307 - acc: 0.989 - ETA: 4:29 - loss: 0.0305 - acc: 0.989 - ETA: 4:29 - loss: 0.0301 - acc: 0.989 - ETA: 4:28 - loss: 0.0299 - acc: 0.990 - ETA: 4:26 - loss: 0.0296 - acc: 0.990 - ETA: 4:25 - loss: 0.0293 - acc: 0.990 - ETA: 4:25 - loss: 0.0290 - acc: 0.990 - ETA: 4:24 - loss: 0.0288 - acc: 0.990 - ETA: 4:22 - loss: 0.0288 - acc: 0.990 - ETA: 4:21 - loss: 0.0296 - acc: 0.989 - ETA: 4:21 - loss: 0.0317 - acc: 0.989 - ETA: 4:19 - loss: 0.0314 - acc: 0.989 - ETA: 4:18 - loss: 0.0315 - acc: 0.989 - ETA: 4:17 - loss: 0.0321 - acc: 0.989 - ETA: 4:16 - loss: 0.0323 - acc: 0.988 - ETA: 4:15 - loss: 0.0329 - acc: 0.988 - ETA: 4:14 - loss: 0.0331 - acc: 0.988 - ETA: 4:13 - loss: 0.0329 - acc: 0.988 - ETA: 4:13 - loss: 0.0326 - acc: 0.988 - ETA: 4:11 - loss: 0.0324 - acc: 0.988 - ETA: 4:10 - loss: 0.0321 - acc: 0.988 - ETA: 4:09 - loss: 0.0319 - acc: 0.989 - ETA: 4:09 - loss: 0.0316 - acc: 0.989 - ETA: 4:07 - loss: 0.0319 - acc: 0.988 - ETA: 4:06 - loss: 0.0317 - acc: 0.989 - ETA: 4:05 - loss: 0.0315 - acc: 0.989 - ETA: 4:05 - loss: 0.0313 - acc: 0.989 - ETA: 4:03 - loss: 0.0312 - acc: 0.989 - ETA: 4:02 - loss: 0.0314 - acc: 0.989 - ETA: 4:02 - loss: 0.0311 - acc: 0.989 - ETA: 4:01 - loss: 0.0312 - acc: 0.989 - ETA: 4:00 - loss: 0.0309 - acc: 0.989 - ETA: 3:59 - loss: 0.0308 - acc: 0.989 - ETA: 3:59 - loss: 0.0305 - acc: 0.989 - ETA: 3:57 - loss: 0.0308 - acc: 0.989 - ETA: 3:56 - loss: 0.0305 - acc: 0.989 - ETA: 3:56 - loss: 0.0305 - acc: 0.989 - ETA: 3:55 - loss: 0.0306 - acc: 0.989 - ETA: 3:54 - loss: 0.0307 - acc: 0.989 - ETA: 3:53 - loss: 0.0305 - acc: 0.989 - ETA: 3:53 - loss: 0.0302 - acc: 0.989 - ETA: 3:52 - loss: 0.0300 - acc: 0.989 - ETA: 3:52 - loss: 0.0298 - acc: 0.989 - ETA: 3:51 - loss: 0.0295 - acc: 0.989 - ETA: 3:51 - loss: 0.0297 - acc: 0.989 - ETA: 3:49 - loss: 0.0295 - acc: 0.989 - ETA: 3:49 - loss: 0.0293 - acc: 0.989 - ETA: 3:49 - loss: 0.0292 - acc: 0.989 - ETA: 3:47 - loss: 0.0290 - acc: 0.989 - ETA: 3:46 - loss: 0.0288 - acc: 0.989 - ETA: 3:46 - loss: 0.0286 - acc: 0.989 - ETA: 3:45 - loss: 0.0284 - acc: 0.989 - ETA: 3:44 - loss: 0.0283 - acc: 0.989 - ETA: 3:43 - loss: 0.0287 - acc: 0.989 - ETA: 3:43 - loss: 0.0285 - acc: 0.989 - ETA: 3:42 - loss: 0.0289 - acc: 0.989 - ETA: 3:41 - loss: 0.0291 - acc: 0.989 - ETA: 3:41 - loss: 0.0290 - acc: 0.989 - ETA: 3:40 - loss: 0.0288 - acc: 0.989 - ETA: 3:39 - loss: 0.0288 - acc: 0.989 - ETA: 3:39 - loss: 0.0286 - acc: 0.989 - ETA: 3:38 - loss: 0.0290 - acc: 0.989 - ETA: 3:37 - loss: 0.0289 - acc: 0.989 - ETA: 3:35 - loss: 0.0287 - acc: 0.989 - ETA: 3:35 - loss: 0.0287 - acc: 0.989 - ETA: 3:34 - loss: 0.0286 - acc: 0.989 - ETA: 3:33 - loss: 0.0284 - acc: 0.990 - ETA: 3:32 - loss: 0.0286 - acc: 0.989 - ETA: 3:31 - loss: 0.0288 - acc: 0.989 - ETA: 3:30 - loss: 0.0288 - acc: 0.989 - ETA: 3:30 - loss: 0.0287 - acc: 0.989 - ETA: 3:29 - loss: 0.0285 - acc: 0.989 - ETA: 3:27 - loss: 0.0287 - acc: 0.989 - ETA: 3:27 - loss: 0.0288 - acc: 0.989 - ETA: 3:26 - loss: 0.0288 - acc: 0.989 - ETA: 3:25 - loss: 0.0287 - acc: 0.989 - ETA: 3:24 - loss: 0.0285 - acc: 0.989 - ETA: 3:24 - loss: 0.0283 - acc: 0.989 - ETA: 3:23 - loss: 0.0282 - acc: 0.989 - ETA: 3:22 - loss: 0.0280 - acc: 0.989 - ETA: 3:21 - loss: 0.0284 - acc: 0.989 - ETA: 3:21 - loss: 0.0290 - acc: 0.989 - ETA: 3:19 - loss: 0.0292 - acc: 0.989 - ETA: 3:19 - loss: 0.0291 - acc: 0.989 - ETA: 3:18 - loss: 0.0294 - acc: 0.989 - ETA: 3:17 - loss: 0.0292 - acc: 0.989 - ETA: 3:16 - loss: 0.0291 - acc: 0.989 - ETA: 3:15 - loss: 0.0300 - acc: 0.989 - ETA: 3:15 - loss: 0.0301 - acc: 0.988 - ETA: 3:14 - loss: 0.0301 - acc: 0.989 - ETA: 3:13 - loss: 0.0299 - acc: 0.989 - ETA: 3:12 - loss: 0.0298 - acc: 0.989 - ETA: 3:11 - loss: 0.0296 - acc: 0.989 - ETA: 3:11 - loss: 0.0295 - acc: 0.989 - ETA: 3:10 - loss: 0.0293 - acc: 0.989 - ETA: 3:10 - loss: 0.0295 - acc: 0.989 - ETA: 3:09 - loss: 0.0297 - acc: 0.989 - ETA: 3:09 - loss: 0.0298 - acc: 0.988 - ETA: 3:08 - loss: 0.0297 - acc: 0.989 - ETA: 3:07 - loss: 0.0298 - acc: 0.988 - ETA: 3:07 - loss: 0.0297 - acc: 0.989 - ETA: 3:06 - loss: 0.0299 - acc: 0.988 - ETA: 3:06 - loss: 0.0297 - acc: 0.988 - ETA: 3:05 - loss: 0.0296 - acc: 0.989 - ETA: 3:04 - loss: 0.0298 - acc: 0.988 - ETA: 3:04 - loss: 0.0297 - acc: 0.988 - ETA: 3:03 - loss: 0.0297 - acc: 0.988 - ETA: 3:02 - loss: 0.0296 - acc: 0.988 - ETA: 3:01 - loss: 0.0294 - acc: 0.988 - ETA: 3:01 - loss: 0.0293 - acc: 0.989 - ETA: 3:00 - loss: 0.0292 - acc: 0.989 - ETA: 2:59 - loss: 0.0300 - acc: 0.988 - ETA: 2:59 - loss: 0.0299 - acc: 0.989 - ETA: 2:58 - loss: 0.0298 - acc: 0.989 - ETA: 2:57 - loss: 0.0299 - acc: 0.988 - ETA: 2:56 - loss: 0.0298 - acc: 0.989 - ETA: 2:55 - loss: 0.0297 - acc: 0.989 - ETA: 2:54 - loss: 0.0298 - acc: 0.989 - ETA: 2:54 - loss: 0.0298 - acc: 0.989 - ETA: 2:53 - loss: 0.0296 - acc: 0.989 - ETA: 2:52 - loss: 0.0295 - acc: 0.989 - ETA: 2:51 - loss: 0.0294 - acc: 0.989 - ETA: 2:51 - loss: 0.0292 - acc: 0.989 - ETA: 2:50 - loss: 0.0291 - acc: 0.9893"
     ]
    },
    {
     "name": "stdout",
     "output_type": "stream",
     "text": [
      "12793/12793 [==============================] - ETA: 2:49 - loss: 0.0291 - acc: 0.989 - ETA: 2:48 - loss: 0.0294 - acc: 0.989 - ETA: 2:47 - loss: 0.0292 - acc: 0.989 - ETA: 2:46 - loss: 0.0292 - acc: 0.989 - ETA: 2:45 - loss: 0.0291 - acc: 0.989 - ETA: 2:45 - loss: 0.0291 - acc: 0.989 - ETA: 2:44 - loss: 0.0289 - acc: 0.989 - ETA: 2:43 - loss: 0.0289 - acc: 0.989 - ETA: 2:42 - loss: 0.0293 - acc: 0.989 - ETA: 2:41 - loss: 0.0295 - acc: 0.989 - ETA: 2:40 - loss: 0.0299 - acc: 0.989 - ETA: 2:39 - loss: 0.0300 - acc: 0.989 - ETA: 2:39 - loss: 0.0300 - acc: 0.989 - ETA: 2:38 - loss: 0.0299 - acc: 0.989 - ETA: 2:37 - loss: 0.0297 - acc: 0.989 - ETA: 2:36 - loss: 0.0304 - acc: 0.988 - ETA: 2:35 - loss: 0.0307 - acc: 0.988 - ETA: 2:34 - loss: 0.0306 - acc: 0.988 - ETA: 2:33 - loss: 0.0306 - acc: 0.988 - ETA: 2:33 - loss: 0.0310 - acc: 0.988 - ETA: 2:32 - loss: 0.0311 - acc: 0.988 - ETA: 2:31 - loss: 0.0313 - acc: 0.988 - ETA: 2:30 - loss: 0.0317 - acc: 0.988 - ETA: 2:30 - loss: 0.0317 - acc: 0.988 - ETA: 2:29 - loss: 0.0316 - acc: 0.988 - ETA: 2:28 - loss: 0.0315 - acc: 0.988 - ETA: 2:27 - loss: 0.0316 - acc: 0.988 - ETA: 2:26 - loss: 0.0317 - acc: 0.988 - ETA: 2:25 - loss: 0.0318 - acc: 0.987 - ETA: 2:24 - loss: 0.0317 - acc: 0.988 - ETA: 2:24 - loss: 0.0319 - acc: 0.987 - ETA: 2:23 - loss: 0.0317 - acc: 0.988 - ETA: 2:22 - loss: 0.0316 - acc: 0.988 - ETA: 2:21 - loss: 0.0315 - acc: 0.988 - ETA: 2:20 - loss: 0.0316 - acc: 0.988 - ETA: 2:20 - loss: 0.0314 - acc: 0.988 - ETA: 2:19 - loss: 0.0329 - acc: 0.987 - ETA: 2:18 - loss: 0.0332 - acc: 0.987 - ETA: 2:17 - loss: 0.0335 - acc: 0.987 - ETA: 2:16 - loss: 0.0335 - acc: 0.987 - ETA: 2:16 - loss: 0.0333 - acc: 0.987 - ETA: 2:15 - loss: 0.0332 - acc: 0.987 - ETA: 2:14 - loss: 0.0334 - acc: 0.987 - ETA: 2:13 - loss: 0.0333 - acc: 0.987 - ETA: 2:12 - loss: 0.0332 - acc: 0.987 - ETA: 2:11 - loss: 0.0331 - acc: 0.987 - ETA: 2:10 - loss: 0.0330 - acc: 0.987 - ETA: 2:10 - loss: 0.0329 - acc: 0.987 - ETA: 2:09 - loss: 0.0331 - acc: 0.987 - ETA: 2:08 - loss: 0.0336 - acc: 0.987 - ETA: 2:07 - loss: 0.0336 - acc: 0.987 - ETA: 2:06 - loss: 0.0335 - acc: 0.987 - ETA: 2:05 - loss: 0.0339 - acc: 0.987 - ETA: 2:04 - loss: 0.0338 - acc: 0.987 - ETA: 2:03 - loss: 0.0337 - acc: 0.987 - ETA: 2:03 - loss: 0.0339 - acc: 0.987 - ETA: 2:02 - loss: 0.0340 - acc: 0.987 - ETA: 2:01 - loss: 0.0340 - acc: 0.987 - ETA: 2:00 - loss: 0.0342 - acc: 0.987 - ETA: 1:59 - loss: 0.0341 - acc: 0.987 - ETA: 1:58 - loss: 0.0340 - acc: 0.987 - ETA: 1:57 - loss: 0.0340 - acc: 0.987 - ETA: 1:57 - loss: 0.0339 - acc: 0.987 - ETA: 1:56 - loss: 0.0338 - acc: 0.987 - ETA: 1:55 - loss: 0.0337 - acc: 0.987 - ETA: 1:54 - loss: 0.0336 - acc: 0.987 - ETA: 1:53 - loss: 0.0335 - acc: 0.987 - ETA: 1:52 - loss: 0.0338 - acc: 0.987 - ETA: 1:51 - loss: 0.0341 - acc: 0.987 - ETA: 1:51 - loss: 0.0341 - acc: 0.987 - ETA: 1:50 - loss: 0.0340 - acc: 0.987 - ETA: 1:49 - loss: 0.0340 - acc: 0.987 - ETA: 1:49 - loss: 0.0339 - acc: 0.987 - ETA: 1:48 - loss: 0.0340 - acc: 0.987 - ETA: 1:47 - loss: 0.0339 - acc: 0.987 - ETA: 1:46 - loss: 0.0338 - acc: 0.987 - ETA: 1:45 - loss: 0.0338 - acc: 0.987 - ETA: 1:44 - loss: 0.0337 - acc: 0.987 - ETA: 1:43 - loss: 0.0336 - acc: 0.987 - ETA: 1:43 - loss: 0.0337 - acc: 0.987 - ETA: 1:42 - loss: 0.0337 - acc: 0.987 - ETA: 1:41 - loss: 0.0336 - acc: 0.987 - ETA: 1:40 - loss: 0.0336 - acc: 0.987 - ETA: 1:39 - loss: 0.0336 - acc: 0.987 - ETA: 1:38 - loss: 0.0336 - acc: 0.987 - ETA: 1:38 - loss: 0.0340 - acc: 0.987 - ETA: 1:37 - loss: 0.0339 - acc: 0.987 - ETA: 1:36 - loss: 0.0339 - acc: 0.987 - ETA: 1:35 - loss: 0.0338 - acc: 0.987 - ETA: 1:34 - loss: 0.0337 - acc: 0.987 - ETA: 1:33 - loss: 0.0337 - acc: 0.987 - ETA: 1:32 - loss: 0.0339 - acc: 0.987 - ETA: 1:32 - loss: 0.0338 - acc: 0.987 - ETA: 1:31 - loss: 0.0337 - acc: 0.987 - ETA: 1:30 - loss: 0.0337 - acc: 0.987 - ETA: 1:29 - loss: 0.0336 - acc: 0.987 - ETA: 1:28 - loss: 0.0335 - acc: 0.987 - ETA: 1:28 - loss: 0.0334 - acc: 0.987 - ETA: 1:27 - loss: 0.0335 - acc: 0.987 - ETA: 1:26 - loss: 0.0334 - acc: 0.987 - ETA: 1:25 - loss: 0.0334 - acc: 0.987 - ETA: 1:24 - loss: 0.0333 - acc: 0.987 - ETA: 1:23 - loss: 0.0332 - acc: 0.987 - ETA: 1:23 - loss: 0.0331 - acc: 0.987 - ETA: 1:22 - loss: 0.0330 - acc: 0.987 - ETA: 1:21 - loss: 0.0329 - acc: 0.987 - ETA: 1:20 - loss: 0.0330 - acc: 0.987 - ETA: 1:19 - loss: 0.0329 - acc: 0.987 - ETA: 1:18 - loss: 0.0329 - acc: 0.987 - ETA: 1:17 - loss: 0.0329 - acc: 0.987 - ETA: 1:17 - loss: 0.0330 - acc: 0.987 - ETA: 1:16 - loss: 0.0333 - acc: 0.987 - ETA: 1:15 - loss: 0.0337 - acc: 0.987 - ETA: 1:14 - loss: 0.0338 - acc: 0.987 - ETA: 1:13 - loss: 0.0337 - acc: 0.987 - ETA: 1:12 - loss: 0.0336 - acc: 0.987 - ETA: 1:11 - loss: 0.0335 - acc: 0.987 - ETA: 1:11 - loss: 0.0334 - acc: 0.987 - ETA: 1:10 - loss: 0.0337 - acc: 0.987 - ETA: 1:09 - loss: 0.0338 - acc: 0.987 - ETA: 1:08 - loss: 0.0337 - acc: 0.987 - ETA: 1:07 - loss: 0.0336 - acc: 0.987 - ETA: 1:06 - loss: 0.0335 - acc: 0.987 - ETA: 1:05 - loss: 0.0335 - acc: 0.987 - ETA: 1:04 - loss: 0.0334 - acc: 0.987 - ETA: 1:04 - loss: 0.0333 - acc: 0.987 - ETA: 1:03 - loss: 0.0332 - acc: 0.987 - ETA: 1:02 - loss: 0.0333 - acc: 0.987 - ETA: 1:01 - loss: 0.0332 - acc: 0.987 - ETA: 1:00 - loss: 0.0338 - acc: 0.987 - ETA: 59s - loss: 0.0337 - acc: 0.987 - ETA: 58s - loss: 0.0336 - acc: 0.98 - ETA: 57s - loss: 0.0337 - acc: 0.98 - ETA: 56s - loss: 0.0336 - acc: 0.98 - ETA: 55s - loss: 0.0336 - acc: 0.98 - ETA: 54s - loss: 0.0335 - acc: 0.98 - ETA: 54s - loss: 0.0334 - acc: 0.98 - ETA: 53s - loss: 0.0334 - acc: 0.98 - ETA: 52s - loss: 0.0333 - acc: 0.98 - ETA: 51s - loss: 0.0338 - acc: 0.98 - ETA: 50s - loss: 0.0341 - acc: 0.98 - ETA: 49s - loss: 0.0341 - acc: 0.98 - ETA: 48s - loss: 0.0340 - acc: 0.98 - ETA: 47s - loss: 0.0339 - acc: 0.98 - ETA: 47s - loss: 0.0338 - acc: 0.98 - ETA: 46s - loss: 0.0337 - acc: 0.98 - ETA: 45s - loss: 0.0337 - acc: 0.98 - ETA: 44s - loss: 0.0337 - acc: 0.98 - ETA: 43s - loss: 0.0336 - acc: 0.98 - ETA: 42s - loss: 0.0336 - acc: 0.98 - ETA: 41s - loss: 0.0335 - acc: 0.98 - ETA: 40s - loss: 0.0334 - acc: 0.98 - ETA: 39s - loss: 0.0333 - acc: 0.98 - ETA: 38s - loss: 0.0334 - acc: 0.98 - ETA: 38s - loss: 0.0333 - acc: 0.98 - ETA: 37s - loss: 0.0332 - acc: 0.98 - ETA: 36s - loss: 0.0333 - acc: 0.98 - ETA: 35s - loss: 0.0332 - acc: 0.98 - ETA: 34s - loss: 0.0332 - acc: 0.98 - ETA: 33s - loss: 0.0334 - acc: 0.98 - ETA: 32s - loss: 0.0335 - acc: 0.98 - ETA: 31s - loss: 0.0343 - acc: 0.98 - ETA: 30s - loss: 0.0343 - acc: 0.98 - ETA: 29s - loss: 0.0342 - acc: 0.98 - ETA: 28s - loss: 0.0344 - acc: 0.98 - ETA: 27s - loss: 0.0343 - acc: 0.98 - ETA: 26s - loss: 0.0344 - acc: 0.98 - ETA: 26s - loss: 0.0345 - acc: 0.98 - ETA: 25s - loss: 0.0348 - acc: 0.98 - ETA: 24s - loss: 0.0348 - acc: 0.98 - ETA: 23s - loss: 0.0347 - acc: 0.98 - ETA: 22s - loss: 0.0346 - acc: 0.98 - ETA: 21s - loss: 0.0348 - acc: 0.98 - ETA: 20s - loss: 0.0350 - acc: 0.98 - ETA: 19s - loss: 0.0349 - acc: 0.98 - ETA: 18s - loss: 0.0350 - acc: 0.98 - ETA: 17s - loss: 0.0350 - acc: 0.98 - ETA: 16s - loss: 0.0349 - acc: 0.98 - ETA: 15s - loss: 0.0348 - acc: 0.98 - ETA: 14s - loss: 0.0347 - acc: 0.98 - ETA: 13s - loss: 0.0347 - acc: 0.98 - ETA: 12s - loss: 0.0347 - acc: 0.98 - ETA: 12s - loss: 0.0347 - acc: 0.98 - ETA: 11s - loss: 0.0346 - acc: 0.98 - ETA: 10s - loss: 0.0346 - acc: 0.98 - ETA: 9s - loss: 0.0345 - acc: 0.9877 - ETA: 8s - loss: 0.0347 - acc: 0.987 - ETA: 7s - loss: 0.0348 - acc: 0.987 - ETA: 6s - loss: 0.0347 - acc: 0.987 - ETA: 5s - loss: 0.0350 - acc: 0.987 - ETA: 4s - loss: 0.0352 - acc: 0.987 - ETA: 3s - loss: 0.0353 - acc: 0.987 - ETA: 2s - loss: 0.0352 - acc: 0.987 - ETA: 1s - loss: 0.0353 - acc: 0.987 - ETA: 0s - loss: 0.0352 - acc: 0.987 - 385s 30ms/step - loss: 0.0352 - acc: 0.9873 - val_loss: 4.3900 - val_acc: 0.3903\n",
      "Epoch 17/20\n"
     ]
    },
    {
     "name": "stdout",
     "output_type": "stream",
     "text": [
      " 6528/12793 [==============>...............] - ETA: 5:36 - loss: 0.0202 - acc: 1.000 - ETA: 7:06 - loss: 0.0169 - acc: 1.000 - ETA: 6:21 - loss: 0.0290 - acc: 0.989 - ETA: 5:52 - loss: 0.0364 - acc: 0.984 - ETA: 6:08 - loss: 0.0302 - acc: 0.987 - ETA: 6:04 - loss: 0.0306 - acc: 0.989 - ETA: 5:50 - loss: 0.0270 - acc: 0.991 - ETA: 6:23 - loss: 0.0240 - acc: 0.992 - ETA: 6:30 - loss: 0.0299 - acc: 0.989 - ETA: 6:32 - loss: 0.0321 - acc: 0.987 - ETA: 6:25 - loss: 0.0303 - acc: 0.988 - ETA: 6:24 - loss: 0.0279 - acc: 0.989 - ETA: 6:26 - loss: 0.0258 - acc: 0.990 - ETA: 6:29 - loss: 0.0289 - acc: 0.988 - ETA: 6:22 - loss: 0.0270 - acc: 0.989 - ETA: 6:20 - loss: 0.0261 - acc: 0.990 - ETA: 6:26 - loss: 0.0246 - acc: 0.990 - ETA: 6:18 - loss: 0.0234 - acc: 0.991 - ETA: 6:13 - loss: 0.0260 - acc: 0.990 - ETA: 6:17 - loss: 0.0253 - acc: 0.990 - ETA: 6:13 - loss: 0.0254 - acc: 0.991 - ETA: 6:08 - loss: 0.0243 - acc: 0.991 - ETA: 6:08 - loss: 0.0237 - acc: 0.991 - ETA: 6:08 - loss: 0.0248 - acc: 0.990 - ETA: 6:05 - loss: 0.0244 - acc: 0.991 - ETA: 6:04 - loss: 0.0236 - acc: 0.991 - ETA: 6:09 - loss: 0.0259 - acc: 0.990 - ETA: 6:07 - loss: 0.0384 - acc: 0.990 - ETA: 6:10 - loss: 0.0371 - acc: 0.990 - ETA: 6:07 - loss: 0.0368 - acc: 0.989 - ETA: 6:02 - loss: 0.0357 - acc: 0.989 - ETA: 6:02 - loss: 0.0348 - acc: 0.990 - ETA: 6:02 - loss: 0.0340 - acc: 0.990 - ETA: 5:57 - loss: 0.0330 - acc: 0.990 - ETA: 5:52 - loss: 0.0328 - acc: 0.991 - ETA: 5:52 - loss: 0.0319 - acc: 0.991 - ETA: 5:50 - loss: 0.0314 - acc: 0.991 - ETA: 5:47 - loss: 0.0308 - acc: 0.991 - ETA: 5:44 - loss: 0.0323 - acc: 0.991 - ETA: 5:44 - loss: 0.0326 - acc: 0.990 - ETA: 5:41 - loss: 0.0382 - acc: 0.990 - ETA: 5:37 - loss: 0.0373 - acc: 0.990 - ETA: 5:35 - loss: 0.0365 - acc: 0.990 - ETA: 5:36 - loss: 0.0368 - acc: 0.990 - ETA: 5:33 - loss: 0.0360 - acc: 0.990 - ETA: 5:30 - loss: 0.0353 - acc: 0.990 - ETA: 5:30 - loss: 0.0377 - acc: 0.990 - ETA: 5:29 - loss: 0.0370 - acc: 0.990 - ETA: 5:26 - loss: 0.0375 - acc: 0.989 - ETA: 5:25 - loss: 0.0371 - acc: 0.990 - ETA: 5:25 - loss: 0.0365 - acc: 0.990 - ETA: 5:23 - loss: 0.0362 - acc: 0.990 - ETA: 5:20 - loss: 0.0357 - acc: 0.990 - ETA: 5:20 - loss: 0.0351 - acc: 0.990 - ETA: 5:19 - loss: 0.0350 - acc: 0.990 - ETA: 5:17 - loss: 0.0345 - acc: 0.990 - ETA: 5:15 - loss: 0.0340 - acc: 0.990 - ETA: 5:15 - loss: 0.0336 - acc: 0.990 - ETA: 5:13 - loss: 0.0332 - acc: 0.991 - ETA: 5:10 - loss: 0.0327 - acc: 0.991 - ETA: 5:09 - loss: 0.0327 - acc: 0.990 - ETA: 5:09 - loss: 0.0322 - acc: 0.990 - ETA: 5:07 - loss: 0.0322 - acc: 0.990 - ETA: 5:05 - loss: 0.0317 - acc: 0.990 - ETA: 5:05 - loss: 0.0313 - acc: 0.990 - ETA: 5:04 - loss: 0.0312 - acc: 0.991 - ETA: 5:02 - loss: 0.0308 - acc: 0.991 - ETA: 5:00 - loss: 0.0304 - acc: 0.991 - ETA: 5:01 - loss: 0.0300 - acc: 0.991 - ETA: 5:00 - loss: 0.0295 - acc: 0.991 - ETA: 4:58 - loss: 0.0293 - acc: 0.991 - ETA: 4:59 - loss: 0.0290 - acc: 0.991 - ETA: 4:58 - loss: 0.0286 - acc: 0.991 - ETA: 4:56 - loss: 0.0282 - acc: 0.992 - ETA: 4:57 - loss: 0.0284 - acc: 0.991 - ETA: 4:55 - loss: 0.0281 - acc: 0.991 - ETA: 4:54 - loss: 0.0277 - acc: 0.991 - ETA: 4:54 - loss: 0.0295 - acc: 0.991 - ETA: 4:54 - loss: 0.0293 - acc: 0.991 - ETA: 4:52 - loss: 0.0309 - acc: 0.991 - ETA: 4:54 - loss: 0.0323 - acc: 0.991 - ETA: 4:54 - loss: 0.0319 - acc: 0.991 - ETA: 4:55 - loss: 0.0315 - acc: 0.991 - ETA: 4:55 - loss: 0.0311 - acc: 0.991 - ETA: 4:54 - loss: 0.0308 - acc: 0.991 - ETA: 4:55 - loss: 0.0305 - acc: 0.991 - ETA: 4:55 - loss: 0.0301 - acc: 0.991 - ETA: 4:55 - loss: 0.0299 - acc: 0.991 - ETA: 4:54 - loss: 0.0296 - acc: 0.991 - ETA: 4:54 - loss: 0.0293 - acc: 0.992 - ETA: 4:53 - loss: 0.0291 - acc: 0.992 - ETA: 4:51 - loss: 0.0299 - acc: 0.991 - ETA: 4:51 - loss: 0.0299 - acc: 0.991 - ETA: 4:50 - loss: 0.0298 - acc: 0.992 - ETA: 4:50 - loss: 0.0305 - acc: 0.991 - ETA: 4:50 - loss: 0.0304 - acc: 0.991 - ETA: 4:49 - loss: 0.0309 - acc: 0.991 - ETA: 4:49 - loss: 0.0315 - acc: 0.991 - ETA: 4:49 - loss: 0.0312 - acc: 0.991 - ETA: 4:49 - loss: 0.0310 - acc: 0.991 - ETA: 4:50 - loss: 0.0316 - acc: 0.991 - ETA: 4:49 - loss: 0.0313 - acc: 0.991 - ETA: 4:51 - loss: 0.0311 - acc: 0.991 - ETA: 4:50 - loss: 0.0310 - acc: 0.991 - ETA: 4:50 - loss: 0.0308 - acc: 0.991 - ETA: 4:50 - loss: 0.0306 - acc: 0.991 - ETA: 4:48 - loss: 0.0313 - acc: 0.991 - ETA: 4:49 - loss: 0.0312 - acc: 0.991 - ETA: 4:47 - loss: 0.0310 - acc: 0.991 - ETA: 4:46 - loss: 0.0308 - acc: 0.991 - ETA: 4:46 - loss: 0.0305 - acc: 0.991 - ETA: 4:46 - loss: 0.0310 - acc: 0.991 - ETA: 4:46 - loss: 0.0308 - acc: 0.991 - ETA: 4:47 - loss: 0.0305 - acc: 0.991 - ETA: 4:48 - loss: 0.0303 - acc: 0.991 - ETA: 4:47 - loss: 0.0301 - acc: 0.991 - ETA: 4:47 - loss: 0.0299 - acc: 0.991 - ETA: 4:46 - loss: 0.0297 - acc: 0.991 - ETA: 4:45 - loss: 0.0295 - acc: 0.991 - ETA: 4:47 - loss: 0.0295 - acc: 0.991 - ETA: 4:45 - loss: 0.0294 - acc: 0.991 - ETA: 4:44 - loss: 0.0295 - acc: 0.991 - ETA: 4:44 - loss: 0.0296 - acc: 0.991 - ETA: 4:43 - loss: 0.0295 - acc: 0.991 - ETA: 4:41 - loss: 0.0293 - acc: 0.991 - ETA: 4:40 - loss: 0.0294 - acc: 0.991 - ETA: 4:40 - loss: 0.0301 - acc: 0.990 - ETA: 4:38 - loss: 0.0299 - acc: 0.991 - ETA: 4:37 - loss: 0.0297 - acc: 0.991 - ETA: 4:36 - loss: 0.0296 - acc: 0.991 - ETA: 4:34 - loss: 0.0296 - acc: 0.991 - ETA: 4:33 - loss: 0.0295 - acc: 0.991 - ETA: 4:32 - loss: 0.0293 - acc: 0.991 - ETA: 4:31 - loss: 0.0293 - acc: 0.991 - ETA: 4:30 - loss: 0.0292 - acc: 0.991 - ETA: 4:30 - loss: 0.0292 - acc: 0.991 - ETA: 4:28 - loss: 0.0297 - acc: 0.990 - ETA: 4:27 - loss: 0.0295 - acc: 0.990 - ETA: 4:26 - loss: 0.0300 - acc: 0.990 - ETA: 4:24 - loss: 0.0299 - acc: 0.990 - ETA: 4:22 - loss: 0.0298 - acc: 0.990 - ETA: 4:21 - loss: 0.0297 - acc: 0.991 - ETA: 4:20 - loss: 0.0295 - acc: 0.991 - ETA: 4:19 - loss: 0.0293 - acc: 0.991 - ETA: 4:17 - loss: 0.0293 - acc: 0.990 - ETA: 4:17 - loss: 0.0291 - acc: 0.991 - ETA: 4:15 - loss: 0.0290 - acc: 0.991 - ETA: 4:13 - loss: 0.0289 - acc: 0.991 - ETA: 4:12 - loss: 0.0289 - acc: 0.991 - ETA: 4:11 - loss: 0.0290 - acc: 0.990 - ETA: 4:10 - loss: 0.0288 - acc: 0.990 - ETA: 4:09 - loss: 0.0291 - acc: 0.990 - ETA: 4:08 - loss: 0.0293 - acc: 0.990 - ETA: 4:07 - loss: 0.0295 - acc: 0.990 - ETA: 4:05 - loss: 0.0294 - acc: 0.990 - ETA: 4:04 - loss: 0.0292 - acc: 0.990 - ETA: 4:03 - loss: 0.0293 - acc: 0.990 - ETA: 4:02 - loss: 0.0293 - acc: 0.990 - ETA: 4:01 - loss: 0.0292 - acc: 0.990 - ETA: 4:00 - loss: 0.0291 - acc: 0.990 - ETA: 3:58 - loss: 0.0289 - acc: 0.990 - ETA: 3:56 - loss: 0.0289 - acc: 0.990 - ETA: 3:55 - loss: 0.0288 - acc: 0.990 - ETA: 3:54 - loss: 0.0293 - acc: 0.990 - ETA: 3:53 - loss: 0.0291 - acc: 0.990 - ETA: 3:51 - loss: 0.0294 - acc: 0.990 - ETA: 3:50 - loss: 0.0293 - acc: 0.990 - ETA: 3:49 - loss: 0.0297 - acc: 0.990 - ETA: 3:48 - loss: 0.0296 - acc: 0.989 - ETA: 3:46 - loss: 0.0295 - acc: 0.989 - ETA: 3:45 - loss: 0.0296 - acc: 0.989 - ETA: 3:44 - loss: 0.0295 - acc: 0.989 - ETA: 3:42 - loss: 0.0294 - acc: 0.989 - ETA: 3:41 - loss: 0.0293 - acc: 0.989 - ETA: 3:40 - loss: 0.0303 - acc: 0.989 - ETA: 3:39 - loss: 0.0302 - acc: 0.989 - ETA: 3:37 - loss: 0.0302 - acc: 0.989 - ETA: 3:36 - loss: 0.0301 - acc: 0.989 - ETA: 3:35 - loss: 0.0299 - acc: 0.989 - ETA: 3:34 - loss: 0.0298 - acc: 0.989 - ETA: 3:33 - loss: 0.0298 - acc: 0.989 - ETA: 3:32 - loss: 0.0296 - acc: 0.989 - ETA: 3:31 - loss: 0.0297 - acc: 0.989 - ETA: 3:29 - loss: 0.0296 - acc: 0.989 - ETA: 3:28 - loss: 0.0294 - acc: 0.989 - ETA: 3:27 - loss: 0.0295 - acc: 0.989 - ETA: 3:26 - loss: 0.0293 - acc: 0.989 - ETA: 3:25 - loss: 0.0294 - acc: 0.989 - ETA: 3:24 - loss: 0.0292 - acc: 0.989 - ETA: 3:23 - loss: 0.0291 - acc: 0.989 - ETA: 3:22 - loss: 0.0290 - acc: 0.989 - ETA: 3:21 - loss: 0.0288 - acc: 0.989 - ETA: 3:20 - loss: 0.0287 - acc: 0.990 - ETA: 3:19 - loss: 0.0286 - acc: 0.990 - ETA: 3:18 - loss: 0.0285 - acc: 0.990 - ETA: 3:16 - loss: 0.0284 - acc: 0.990 - ETA: 3:16 - loss: 0.0283 - acc: 0.990 - ETA: 3:14 - loss: 0.0282 - acc: 0.990 - ETA: 3:13 - loss: 0.0281 - acc: 0.990 - ETA: 3:12 - loss: 0.0280 - acc: 0.990 - ETA: 3:11 - loss: 0.0280 - acc: 0.990 - ETA: 3:10 - loss: 0.0279 - acc: 0.990 - ETA: 3:08 - loss: 0.0278 - acc: 0.990 - ETA: 3:07 - loss: 0.0277 - acc: 0.9905"
     ]
    },
    {
     "name": "stdout",
     "output_type": "stream",
     "text": [
      "12793/12793 [==============================] - ETA: 3:06 - loss: 0.0276 - acc: 0.990 - ETA: 3:05 - loss: 0.0277 - acc: 0.990 - ETA: 3:04 - loss: 0.0276 - acc: 0.990 - ETA: 3:02 - loss: 0.0274 - acc: 0.990 - ETA: 3:02 - loss: 0.0274 - acc: 0.990 - ETA: 3:00 - loss: 0.0279 - acc: 0.990 - ETA: 2:59 - loss: 0.0278 - acc: 0.990 - ETA: 2:58 - loss: 0.0282 - acc: 0.990 - ETA: 2:57 - loss: 0.0283 - acc: 0.990 - ETA: 2:56 - loss: 0.0282 - acc: 0.990 - ETA: 2:55 - loss: 0.0281 - acc: 0.990 - ETA: 2:53 - loss: 0.0279 - acc: 0.990 - ETA: 2:52 - loss: 0.0279 - acc: 0.990 - ETA: 2:51 - loss: 0.0280 - acc: 0.990 - ETA: 2:50 - loss: 0.0279 - acc: 0.990 - ETA: 2:49 - loss: 0.0278 - acc: 0.990 - ETA: 2:48 - loss: 0.0276 - acc: 0.990 - ETA: 2:47 - loss: 0.0276 - acc: 0.990 - ETA: 2:46 - loss: 0.0275 - acc: 0.990 - ETA: 2:44 - loss: 0.0274 - acc: 0.990 - ETA: 2:44 - loss: 0.0273 - acc: 0.990 - ETA: 2:43 - loss: 0.0272 - acc: 0.990 - ETA: 2:41 - loss: 0.0273 - acc: 0.990 - ETA: 2:40 - loss: 0.0272 - acc: 0.990 - ETA: 2:40 - loss: 0.0271 - acc: 0.990 - ETA: 2:39 - loss: 0.0270 - acc: 0.990 - ETA: 2:37 - loss: 0.0269 - acc: 0.990 - ETA: 2:37 - loss: 0.0271 - acc: 0.990 - ETA: 2:36 - loss: 0.0271 - acc: 0.990 - ETA: 2:35 - loss: 0.0270 - acc: 0.990 - ETA: 2:34 - loss: 0.0269 - acc: 0.991 - ETA: 2:33 - loss: 0.0268 - acc: 0.991 - ETA: 2:32 - loss: 0.0267 - acc: 0.991 - ETA: 2:30 - loss: 0.0266 - acc: 0.991 - ETA: 2:30 - loss: 0.0265 - acc: 0.991 - ETA: 2:29 - loss: 0.0265 - acc: 0.991 - ETA: 2:27 - loss: 0.0268 - acc: 0.991 - ETA: 2:26 - loss: 0.0267 - acc: 0.991 - ETA: 2:25 - loss: 0.0266 - acc: 0.991 - ETA: 2:24 - loss: 0.0268 - acc: 0.991 - ETA: 2:23 - loss: 0.0267 - acc: 0.991 - ETA: 2:22 - loss: 0.0266 - acc: 0.991 - ETA: 2:21 - loss: 0.0266 - acc: 0.991 - ETA: 2:20 - loss: 0.0269 - acc: 0.990 - ETA: 2:19 - loss: 0.0269 - acc: 0.990 - ETA: 2:18 - loss: 0.0272 - acc: 0.990 - ETA: 2:17 - loss: 0.0271 - acc: 0.990 - ETA: 2:16 - loss: 0.0272 - acc: 0.990 - ETA: 2:15 - loss: 0.0272 - acc: 0.990 - ETA: 2:14 - loss: 0.0271 - acc: 0.990 - ETA: 2:13 - loss: 0.0270 - acc: 0.990 - ETA: 2:12 - loss: 0.0272 - acc: 0.990 - ETA: 2:11 - loss: 0.0272 - acc: 0.990 - ETA: 2:10 - loss: 0.0271 - acc: 0.990 - ETA: 2:09 - loss: 0.0270 - acc: 0.990 - ETA: 2:08 - loss: 0.0273 - acc: 0.990 - ETA: 2:07 - loss: 0.0278 - acc: 0.990 - ETA: 2:06 - loss: 0.0277 - acc: 0.990 - ETA: 2:05 - loss: 0.0276 - acc: 0.990 - ETA: 2:04 - loss: 0.0276 - acc: 0.990 - ETA: 2:03 - loss: 0.0275 - acc: 0.990 - ETA: 2:02 - loss: 0.0279 - acc: 0.990 - ETA: 2:02 - loss: 0.0280 - acc: 0.990 - ETA: 2:00 - loss: 0.0280 - acc: 0.990 - ETA: 1:59 - loss: 0.0279 - acc: 0.990 - ETA: 1:59 - loss: 0.0282 - acc: 0.990 - ETA: 1:58 - loss: 0.0282 - acc: 0.990 - ETA: 1:57 - loss: 0.0283 - acc: 0.990 - ETA: 1:56 - loss: 0.0288 - acc: 0.990 - ETA: 1:55 - loss: 0.0287 - acc: 0.990 - ETA: 1:54 - loss: 0.0287 - acc: 0.990 - ETA: 1:53 - loss: 0.0289 - acc: 0.989 - ETA: 1:52 - loss: 0.0288 - acc: 0.990 - ETA: 1:51 - loss: 0.0289 - acc: 0.989 - ETA: 1:50 - loss: 0.0288 - acc: 0.989 - ETA: 1:49 - loss: 0.0287 - acc: 0.990 - ETA: 1:48 - loss: 0.0286 - acc: 0.990 - ETA: 1:47 - loss: 0.0288 - acc: 0.989 - ETA: 1:46 - loss: 0.0287 - acc: 0.990 - ETA: 1:45 - loss: 0.0286 - acc: 0.990 - ETA: 1:44 - loss: 0.0286 - acc: 0.990 - ETA: 1:43 - loss: 0.0286 - acc: 0.989 - ETA: 1:42 - loss: 0.0286 - acc: 0.990 - ETA: 1:41 - loss: 0.0285 - acc: 0.990 - ETA: 1:40 - loss: 0.0284 - acc: 0.990 - ETA: 1:39 - loss: 0.0284 - acc: 0.990 - ETA: 1:38 - loss: 0.0284 - acc: 0.990 - ETA: 1:37 - loss: 0.0286 - acc: 0.989 - ETA: 1:37 - loss: 0.0285 - acc: 0.990 - ETA: 1:36 - loss: 0.0285 - acc: 0.989 - ETA: 1:35 - loss: 0.0284 - acc: 0.989 - ETA: 1:34 - loss: 0.0283 - acc: 0.990 - ETA: 1:33 - loss: 0.0285 - acc: 0.989 - ETA: 1:32 - loss: 0.0286 - acc: 0.989 - ETA: 1:31 - loss: 0.0285 - acc: 0.989 - ETA: 1:30 - loss: 0.0285 - acc: 0.989 - ETA: 1:29 - loss: 0.0284 - acc: 0.989 - ETA: 1:28 - loss: 0.0289 - acc: 0.989 - ETA: 1:27 - loss: 0.0288 - acc: 0.989 - ETA: 1:26 - loss: 0.0287 - acc: 0.989 - ETA: 1:25 - loss: 0.0286 - acc: 0.989 - ETA: 1:24 - loss: 0.0286 - acc: 0.989 - ETA: 1:24 - loss: 0.0285 - acc: 0.989 - ETA: 1:23 - loss: 0.0284 - acc: 0.990 - ETA: 1:22 - loss: 0.0283 - acc: 0.990 - ETA: 1:21 - loss: 0.0283 - acc: 0.989 - ETA: 1:20 - loss: 0.0283 - acc: 0.990 - ETA: 1:19 - loss: 0.0283 - acc: 0.990 - ETA: 1:18 - loss: 0.0282 - acc: 0.990 - ETA: 1:17 - loss: 0.0281 - acc: 0.990 - ETA: 1:16 - loss: 0.0280 - acc: 0.990 - ETA: 1:15 - loss: 0.0280 - acc: 0.990 - ETA: 1:14 - loss: 0.0279 - acc: 0.990 - ETA: 1:14 - loss: 0.0282 - acc: 0.990 - ETA: 1:13 - loss: 0.0283 - acc: 0.990 - ETA: 1:12 - loss: 0.0282 - acc: 0.990 - ETA: 1:11 - loss: 0.0283 - acc: 0.990 - ETA: 1:10 - loss: 0.0282 - acc: 0.990 - ETA: 1:09 - loss: 0.0281 - acc: 0.990 - ETA: 1:08 - loss: 0.0282 - acc: 0.990 - ETA: 1:07 - loss: 0.0283 - acc: 0.990 - ETA: 1:06 - loss: 0.0282 - acc: 0.990 - ETA: 1:05 - loss: 0.0282 - acc: 0.990 - ETA: 1:05 - loss: 0.0281 - acc: 0.990 - ETA: 1:04 - loss: 0.0290 - acc: 0.989 - ETA: 1:03 - loss: 0.0289 - acc: 0.989 - ETA: 1:02 - loss: 0.0289 - acc: 0.989 - ETA: 1:01 - loss: 0.0288 - acc: 0.989 - ETA: 1:00 - loss: 0.0289 - acc: 0.989 - ETA: 59s - loss: 0.0288 - acc: 0.989 - ETA: 58s - loss: 0.0287 - acc: 0.98 - ETA: 57s - loss: 0.0287 - acc: 0.99 - ETA: 56s - loss: 0.0286 - acc: 0.99 - ETA: 55s - loss: 0.0286 - acc: 0.99 - ETA: 54s - loss: 0.0286 - acc: 0.99 - ETA: 53s - loss: 0.0285 - acc: 0.99 - ETA: 53s - loss: 0.0285 - acc: 0.99 - ETA: 52s - loss: 0.0285 - acc: 0.98 - ETA: 51s - loss: 0.0287 - acc: 0.98 - ETA: 50s - loss: 0.0286 - acc: 0.98 - ETA: 49s - loss: 0.0293 - acc: 0.98 - ETA: 48s - loss: 0.0296 - acc: 0.98 - ETA: 47s - loss: 0.0295 - acc: 0.98 - ETA: 46s - loss: 0.0294 - acc: 0.98 - ETA: 45s - loss: 0.0294 - acc: 0.98 - ETA: 44s - loss: 0.0293 - acc: 0.98 - ETA: 44s - loss: 0.0293 - acc: 0.98 - ETA: 43s - loss: 0.0293 - acc: 0.98 - ETA: 42s - loss: 0.0292 - acc: 0.98 - ETA: 41s - loss: 0.0292 - acc: 0.98 - ETA: 40s - loss: 0.0301 - acc: 0.98 - ETA: 39s - loss: 0.0301 - acc: 0.98 - ETA: 38s - loss: 0.0300 - acc: 0.98 - ETA: 37s - loss: 0.0301 - acc: 0.99 - ETA: 36s - loss: 0.0301 - acc: 0.99 - ETA: 35s - loss: 0.0300 - acc: 0.99 - ETA: 34s - loss: 0.0303 - acc: 0.99 - ETA: 34s - loss: 0.0302 - acc: 0.99 - ETA: 33s - loss: 0.0302 - acc: 0.99 - ETA: 32s - loss: 0.0301 - acc: 0.99 - ETA: 31s - loss: 0.0302 - acc: 0.99 - ETA: 30s - loss: 0.0302 - acc: 0.98 - ETA: 29s - loss: 0.0301 - acc: 0.99 - ETA: 28s - loss: 0.0301 - acc: 0.99 - ETA: 27s - loss: 0.0300 - acc: 0.99 - ETA: 26s - loss: 0.0303 - acc: 0.98 - ETA: 25s - loss: 0.0303 - acc: 0.98 - ETA: 25s - loss: 0.0302 - acc: 0.98 - ETA: 24s - loss: 0.0303 - acc: 0.98 - ETA: 23s - loss: 0.0303 - acc: 0.98 - ETA: 22s - loss: 0.0302 - acc: 0.98 - ETA: 21s - loss: 0.0301 - acc: 0.98 - ETA: 20s - loss: 0.0301 - acc: 0.99 - ETA: 19s - loss: 0.0303 - acc: 0.98 - ETA: 18s - loss: 0.0302 - acc: 0.98 - ETA: 17s - loss: 0.0302 - acc: 0.98 - ETA: 16s - loss: 0.0307 - acc: 0.98 - ETA: 16s - loss: 0.0307 - acc: 0.98 - ETA: 15s - loss: 0.0312 - acc: 0.98 - ETA: 14s - loss: 0.0311 - acc: 0.98 - ETA: 13s - loss: 0.0312 - acc: 0.98 - ETA: 12s - loss: 0.0311 - acc: 0.98 - ETA: 11s - loss: 0.0313 - acc: 0.98 - ETA: 10s - loss: 0.0313 - acc: 0.98 - ETA: 9s - loss: 0.0312 - acc: 0.9895 - ETA: 8s - loss: 0.0312 - acc: 0.989 - ETA: 7s - loss: 0.0311 - acc: 0.989 - ETA: 7s - loss: 0.0311 - acc: 0.989 - ETA: 6s - loss: 0.0310 - acc: 0.989 - ETA: 5s - loss: 0.0310 - acc: 0.989 - ETA: 4s - loss: 0.0309 - acc: 0.989 - ETA: 3s - loss: 0.0312 - acc: 0.989 - ETA: 2s - loss: 0.0312 - acc: 0.989 - ETA: 1s - loss: 0.0311 - acc: 0.989 - ETA: 0s - loss: 0.0311 - acc: 0.989 - 366s 29ms/step - loss: 0.0311 - acc: 0.9896 - val_loss: 4.2114 - val_acc: 0.4255\n",
      "Epoch 18/20\n"
     ]
    },
    {
     "name": "stdout",
     "output_type": "stream",
     "text": [
      " 6528/12793 [==============>...............] - ETA: 6:38 - loss: 0.0170 - acc: 1.000 - ETA: 5:30 - loss: 0.0115 - acc: 1.000 - ETA: 5:03 - loss: 0.0089 - acc: 1.000 - ETA: 5:37 - loss: 0.0120 - acc: 1.000 - ETA: 5:40 - loss: 0.0334 - acc: 0.987 - ETA: 5:25 - loss: 0.0280 - acc: 0.989 - ETA: 5:24 - loss: 0.0362 - acc: 0.986 - ETA: 5:36 - loss: 0.0318 - acc: 0.988 - ETA: 5:34 - loss: 0.0300 - acc: 0.989 - ETA: 5:26 - loss: 0.0273 - acc: 0.990 - ETA: 5:34 - loss: 0.0272 - acc: 0.991 - ETA: 5:31 - loss: 0.0397 - acc: 0.989 - ETA: 5:25 - loss: 0.0385 - acc: 0.990 - ETA: 5:22 - loss: 0.0366 - acc: 0.991 - ETA: 5:27 - loss: 0.0348 - acc: 0.991 - ETA: 5:23 - loss: 0.0327 - acc: 0.992 - ETA: 5:18 - loss: 0.0311 - acc: 0.992 - ETA: 5:20 - loss: 0.0301 - acc: 0.993 - ETA: 5:26 - loss: 0.0286 - acc: 0.993 - ETA: 5:21 - loss: 0.0296 - acc: 0.992 - ETA: 5:17 - loss: 0.0293 - acc: 0.992 - ETA: 5:22 - loss: 0.0280 - acc: 0.992 - ETA: 5:20 - loss: 0.0276 - acc: 0.993 - ETA: 5:16 - loss: 0.0271 - acc: 0.993 - ETA: 5:16 - loss: 0.0268 - acc: 0.993 - ETA: 5:19 - loss: 0.0260 - acc: 0.994 - ETA: 5:15 - loss: 0.0311 - acc: 0.993 - ETA: 5:11 - loss: 0.0301 - acc: 0.993 - ETA: 5:16 - loss: 0.0299 - acc: 0.993 - ETA: 5:15 - loss: 0.0291 - acc: 0.993 - ETA: 5:12 - loss: 0.0286 - acc: 0.994 - ETA: 5:12 - loss: 0.0288 - acc: 0.993 - ETA: 5:14 - loss: 0.0296 - acc: 0.992 - ETA: 5:12 - loss: 0.0292 - acc: 0.992 - ETA: 5:10 - loss: 0.0287 - acc: 0.992 - ETA: 5:12 - loss: 0.0293 - acc: 0.992 - ETA: 5:10 - loss: 0.0317 - acc: 0.991 - ETA: 5:08 - loss: 0.0309 - acc: 0.991 - ETA: 5:08 - loss: 0.0301 - acc: 0.992 - ETA: 5:12 - loss: 0.0299 - acc: 0.992 - ETA: 5:10 - loss: 0.0293 - acc: 0.992 - ETA: 5:12 - loss: 0.0309 - acc: 0.991 - ETA: 5:12 - loss: 0.0302 - acc: 0.992 - ETA: 5:09 - loss: 0.0295 - acc: 0.992 - ETA: 5:09 - loss: 0.0289 - acc: 0.992 - ETA: 5:10 - loss: 0.0286 - acc: 0.992 - ETA: 5:08 - loss: 0.0280 - acc: 0.992 - ETA: 5:06 - loss: 0.0277 - acc: 0.992 - ETA: 5:07 - loss: 0.0275 - acc: 0.993 - ETA: 5:07 - loss: 0.0314 - acc: 0.992 - ETA: 5:05 - loss: 0.0312 - acc: 0.992 - ETA: 5:05 - loss: 0.0306 - acc: 0.992 - ETA: 5:06 - loss: 0.0312 - acc: 0.992 - ETA: 5:03 - loss: 0.0309 - acc: 0.992 - ETA: 5:02 - loss: 0.0303 - acc: 0.992 - ETA: 5:03 - loss: 0.0306 - acc: 0.992 - ETA: 5:01 - loss: 0.0301 - acc: 0.992 - ETA: 4:59 - loss: 0.0296 - acc: 0.992 - ETA: 5:01 - loss: 0.0293 - acc: 0.992 - ETA: 4:59 - loss: 0.0290 - acc: 0.992 - ETA: 4:57 - loss: 0.0306 - acc: 0.992 - ETA: 4:56 - loss: 0.0302 - acc: 0.992 - ETA: 4:57 - loss: 0.0298 - acc: 0.992 - ETA: 4:55 - loss: 0.0295 - acc: 0.992 - ETA: 4:54 - loss: 0.0291 - acc: 0.992 - ETA: 4:54 - loss: 0.0301 - acc: 0.992 - ETA: 4:52 - loss: 0.0298 - acc: 0.992 - ETA: 4:50 - loss: 0.0294 - acc: 0.992 - ETA: 4:50 - loss: 0.0291 - acc: 0.992 - ETA: 4:50 - loss: 0.0287 - acc: 0.992 - ETA: 4:48 - loss: 0.0288 - acc: 0.992 - ETA: 4:46 - loss: 0.0296 - acc: 0.992 - ETA: 4:47 - loss: 0.0292 - acc: 0.992 - ETA: 4:46 - loss: 0.0293 - acc: 0.992 - ETA: 4:44 - loss: 0.0290 - acc: 0.992 - ETA: 4:44 - loss: 0.0287 - acc: 0.992 - ETA: 4:44 - loss: 0.0283 - acc: 0.992 - ETA: 4:42 - loss: 0.0297 - acc: 0.991 - ETA: 4:41 - loss: 0.0293 - acc: 0.991 - ETA: 4:41 - loss: 0.0292 - acc: 0.991 - ETA: 4:39 - loss: 0.0289 - acc: 0.991 - ETA: 4:38 - loss: 0.0286 - acc: 0.992 - ETA: 4:39 - loss: 0.0295 - acc: 0.991 - ETA: 4:38 - loss: 0.0294 - acc: 0.991 - ETA: 4:36 - loss: 0.0291 - acc: 0.991 - ETA: 4:36 - loss: 0.0289 - acc: 0.991 - ETA: 4:36 - loss: 0.0286 - acc: 0.991 - ETA: 4:34 - loss: 0.0295 - acc: 0.991 - ETA: 4:32 - loss: 0.0296 - acc: 0.991 - ETA: 4:32 - loss: 0.0294 - acc: 0.991 - ETA: 4:31 - loss: 0.0293 - acc: 0.991 - ETA: 4:30 - loss: 0.0290 - acc: 0.991 - ETA: 4:28 - loss: 0.0288 - acc: 0.991 - ETA: 4:28 - loss: 0.0294 - acc: 0.991 - ETA: 4:26 - loss: 0.0294 - acc: 0.990 - ETA: 4:25 - loss: 0.0308 - acc: 0.990 - ETA: 4:24 - loss: 0.0306 - acc: 0.990 - ETA: 4:24 - loss: 0.0305 - acc: 0.990 - ETA: 4:22 - loss: 0.0305 - acc: 0.990 - ETA: 4:21 - loss: 0.0308 - acc: 0.990 - ETA: 4:21 - loss: 0.0320 - acc: 0.989 - ETA: 4:20 - loss: 0.0317 - acc: 0.989 - ETA: 4:18 - loss: 0.0314 - acc: 0.990 - ETA: 4:17 - loss: 0.0317 - acc: 0.989 - ETA: 4:17 - loss: 0.0317 - acc: 0.989 - ETA: 4:15 - loss: 0.0317 - acc: 0.989 - ETA: 4:14 - loss: 0.0316 - acc: 0.989 - ETA: 4:13 - loss: 0.0313 - acc: 0.989 - ETA: 4:12 - loss: 0.0311 - acc: 0.990 - ETA: 4:11 - loss: 0.0308 - acc: 0.990 - ETA: 4:10 - loss: 0.0308 - acc: 0.989 - ETA: 4:09 - loss: 0.0308 - acc: 0.989 - ETA: 4:09 - loss: 0.0306 - acc: 0.989 - ETA: 4:07 - loss: 0.0322 - acc: 0.989 - ETA: 4:06 - loss: 0.0320 - acc: 0.989 - ETA: 4:06 - loss: 0.0318 - acc: 0.989 - ETA: 4:04 - loss: 0.0321 - acc: 0.989 - ETA: 4:03 - loss: 0.0319 - acc: 0.989 - ETA: 4:02 - loss: 0.0318 - acc: 0.989 - ETA: 4:01 - loss: 0.0319 - acc: 0.989 - ETA: 4:00 - loss: 0.0317 - acc: 0.989 - ETA: 3:59 - loss: 0.0314 - acc: 0.989 - ETA: 3:58 - loss: 0.0320 - acc: 0.989 - ETA: 3:58 - loss: 0.0319 - acc: 0.989 - ETA: 3:56 - loss: 0.0316 - acc: 0.989 - ETA: 3:55 - loss: 0.0314 - acc: 0.989 - ETA: 3:54 - loss: 0.0322 - acc: 0.989 - ETA: 3:54 - loss: 0.0320 - acc: 0.989 - ETA: 3:53 - loss: 0.0318 - acc: 0.989 - ETA: 3:51 - loss: 0.0316 - acc: 0.989 - ETA: 3:51 - loss: 0.0329 - acc: 0.989 - ETA: 3:50 - loss: 0.0337 - acc: 0.989 - ETA: 3:49 - loss: 0.0336 - acc: 0.989 - ETA: 3:48 - loss: 0.0333 - acc: 0.989 - ETA: 3:47 - loss: 0.0334 - acc: 0.989 - ETA: 3:46 - loss: 0.0331 - acc: 0.989 - ETA: 3:45 - loss: 0.0329 - acc: 0.989 - ETA: 3:44 - loss: 0.0328 - acc: 0.989 - ETA: 3:43 - loss: 0.0335 - acc: 0.989 - ETA: 3:42 - loss: 0.0334 - acc: 0.989 - ETA: 3:41 - loss: 0.0339 - acc: 0.989 - ETA: 3:40 - loss: 0.0339 - acc: 0.989 - ETA: 3:40 - loss: 0.0343 - acc: 0.989 - ETA: 3:38 - loss: 0.0341 - acc: 0.989 - ETA: 3:37 - loss: 0.0339 - acc: 0.989 - ETA: 3:37 - loss: 0.0338 - acc: 0.989 - ETA: 3:36 - loss: 0.0336 - acc: 0.989 - ETA: 3:35 - loss: 0.0335 - acc: 0.989 - ETA: 3:34 - loss: 0.0335 - acc: 0.989 - ETA: 3:33 - loss: 0.0333 - acc: 0.989 - ETA: 3:32 - loss: 0.0333 - acc: 0.989 - ETA: 3:31 - loss: 0.0331 - acc: 0.989 - ETA: 3:30 - loss: 0.0329 - acc: 0.989 - ETA: 3:29 - loss: 0.0330 - acc: 0.989 - ETA: 3:28 - loss: 0.0327 - acc: 0.989 - ETA: 3:27 - loss: 0.0326 - acc: 0.989 - ETA: 3:27 - loss: 0.0324 - acc: 0.989 - ETA: 3:26 - loss: 0.0322 - acc: 0.989 - ETA: 3:25 - loss: 0.0322 - acc: 0.989 - ETA: 3:24 - loss: 0.0320 - acc: 0.989 - ETA: 3:23 - loss: 0.0319 - acc: 0.989 - ETA: 3:22 - loss: 0.0319 - acc: 0.989 - ETA: 3:21 - loss: 0.0317 - acc: 0.989 - ETA: 3:20 - loss: 0.0317 - acc: 0.989 - ETA: 3:19 - loss: 0.0316 - acc: 0.989 - ETA: 3:18 - loss: 0.0314 - acc: 0.989 - ETA: 3:17 - loss: 0.0320 - acc: 0.989 - ETA: 3:17 - loss: 0.0318 - acc: 0.989 - ETA: 3:16 - loss: 0.0317 - acc: 0.989 - ETA: 3:15 - loss: 0.0316 - acc: 0.989 - ETA: 3:14 - loss: 0.0314 - acc: 0.989 - ETA: 3:13 - loss: 0.0317 - acc: 0.989 - ETA: 3:12 - loss: 0.0330 - acc: 0.989 - ETA: 3:11 - loss: 0.0329 - acc: 0.989 - ETA: 3:10 - loss: 0.0329 - acc: 0.988 - ETA: 3:10 - loss: 0.0331 - acc: 0.988 - ETA: 3:09 - loss: 0.0331 - acc: 0.988 - ETA: 3:07 - loss: 0.0329 - acc: 0.988 - ETA: 3:07 - loss: 0.0328 - acc: 0.988 - ETA: 3:06 - loss: 0.0326 - acc: 0.988 - ETA: 3:05 - loss: 0.0328 - acc: 0.988 - ETA: 3:04 - loss: 0.0327 - acc: 0.988 - ETA: 3:03 - loss: 0.0325 - acc: 0.988 - ETA: 3:03 - loss: 0.0324 - acc: 0.988 - ETA: 3:02 - loss: 0.0325 - acc: 0.988 - ETA: 3:01 - loss: 0.0324 - acc: 0.988 - ETA: 3:00 - loss: 0.0322 - acc: 0.988 - ETA: 2:59 - loss: 0.0325 - acc: 0.988 - ETA: 2:58 - loss: 0.0325 - acc: 0.988 - ETA: 2:58 - loss: 0.0324 - acc: 0.988 - ETA: 2:57 - loss: 0.0329 - acc: 0.988 - ETA: 2:56 - loss: 0.0327 - acc: 0.988 - ETA: 2:55 - loss: 0.0326 - acc: 0.988 - ETA: 2:54 - loss: 0.0326 - acc: 0.988 - ETA: 2:53 - loss: 0.0326 - acc: 0.988 - ETA: 2:52 - loss: 0.0325 - acc: 0.988 - ETA: 2:52 - loss: 0.0325 - acc: 0.988 - ETA: 2:51 - loss: 0.0325 - acc: 0.988 - ETA: 2:50 - loss: 0.0324 - acc: 0.988 - ETA: 2:49 - loss: 0.0326 - acc: 0.988 - ETA: 2:48 - loss: 0.0340 - acc: 0.988 - ETA: 2:47 - loss: 0.0339 - acc: 0.988 - ETA: 2:46 - loss: 0.0341 - acc: 0.988 - ETA: 2:46 - loss: 0.0340 - acc: 0.9882"
     ]
    },
    {
     "name": "stdout",
     "output_type": "stream",
     "text": [
      "12793/12793 [==============================] - ETA: 2:45 - loss: 0.0339 - acc: 0.988 - ETA: 2:44 - loss: 0.0337 - acc: 0.988 - ETA: 2:43 - loss: 0.0336 - acc: 0.988 - ETA: 2:43 - loss: 0.0336 - acc: 0.988 - ETA: 2:42 - loss: 0.0336 - acc: 0.988 - ETA: 2:41 - loss: 0.0341 - acc: 0.988 - ETA: 2:40 - loss: 0.0344 - acc: 0.988 - ETA: 2:39 - loss: 0.0346 - acc: 0.988 - ETA: 2:38 - loss: 0.0349 - acc: 0.987 - ETA: 2:38 - loss: 0.0348 - acc: 0.987 - ETA: 2:37 - loss: 0.0349 - acc: 0.987 - ETA: 2:36 - loss: 0.0351 - acc: 0.987 - ETA: 2:35 - loss: 0.0350 - acc: 0.987 - ETA: 2:35 - loss: 0.0352 - acc: 0.987 - ETA: 2:34 - loss: 0.0351 - acc: 0.987 - ETA: 2:33 - loss: 0.0350 - acc: 0.987 - ETA: 2:32 - loss: 0.0348 - acc: 0.987 - ETA: 2:31 - loss: 0.0358 - acc: 0.987 - ETA: 2:30 - loss: 0.0360 - acc: 0.987 - ETA: 2:29 - loss: 0.0362 - acc: 0.987 - ETA: 2:29 - loss: 0.0360 - acc: 0.987 - ETA: 2:28 - loss: 0.0359 - acc: 0.987 - ETA: 2:27 - loss: 0.0361 - acc: 0.987 - ETA: 2:26 - loss: 0.0359 - acc: 0.987 - ETA: 2:25 - loss: 0.0363 - acc: 0.987 - ETA: 2:24 - loss: 0.0363 - acc: 0.987 - ETA: 2:23 - loss: 0.0361 - acc: 0.987 - ETA: 2:22 - loss: 0.0362 - acc: 0.987 - ETA: 2:22 - loss: 0.0364 - acc: 0.987 - ETA: 2:21 - loss: 0.0365 - acc: 0.986 - ETA: 2:20 - loss: 0.0365 - acc: 0.986 - ETA: 2:19 - loss: 0.0364 - acc: 0.986 - ETA: 2:18 - loss: 0.0365 - acc: 0.986 - ETA: 2:17 - loss: 0.0367 - acc: 0.986 - ETA: 2:16 - loss: 0.0368 - acc: 0.986 - ETA: 2:15 - loss: 0.0369 - acc: 0.986 - ETA: 2:14 - loss: 0.0368 - acc: 0.986 - ETA: 2:13 - loss: 0.0368 - acc: 0.986 - ETA: 2:13 - loss: 0.0373 - acc: 0.986 - ETA: 2:12 - loss: 0.0371 - acc: 0.986 - ETA: 2:11 - loss: 0.0370 - acc: 0.986 - ETA: 2:10 - loss: 0.0369 - acc: 0.986 - ETA: 2:09 - loss: 0.0378 - acc: 0.986 - ETA: 2:08 - loss: 0.0377 - acc: 0.986 - ETA: 2:08 - loss: 0.0379 - acc: 0.986 - ETA: 2:07 - loss: 0.0378 - acc: 0.986 - ETA: 2:06 - loss: 0.0378 - acc: 0.986 - ETA: 2:05 - loss: 0.0377 - acc: 0.986 - ETA: 2:04 - loss: 0.0376 - acc: 0.986 - ETA: 2:03 - loss: 0.0375 - acc: 0.986 - ETA: 2:03 - loss: 0.0374 - acc: 0.986 - ETA: 2:02 - loss: 0.0374 - acc: 0.986 - ETA: 2:01 - loss: 0.0373 - acc: 0.986 - ETA: 2:00 - loss: 0.0373 - acc: 0.986 - ETA: 1:59 - loss: 0.0373 - acc: 0.986 - ETA: 1:58 - loss: 0.0373 - acc: 0.986 - ETA: 1:58 - loss: 0.0372 - acc: 0.986 - ETA: 1:57 - loss: 0.0371 - acc: 0.986 - ETA: 1:56 - loss: 0.0370 - acc: 0.986 - ETA: 1:55 - loss: 0.0369 - acc: 0.986 - ETA: 1:55 - loss: 0.0368 - acc: 0.986 - ETA: 1:54 - loss: 0.0368 - acc: 0.986 - ETA: 1:53 - loss: 0.0367 - acc: 0.986 - ETA: 1:52 - loss: 0.0366 - acc: 0.986 - ETA: 1:51 - loss: 0.0365 - acc: 0.986 - ETA: 1:50 - loss: 0.0365 - acc: 0.986 - ETA: 1:49 - loss: 0.0364 - acc: 0.987 - ETA: 1:48 - loss: 0.0364 - acc: 0.986 - ETA: 1:48 - loss: 0.0363 - acc: 0.987 - ETA: 1:47 - loss: 0.0362 - acc: 0.987 - ETA: 1:46 - loss: 0.0361 - acc: 0.987 - ETA: 1:45 - loss: 0.0363 - acc: 0.987 - ETA: 1:44 - loss: 0.0363 - acc: 0.987 - ETA: 1:43 - loss: 0.0362 - acc: 0.987 - ETA: 1:42 - loss: 0.0361 - acc: 0.987 - ETA: 1:42 - loss: 0.0362 - acc: 0.987 - ETA: 1:41 - loss: 0.0361 - acc: 0.987 - ETA: 1:40 - loss: 0.0360 - acc: 0.987 - ETA: 1:39 - loss: 0.0359 - acc: 0.987 - ETA: 1:38 - loss: 0.0359 - acc: 0.987 - ETA: 1:37 - loss: 0.0358 - acc: 0.987 - ETA: 1:36 - loss: 0.0357 - acc: 0.987 - ETA: 1:36 - loss: 0.0358 - acc: 0.987 - ETA: 1:35 - loss: 0.0359 - acc: 0.987 - ETA: 1:34 - loss: 0.0357 - acc: 0.987 - ETA: 1:33 - loss: 0.0358 - acc: 0.987 - ETA: 1:32 - loss: 0.0357 - acc: 0.987 - ETA: 1:31 - loss: 0.0356 - acc: 0.987 - ETA: 1:30 - loss: 0.0355 - acc: 0.987 - ETA: 1:30 - loss: 0.0356 - acc: 0.987 - ETA: 1:29 - loss: 0.0356 - acc: 0.987 - ETA: 1:28 - loss: 0.0357 - acc: 0.987 - ETA: 1:27 - loss: 0.0356 - acc: 0.987 - ETA: 1:26 - loss: 0.0357 - acc: 0.987 - ETA: 1:25 - loss: 0.0356 - acc: 0.987 - ETA: 1:24 - loss: 0.0355 - acc: 0.987 - ETA: 1:24 - loss: 0.0363 - acc: 0.987 - ETA: 1:23 - loss: 0.0362 - acc: 0.987 - ETA: 1:22 - loss: 0.0362 - acc: 0.987 - ETA: 1:21 - loss: 0.0366 - acc: 0.987 - ETA: 1:20 - loss: 0.0365 - acc: 0.987 - ETA: 1:19 - loss: 0.0364 - acc: 0.987 - ETA: 1:18 - loss: 0.0364 - acc: 0.987 - ETA: 1:17 - loss: 0.0364 - acc: 0.987 - ETA: 1:17 - loss: 0.0366 - acc: 0.987 - ETA: 1:16 - loss: 0.0365 - acc: 0.987 - ETA: 1:15 - loss: 0.0366 - acc: 0.987 - ETA: 1:14 - loss: 0.0365 - acc: 0.987 - ETA: 1:13 - loss: 0.0372 - acc: 0.986 - ETA: 1:12 - loss: 0.0371 - acc: 0.987 - ETA: 1:11 - loss: 0.0370 - acc: 0.987 - ETA: 1:11 - loss: 0.0368 - acc: 0.987 - ETA: 1:10 - loss: 0.0368 - acc: 0.987 - ETA: 1:09 - loss: 0.0367 - acc: 0.987 - ETA: 1:08 - loss: 0.0370 - acc: 0.986 - ETA: 1:07 - loss: 0.0370 - acc: 0.986 - ETA: 1:06 - loss: 0.0371 - acc: 0.986 - ETA: 1:05 - loss: 0.0370 - acc: 0.986 - ETA: 1:05 - loss: 0.0372 - acc: 0.986 - ETA: 1:04 - loss: 0.0373 - acc: 0.986 - ETA: 1:03 - loss: 0.0373 - acc: 0.986 - ETA: 1:02 - loss: 0.0374 - acc: 0.986 - ETA: 1:01 - loss: 0.0373 - acc: 0.986 - ETA: 1:00 - loss: 0.0377 - acc: 0.986 - ETA: 59s - loss: 0.0376 - acc: 0.986 - ETA: 58s - loss: 0.0375 - acc: 0.98 - ETA: 58s - loss: 0.0375 - acc: 0.98 - ETA: 57s - loss: 0.0374 - acc: 0.98 - ETA: 56s - loss: 0.0373 - acc: 0.98 - ETA: 55s - loss: 0.0372 - acc: 0.98 - ETA: 54s - loss: 0.0371 - acc: 0.98 - ETA: 53s - loss: 0.0370 - acc: 0.98 - ETA: 52s - loss: 0.0371 - acc: 0.98 - ETA: 52s - loss: 0.0371 - acc: 0.98 - ETA: 51s - loss: 0.0371 - acc: 0.98 - ETA: 50s - loss: 0.0370 - acc: 0.98 - ETA: 49s - loss: 0.0369 - acc: 0.98 - ETA: 48s - loss: 0.0368 - acc: 0.98 - ETA: 47s - loss: 0.0367 - acc: 0.98 - ETA: 46s - loss: 0.0368 - acc: 0.98 - ETA: 46s - loss: 0.0368 - acc: 0.98 - ETA: 45s - loss: 0.0369 - acc: 0.98 - ETA: 44s - loss: 0.0369 - acc: 0.98 - ETA: 43s - loss: 0.0369 - acc: 0.98 - ETA: 42s - loss: 0.0370 - acc: 0.98 - ETA: 41s - loss: 0.0370 - acc: 0.98 - ETA: 40s - loss: 0.0371 - acc: 0.98 - ETA: 40s - loss: 0.0372 - acc: 0.98 - ETA: 39s - loss: 0.0373 - acc: 0.98 - ETA: 38s - loss: 0.0372 - acc: 0.98 - ETA: 37s - loss: 0.0372 - acc: 0.98 - ETA: 36s - loss: 0.0375 - acc: 0.98 - ETA: 35s - loss: 0.0375 - acc: 0.98 - ETA: 34s - loss: 0.0375 - acc: 0.98 - ETA: 34s - loss: 0.0374 - acc: 0.98 - ETA: 33s - loss: 0.0374 - acc: 0.98 - ETA: 32s - loss: 0.0373 - acc: 0.98 - ETA: 31s - loss: 0.0373 - acc: 0.98 - ETA: 30s - loss: 0.0373 - acc: 0.98 - ETA: 29s - loss: 0.0374 - acc: 0.98 - ETA: 29s - loss: 0.0373 - acc: 0.98 - ETA: 28s - loss: 0.0375 - acc: 0.98 - ETA: 27s - loss: 0.0374 - acc: 0.98 - ETA: 26s - loss: 0.0373 - acc: 0.98 - ETA: 25s - loss: 0.0372 - acc: 0.98 - ETA: 24s - loss: 0.0371 - acc: 0.98 - ETA: 23s - loss: 0.0371 - acc: 0.98 - ETA: 23s - loss: 0.0370 - acc: 0.98 - ETA: 22s - loss: 0.0370 - acc: 0.98 - ETA: 21s - loss: 0.0372 - acc: 0.98 - ETA: 20s - loss: 0.0371 - acc: 0.98 - ETA: 19s - loss: 0.0371 - acc: 0.98 - ETA: 18s - loss: 0.0372 - acc: 0.98 - ETA: 18s - loss: 0.0373 - acc: 0.98 - ETA: 17s - loss: 0.0375 - acc: 0.98 - ETA: 16s - loss: 0.0375 - acc: 0.98 - ETA: 15s - loss: 0.0374 - acc: 0.98 - ETA: 14s - loss: 0.0374 - acc: 0.98 - ETA: 13s - loss: 0.0373 - acc: 0.98 - ETA: 13s - loss: 0.0372 - acc: 0.98 - ETA: 12s - loss: 0.0373 - acc: 0.98 - ETA: 11s - loss: 0.0372 - acc: 0.98 - ETA: 10s - loss: 0.0372 - acc: 0.98 - ETA: 9s - loss: 0.0373 - acc: 0.9865 - ETA: 8s - loss: 0.0372 - acc: 0.986 - ETA: 8s - loss: 0.0372 - acc: 0.986 - ETA: 7s - loss: 0.0371 - acc: 0.986 - ETA: 6s - loss: 0.0372 - acc: 0.986 - ETA: 5s - loss: 0.0371 - acc: 0.986 - ETA: 4s - loss: 0.0371 - acc: 0.986 - ETA: 3s - loss: 0.0375 - acc: 0.986 - ETA: 3s - loss: 0.0377 - acc: 0.986 - ETA: 2s - loss: 0.0376 - acc: 0.986 - ETA: 1s - loss: 0.0380 - acc: 0.986 - ETA: 0s - loss: 0.0383 - acc: 0.986 - 336s 26ms/step - loss: 0.0386 - acc: 0.9859 - val_loss: 4.8679 - val_acc: 0.3903\n",
      "Epoch 19/20\n"
     ]
    },
    {
     "name": "stdout",
     "output_type": "stream",
     "text": [
      " 6528/12793 [==============>...............] - ETA: 5:17 - loss: 0.0710 - acc: 0.968 - ETA: 5:51 - loss: 0.0365 - acc: 0.984 - ETA: 5:12 - loss: 0.0251 - acc: 0.989 - ETA: 4:53 - loss: 0.0342 - acc: 0.984 - ETA: 4:55 - loss: 0.0401 - acc: 0.981 - ETA: 5:11 - loss: 0.0375 - acc: 0.984 - ETA: 5:01 - loss: 0.0407 - acc: 0.982 - ETA: 4:51 - loss: 0.0359 - acc: 0.984 - ETA: 4:42 - loss: 0.0348 - acc: 0.986 - ETA: 4:52 - loss: 0.0321 - acc: 0.987 - ETA: 4:55 - loss: 0.0307 - acc: 0.988 - ETA: 4:48 - loss: 0.0282 - acc: 0.989 - ETA: 4:43 - loss: 0.0290 - acc: 0.988 - ETA: 4:48 - loss: 0.0271 - acc: 0.988 - ETA: 4:50 - loss: 0.0258 - acc: 0.989 - ETA: 4:45 - loss: 0.0317 - acc: 0.988 - ETA: 4:42 - loss: 0.0305 - acc: 0.989 - ETA: 4:47 - loss: 0.0352 - acc: 0.986 - ETA: 4:49 - loss: 0.0336 - acc: 0.986 - ETA: 4:45 - loss: 0.0466 - acc: 0.985 - ETA: 4:44 - loss: 0.0474 - acc: 0.983 - ETA: 4:49 - loss: 0.0456 - acc: 0.984 - ETA: 4:47 - loss: 0.0470 - acc: 0.983 - ETA: 4:43 - loss: 0.0456 - acc: 0.984 - ETA: 4:40 - loss: 0.0441 - acc: 0.985 - ETA: 4:43 - loss: 0.0504 - acc: 0.982 - ETA: 4:43 - loss: 0.0502 - acc: 0.981 - ETA: 4:40 - loss: 0.0484 - acc: 0.982 - ETA: 4:37 - loss: 0.0470 - acc: 0.982 - ETA: 4:39 - loss: 0.0455 - acc: 0.983 - ETA: 4:40 - loss: 0.0450 - acc: 0.982 - ETA: 4:37 - loss: 0.0440 - acc: 0.983 - ETA: 4:34 - loss: 0.0441 - acc: 0.983 - ETA: 4:36 - loss: 0.0450 - acc: 0.982 - ETA: 4:36 - loss: 0.0439 - acc: 0.983 - ETA: 4:34 - loss: 0.0428 - acc: 0.983 - ETA: 4:32 - loss: 0.0419 - acc: 0.984 - ETA: 4:34 - loss: 0.0422 - acc: 0.983 - ETA: 4:34 - loss: 0.0428 - acc: 0.983 - ETA: 4:32 - loss: 0.0423 - acc: 0.983 - ETA: 4:29 - loss: 0.0436 - acc: 0.983 - ETA: 4:31 - loss: 0.0426 - acc: 0.983 - ETA: 4:31 - loss: 0.0418 - acc: 0.984 - ETA: 4:28 - loss: 0.0409 - acc: 0.984 - ETA: 4:26 - loss: 0.0415 - acc: 0.984 - ETA: 4:28 - loss: 0.0407 - acc: 0.984 - ETA: 4:28 - loss: 0.0399 - acc: 0.984 - ETA: 4:26 - loss: 0.0391 - acc: 0.985 - ETA: 4:24 - loss: 0.0383 - acc: 0.985 - ETA: 4:24 - loss: 0.0381 - acc: 0.985 - ETA: 4:25 - loss: 0.0375 - acc: 0.985 - ETA: 4:23 - loss: 0.0370 - acc: 0.986 - ETA: 4:21 - loss: 0.0365 - acc: 0.986 - ETA: 4:22 - loss: 0.0362 - acc: 0.986 - ETA: 4:22 - loss: 0.0363 - acc: 0.986 - ETA: 4:20 - loss: 0.0372 - acc: 0.986 - ETA: 4:18 - loss: 0.0365 - acc: 0.986 - ETA: 4:19 - loss: 0.0375 - acc: 0.985 - ETA: 4:18 - loss: 0.0369 - acc: 0.985 - ETA: 4:17 - loss: 0.0365 - acc: 0.985 - ETA: 4:15 - loss: 0.0360 - acc: 0.986 - ETA: 4:15 - loss: 0.0360 - acc: 0.985 - ETA: 4:15 - loss: 0.0356 - acc: 0.986 - ETA: 4:14 - loss: 0.0354 - acc: 0.986 - ETA: 4:13 - loss: 0.0359 - acc: 0.986 - ETA: 4:14 - loss: 0.0354 - acc: 0.986 - ETA: 4:13 - loss: 0.0350 - acc: 0.986 - ETA: 4:12 - loss: 0.0353 - acc: 0.986 - ETA: 4:11 - loss: 0.0349 - acc: 0.986 - ETA: 4:11 - loss: 0.0345 - acc: 0.986 - ETA: 4:10 - loss: 0.0347 - acc: 0.986 - ETA: 4:08 - loss: 0.0342 - acc: 0.986 - ETA: 4:08 - loss: 0.0340 - acc: 0.986 - ETA: 4:09 - loss: 0.0336 - acc: 0.986 - ETA: 4:07 - loss: 0.0334 - acc: 0.987 - ETA: 4:06 - loss: 0.0332 - acc: 0.987 - ETA: 4:06 - loss: 0.0339 - acc: 0.987 - ETA: 4:07 - loss: 0.0336 - acc: 0.987 - ETA: 4:05 - loss: 0.0345 - acc: 0.986 - ETA: 4:04 - loss: 0.0341 - acc: 0.987 - ETA: 4:04 - loss: 0.0337 - acc: 0.987 - ETA: 4:04 - loss: 0.0335 - acc: 0.987 - ETA: 4:03 - loss: 0.0332 - acc: 0.987 - ETA: 4:02 - loss: 0.0333 - acc: 0.987 - ETA: 4:02 - loss: 0.0329 - acc: 0.987 - ETA: 4:01 - loss: 0.0331 - acc: 0.987 - ETA: 4:00 - loss: 0.0329 - acc: 0.987 - ETA: 3:59 - loss: 0.0326 - acc: 0.987 - ETA: 3:59 - loss: 0.0322 - acc: 0.988 - ETA: 3:58 - loss: 0.0321 - acc: 0.987 - ETA: 3:57 - loss: 0.0324 - acc: 0.987 - ETA: 3:57 - loss: 0.0321 - acc: 0.987 - ETA: 3:57 - loss: 0.0318 - acc: 0.987 - ETA: 3:56 - loss: 0.0315 - acc: 0.988 - ETA: 3:55 - loss: 0.0314 - acc: 0.987 - ETA: 3:55 - loss: 0.0312 - acc: 0.988 - ETA: 3:54 - loss: 0.0309 - acc: 0.988 - ETA: 3:53 - loss: 0.0307 - acc: 0.988 - ETA: 3:52 - loss: 0.0304 - acc: 0.988 - ETA: 3:52 - loss: 0.0301 - acc: 0.988 - ETA: 3:51 - loss: 0.0298 - acc: 0.988 - ETA: 3:50 - loss: 0.0295 - acc: 0.988 - ETA: 3:49 - loss: 0.0293 - acc: 0.988 - ETA: 3:49 - loss: 0.0290 - acc: 0.988 - ETA: 3:48 - loss: 0.0289 - acc: 0.989 - ETA: 3:47 - loss: 0.0287 - acc: 0.989 - ETA: 3:46 - loss: 0.0292 - acc: 0.988 - ETA: 3:47 - loss: 0.0289 - acc: 0.989 - ETA: 3:46 - loss: 0.0288 - acc: 0.989 - ETA: 3:45 - loss: 0.0285 - acc: 0.989 - ETA: 3:44 - loss: 0.0288 - acc: 0.989 - ETA: 3:44 - loss: 0.0306 - acc: 0.988 - ETA: 3:43 - loss: 0.0309 - acc: 0.988 - ETA: 3:41 - loss: 0.0313 - acc: 0.988 - ETA: 3:41 - loss: 0.0310 - acc: 0.988 - ETA: 3:41 - loss: 0.0324 - acc: 0.988 - ETA: 3:39 - loss: 0.0321 - acc: 0.988 - ETA: 3:38 - loss: 0.0319 - acc: 0.988 - ETA: 3:38 - loss: 0.0318 - acc: 0.988 - ETA: 3:37 - loss: 0.0317 - acc: 0.988 - ETA: 3:36 - loss: 0.0328 - acc: 0.988 - ETA: 3:36 - loss: 0.0325 - acc: 0.988 - ETA: 3:36 - loss: 0.0323 - acc: 0.988 - ETA: 3:36 - loss: 0.0321 - acc: 0.988 - ETA: 3:35 - loss: 0.0319 - acc: 0.988 - ETA: 3:35 - loss: 0.0317 - acc: 0.988 - ETA: 3:34 - loss: 0.0314 - acc: 0.988 - ETA: 3:33 - loss: 0.0313 - acc: 0.989 - ETA: 3:33 - loss: 0.0311 - acc: 0.989 - ETA: 3:32 - loss: 0.0315 - acc: 0.988 - ETA: 3:31 - loss: 0.0315 - acc: 0.988 - ETA: 3:30 - loss: 0.0314 - acc: 0.988 - ETA: 3:30 - loss: 0.0314 - acc: 0.988 - ETA: 3:29 - loss: 0.0313 - acc: 0.988 - ETA: 3:28 - loss: 0.0315 - acc: 0.988 - ETA: 3:27 - loss: 0.0313 - acc: 0.988 - ETA: 3:26 - loss: 0.0311 - acc: 0.988 - ETA: 3:25 - loss: 0.0311 - acc: 0.988 - ETA: 3:24 - loss: 0.0310 - acc: 0.988 - ETA: 3:23 - loss: 0.0310 - acc: 0.988 - ETA: 3:23 - loss: 0.0311 - acc: 0.988 - ETA: 3:22 - loss: 0.0310 - acc: 0.988 - ETA: 3:21 - loss: 0.0308 - acc: 0.988 - ETA: 3:20 - loss: 0.0306 - acc: 0.988 - ETA: 3:19 - loss: 0.0304 - acc: 0.989 - ETA: 3:19 - loss: 0.0302 - acc: 0.989 - ETA: 3:18 - loss: 0.0303 - acc: 0.989 - ETA: 3:17 - loss: 0.0306 - acc: 0.989 - ETA: 3:17 - loss: 0.0308 - acc: 0.988 - ETA: 3:16 - loss: 0.0306 - acc: 0.989 - ETA: 3:15 - loss: 0.0304 - acc: 0.989 - ETA: 3:14 - loss: 0.0302 - acc: 0.989 - ETA: 3:14 - loss: 0.0306 - acc: 0.989 - ETA: 3:13 - loss: 0.0305 - acc: 0.989 - ETA: 3:12 - loss: 0.0303 - acc: 0.989 - ETA: 3:11 - loss: 0.0302 - acc: 0.989 - ETA: 3:10 - loss: 0.0301 - acc: 0.989 - ETA: 3:09 - loss: 0.0304 - acc: 0.989 - ETA: 3:08 - loss: 0.0303 - acc: 0.989 - ETA: 3:07 - loss: 0.0301 - acc: 0.989 - ETA: 3:07 - loss: 0.0299 - acc: 0.989 - ETA: 3:06 - loss: 0.0297 - acc: 0.989 - ETA: 3:05 - loss: 0.0296 - acc: 0.989 - ETA: 3:05 - loss: 0.0295 - acc: 0.989 - ETA: 3:04 - loss: 0.0294 - acc: 0.989 - ETA: 3:03 - loss: 0.0292 - acc: 0.989 - ETA: 3:02 - loss: 0.0295 - acc: 0.989 - ETA: 3:02 - loss: 0.0293 - acc: 0.989 - ETA: 3:01 - loss: 0.0294 - acc: 0.989 - ETA: 3:00 - loss: 0.0292 - acc: 0.989 - ETA: 3:00 - loss: 0.0293 - acc: 0.989 - ETA: 2:59 - loss: 0.0292 - acc: 0.989 - ETA: 2:58 - loss: 0.0292 - acc: 0.989 - ETA: 2:57 - loss: 0.0296 - acc: 0.989 - ETA: 2:56 - loss: 0.0294 - acc: 0.989 - ETA: 2:56 - loss: 0.0293 - acc: 0.989 - ETA: 2:55 - loss: 0.0291 - acc: 0.989 - ETA: 2:55 - loss: 0.0290 - acc: 0.989 - ETA: 2:54 - loss: 0.0288 - acc: 0.989 - ETA: 2:53 - loss: 0.0289 - acc: 0.989 - ETA: 2:52 - loss: 0.0289 - acc: 0.989 - ETA: 2:52 - loss: 0.0288 - acc: 0.989 - ETA: 2:51 - loss: 0.0289 - acc: 0.989 - ETA: 2:50 - loss: 0.0289 - acc: 0.989 - ETA: 2:50 - loss: 0.0288 - acc: 0.989 - ETA: 2:49 - loss: 0.0286 - acc: 0.989 - ETA: 2:47 - loss: 0.0286 - acc: 0.989 - ETA: 2:47 - loss: 0.0284 - acc: 0.989 - ETA: 2:46 - loss: 0.0283 - acc: 0.989 - ETA: 2:45 - loss: 0.0284 - acc: 0.989 - ETA: 2:44 - loss: 0.0283 - acc: 0.989 - ETA: 2:44 - loss: 0.0283 - acc: 0.989 - ETA: 2:43 - loss: 0.0281 - acc: 0.989 - ETA: 2:42 - loss: 0.0285 - acc: 0.989 - ETA: 2:41 - loss: 0.0286 - acc: 0.989 - ETA: 2:41 - loss: 0.0286 - acc: 0.989 - ETA: 2:40 - loss: 0.0290 - acc: 0.989 - ETA: 2:39 - loss: 0.0289 - acc: 0.989 - ETA: 2:38 - loss: 0.0291 - acc: 0.989 - ETA: 2:37 - loss: 0.0297 - acc: 0.989 - ETA: 2:37 - loss: 0.0296 - acc: 0.989 - ETA: 2:36 - loss: 0.0295 - acc: 0.989 - ETA: 2:36 - loss: 0.0295 - acc: 0.989 - ETA: 2:35 - loss: 0.0294 - acc: 0.9893"
     ]
    },
    {
     "name": "stdout",
     "output_type": "stream",
     "text": [
      "12793/12793 [==============================] - ETA: 2:34 - loss: 0.0294 - acc: 0.989 - ETA: 2:33 - loss: 0.0293 - acc: 0.989 - ETA: 2:33 - loss: 0.0296 - acc: 0.989 - ETA: 2:32 - loss: 0.0300 - acc: 0.989 - ETA: 2:31 - loss: 0.0299 - acc: 0.989 - ETA: 2:31 - loss: 0.0299 - acc: 0.989 - ETA: 2:30 - loss: 0.0301 - acc: 0.989 - ETA: 2:29 - loss: 0.0300 - acc: 0.989 - ETA: 2:29 - loss: 0.0299 - acc: 0.989 - ETA: 2:28 - loss: 0.0299 - acc: 0.989 - ETA: 2:27 - loss: 0.0306 - acc: 0.988 - ETA: 2:26 - loss: 0.0305 - acc: 0.988 - ETA: 2:26 - loss: 0.0308 - acc: 0.988 - ETA: 2:25 - loss: 0.0308 - acc: 0.988 - ETA: 2:24 - loss: 0.0308 - acc: 0.988 - ETA: 2:23 - loss: 0.0306 - acc: 0.988 - ETA: 2:22 - loss: 0.0305 - acc: 0.988 - ETA: 2:21 - loss: 0.0304 - acc: 0.988 - ETA: 2:20 - loss: 0.0308 - acc: 0.988 - ETA: 2:20 - loss: 0.0307 - acc: 0.988 - ETA: 2:19 - loss: 0.0305 - acc: 0.988 - ETA: 2:18 - loss: 0.0305 - acc: 0.988 - ETA: 2:17 - loss: 0.0303 - acc: 0.989 - ETA: 2:16 - loss: 0.0303 - acc: 0.989 - ETA: 2:16 - loss: 0.0302 - acc: 0.989 - ETA: 2:15 - loss: 0.0301 - acc: 0.989 - ETA: 2:14 - loss: 0.0300 - acc: 0.989 - ETA: 2:13 - loss: 0.0302 - acc: 0.989 - ETA: 2:13 - loss: 0.0301 - acc: 0.989 - ETA: 2:12 - loss: 0.0302 - acc: 0.989 - ETA: 2:11 - loss: 0.0301 - acc: 0.989 - ETA: 2:10 - loss: 0.0301 - acc: 0.989 - ETA: 2:09 - loss: 0.0302 - acc: 0.988 - ETA: 2:08 - loss: 0.0302 - acc: 0.988 - ETA: 2:07 - loss: 0.0301 - acc: 0.988 - ETA: 2:07 - loss: 0.0301 - acc: 0.988 - ETA: 2:06 - loss: 0.0300 - acc: 0.988 - ETA: 2:05 - loss: 0.0301 - acc: 0.988 - ETA: 2:04 - loss: 0.0300 - acc: 0.988 - ETA: 2:03 - loss: 0.0302 - acc: 0.988 - ETA: 2:03 - loss: 0.0301 - acc: 0.988 - ETA: 2:02 - loss: 0.0305 - acc: 0.988 - ETA: 2:01 - loss: 0.0303 - acc: 0.988 - ETA: 2:00 - loss: 0.0303 - acc: 0.988 - ETA: 1:59 - loss: 0.0302 - acc: 0.988 - ETA: 1:58 - loss: 0.0302 - acc: 0.988 - ETA: 1:57 - loss: 0.0301 - acc: 0.988 - ETA: 1:57 - loss: 0.0302 - acc: 0.988 - ETA: 1:56 - loss: 0.0301 - acc: 0.988 - ETA: 1:55 - loss: 0.0305 - acc: 0.988 - ETA: 1:54 - loss: 0.0304 - acc: 0.988 - ETA: 1:53 - loss: 0.0303 - acc: 0.988 - ETA: 1:53 - loss: 0.0305 - acc: 0.988 - ETA: 1:52 - loss: 0.0305 - acc: 0.988 - ETA: 1:51 - loss: 0.0304 - acc: 0.988 - ETA: 1:50 - loss: 0.0303 - acc: 0.988 - ETA: 1:49 - loss: 0.0304 - acc: 0.988 - ETA: 1:49 - loss: 0.0304 - acc: 0.988 - ETA: 1:48 - loss: 0.0307 - acc: 0.988 - ETA: 1:47 - loss: 0.0306 - acc: 0.988 - ETA: 1:46 - loss: 0.0305 - acc: 0.988 - ETA: 1:45 - loss: 0.0304 - acc: 0.988 - ETA: 1:44 - loss: 0.0303 - acc: 0.988 - ETA: 1:44 - loss: 0.0303 - acc: 0.988 - ETA: 1:43 - loss: 0.0304 - acc: 0.988 - ETA: 1:42 - loss: 0.0306 - acc: 0.988 - ETA: 1:41 - loss: 0.0307 - acc: 0.988 - ETA: 1:40 - loss: 0.0306 - acc: 0.988 - ETA: 1:40 - loss: 0.0305 - acc: 0.988 - ETA: 1:39 - loss: 0.0304 - acc: 0.988 - ETA: 1:38 - loss: 0.0304 - acc: 0.988 - ETA: 1:37 - loss: 0.0303 - acc: 0.988 - ETA: 1:36 - loss: 0.0302 - acc: 0.988 - ETA: 1:36 - loss: 0.0302 - acc: 0.988 - ETA: 1:35 - loss: 0.0303 - acc: 0.988 - ETA: 1:34 - loss: 0.0304 - acc: 0.988 - ETA: 1:33 - loss: 0.0303 - acc: 0.988 - ETA: 1:33 - loss: 0.0304 - acc: 0.988 - ETA: 1:32 - loss: 0.0304 - acc: 0.988 - ETA: 1:31 - loss: 0.0302 - acc: 0.988 - ETA: 1:30 - loss: 0.0302 - acc: 0.988 - ETA: 1:30 - loss: 0.0302 - acc: 0.988 - ETA: 1:29 - loss: 0.0306 - acc: 0.988 - ETA: 1:28 - loss: 0.0305 - acc: 0.988 - ETA: 1:27 - loss: 0.0307 - acc: 0.988 - ETA: 1:26 - loss: 0.0307 - acc: 0.988 - ETA: 1:26 - loss: 0.0306 - acc: 0.988 - ETA: 1:25 - loss: 0.0306 - acc: 0.988 - ETA: 1:24 - loss: 0.0307 - acc: 0.988 - ETA: 1:23 - loss: 0.0306 - acc: 0.988 - ETA: 1:22 - loss: 0.0309 - acc: 0.988 - ETA: 1:22 - loss: 0.0309 - acc: 0.988 - ETA: 1:21 - loss: 0.0309 - acc: 0.988 - ETA: 1:20 - loss: 0.0308 - acc: 0.988 - ETA: 1:19 - loss: 0.0307 - acc: 0.988 - ETA: 1:18 - loss: 0.0306 - acc: 0.988 - ETA: 1:18 - loss: 0.0305 - acc: 0.988 - ETA: 1:17 - loss: 0.0305 - acc: 0.988 - ETA: 1:16 - loss: 0.0304 - acc: 0.988 - ETA: 1:15 - loss: 0.0304 - acc: 0.988 - ETA: 1:15 - loss: 0.0305 - acc: 0.988 - ETA: 1:14 - loss: 0.0304 - acc: 0.988 - ETA: 1:13 - loss: 0.0303 - acc: 0.988 - ETA: 1:12 - loss: 0.0302 - acc: 0.988 - ETA: 1:11 - loss: 0.0301 - acc: 0.988 - ETA: 1:10 - loss: 0.0301 - acc: 0.988 - ETA: 1:10 - loss: 0.0302 - acc: 0.988 - ETA: 1:09 - loss: 0.0301 - acc: 0.988 - ETA: 1:08 - loss: 0.0300 - acc: 0.988 - ETA: 1:07 - loss: 0.0299 - acc: 0.988 - ETA: 1:07 - loss: 0.0298 - acc: 0.988 - ETA: 1:06 - loss: 0.0298 - acc: 0.988 - ETA: 1:05 - loss: 0.0300 - acc: 0.988 - ETA: 1:04 - loss: 0.0301 - acc: 0.988 - ETA: 1:03 - loss: 0.0300 - acc: 0.988 - ETA: 1:03 - loss: 0.0303 - acc: 0.988 - ETA: 1:02 - loss: 0.0302 - acc: 0.988 - ETA: 1:01 - loss: 0.0301 - acc: 0.988 - ETA: 1:00 - loss: 0.0303 - acc: 0.988 - ETA: 59s - loss: 0.0302 - acc: 0.988 - ETA: 59s - loss: 0.0304 - acc: 0.98 - ETA: 58s - loss: 0.0303 - acc: 0.98 - ETA: 57s - loss: 0.0303 - acc: 0.98 - ETA: 56s - loss: 0.0302 - acc: 0.98 - ETA: 56s - loss: 0.0303 - acc: 0.98 - ETA: 55s - loss: 0.0302 - acc: 0.98 - ETA: 54s - loss: 0.0302 - acc: 0.98 - ETA: 53s - loss: 0.0301 - acc: 0.98 - ETA: 52s - loss: 0.0302 - acc: 0.98 - ETA: 52s - loss: 0.0304 - acc: 0.98 - ETA: 51s - loss: 0.0305 - acc: 0.98 - ETA: 50s - loss: 0.0305 - acc: 0.98 - ETA: 49s - loss: 0.0304 - acc: 0.98 - ETA: 49s - loss: 0.0304 - acc: 0.98 - ETA: 48s - loss: 0.0303 - acc: 0.98 - ETA: 47s - loss: 0.0302 - acc: 0.98 - ETA: 46s - loss: 0.0301 - acc: 0.98 - ETA: 46s - loss: 0.0301 - acc: 0.98 - ETA: 45s - loss: 0.0300 - acc: 0.98 - ETA: 44s - loss: 0.0300 - acc: 0.98 - ETA: 43s - loss: 0.0299 - acc: 0.98 - ETA: 42s - loss: 0.0301 - acc: 0.98 - ETA: 42s - loss: 0.0301 - acc: 0.98 - ETA: 41s - loss: 0.0300 - acc: 0.98 - ETA: 40s - loss: 0.0300 - acc: 0.98 - ETA: 39s - loss: 0.0300 - acc: 0.98 - ETA: 38s - loss: 0.0300 - acc: 0.98 - ETA: 38s - loss: 0.0301 - acc: 0.98 - ETA: 37s - loss: 0.0300 - acc: 0.98 - ETA: 36s - loss: 0.0300 - acc: 0.98 - ETA: 35s - loss: 0.0299 - acc: 0.98 - ETA: 34s - loss: 0.0300 - acc: 0.98 - ETA: 34s - loss: 0.0309 - acc: 0.98 - ETA: 33s - loss: 0.0308 - acc: 0.98 - ETA: 32s - loss: 0.0308 - acc: 0.98 - ETA: 31s - loss: 0.0308 - acc: 0.98 - ETA: 30s - loss: 0.0307 - acc: 0.98 - ETA: 30s - loss: 0.0308 - acc: 0.98 - ETA: 29s - loss: 0.0307 - acc: 0.98 - ETA: 28s - loss: 0.0307 - acc: 0.98 - ETA: 27s - loss: 0.0309 - acc: 0.98 - ETA: 26s - loss: 0.0309 - acc: 0.98 - ETA: 26s - loss: 0.0309 - acc: 0.98 - ETA: 25s - loss: 0.0308 - acc: 0.98 - ETA: 24s - loss: 0.0310 - acc: 0.98 - ETA: 23s - loss: 0.0309 - acc: 0.98 - ETA: 23s - loss: 0.0310 - acc: 0.98 - ETA: 22s - loss: 0.0311 - acc: 0.98 - ETA: 21s - loss: 0.0311 - acc: 0.98 - ETA: 20s - loss: 0.0310 - acc: 0.98 - ETA: 19s - loss: 0.0310 - acc: 0.98 - ETA: 19s - loss: 0.0309 - acc: 0.98 - ETA: 18s - loss: 0.0308 - acc: 0.98 - ETA: 17s - loss: 0.0308 - acc: 0.98 - ETA: 16s - loss: 0.0307 - acc: 0.98 - ETA: 15s - loss: 0.0307 - acc: 0.98 - ETA: 15s - loss: 0.0311 - acc: 0.98 - ETA: 14s - loss: 0.0311 - acc: 0.98 - ETA: 13s - loss: 0.0313 - acc: 0.98 - ETA: 12s - loss: 0.0312 - acc: 0.98 - ETA: 11s - loss: 0.0311 - acc: 0.98 - ETA: 11s - loss: 0.0311 - acc: 0.98 - ETA: 10s - loss: 0.0310 - acc: 0.98 - ETA: 9s - loss: 0.0316 - acc: 0.9883 - ETA: 8s - loss: 0.0321 - acc: 0.988 - ETA: 7s - loss: 0.0323 - acc: 0.988 - ETA: 7s - loss: 0.0323 - acc: 0.988 - ETA: 6s - loss: 0.0322 - acc: 0.988 - ETA: 5s - loss: 0.0322 - acc: 0.988 - ETA: 4s - loss: 0.0321 - acc: 0.988 - ETA: 3s - loss: 0.0321 - acc: 0.988 - ETA: 3s - loss: 0.0322 - acc: 0.988 - ETA: 2s - loss: 0.0325 - acc: 0.988 - ETA: 1s - loss: 0.0324 - acc: 0.988 - ETA: 0s - loss: 0.0324 - acc: 0.988 - 329s 26ms/step - loss: 0.0325 - acc: 0.9881 - val_loss: 4.5709 - val_acc: 0.4205\n",
      "Epoch 20/20\n"
     ]
    },
    {
     "name": "stdout",
     "output_type": "stream",
     "text": [
      " 6528/12793 [==============>...............] - ETA: 7:23 - loss: 0.0022 - acc: 1.000 - ETA: 5:42 - loss: 0.0014 - acc: 1.000 - ETA: 5:16 - loss: 0.0026 - acc: 1.000 - ETA: 5:41 - loss: 0.0020 - acc: 1.000 - ETA: 5:45 - loss: 0.0018 - acc: 1.000 - ETA: 5:28 - loss: 0.0017 - acc: 1.000 - ETA: 5:15 - loss: 0.0016 - acc: 1.000 - ETA: 5:26 - loss: 0.0025 - acc: 1.000 - ETA: 5:29 - loss: 0.0036 - acc: 1.000 - ETA: 5:18 - loss: 0.0061 - acc: 1.000 - ETA: 5:13 - loss: 0.0116 - acc: 0.997 - ETA: 5:23 - loss: 0.0186 - acc: 0.994 - ETA: 5:18 - loss: 0.0184 - acc: 0.995 - ETA: 5:14 - loss: 0.0171 - acc: 0.995 - ETA: 5:18 - loss: 0.0162 - acc: 0.995 - ETA: 5:23 - loss: 0.0152 - acc: 0.996 - ETA: 5:19 - loss: 0.0143 - acc: 0.996 - ETA: 5:15 - loss: 0.0188 - acc: 0.994 - ETA: 5:20 - loss: 0.0179 - acc: 0.995 - ETA: 5:18 - loss: 0.0252 - acc: 0.993 - ETA: 5:13 - loss: 0.0240 - acc: 0.994 - ETA: 5:13 - loss: 0.0259 - acc: 0.991 - ETA: 5:15 - loss: 0.0277 - acc: 0.990 - ETA: 5:11 - loss: 0.0270 - acc: 0.990 - ETA: 5:08 - loss: 0.0260 - acc: 0.991 - ETA: 5:07 - loss: 0.0275 - acc: 0.990 - ETA: 5:10 - loss: 0.0265 - acc: 0.990 - ETA: 5:06 - loss: 0.0257 - acc: 0.991 - ETA: 5:03 - loss: 0.0272 - acc: 0.990 - ETA: 5:05 - loss: 0.0263 - acc: 0.990 - ETA: 5:05 - loss: 0.0257 - acc: 0.990 - ETA: 5:02 - loss: 0.0249 - acc: 0.991 - ETA: 5:00 - loss: 0.0318 - acc: 0.989 - ETA: 5:02 - loss: 0.0311 - acc: 0.989 - ETA: 5:01 - loss: 0.0305 - acc: 0.990 - ETA: 4:58 - loss: 0.0328 - acc: 0.989 - ETA: 4:57 - loss: 0.0319 - acc: 0.989 - ETA: 4:59 - loss: 0.0314 - acc: 0.990 - ETA: 4:57 - loss: 0.0370 - acc: 0.988 - ETA: 4:54 - loss: 0.0381 - acc: 0.988 - ETA: 4:55 - loss: 0.0395 - acc: 0.987 - ETA: 4:56 - loss: 0.0419 - acc: 0.987 - ETA: 4:53 - loss: 0.0411 - acc: 0.987 - ETA: 4:51 - loss: 0.0402 - acc: 0.987 - ETA: 4:52 - loss: 0.0394 - acc: 0.988 - ETA: 4:52 - loss: 0.0391 - acc: 0.988 - ETA: 4:49 - loss: 0.0403 - acc: 0.987 - ETA: 4:48 - loss: 0.0398 - acc: 0.987 - ETA: 4:49 - loss: 0.0394 - acc: 0.987 - ETA: 4:48 - loss: 0.0389 - acc: 0.988 - ETA: 4:46 - loss: 0.0381 - acc: 0.988 - ETA: 4:45 - loss: 0.0376 - acc: 0.988 - ETA: 4:46 - loss: 0.0390 - acc: 0.988 - ETA: 4:44 - loss: 0.0389 - acc: 0.988 - ETA: 4:42 - loss: 0.0383 - acc: 0.988 - ETA: 4:42 - loss: 0.0378 - acc: 0.988 - ETA: 4:42 - loss: 0.0389 - acc: 0.988 - ETA: 4:40 - loss: 0.0382 - acc: 0.988 - ETA: 4:39 - loss: 0.0377 - acc: 0.988 - ETA: 4:40 - loss: 0.0371 - acc: 0.989 - ETA: 4:38 - loss: 0.0367 - acc: 0.989 - ETA: 4:36 - loss: 0.0361 - acc: 0.989 - ETA: 4:35 - loss: 0.0369 - acc: 0.989 - ETA: 4:36 - loss: 0.0367 - acc: 0.989 - ETA: 4:34 - loss: 0.0363 - acc: 0.989 - ETA: 4:32 - loss: 0.0358 - acc: 0.989 - ETA: 4:32 - loss: 0.0353 - acc: 0.989 - ETA: 4:32 - loss: 0.0348 - acc: 0.989 - ETA: 4:31 - loss: 0.0353 - acc: 0.989 - ETA: 4:29 - loss: 0.0357 - acc: 0.989 - ETA: 4:29 - loss: 0.0352 - acc: 0.989 - ETA: 4:29 - loss: 0.0348 - acc: 0.989 - ETA: 4:27 - loss: 0.0344 - acc: 0.989 - ETA: 4:26 - loss: 0.0341 - acc: 0.989 - ETA: 4:26 - loss: 0.0338 - acc: 0.990 - ETA: 4:25 - loss: 0.0335 - acc: 0.990 - ETA: 4:24 - loss: 0.0332 - acc: 0.990 - ETA: 4:23 - loss: 0.0329 - acc: 0.990 - ETA: 4:24 - loss: 0.0329 - acc: 0.990 - ETA: 4:22 - loss: 0.0325 - acc: 0.990 - ETA: 4:21 - loss: 0.0321 - acc: 0.990 - ETA: 4:21 - loss: 0.0318 - acc: 0.990 - ETA: 4:21 - loss: 0.0314 - acc: 0.991 - ETA: 4:19 - loss: 0.0311 - acc: 0.991 - ETA: 4:18 - loss: 0.0308 - acc: 0.991 - ETA: 4:19 - loss: 0.0306 - acc: 0.991 - ETA: 4:17 - loss: 0.0304 - acc: 0.991 - ETA: 4:16 - loss: 0.0301 - acc: 0.991 - ETA: 4:15 - loss: 0.0303 - acc: 0.991 - ETA: 4:15 - loss: 0.0300 - acc: 0.991 - ETA: 4:14 - loss: 0.0296 - acc: 0.991 - ETA: 4:12 - loss: 0.0297 - acc: 0.991 - ETA: 4:12 - loss: 0.0298 - acc: 0.991 - ETA: 4:12 - loss: 0.0295 - acc: 0.991 - ETA: 4:10 - loss: 0.0293 - acc: 0.991 - ETA: 4:10 - loss: 0.0290 - acc: 0.991 - ETA: 4:10 - loss: 0.0290 - acc: 0.991 - ETA: 4:09 - loss: 0.0289 - acc: 0.991 - ETA: 4:07 - loss: 0.0288 - acc: 0.991 - ETA: 4:08 - loss: 0.0286 - acc: 0.991 - ETA: 4:07 - loss: 0.0285 - acc: 0.991 - ETA: 4:05 - loss: 0.0284 - acc: 0.991 - ETA: 4:05 - loss: 0.0281 - acc: 0.991 - ETA: 4:05 - loss: 0.0307 - acc: 0.991 - ETA: 4:03 - loss: 0.0304 - acc: 0.991 - ETA: 4:02 - loss: 0.0310 - acc: 0.991 - ETA: 4:03 - loss: 0.0313 - acc: 0.990 - ETA: 4:02 - loss: 0.0310 - acc: 0.991 - ETA: 4:01 - loss: 0.0308 - acc: 0.991 - ETA: 4:00 - loss: 0.0307 - acc: 0.991 - ETA: 4:00 - loss: 0.0304 - acc: 0.991 - ETA: 3:59 - loss: 0.0302 - acc: 0.991 - ETA: 3:59 - loss: 0.0301 - acc: 0.991 - ETA: 3:59 - loss: 0.0299 - acc: 0.991 - ETA: 3:57 - loss: 0.0298 - acc: 0.991 - ETA: 3:56 - loss: 0.0297 - acc: 0.991 - ETA: 3:56 - loss: 0.0315 - acc: 0.991 - ETA: 3:55 - loss: 0.0313 - acc: 0.991 - ETA: 3:54 - loss: 0.0311 - acc: 0.991 - ETA: 3:53 - loss: 0.0327 - acc: 0.990 - ETA: 3:53 - loss: 0.0325 - acc: 0.990 - ETA: 3:51 - loss: 0.0324 - acc: 0.990 - ETA: 3:50 - loss: 0.0327 - acc: 0.990 - ETA: 3:50 - loss: 0.0325 - acc: 0.990 - ETA: 3:50 - loss: 0.0324 - acc: 0.990 - ETA: 3:49 - loss: 0.0322 - acc: 0.990 - ETA: 3:48 - loss: 0.0325 - acc: 0.990 - ETA: 3:48 - loss: 0.0324 - acc: 0.990 - ETA: 3:47 - loss: 0.0333 - acc: 0.990 - ETA: 3:45 - loss: 0.0331 - acc: 0.990 - ETA: 3:45 - loss: 0.0334 - acc: 0.990 - ETA: 3:44 - loss: 0.0333 - acc: 0.990 - ETA: 3:43 - loss: 0.0330 - acc: 0.990 - ETA: 3:42 - loss: 0.0331 - acc: 0.990 - ETA: 3:42 - loss: 0.0331 - acc: 0.990 - ETA: 3:41 - loss: 0.0329 - acc: 0.990 - ETA: 3:40 - loss: 0.0327 - acc: 0.990 - ETA: 3:39 - loss: 0.0331 - acc: 0.990 - ETA: 3:39 - loss: 0.0328 - acc: 0.990 - ETA: 3:37 - loss: 0.0327 - acc: 0.990 - ETA: 3:36 - loss: 0.0326 - acc: 0.990 - ETA: 3:36 - loss: 0.0325 - acc: 0.990 - ETA: 3:35 - loss: 0.0325 - acc: 0.990 - ETA: 3:34 - loss: 0.0325 - acc: 0.990 - ETA: 3:33 - loss: 0.0326 - acc: 0.990 - ETA: 3:32 - loss: 0.0331 - acc: 0.989 - ETA: 3:31 - loss: 0.0330 - acc: 0.990 - ETA: 3:30 - loss: 0.0329 - acc: 0.989 - ETA: 3:29 - loss: 0.0334 - acc: 0.989 - ETA: 3:29 - loss: 0.0333 - acc: 0.989 - ETA: 3:28 - loss: 0.0334 - acc: 0.989 - ETA: 3:27 - loss: 0.0338 - acc: 0.989 - ETA: 3:26 - loss: 0.0341 - acc: 0.989 - ETA: 3:25 - loss: 0.0338 - acc: 0.989 - ETA: 3:24 - loss: 0.0337 - acc: 0.989 - ETA: 3:24 - loss: 0.0337 - acc: 0.989 - ETA: 3:23 - loss: 0.0337 - acc: 0.989 - ETA: 3:23 - loss: 0.0335 - acc: 0.989 - ETA: 3:22 - loss: 0.0333 - acc: 0.989 - ETA: 3:21 - loss: 0.0339 - acc: 0.989 - ETA: 3:20 - loss: 0.0337 - acc: 0.989 - ETA: 3:19 - loss: 0.0336 - acc: 0.989 - ETA: 3:19 - loss: 0.0337 - acc: 0.989 - ETA: 3:18 - loss: 0.0337 - acc: 0.989 - ETA: 3:17 - loss: 0.0335 - acc: 0.989 - ETA: 3:16 - loss: 0.0333 - acc: 0.989 - ETA: 3:15 - loss: 0.0334 - acc: 0.989 - ETA: 3:14 - loss: 0.0332 - acc: 0.989 - ETA: 3:13 - loss: 0.0331 - acc: 0.989 - ETA: 3:12 - loss: 0.0329 - acc: 0.989 - ETA: 3:12 - loss: 0.0329 - acc: 0.989 - ETA: 3:11 - loss: 0.0330 - acc: 0.989 - ETA: 3:10 - loss: 0.0331 - acc: 0.989 - ETA: 3:10 - loss: 0.0330 - acc: 0.989 - ETA: 3:09 - loss: 0.0329 - acc: 0.989 - ETA: 3:08 - loss: 0.0327 - acc: 0.989 - ETA: 3:07 - loss: 0.0326 - acc: 0.989 - ETA: 3:07 - loss: 0.0324 - acc: 0.989 - ETA: 3:06 - loss: 0.0322 - acc: 0.989 - ETA: 3:04 - loss: 0.0321 - acc: 0.989 - ETA: 3:04 - loss: 0.0322 - acc: 0.989 - ETA: 3:03 - loss: 0.0320 - acc: 0.989 - ETA: 3:02 - loss: 0.0318 - acc: 0.989 - ETA: 3:01 - loss: 0.0317 - acc: 0.989 - ETA: 3:01 - loss: 0.0315 - acc: 0.989 - ETA: 3:00 - loss: 0.0314 - acc: 0.989 - ETA: 2:58 - loss: 0.0312 - acc: 0.989 - ETA: 2:58 - loss: 0.0310 - acc: 0.989 - ETA: 2:57 - loss: 0.0309 - acc: 0.989 - ETA: 2:56 - loss: 0.0307 - acc: 0.989 - ETA: 2:55 - loss: 0.0310 - acc: 0.989 - ETA: 2:55 - loss: 0.0309 - acc: 0.989 - ETA: 2:54 - loss: 0.0308 - acc: 0.989 - ETA: 2:53 - loss: 0.0309 - acc: 0.989 - ETA: 2:52 - loss: 0.0308 - acc: 0.989 - ETA: 2:51 - loss: 0.0312 - acc: 0.989 - ETA: 2:50 - loss: 0.0310 - acc: 0.989 - ETA: 2:49 - loss: 0.0309 - acc: 0.989 - ETA: 2:48 - loss: 0.0308 - acc: 0.989 - ETA: 2:48 - loss: 0.0310 - acc: 0.989 - ETA: 2:46 - loss: 0.0311 - acc: 0.989 - ETA: 2:45 - loss: 0.0312 - acc: 0.989 - ETA: 2:45 - loss: 0.0310 - acc: 0.989 - ETA: 2:44 - loss: 0.0310 - acc: 0.9896"
     ]
    },
    {
     "name": "stdout",
     "output_type": "stream",
     "text": [
      "12793/12793 [==============================] - ETA: 2:43 - loss: 0.0312 - acc: 0.989 - ETA: 2:42 - loss: 0.0311 - acc: 0.989 - ETA: 2:41 - loss: 0.0309 - acc: 0.989 - ETA: 2:40 - loss: 0.0312 - acc: 0.989 - ETA: 2:39 - loss: 0.0311 - acc: 0.989 - ETA: 2:39 - loss: 0.0313 - acc: 0.989 - ETA: 2:38 - loss: 0.0312 - acc: 0.989 - ETA: 2:37 - loss: 0.0311 - acc: 0.989 - ETA: 2:36 - loss: 0.0321 - acc: 0.989 - ETA: 2:35 - loss: 0.0319 - acc: 0.989 - ETA: 2:34 - loss: 0.0319 - acc: 0.989 - ETA: 2:33 - loss: 0.0321 - acc: 0.989 - ETA: 2:32 - loss: 0.0320 - acc: 0.989 - ETA: 2:32 - loss: 0.0318 - acc: 0.989 - ETA: 2:31 - loss: 0.0317 - acc: 0.989 - ETA: 2:30 - loss: 0.0315 - acc: 0.989 - ETA: 2:30 - loss: 0.0314 - acc: 0.989 - ETA: 2:29 - loss: 0.0317 - acc: 0.989 - ETA: 2:28 - loss: 0.0316 - acc: 0.988 - ETA: 2:27 - loss: 0.0315 - acc: 0.989 - ETA: 2:27 - loss: 0.0314 - acc: 0.989 - ETA: 2:26 - loss: 0.0314 - acc: 0.989 - ETA: 2:25 - loss: 0.0315 - acc: 0.989 - ETA: 2:24 - loss: 0.0313 - acc: 0.989 - ETA: 2:23 - loss: 0.0316 - acc: 0.988 - ETA: 2:22 - loss: 0.0317 - acc: 0.988 - ETA: 2:22 - loss: 0.0317 - acc: 0.988 - ETA: 2:21 - loss: 0.0316 - acc: 0.989 - ETA: 2:20 - loss: 0.0316 - acc: 0.989 - ETA: 2:19 - loss: 0.0315 - acc: 0.989 - ETA: 2:18 - loss: 0.0313 - acc: 0.989 - ETA: 2:18 - loss: 0.0312 - acc: 0.989 - ETA: 2:17 - loss: 0.0313 - acc: 0.989 - ETA: 2:16 - loss: 0.0314 - acc: 0.989 - ETA: 2:15 - loss: 0.0313 - acc: 0.989 - ETA: 2:14 - loss: 0.0313 - acc: 0.989 - ETA: 2:13 - loss: 0.0312 - acc: 0.989 - ETA: 2:13 - loss: 0.0315 - acc: 0.989 - ETA: 2:12 - loss: 0.0314 - acc: 0.989 - ETA: 2:11 - loss: 0.0313 - acc: 0.989 - ETA: 2:10 - loss: 0.0312 - acc: 0.989 - ETA: 2:09 - loss: 0.0312 - acc: 0.989 - ETA: 2:09 - loss: 0.0311 - acc: 0.989 - ETA: 2:08 - loss: 0.0311 - acc: 0.989 - ETA: 2:07 - loss: 0.0309 - acc: 0.989 - ETA: 2:06 - loss: 0.0311 - acc: 0.989 - ETA: 2:05 - loss: 0.0310 - acc: 0.989 - ETA: 2:04 - loss: 0.0309 - acc: 0.989 - ETA: 2:03 - loss: 0.0309 - acc: 0.989 - ETA: 2:02 - loss: 0.0311 - acc: 0.989 - ETA: 2:01 - loss: 0.0310 - acc: 0.989 - ETA: 2:01 - loss: 0.0309 - acc: 0.989 - ETA: 2:00 - loss: 0.0308 - acc: 0.989 - ETA: 1:59 - loss: 0.0312 - acc: 0.989 - ETA: 1:58 - loss: 0.0312 - acc: 0.989 - ETA: 1:57 - loss: 0.0311 - acc: 0.989 - ETA: 1:56 - loss: 0.0310 - acc: 0.989 - ETA: 1:55 - loss: 0.0309 - acc: 0.989 - ETA: 1:54 - loss: 0.0308 - acc: 0.989 - ETA: 1:54 - loss: 0.0307 - acc: 0.989 - ETA: 1:53 - loss: 0.0306 - acc: 0.989 - ETA: 1:52 - loss: 0.0305 - acc: 0.989 - ETA: 1:51 - loss: 0.0304 - acc: 0.989 - ETA: 1:50 - loss: 0.0303 - acc: 0.989 - ETA: 1:50 - loss: 0.0304 - acc: 0.989 - ETA: 1:49 - loss: 0.0303 - acc: 0.989 - ETA: 1:48 - loss: 0.0302 - acc: 0.989 - ETA: 1:47 - loss: 0.0301 - acc: 0.989 - ETA: 1:46 - loss: 0.0305 - acc: 0.989 - ETA: 1:45 - loss: 0.0305 - acc: 0.989 - ETA: 1:44 - loss: 0.0309 - acc: 0.989 - ETA: 1:44 - loss: 0.0308 - acc: 0.989 - ETA: 1:43 - loss: 0.0307 - acc: 0.989 - ETA: 1:42 - loss: 0.0306 - acc: 0.989 - ETA: 1:41 - loss: 0.0306 - acc: 0.989 - ETA: 1:40 - loss: 0.0307 - acc: 0.989 - ETA: 1:39 - loss: 0.0308 - acc: 0.989 - ETA: 1:39 - loss: 0.0308 - acc: 0.989 - ETA: 1:38 - loss: 0.0309 - acc: 0.989 - ETA: 1:37 - loss: 0.0308 - acc: 0.989 - ETA: 1:36 - loss: 0.0308 - acc: 0.989 - ETA: 1:35 - loss: 0.0307 - acc: 0.989 - ETA: 1:34 - loss: 0.0306 - acc: 0.989 - ETA: 1:34 - loss: 0.0307 - acc: 0.989 - ETA: 1:33 - loss: 0.0306 - acc: 0.989 - ETA: 1:32 - loss: 0.0308 - acc: 0.989 - ETA: 1:31 - loss: 0.0307 - acc: 0.989 - ETA: 1:30 - loss: 0.0307 - acc: 0.989 - ETA: 1:29 - loss: 0.0306 - acc: 0.989 - ETA: 1:29 - loss: 0.0305 - acc: 0.989 - ETA: 1:28 - loss: 0.0306 - acc: 0.989 - ETA: 1:27 - loss: 0.0305 - acc: 0.989 - ETA: 1:26 - loss: 0.0309 - acc: 0.989 - ETA: 1:25 - loss: 0.0310 - acc: 0.988 - ETA: 1:24 - loss: 0.0309 - acc: 0.988 - ETA: 1:23 - loss: 0.0310 - acc: 0.988 - ETA: 1:23 - loss: 0.0309 - acc: 0.988 - ETA: 1:22 - loss: 0.0309 - acc: 0.988 - ETA: 1:21 - loss: 0.0309 - acc: 0.988 - ETA: 1:20 - loss: 0.0308 - acc: 0.988 - ETA: 1:19 - loss: 0.0308 - acc: 0.988 - ETA: 1:18 - loss: 0.0309 - acc: 0.988 - ETA: 1:18 - loss: 0.0308 - acc: 0.988 - ETA: 1:17 - loss: 0.0308 - acc: 0.988 - ETA: 1:16 - loss: 0.0307 - acc: 0.988 - ETA: 1:15 - loss: 0.0308 - acc: 0.988 - ETA: 1:14 - loss: 0.0307 - acc: 0.988 - ETA: 1:13 - loss: 0.0308 - acc: 0.988 - ETA: 1:13 - loss: 0.0307 - acc: 0.988 - ETA: 1:12 - loss: 0.0306 - acc: 0.988 - ETA: 1:11 - loss: 0.0307 - acc: 0.988 - ETA: 1:10 - loss: 0.0306 - acc: 0.988 - ETA: 1:09 - loss: 0.0305 - acc: 0.988 - ETA: 1:08 - loss: 0.0304 - acc: 0.988 - ETA: 1:08 - loss: 0.0304 - acc: 0.988 - ETA: 1:07 - loss: 0.0303 - acc: 0.988 - ETA: 1:06 - loss: 0.0302 - acc: 0.988 - ETA: 1:05 - loss: 0.0301 - acc: 0.988 - ETA: 1:04 - loss: 0.0301 - acc: 0.988 - ETA: 1:03 - loss: 0.0301 - acc: 0.988 - ETA: 1:03 - loss: 0.0301 - acc: 0.988 - ETA: 1:02 - loss: 0.0302 - acc: 0.988 - ETA: 1:01 - loss: 0.0301 - acc: 0.988 - ETA: 1:00 - loss: 0.0303 - acc: 0.988 - ETA: 59s - loss: 0.0303 - acc: 0.988 - ETA: 58s - loss: 0.0302 - acc: 0.98 - ETA: 58s - loss: 0.0302 - acc: 0.98 - ETA: 57s - loss: 0.0301 - acc: 0.98 - ETA: 56s - loss: 0.0301 - acc: 0.98 - ETA: 55s - loss: 0.0300 - acc: 0.98 - ETA: 54s - loss: 0.0299 - acc: 0.98 - ETA: 53s - loss: 0.0299 - acc: 0.98 - ETA: 53s - loss: 0.0298 - acc: 0.98 - ETA: 52s - loss: 0.0297 - acc: 0.98 - ETA: 51s - loss: 0.0297 - acc: 0.98 - ETA: 50s - loss: 0.0296 - acc: 0.98 - ETA: 49s - loss: 0.0296 - acc: 0.98 - ETA: 48s - loss: 0.0296 - acc: 0.98 - ETA: 48s - loss: 0.0295 - acc: 0.98 - ETA: 47s - loss: 0.0296 - acc: 0.98 - ETA: 46s - loss: 0.0295 - acc: 0.98 - ETA: 45s - loss: 0.0294 - acc: 0.98 - ETA: 44s - loss: 0.0295 - acc: 0.98 - ETA: 43s - loss: 0.0294 - acc: 0.98 - ETA: 42s - loss: 0.0294 - acc: 0.98 - ETA: 42s - loss: 0.0293 - acc: 0.98 - ETA: 41s - loss: 0.0292 - acc: 0.98 - ETA: 40s - loss: 0.0291 - acc: 0.98 - ETA: 39s - loss: 0.0291 - acc: 0.98 - ETA: 38s - loss: 0.0290 - acc: 0.98 - ETA: 37s - loss: 0.0289 - acc: 0.98 - ETA: 36s - loss: 0.0289 - acc: 0.98 - ETA: 36s - loss: 0.0292 - acc: 0.98 - ETA: 35s - loss: 0.0291 - acc: 0.98 - ETA: 34s - loss: 0.0291 - acc: 0.98 - ETA: 33s - loss: 0.0291 - acc: 0.98 - ETA: 32s - loss: 0.0292 - acc: 0.98 - ETA: 31s - loss: 0.0291 - acc: 0.98 - ETA: 31s - loss: 0.0296 - acc: 0.98 - ETA: 30s - loss: 0.0296 - acc: 0.98 - ETA: 29s - loss: 0.0295 - acc: 0.98 - ETA: 28s - loss: 0.0295 - acc: 0.98 - ETA: 27s - loss: 0.0296 - acc: 0.98 - ETA: 26s - loss: 0.0296 - acc: 0.98 - ETA: 25s - loss: 0.0295 - acc: 0.98 - ETA: 25s - loss: 0.0296 - acc: 0.98 - ETA: 24s - loss: 0.0295 - acc: 0.98 - ETA: 23s - loss: 0.0294 - acc: 0.98 - ETA: 22s - loss: 0.0298 - acc: 0.98 - ETA: 21s - loss: 0.0297 - acc: 0.98 - ETA: 20s - loss: 0.0297 - acc: 0.98 - ETA: 20s - loss: 0.0296 - acc: 0.98 - ETA: 19s - loss: 0.0297 - acc: 0.98 - ETA: 18s - loss: 0.0299 - acc: 0.98 - ETA: 17s - loss: 0.0298 - acc: 0.98 - ETA: 16s - loss: 0.0300 - acc: 0.98 - ETA: 15s - loss: 0.0299 - acc: 0.98 - ETA: 14s - loss: 0.0300 - acc: 0.98 - ETA: 14s - loss: 0.0299 - acc: 0.98 - ETA: 13s - loss: 0.0299 - acc: 0.98 - ETA: 12s - loss: 0.0303 - acc: 0.98 - ETA: 11s - loss: 0.0302 - acc: 0.98 - ETA: 10s - loss: 0.0301 - acc: 0.98 - ETA: 9s - loss: 0.0308 - acc: 0.9886 - ETA: 9s - loss: 0.0307 - acc: 0.988 - ETA: 8s - loss: 0.0306 - acc: 0.988 - ETA: 7s - loss: 0.0311 - acc: 0.988 - ETA: 6s - loss: 0.0312 - acc: 0.988 - ETA: 5s - loss: 0.0311 - acc: 0.988 - ETA: 4s - loss: 0.0311 - acc: 0.988 - ETA: 4s - loss: 0.0310 - acc: 0.988 - ETA: 3s - loss: 0.0309 - acc: 0.988 - ETA: 2s - loss: 0.0309 - acc: 0.988 - ETA: 1s - loss: 0.0309 - acc: 0.988 - ETA: 0s - loss: 0.0308 - acc: 0.988 - 339s 27ms/step - loss: 0.0314 - acc: 0.9886 - val_loss: 4.7818 - val_acc: 0.4297\n"
     ]
    }
   ],
   "source": [
    "model = final_model(weight_matrix, len(vocab)+1, max_length)\n",
    "\n",
    "history = model.fit(x, y, epochs = 20, validation_split = 0.1, verbose = 1)"
   ]
  },
  {
   "cell_type": "code",
   "execution_count": 38,
   "metadata": {},
   "outputs": [
    {
     "name": "stdout",
     "output_type": "stream",
     "text": [
      "_________________________________________________________________\n",
      "Layer (type)                 Output Shape              Param #   \n",
      "=================================================================\n",
      "embedding_7 (Embedding)      (None, 14, 300)           8318400   \n",
      "_________________________________________________________________\n",
      "bidirectional_10 (Bidirectio (None, 14, 600)           1442400   \n",
      "_________________________________________________________________\n",
      "dense_11 (Dense)             (None, 14, 256)           153856    \n",
      "_________________________________________________________________\n",
      "bidirectional_11 (Bidirectio (None, 600)               1336800   \n",
      "_________________________________________________________________\n",
      "dense_12 (Dense)             (None, 256)               153856    \n",
      "_________________________________________________________________\n",
      "dropout_4 (Dropout)          (None, 256)               0         \n",
      "_________________________________________________________________\n",
      "dense_13 (Dense)             (None, 3)                 771       \n",
      "=================================================================\n",
      "Total params: 11,406,083\n",
      "Trainable params: 11,406,083\n",
      "Non-trainable params: 0\n",
      "_________________________________________________________________\n"
     ]
    }
   ],
   "source": [
    "model.save('lstm_model_latest.h5')\n",
    "model.summary()"
   ]
  },
  {
   "cell_type": "markdown",
   "metadata": {},
   "source": [
    "#### Check model on train data"
   ]
  },
  {
   "cell_type": "code",
   "execution_count": 39,
   "metadata": {},
   "outputs": [
    {
     "data": {
      "text/plain": [
       "array([[9.9472791e-01, 4.7324500e-03, 5.3971767e-04],\n",
       "       [3.7368629e-08, 1.2610555e-07, 9.9999988e-01],\n",
       "       [1.8419363e-04, 2.5379410e-04, 9.9956197e-01],\n",
       "       ...,\n",
       "       [9.3084234e-01, 6.9098465e-02, 5.9090449e-05],\n",
       "       [6.4097844e-02, 9.3588871e-01, 1.3486483e-05],\n",
       "       [2.6005067e-04, 9.9969089e-01, 4.9066322e-05]], dtype=float32)"
      ]
     },
     "execution_count": 39,
     "metadata": {},
     "output_type": "execute_result"
    }
   ],
   "source": [
    "train_pred_prob = model.predict(x)\n",
    "train_pred_prob"
   ]
  },
  {
   "cell_type": "code",
   "execution_count": 40,
   "metadata": {},
   "outputs": [
    {
     "data": {
      "text/plain": [
       "14215"
      ]
     },
     "execution_count": 40,
     "metadata": {},
     "output_type": "execute_result"
    }
   ],
   "source": [
    "train_pred = [np.argmax(pred)-1 for pred in train_pred_prob]\n",
    "len(train_pred)"
   ]
  },
  {
   "cell_type": "code",
   "execution_count": 41,
   "metadata": {},
   "outputs": [
    {
     "name": "stdout",
     "output_type": "stream",
     "text": [
      "F1 Score:  0.9380850563987957\n",
      "\n",
      "Confusion Matrix: \n",
      " [[7345  229   46]\n",
      " [ 145 3729  154]\n",
      " [  83  224 2260]]\n",
      "\n",
      "Classification Report: \n",
      "               precision    recall  f1-score   support\n",
      "\n",
      "          -1       0.97      0.96      0.97      7620\n",
      "           0       0.89      0.93      0.91      4028\n",
      "           1       0.92      0.88      0.90      2567\n",
      "\n",
      "   micro avg       0.94      0.94      0.94     14215\n",
      "   macro avg       0.93      0.92      0.92     14215\n",
      "weighted avg       0.94      0.94      0.94     14215\n",
      "\n"
     ]
    }
   ],
   "source": [
    "train_f1_score = f1_score(train_df['sentiment_class'], train_pred, average='weighted')\n",
    "\n",
    "print('F1 Score: ', train_f1_score)\n",
    "print()\n",
    "print('Confusion Matrix: \\n', confusion_matrix(train_df['sentiment_class'], train_pred))\n",
    "print()\n",
    "print('Classification Report: \\n', classification_report(train_df['sentiment_class'], train_pred))"
   ]
  },
  {
   "cell_type": "markdown",
   "metadata": {},
   "source": [
    "### Predicting Test data"
   ]
  },
  {
   "cell_type": "code",
   "execution_count": 42,
   "metadata": {},
   "outputs": [
    {
     "data": {
      "text/plain": [
       "array([[9.8816222e-01, 7.4487139e-04, 1.1092950e-02],\n",
       "       [8.5150678e-09, 1.0000000e+00, 5.0094204e-08],\n",
       "       [2.6277032e-02, 9.1225827e-01, 6.1464656e-02],\n",
       "       ...,\n",
       "       [2.6201454e-04, 9.8331761e-01, 1.6420407e-02],\n",
       "       [7.8183330e-06, 9.9999213e-01, 3.3965971e-08],\n",
       "       [5.3095556e-07, 9.9999893e-01, 6.1654157e-07]], dtype=float32)"
      ]
     },
     "execution_count": 42,
     "metadata": {},
     "output_type": "execute_result"
    }
   ],
   "source": [
    "test_pred_prob = model.predict(x_test)\n",
    "test_pred_prob"
   ]
  },
  {
   "cell_type": "code",
   "execution_count": 43,
   "metadata": {},
   "outputs": [
    {
     "data": {
      "text/plain": [
       "1387"
      ]
     },
     "execution_count": 43,
     "metadata": {},
     "output_type": "execute_result"
    }
   ],
   "source": [
    "test_pred = [np.argmax(pred)-1 for pred in test_pred_prob]\n",
    "len(test_pred)"
   ]
  },
  {
   "cell_type": "markdown",
   "metadata": {},
   "source": [
    "### Writing the submission"
   ]
  },
  {
   "cell_type": "code",
   "execution_count": 44,
   "metadata": {},
   "outputs": [
    {
     "data": {
      "text/html": [
       "<div>\n",
       "<style scoped>\n",
       "    .dataframe tbody tr th:only-of-type {\n",
       "        vertical-align: middle;\n",
       "    }\n",
       "\n",
       "    .dataframe tbody tr th {\n",
       "        vertical-align: top;\n",
       "    }\n",
       "\n",
       "    .dataframe thead th {\n",
       "        text-align: right;\n",
       "    }\n",
       "</style>\n",
       "<table border=\"1\" class=\"dataframe\">\n",
       "  <thead>\n",
       "    <tr style=\"text-align: right;\">\n",
       "      <th></th>\n",
       "      <th>id</th>\n",
       "      <th>original_text</th>\n",
       "      <th>lang</th>\n",
       "      <th>retweet_count</th>\n",
       "      <th>original_author</th>\n",
       "    </tr>\n",
       "  </thead>\n",
       "  <tbody>\n",
       "    <tr>\n",
       "      <th>0</th>\n",
       "      <td>1.246628e+18</td>\n",
       "      <td>3. Yeah, I once cooked potatoes when I was 3 y...</td>\n",
       "      <td>en</td>\n",
       "      <td>0</td>\n",
       "      <td>LToddWood</td>\n",
       "    </tr>\n",
       "    <tr>\n",
       "      <th>1</th>\n",
       "      <td>1.245898e+18</td>\n",
       "      <td>Happy Mother's Day to all the mums, step-mums,...</td>\n",
       "      <td>en</td>\n",
       "      <td>0</td>\n",
       "      <td>iiarushii</td>\n",
       "    </tr>\n",
       "    <tr>\n",
       "      <th>2</th>\n",
       "      <td>1.244717e+18</td>\n",
       "      <td>I love the people from the UK, however, when I...</td>\n",
       "      <td>en</td>\n",
       "      <td>0</td>\n",
       "      <td>andreaanderegg</td>\n",
       "    </tr>\n",
       "    <tr>\n",
       "      <th>3</th>\n",
       "      <td>1.245730e+18</td>\n",
       "      <td>Happy 81st Birthday Happy Mother’s Day to my m...</td>\n",
       "      <td>en</td>\n",
       "      <td>1</td>\n",
       "      <td>TheBookTweeters</td>\n",
       "    </tr>\n",
       "    <tr>\n",
       "      <th>4</th>\n",
       "      <td>1.244636e+18</td>\n",
       "      <td>Happy Mothers day to all those wonderful mothe...</td>\n",
       "      <td>en</td>\n",
       "      <td>0</td>\n",
       "      <td>andreaanderegg</td>\n",
       "    </tr>\n",
       "  </tbody>\n",
       "</table>\n",
       "</div>"
      ],
      "text/plain": [
       "             id                                      original_text lang  \\\n",
       "0  1.246628e+18  3. Yeah, I once cooked potatoes when I was 3 y...   en   \n",
       "1  1.245898e+18  Happy Mother's Day to all the mums, step-mums,...   en   \n",
       "2  1.244717e+18  I love the people from the UK, however, when I...   en   \n",
       "3  1.245730e+18  Happy 81st Birthday Happy Mother’s Day to my m...   en   \n",
       "4  1.244636e+18  Happy Mothers day to all those wonderful mothe...   en   \n",
       "\n",
       "  retweet_count  original_author  \n",
       "0             0        LToddWood  \n",
       "1             0        iiarushii  \n",
       "2             0   andreaanderegg  \n",
       "3             1  TheBookTweeters  \n",
       "4             0   andreaanderegg  "
      ]
     },
     "execution_count": 44,
     "metadata": {},
     "output_type": "execute_result"
    }
   ],
   "source": [
    "org_test_df = pd.read_csv('Dataset/test.csv')\n",
    "org_test_df.head()"
   ]
  },
  {
   "cell_type": "code",
   "execution_count": 46,
   "metadata": {},
   "outputs": [
    {
     "name": "stdout",
     "output_type": "stream",
     "text": [
      " 0    906\n",
      "-1    243\n",
      " 1    238\n",
      "Name: sentiment_class, dtype: int64\n"
     ]
    },
    {
     "data": {
      "text/html": [
       "<div>\n",
       "<style scoped>\n",
       "    .dataframe tbody tr th:only-of-type {\n",
       "        vertical-align: middle;\n",
       "    }\n",
       "\n",
       "    .dataframe tbody tr th {\n",
       "        vertical-align: top;\n",
       "    }\n",
       "\n",
       "    .dataframe thead th {\n",
       "        text-align: right;\n",
       "    }\n",
       "</style>\n",
       "<table border=\"1\" class=\"dataframe\">\n",
       "  <thead>\n",
       "    <tr style=\"text-align: right;\">\n",
       "      <th></th>\n",
       "      <th>id</th>\n",
       "      <th>sentiment_class</th>\n",
       "    </tr>\n",
       "  </thead>\n",
       "  <tbody>\n",
       "    <tr>\n",
       "      <th>0</th>\n",
       "      <td>1.246628e+18</td>\n",
       "      <td>-1</td>\n",
       "    </tr>\n",
       "    <tr>\n",
       "      <th>1</th>\n",
       "      <td>1.245898e+18</td>\n",
       "      <td>0</td>\n",
       "    </tr>\n",
       "    <tr>\n",
       "      <th>2</th>\n",
       "      <td>1.244717e+18</td>\n",
       "      <td>0</td>\n",
       "    </tr>\n",
       "    <tr>\n",
       "      <th>3</th>\n",
       "      <td>1.245730e+18</td>\n",
       "      <td>0</td>\n",
       "    </tr>\n",
       "    <tr>\n",
       "      <th>4</th>\n",
       "      <td>1.244636e+18</td>\n",
       "      <td>-1</td>\n",
       "    </tr>\n",
       "  </tbody>\n",
       "</table>\n",
       "</div>"
      ],
      "text/plain": [
       "             id  sentiment_class\n",
       "0  1.246628e+18               -1\n",
       "1  1.245898e+18                0\n",
       "2  1.244717e+18                0\n",
       "3  1.245730e+18                0\n",
       "4  1.244636e+18               -1"
      ]
     },
     "execution_count": 46,
     "metadata": {},
     "output_type": "execute_result"
    },
    {
     "data": {
      "image/png": "[encoded data removed]",
      "text/plain": [
       "<Figure size 432x288 with 1 Axes>"
      ]
     },
     "metadata": {
      "needs_background": "light"
     },
     "output_type": "display_data"
    }
   ],
   "source": [
    "submission_df = org_test_df.copy()\n",
    "submission_df.drop(['original_text', 'lang', 'retweet_count', 'original_author'], axis = 1, inplace = True)\n",
    "submission_df['sentiment_class'] = test_pred\n",
    "\n",
    "print(submission_df['sentiment_class'].value_counts())\n",
    "sns.countplot(submission_df['sentiment_class']).set_title('Class distribution')\n",
    "submission_df.to_csv('check for submission local 2.csv', index = False)\n",
    "submission_df.head()"
   ]
  },
  {
   "cell_type": "code",
   "execution_count": null,
   "metadata": {},
   "outputs": [],
   "source": []
  }
 ],
 "metadata": {
  "kernelspec": {
   "display_name": "Python 3",
   "language": "python",
   "name": "python3"
  },
  "language_info": {
   "codemirror_mode": {
    "name": "ipython",
    "version": 3
   },
   "file_extension": ".py",
   "mimetype": "text/x-python",
   "name": "python",
   "nbconvert_exporter": "python",
   "pygments_lexer": "ipython3",
   "version": "3.6.8"
  }
 },
 "nbformat": 4,
 "nbformat_minor": 2
}
